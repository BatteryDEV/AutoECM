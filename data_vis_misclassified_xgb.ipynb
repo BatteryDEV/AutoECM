{
 "cells": [
  {
   "cell_type": "code",
   "execution_count": null,
   "metadata": {},
   "outputs": [],
   "source": [
    "# This notebook load the tsfresh + xgboost model and plots the raw spectra of all misclassified spectra.\n",
    "import numpy as np\n",
    "import matplotlib.pyplot as plt\n",
    "import xgboost as xgb\n",
    "\n",
    "from utils import plot_cm, visualize_raw_spectra, confusion_nyquist_plot\n",
    "from utils_preprocessing import eis_dataframe_from_csv, interpolate_to_freq_range\n",
    "from clf_tsfresh_xgb import load_features_le\n",
    "\n",
    "%load_ext autoreload\n",
    "%autoreload 2"
   ]
  },
  {
   "cell_type": "code",
   "execution_count": null,
   "metadata": {},
   "outputs": [],
   "source": [
    "train_data_f = \"data/tsfresh/train_tsfresh_filtered.csv\"\n",
    "test_data_f = \"data/tsfresh/test_tsfresh_filtered.csv\"\n",
    "\n",
    "le_f = \"data/le_name_mapping.json\"\n",
    "output_dir = \"results/clf/xgb/2023-01-26_11-19-01\"\n",
    "\n",
    "X_train, y_train, X_test, y_test, le = load_features_le(\n",
    "    train_data_f, test_data_f, le_f)\n",
    "\n",
    "df_test = eis_dataframe_from_csv(\"data/test_data_filtered.csv\")\n",
    "interpolated_basis = np.geomspace(10, 1e5, num=30)\n",
    "df_test = interpolate_to_freq_range(df_test, interpolated_basis)\n",
    "df_test['zreal_norm'] = df_test['zreal'].apply(lambda x: (x - x.min()) / (x.max() - x.min()))\n",
    "df_test['zimag_norm'] = df_test['zimag'].apply(lambda x: (x - x.min()) / (x.max() - x.min()))\n",
    "\n",
    "df_test['zreal_norm2'] = df_test['zreal'].apply(lambda x: (x) / (x.max()))\n",
    "df_test['zimag_norm2'] = df_test['zimag'].apply(lambda x: (x) / (- x.min()))"
   ]
  },
  {
   "cell_type": "code",
   "execution_count": null,
   "metadata": {},
   "outputs": [],
   "source": [
    "# Read results/clf_filtered/xgb/manuscript/pred_test.txt\n",
    "y_test_pred = np.loadtxt(\"results/clf_filtered/xgb/manuscript/pred_test.txt\")\n",
    "plot_cm(y_test, y_test_pred, le, save=0, figname=f\"{output_dir}/test_confusion\")\n",
    "plt.close()"
   ]
  },
  {
   "cell_type": "code",
   "execution_count": null,
   "metadata": {},
   "outputs": [],
   "source": [
    "confusion_nyquist_plot(\n",
    "    df_test,\n",
    "    le,\n",
    "    y_test,\n",
    "    y_test_pred,\n",
    "    columns=[\"zreal_norm\", \"zimag_norm\"],\n",
    "    lw=0.2,\n",
    "    alpha=0.4,\n",
    "    save=True,\n",
    "    figname=\"confusion_nyquist\",\n",
    "    drop_below_zero=False\n",
    ")"
   ]
  },
  {
   "cell_type": "code",
   "execution_count": null,
   "metadata": {},
   "outputs": [],
   "source": [
    "# Get the ids of all misclassified samples\n",
    "misclassified = list(np.where(y_test != y_test_pred)[0])\n",
    "\n",
    "fig = visualize_raw_spectra(\n",
    "    df_test.iloc[misclassified].copy(),\n",
    "    show=1,\n",
    "    save_figs=True,\n",
    "    row_col_ratio=0.6,\n",
    "    pdf=True,\n",
    "    fig_name=\"missclassified_tsfreshXGB\",\n",
    "    sup_title=\"Misclassififed EIS Spectra: tsfresh-XGBoost\",\n",
    "    axis_off=False,\n",
    ")"
   ]
  },
  {
   "cell_type": "code",
   "execution_count": null,
   "metadata": {},
   "outputs": [],
   "source": [
    "\n",
    "df_train = unwrap_z(eis_dataframe_from_csv(\"data/train_data.csv\"))\n",
    "model = xgb.XGBClassifier(random_state=42, n_jobs=-1)\n",
    "model.fit(X_train, y_train)"
   ]
  },
  {
   "cell_type": "code",
   "execution_count": null,
   "metadata": {},
   "outputs": [],
   "source": [
    "# Make predictions for train data\n",
    "y_train_pred = model.predict(X_train)\n",
    "plot_cm(y_train, y_train_pred, le, save=0, figname=f\"{output_dir}/train_confusion\")\n",
    "plt.close()\n",
    "# Make predictions for test data\n",
    "y_test_pred = model.predict(X_test)\n",
    "plot_cm(y_test, y_test_pred, le, save=0, figname=f\"{output_dir}/test_confusion\")\n",
    "plt.close()\n",
    "# Run the classification on the X_test data\n",
    "y_test_pred = model.predict(X_test)"
   ]
  },
  {
   "cell_type": "code",
   "execution_count": null,
   "metadata": {},
   "outputs": [],
   "source": [
    "# Lets calculate teh tsfresh features for the misclassified spectra and make new predictions to test that we didn't make a mistake\n",
    "from preprocess import extract_tsfresh\n",
    "from utils_preprocessing import preprocess_data\n",
    "\n",
    "df_test = preprocess_data(\"data/test_data.csv\")\n",
    "df_train = preprocess_data(\"data/train_data.csv\")\n",
    "\n",
    "extract_tsfresh(\n",
    "    df_train, \n",
    "    df_test.iloc[misclassified].copy().reset_index(drop=True), \n",
    "    output_path=\"data/tsfresh/mis_train_tsfresh.csv\", \n",
    "    le=le,\n",
    "    if_exclude_outlier= False,\n",
    ")"
   ]
  },
  {
   "cell_type": "code",
   "execution_count": null,
   "metadata": {},
   "outputs": [],
   "source": [
    "train_data_f = \"data/tsfresh/mis_train_tsfresh.csv\"\n",
    "test_data_f = \"data/tsfresh/mis_test_tsfresh.csv\"\n",
    "\n",
    "X_train, y_train, X_test_miss, y_test_miss, le = load_features_le(\n",
    "    train_data_f, test_data_f, le_f)\n",
    "\n",
    "y_test_mid_pred = model.predict(X_test_miss)\n",
    "plot_cm(y_test_miss, y_test_mid_pred, le, save=0, figname=f\"{output_dir}/test_miss_confusion\")"
   ]
  },
  {
   "cell_type": "code",
   "execution_count": null,
   "metadata": {},
   "outputs": [],
   "source": []
  }
 ],
 "metadata": {
  "kernelspec": {
   "display_name": "Python 3",
   "language": "python",
   "name": "python3"
  },
  "language_info": {
   "codemirror_mode": {
    "name": "ipython",
    "version": 3
   },
   "file_extension": ".py",
   "mimetype": "text/x-python",
   "name": "python",
   "nbconvert_exporter": "python",
   "pygments_lexer": "ipython3",
   "version": "3.7.13"
  },
  "orig_nbformat": 4
 },
 "nbformat": 4,
 "nbformat_minor": 2
}
