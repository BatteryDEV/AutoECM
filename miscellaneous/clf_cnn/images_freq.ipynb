{
 "cells": [
  {
   "cell_type": "code",
   "execution_count": null,
   "metadata": {},
   "outputs": [],
   "source": [
    "import pandas as pd\n",
    "import numpy as np\n",
    "from scipy.interpolate import interp1d\n",
    "import matplotlib.pyplot as plt\n",
    "import matplotlib.cm as cm\n",
    "import os\n",
    "import glob\n",
    "import cv2\n",
    "from sklearn.preprocessing import LabelEncoder\n",
    "import json\n",
    "\n",
    "from utils_preprocessing import preprocess_data"
   ]
  },
  {
   "cell_type": "markdown",
   "metadata": {},
   "source": [
    "Here, I created the train and test dataframes"
   ]
  },
  {
   "cell_type": "code",
   "execution_count": null,
   "metadata": {},
   "outputs": [],
   "source": [
    "d_path = './data/'\n",
    "img_save_path = './data/images2/'\n",
    "df = preprocess_data(d_path + \"train_data.csv\", num_points=70)\n",
    "df_test = preprocess_data(d_path + \"test_data.csv\", num_points=70)"
   ]
  },
  {
   "cell_type": "markdown",
   "metadata": {},
   "source": [
    "Plotting just one fig"
   ]
  },
  {
   "cell_type": "code",
   "execution_count": null,
   "metadata": {},
   "outputs": [],
   "source": [
    "real = df.at[0, 'zreal']\n",
    "imag = df.at[0, 'zimag']\n",
    "frequence = df.at[0, 'f']\n",
    "real_minmaxed = (real-np.min(real))/(np.max(real)-np.min(real))\n",
    "imag_minmaxed = (imag-np.min(imag))/(np.max(imag)-np.min(imag))"
   ]
  },
  {
   "cell_type": "markdown",
   "metadata": {},
   "source": [
    "Function to plot the fig with the frequency"
   ]
  },
  {
   "cell_type": "code",
   "execution_count": null,
   "metadata": {},
   "outputs": [],
   "source": [
    "def plot_colourline(x,y,c):\n",
    "    \n",
    "    c = cm.jet((c-np.min(c))/(np.max(c)-np.min(c)))\n",
    "    ax = plt.gca()\n",
    "    for i in np.arange(len(x)-1):\n",
    "        ax.plot([x[i],x[i+1]], [y[i],y[i+1]], c=c[i])\n",
    "        plt.axis(\"off\")\n",
    "    return"
   ]
  },
  {
   "cell_type": "code",
   "execution_count": null,
   "metadata": {},
   "outputs": [],
   "source": [
    "fig = plt.figure(figsize = (2, 2), dpi=64, frameon=False)\n",
    "plot_colourline(real_minmaxed, -imag_minmaxed, frequence)"
   ]
  },
  {
   "cell_type": "markdown",
   "metadata": {},
   "source": [
    "The following function is the sameone used in the notebook where the black and white images were created"
   ]
  },
  {
   "cell_type": "code",
   "execution_count": null,
   "metadata": {},
   "outputs": [],
   "source": [
    "def plot_eis_nyquist_individual(df: pd.DataFrame, name='train'):\n",
    "    \"\"\"Plot the nyquist diagram for all eis data in the dataframe\"\"\"\n",
    "    \n",
    "    def plot_colourline(x,y,c):\n",
    "        fig = plt.figure(figsize = (4, 4), dpi=64, frameon=False)\n",
    "        c = cm.jet((c-np.min(c))/(np.max(c)-np.min(c)))\n",
    "        ax = plt.gca()\n",
    "        for i in np.arange(len(x)-1):\n",
    "            ax.plot([x[i],x[i+1]], [y[i],y[i+1]], c=c[i])\n",
    "            plt.axis(\"off\")\n",
    "        return\n",
    "\n",
    "    nb_spectra = len(df)\n",
    "    # nb_spectra = 1 \n",
    "    for i in range(nb_spectra):\n",
    "        real = df.at[i, 'zreal']\n",
    "        imag = df.at[i, 'zimag']\n",
    "        frequence = df.at[i, 'f']\n",
    "        real_minmaxed = (real-np.min(real))/(np.max(real)-np.min(real))\n",
    "        imag_minmaxed = (imag-np.min(imag))/(np.max(imag)-np.min(imag))\n",
    "        plot_colourline(real_minmaxed, -imag_minmaxed, frequence)\n",
    "        try:\n",
    "            plt.savefig(f'{img_save_path}{name}/{df[\"Circuit\"][i]}/{i}.png', dpi=64, bbox_inches='tight', pad_inches=0)\n",
    "        except:\n",
    "            os.makedirs(f'{img_save_path}{name}/{df[\"Circuit\"][i]}')\n",
    "            plt.savefig(f'{img_save_path}{name}/{df[\"Circuit\"][i]}/{i}.png', dpi=64, bbox_inches='tight', pad_inches=0)\n",
    "        plt.close()\n",
    "        if np.mod(i, 100) == 0:\n",
    "            print(f'Processed {i} spectra out of {nb_spectra}')\n",
    "        "
   ]
  },
  {
   "cell_type": "code",
   "execution_count": null,
   "metadata": {},
   "outputs": [],
   "source": [
    "plot_eis_nyquist_individual(df, name='train')\n",
    "plot_eis_nyquist_individual(df_test, name='test')"
   ]
  }
 ],
 "metadata": {
  "kernelspec": {
   "display_name": "Python 3.7.13",
   "language": "python",
   "name": "python3"
  },
  "language_info": {
   "codemirror_mode": {
    "name": "ipython",
    "version": 3
   },
   "file_extension": ".py",
   "mimetype": "text/x-python",
   "name": "python",
   "nbconvert_exporter": "python",
   "pygments_lexer": "ipython3",
   "version": "3.7.13"
  },
  "orig_nbformat": 4,
  "vscode": {
   "interpreter": {
    "hash": "db3441f3efc18b286252faba8848b9af7d49db2dc5505bf705b457c48ff7d418"
   }
  }
 },
 "nbformat": 4,
 "nbformat_minor": 2
}
