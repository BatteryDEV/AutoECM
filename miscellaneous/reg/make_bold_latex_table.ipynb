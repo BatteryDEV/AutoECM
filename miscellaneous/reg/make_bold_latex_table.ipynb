{
 "cells": [
  {
   "cell_type": "code",
   "execution_count": null,
   "metadata": {},
   "outputs": [],
   "source": [
    "import numpy as np"
   ]
  },
  {
   "cell_type": "code",
   "execution_count": null,
   "metadata": {},
   "outputs": [],
   "source": [
    "# Read tex file and get the lines\n",
    "with open('reg-results.tex', 'r') as f:\n",
    "    lines = f.readlines()"
   ]
  },
  {
   "cell_type": "code",
   "execution_count": null,
   "metadata": {},
   "outputs": [],
   "source": [
    "# lines"
   ]
  },
  {
   "cell_type": "code",
   "execution_count": null,
   "metadata": {},
   "outputs": [],
   "source": [
    "len(lines)"
   ]
  },
  {
   "cell_type": "code",
   "execution_count": null,
   "metadata": {},
   "outputs": [],
   "source": [
    "# Loop trough the lines and find the min value of the values in each row separated by & and replace it with \\textbf{value}\n",
    "for i in range(4, len(lines)-2):\n",
    "    offset = 2\n",
    "    line = lines[i]\n",
    "    values = line.split('&')\n",
    "    # remove the last \\\\\\\\\\n'\n",
    "    values[-1] = values[-1][:-4]\n",
    "    # take only the last 3 values\n",
    "    values_ = values[-3:]\n",
    "    # print(values_[-1])\n",
    "    values_f = [float(value) for value in values_]\n",
    "    # print(values_f)\n",
    "    min_value = np.min(values_f)\n",
    "    min_index = np.argmin(values_f)\n",
    "    # Format all floats to scientifict notation with 2 decimals\n",
    "    values_f = [f'{value:.2E}' for value in values_f]\n",
    "    for j in range(len(values_f)):\n",
    "        values[offset+j] = values_f[j] \n",
    "    values[min_index+offset] = '\\\\textbf{' + values_f[min_index] + '}'\n",
    "\n",
    "    # print(values)\n",
    "    #lines[i] = [str(value) + '&' for value in values_f]\n",
    "    # Join values with & and add \\\\\\\\\\n at the end with all & aligned\n",
    "    lines[i] = ' & '.join(values) + '\\\\\\\\\\n'\n",
    "    #lines[i] = '&'.join(values) + '\\\\\\\\\\n'\n"
   ]
  },
  {
   "cell_type": "code",
   "execution_count": null,
   "metadata": {},
   "outputs": [],
   "source": [
    "lines"
   ]
  },
  {
   "cell_type": "code",
   "execution_count": null,
   "metadata": {},
   "outputs": [],
   "source": [
    "# write the new lines to a new file\n",
    "with open('reg-results_bold.tex', 'w') as f:\n",
    "    f.writelines(lines)"
   ]
  }
 ],
 "metadata": {
  "kernelspec": {
   "display_name": "Python 3.7.13",
   "language": "python",
   "name": "python3"
  },
  "language_info": {
   "codemirror_mode": {
    "name": "ipython",
    "version": 3
   },
   "file_extension": ".py",
   "mimetype": "text/x-python",
   "name": "python",
   "nbconvert_exporter": "python",
   "pygments_lexer": "ipython3",
   "version": "3.7.13"
  },
  "orig_nbformat": 4,
  "vscode": {
   "interpreter": {
    "hash": "db3441f3efc18b286252faba8848b9af7d49db2dc5505bf705b457c48ff7d418"
   }
  }
 },
 "nbformat": 4,
 "nbformat_minor": 2
}
