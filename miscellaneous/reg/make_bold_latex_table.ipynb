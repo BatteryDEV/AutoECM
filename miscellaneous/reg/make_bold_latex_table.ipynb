{
 "cells": [
  {
   "cell_type": "code",
   "execution_count": 1,
   "metadata": {},
   "outputs": [],
   "source": [
    "import numpy as np"
   ]
  },
  {
   "cell_type": "code",
   "execution_count": 2,
   "metadata": {},
   "outputs": [],
   "source": [
    "# Read tex file and get the lines\n",
    "with open('reg-results.tex', 'r') as f:\n",
    "    lines = f.readlines()"
   ]
  },
  {
   "cell_type": "code",
   "execution_count": 3,
   "metadata": {},
   "outputs": [],
   "source": [
    "# lines"
   ]
  },
  {
   "cell_type": "code",
   "execution_count": 4,
   "metadata": {},
   "outputs": [
    {
     "data": {
      "text/plain": [
       "77"
      ]
     },
     "execution_count": 4,
     "metadata": {},
     "output_type": "execute_result"
    }
   ],
   "source": [
    "len(lines)"
   ]
  },
  {
   "cell_type": "code",
   "execution_count": 5,
   "metadata": {},
   "outputs": [],
   "source": [
    "# Loop trough the lines and find the min value of the values in each row separated by & and replace it with \\textbf{value}\n",
    "for i in range(4, len(lines)-2):\n",
    "    offset = 2\n",
    "    line = lines[i]\n",
    "    values = line.split('&')\n",
    "    # remove the last \\\\\\\\\\n'\n",
    "    values[-1] = values[-1][:-4]\n",
    "    # take only the last 3 values\n",
    "    values_ = values[-3:]\n",
    "    # print(values_[-1])\n",
    "    values_f = [float(value) for value in values_]\n",
    "    # print(values_f)\n",
    "    min_value = np.min(values_f)\n",
    "    min_index = np.argmin(values_f)\n",
    "    # Format all floats to scientifict notation with 2 decimals\n",
    "    values_f = [f'{value:.2E}' for value in values_f]\n",
    "    for j in range(len(values_f)):\n",
    "        values[offset+j] = values_f[j] \n",
    "    values[min_index+offset] = '\\\\textbf{' + values_f[min_index] + '}'\n",
    "\n",
    "    # print(values)\n",
    "    #lines[i] = [str(value) + '&' for value in values_f]\n",
    "    # Join values with & and add \\\\\\\\\\n at the end with all & aligned\n",
    "    lines[i] = ' & '.join(values) + '\\\\\\\\\\n'\n",
    "    #lines[i] = '&'.join(values) + '\\\\\\\\\\n'\n"
   ]
  },
  {
   "cell_type": "code",
   "execution_count": 6,
   "metadata": {},
   "outputs": [
    {
     "data": {
      "text/plain": [
       "['\\\\begin{tabular}{llrrr}\\n',\n",
       " '\\\\toprule\\n',\n",
       " '            Circuit & Parameter &        Dummy &  tsfresh-XGBoost &  tsfresh-XGBoost-Quantile \\\\\\\\\\n',\n",
       " '\\\\midrule\\n',\n",
       " '           L-R-RCPE  &         L1  & 1.61E-06 & 1.81E-06 & \\\\textbf{9.45E-07}\\\\\\\\\\n',\n",
       " '                     &         R1  & 4.58E+01 & \\\\textbf{3.62E+01} & 3.69E+01\\\\\\\\\\n',\n",
       " '                     &         R2  & 3.92E+04 & 3.88E+04 & \\\\textbf{2.70E+04}\\\\\\\\\\n',\n",
       " '                     &     CPE1\\\\_t  & 1.17E-01 & 1.57E-02 & \\\\textbf{1.48E-02}\\\\\\\\\\n',\n",
       " '                     &     CPE1\\\\_C  & 4.67E-03 & 3.60E-03 & \\\\textbf{3.59E-03}\\\\\\\\\\n',\n",
       " '      L-R-RCPE-RCPE  &         L1  & 1.49E-06 & 1.79E-06 & \\\\textbf{1.11E-06}\\\\\\\\\\n',\n",
       " '                     &         R1  & \\\\textbf{3.71E+01} & 4.54E+01 & 3.79E+01\\\\\\\\\\n',\n",
       " '                     &         R2  & 3.93E+02 & \\\\textbf{3.22E+02} & 3.43E+02\\\\\\\\\\n',\n",
       " '                     &     CPE1\\\\_t  & \\\\textbf{1.24E-01} & 1.27E-01 & 1.29E-01\\\\\\\\\\n',\n",
       " '                     &     CPE1\\\\_C  & \\\\textbf{1.87E-06} & 3.57E-06 & 2.59E-06\\\\\\\\\\n',\n",
       " '                     &         R3  & 4.28E+04 & 5.36E+04 & \\\\textbf{4.20E+04}\\\\\\\\\\n',\n",
       " '                     &     CPE2\\\\_t  & 1.36E-01 & \\\\textbf{2.88E-02} & 2.89E-02\\\\\\\\\\n',\n",
       " '                     &     CPE2\\\\_C  & 1.47E-02 & 7.69E-03 & \\\\textbf{6.96E-03}\\\\\\\\\\n',\n",
       " ' L-R-RCPE-RCPE-RCPE  &         L1  & 1.41E-06 & 1.73E-06 & \\\\textbf{1.35E-06}\\\\\\\\\\n',\n",
       " '                     &         R1  & \\\\textbf{3.69E+01} & 5.20E+01 & 4.02E+01\\\\\\\\\\n',\n",
       " '                     &         R2  & 1.90E+02 & 2.10E+02 & \\\\textbf{1.73E+02}\\\\\\\\\\n',\n",
       " '                     &     CPE1\\\\_t  & \\\\textbf{1.32E-01} & 1.41E-01 & 1.40E-01\\\\\\\\\\n',\n",
       " '                     &     CPE1\\\\_C  & \\\\textbf{1.77E-06} & 3.21E-06 & 2.20E-06\\\\\\\\\\n',\n",
       " '                     &         R3  & 2.71E+03 & \\\\textbf{1.63E+03} & 1.80E+03\\\\\\\\\\n',\n",
       " '                     &     CPE2\\\\_t  & 1.36E-01 & \\\\textbf{9.93E-02} & 1.00E-01\\\\\\\\\\n',\n",
       " '                     &     CPE2\\\\_C  & 5.89E-04 & 7.05E-04 & \\\\textbf{5.58E-04}\\\\\\\\\\n',\n",
       " '                     &         R4  & 9.87E+04 & 1.05E+05 & \\\\textbf{9.38E+04}\\\\\\\\\\n',\n",
       " '                     &     CPE3\\\\_t  & 1.26E-01 & \\\\textbf{7.86E-02} & 8.38E-02\\\\\\\\\\n',\n",
       " '                     &     CPE3\\\\_C  & 3.19E-02 & 3.01E-02 & \\\\textbf{1.81E-02}\\\\\\\\\\n',\n",
       " '             RC-G-G  &         R1  & 5.18E+01 & \\\\textbf{4.81E+01} & 5.27E+01\\\\\\\\\\n',\n",
       " '                     &         C1  & \\\\textbf{5.38E-06} & 7.82E-06 & 7.38E-06\\\\\\\\\\n',\n",
       " '                     &       R\\\\_g1  & \\\\textbf{1.80E+00} & 4.71E+00 & 1.80E+00\\\\\\\\\\n',\n",
       " '                     &       t\\\\_g1  & \\\\textbf{6.12E-01} & 3.47E+00 & 6.13E-01\\\\\\\\\\n',\n",
       " '                     &       R\\\\_g2  & 4.83E+01 & \\\\textbf{4.77E+01} & 5.02E+01\\\\\\\\\\n',\n",
       " '                     &       t\\\\_g2  & 1.67E+01 & 3.89E+01 & \\\\textbf{1.57E+01}\\\\\\\\\\n',\n",
       " '    RC-RC-RCPE-RCPE  &         R1  & 2.88E+01 & 3.05E+01 & \\\\textbf{3.33E+00}\\\\\\\\\\n',\n",
       " '                     &         R2  & 8.98E+00 & 1.05E+01 & \\\\textbf{6.24E+00}\\\\\\\\\\n',\n",
       " '                     &         R3  & 3.50E+01 & 1.93E+01 & \\\\textbf{4.82E+00}\\\\\\\\\\n',\n",
       " '                     &         R4  & \\\\textbf{6.92E+04} & 2.68E+05 & 7.02E+04\\\\\\\\\\n',\n",
       " '                     &         C2  & 8.52E-06 & 1.27E-05 & \\\\textbf{6.04E-06}\\\\\\\\\\n',\n",
       " '                     &     CPE3\\\\_C  & 1.28E-04 & 3.58E-04 & \\\\textbf{5.52E-05}\\\\\\\\\\n',\n",
       " '                     &     CPE4\\\\_t  & 1.57E-01 & 1.77E-01 & \\\\textbf{7.77E-02}\\\\\\\\\\n',\n",
       " '                     &     CPE4\\\\_C  & 4.31E-01 & 5.57E-01 & \\\\textbf{1.72E-01}\\\\\\\\\\n',\n",
       " '                     &         C1  & \\\\textbf{0.00E+00} & 1.65E-16 & 5.66E-17\\\\\\\\\\n',\n",
       " '                     &     CPE3\\\\_t  & \\\\textbf{0.00E+00} & 8.34E-08 & 2.38E-08\\\\\\\\\\n',\n",
       " '          RCPE-RCPE  &         R1  & 4.24E+01 & \\\\textbf{2.56E+01} & 3.29E+01\\\\\\\\\\n',\n",
       " '                     &         R2  & 3.71E+04 & 3.95E+04 & \\\\textbf{2.34E+04}\\\\\\\\\\n',\n",
       " '                     &     CPE1\\\\_t  & \\\\textbf{1.20E-01} & 1.30E-01 & 1.27E-01\\\\\\\\\\n',\n",
       " '                     &     CPE1\\\\_C  & \\\\textbf{1.16E-03} & 1.36E-03 & 1.58E-03\\\\\\\\\\n',\n",
       " '                     &     CPE2\\\\_t  & 1.26E-01 & \\\\textbf{2.70E-02} & 2.91E-02\\\\\\\\\\n',\n",
       " '                     &     CPE2\\\\_C  & 1.23E-02 & 9.52E-03 & \\\\textbf{4.97E-03}\\\\\\\\\\n',\n",
       " '     RCPE-RCPE-RCPE  &         R1  & 1.19E+01 & 1.31E+01 & \\\\textbf{1.16E+01}\\\\\\\\\\n',\n",
       " '                     &         R2  & 3.29E+02 & 5.24E+02 & \\\\textbf{3.06E+02}\\\\\\\\\\n',\n",
       " '                     &         R3  & \\\\textbf{7.34E+04} & 1.04E+05 & 7.42E+04\\\\\\\\\\n',\n",
       " '                     &     CPE1\\\\_t  & \\\\textbf{1.25E-01} & 1.55E-01 & 1.40E-01\\\\\\\\\\n',\n",
       " '                     &     CPE1\\\\_C  & \\\\textbf{1.74E-06} & 2.60E-06 & 1.74E-06\\\\\\\\\\n',\n",
       " '                     &     CPE2\\\\_t  & 1.27E-01 & 1.26E-01 & \\\\textbf{1.10E-01}\\\\\\\\\\n',\n",
       " '                     &     CPE2\\\\_C  & 5.95E-05 & 1.47E-04 & \\\\textbf{5.11E-05}\\\\\\\\\\n',\n",
       " '                     &     CPE3\\\\_t  & 1.23E-01 & 1.15E-01 & \\\\textbf{4.71E-02}\\\\\\\\\\n',\n",
       " '                     &     CPE3\\\\_C  & 2.73E-02 & 2.10E-01 & \\\\textbf{1.50E-02}\\\\\\\\\\n',\n",
       " 'RCPE-RCPE-RCPE-RCPE  &         R1  & 3.93E+01 & 3.99E+01 & \\\\textbf{3.74E+01}\\\\\\\\\\n',\n",
       " '                     &         R2  & 1.37E+02 & 1.84E+02 & \\\\textbf{1.36E+02}\\\\\\\\\\n',\n",
       " '                     &         R3  & 2.50E+03 & 2.76E+03 & \\\\textbf{2.29E+03}\\\\\\\\\\n',\n",
       " '                     &         R4  & 9.05E+04 & 1.52E+05 & \\\\textbf{8.22E+04}\\\\\\\\\\n',\n",
       " '                     &     CPE1\\\\_t  & \\\\textbf{1.30E-01} & 1.36E-01 & 1.40E-01\\\\\\\\\\n',\n",
       " '                     &     CPE1\\\\_C  & \\\\textbf{4.55E-07} & 2.90E-04 & 4.56E-07\\\\\\\\\\n',\n",
       " '                     &     CPE2\\\\_t  & 1.31E-01 & \\\\textbf{1.26E-01} & 1.34E-01\\\\\\\\\\n',\n",
       " '                     &     CPE2\\\\_C  & \\\\textbf{8.80E-04} & 1.82E-03 & 8.82E-04\\\\\\\\\\n',\n",
       " '                     &     CPE3\\\\_t  & 1.29E-01 & 1.06E-01 & \\\\textbf{1.05E-01}\\\\\\\\\\n',\n",
       " '                     &     CPE3\\\\_C  & \\\\textbf{3.50E-03} & 6.71E-03 & 3.62E-03\\\\\\\\\\n',\n",
       " '                     &     CPE4\\\\_t  & 1.30E-01 & \\\\textbf{1.05E-01} & 1.06E-01\\\\\\\\\\n',\n",
       " '                     &     CPE4\\\\_C  & 2.77E-02 & 3.06E-02 & \\\\textbf{2.04E-02}\\\\\\\\\\n',\n",
       " '              Rs\\\\_Ws  &         R1  & 1.00E+02 & \\\\textbf{1.63E+01} & 2.63E+01\\\\\\\\\\n',\n",
       " '                     &       W1\\\\_R  & 7.83E+02 & 2.59E+02 & \\\\textbf{2.40E+02}\\\\\\\\\\n',\n",
       " '                     &       W1\\\\_T  & \\\\textbf{1.89E+02} & 1.94E+02 & 2.17E+02\\\\\\\\\\n',\n",
       " '                     &       W1\\\\_p  & 9.69E-01 & 8.12E-02 & \\\\textbf{8.08E-02}\\\\\\\\\\n',\n",
       " '\\\\bottomrule\\n',\n",
       " '\\\\end{tabular}\\n']"
      ]
     },
     "execution_count": 6,
     "metadata": {},
     "output_type": "execute_result"
    }
   ],
   "source": [
    "lines"
   ]
  },
  {
   "cell_type": "code",
   "execution_count": 7,
   "metadata": {},
   "outputs": [],
   "source": [
    "# write the new lines to a new file\n",
    "with open('reg-results_bold.tex', 'w') as f:\n",
    "    f.writelines(lines)"
   ]
  }
 ],
 "metadata": {
  "kernelspec": {
   "display_name": "Python 3.7.13",
   "language": "python",
   "name": "python3"
  },
  "language_info": {
   "codemirror_mode": {
    "name": "ipython",
    "version": 3
   },
   "file_extension": ".py",
   "mimetype": "text/x-python",
   "name": "python",
   "nbconvert_exporter": "python",
   "pygments_lexer": "ipython3",
   "version": "3.7.13"
  },
  "orig_nbformat": 4,
  "vscode": {
   "interpreter": {
    "hash": "db3441f3efc18b286252faba8848b9af7d49db2dc5505bf705b457c48ff7d418"
   }
  }
 },
 "nbformat": 4,
 "nbformat_minor": 2
}
