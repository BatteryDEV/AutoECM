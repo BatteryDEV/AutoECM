{
  "cells": [
    {
      "cell_type": "code",
      "execution_count": 1,
      "metadata": {
        "id": "AICoXl_RvHhE"
      },
      "outputs": [],
      "source": [
        "# Comment: You might need to move this file to the root directory of the project to run it.\n",
        "import numpy as np\n",
        "import pandas as pd\n",
        "from pandas.core.frame import DataFrame\n",
        "\n",
        "from scipy.interpolate import interp1d\n",
        "\n",
        "from sklearn.pipeline import Pipeline\n",
        "from sklearn.multioutput import MultiOutputRegressor\n",
        "from sklearn.compose import TransformedTargetRegressor\n",
        "from sklearn.preprocessing import QuantileTransformer, PowerTransformer\n",
        "from sklearn.dummy import DummyRegressor\n",
        "from sklearn.model_selection import train_test_split\n",
        "from sklearn.metrics import mean_absolute_error\n",
        "import matplotlib.pyplot as plt\n",
        "import seaborn as sns\n",
        "\n",
        "import xgboost as xgb\n",
        "\n",
        "from tsfresh.transformers import RelevantFeatureAugmenter, FeatureAugmenter\n",
        "from tsfresh import extract_relevant_features\n",
        "from tsfresh.utilities.dataframe_functions import impute\n",
        "from tsfresh.feature_extraction import ComprehensiveFCParameters, MinimalFCParameters\n",
        "\n",
        "from typing import Dict, Any\n",
        "import numpy as np\n",
        "import pandas as pd\n",
        "from functools import partial\n",
        "\n",
        "from utils_preprocessing import parse_circuit_params_from_str\n",
        "from utils_preprocessing import preprocess_data\n",
        "from utils_preprocessing import unwrap_df"
      ]
    },
    {
      "cell_type": "markdown",
      "metadata": {
        "id": "Bqeoq-k1wjIZ"
      },
      "source": [
        "Function definitions:"
      ]
    },
    {
      "cell_type": "code",
      "execution_count": 2,
      "metadata": {
        "id": "zOmjfJC0wdYC"
      },
      "outputs": [],
      "source": [
        "def parse_circuit_params_from_str(params_str: str) -> Dict[str, float]:\n",
        "    return {item.split(\":\")[0].strip(): float(item.split(\":\")[1].strip()) for item in params_str.split(\",\")}\n",
        "    \n",
        "def process_batch_element_params(Parameters):\n",
        "    Params = parse_circuit_params_from_str(Parameters)\n",
        "    return np.array(list(Params.values()))\n",
        "\n",
        "def process_batch_element_params_str(Parameters):\n",
        "    Params = parse_circuit_params_from_str(Parameters)\n",
        "    return np.array(list(Params.keys()))"
      ]
    },
    {
      "cell_type": "markdown",
      "metadata": {
        "id": "v47MMAvGvi7B"
      },
      "source": [
        "Process data:"
      ]
    },
    {
      "cell_type": "code",
      "execution_count": 3,
      "metadata": {
        "id": "ngMLlDbBwoFZ"
      },
      "outputs": [],
      "source": [
        "df = preprocess_data(\"./data/train_data.csv\")\n",
        "df_test = preprocess_data(\"./data/test_data.csv\")\n",
        "\n",
        "df[\"param_strs\"] = df.apply(lambda x: process_batch_element_params_str(x.Parameters), axis=1)\n",
        "df[\"param_values\"] = df.apply(lambda x: process_batch_element_params(x.Parameters), axis=1)\n",
        "\n",
        "df_test[\"param_strs\"] = df_test.apply(lambda x: process_batch_element_params_str(x.Parameters), axis=1)\n",
        "df_test[\"param_values\"] = df_test.apply(lambda x: process_batch_element_params(x.Parameters), axis=1)\n"
      ]
    },
    {
      "cell_type": "markdown",
      "metadata": {
        "id": "92LlvjZCwx6f"
      },
      "source": [
        "For tsfresh we need to 'unwrap' all the measurements into a dataframe with measurement ids, freq, zreal, and zimag columns"
      ]
    },
    {
      "cell_type": "code",
      "execution_count": 4,
      "metadata": {
        "colab": {
          "base_uri": "https://localhost:8080/"
        },
        "id": "leqApmRcwyOW",
        "outputId": "3995911d-8768-4437-9350-da2f8d12b349"
      },
      "outputs": [
        {
          "data": {
            "text/plain": [
              "((55950, 4), 1865)"
            ]
          },
          "execution_count": 4,
          "metadata": {},
          "output_type": "execute_result"
        }
      ],
      "source": [
        "df_ts = unwrap_df(df)\n",
        "df_ts.shape, len(np.unique(df_ts[\"id\"]))\n",
        "\n",
        "df_ts_test = unwrap_df(df_test)\n",
        "df_ts_test.shape, len(np.unique(df_ts_test[\"id\"]))"
      ]
    },
    {
      "cell_type": "markdown",
      "metadata": {
        "id": "-FfI_fgHbQkE"
      },
      "source": [
        "Train a model for each class of circuit"
      ]
    },
    {
      "cell_type": "code",
      "execution_count": 5,
      "metadata": {
        "colab": {
          "base_uri": "https://localhost:8080/"
        },
        "id": "lB3brGp6bG6o",
        "outputId": "798418b6-b516-48c2-c9df-f6cb798c02d0"
      },
      "outputs": [
        {
          "data": {
            "text/plain": [
              "array(['L-R-RCPE', 'L-R-RCPE-RCPE', 'L-R-RCPE-RCPE-RCPE', 'RC-G-G',\n",
              "       'RC-RC-RCPE-RCPE', 'RCPE-RCPE', 'RCPE-RCPE-RCPE',\n",
              "       'RCPE-RCPE-RCPE-RCPE', 'Rs_Ws'], dtype=object)"
            ]
          },
          "execution_count": 5,
          "metadata": {},
          "output_type": "execute_result"
        }
      ],
      "source": [
        "circuits = np.unique(df[\"Circuit\"])\n",
        "circuits"
      ]
    },
    {
      "cell_type": "code",
      "execution_count": 6,
      "metadata": {
        "colab": {
          "base_uri": "https://localhost:8080/"
        },
        "id": "1IfHpF-Hw2q6",
        "outputId": "a4a5e44e-e6c5-4ad4-9999-a76145c6c018"
      },
      "outputs": [
        {
          "data": {
            "text/html": [
              "<div>\n",
              "<style scoped>\n",
              "    .dataframe tbody tr th:only-of-type {\n",
              "        vertical-align: middle;\n",
              "    }\n",
              "\n",
              "    .dataframe tbody tr th {\n",
              "        vertical-align: top;\n",
              "    }\n",
              "\n",
              "    .dataframe thead th {\n",
              "        text-align: right;\n",
              "    }\n",
              "</style>\n",
              "<table border=\"1\" class=\"dataframe\">\n",
              "  <thead>\n",
              "    <tr style=\"text-align: right;\">\n",
              "      <th></th>\n",
              "      <th>freq</th>\n",
              "      <th>Z</th>\n",
              "      <th>Circuit</th>\n",
              "      <th>Parameters</th>\n",
              "      <th>f</th>\n",
              "      <th>zreal</th>\n",
              "      <th>zimag</th>\n",
              "      <th>param_strs</th>\n",
              "      <th>param_values</th>\n",
              "    </tr>\n",
              "  </thead>\n",
              "  <tbody>\n",
              "    <tr>\n",
              "      <th>9</th>\n",
              "      <td>[0.1, 0.149213983, 0.222648128, 0.33222214, 0....</td>\n",
              "      <td>[(1237.55544252-0.0137576222j), (1237.55545322...</td>\n",
              "      <td>L-R-RCPE</td>\n",
              "      <td>L1: 9.04e-07, R1: 2.37e+01, R2: 1.21e+03, CPE1...</td>\n",
              "      <td>[10.0, 13.73823795883263, 18.873918221350976, ...</td>\n",
              "      <td>[1237.5560050720353, 1237.555392001476, 1237.5...</td>\n",
              "      <td>[-1.3822918101198913, -1.8996376035109108, -2....</td>\n",
              "      <td>[L1, R1, R2, CPE1_t, CPE1_C]</td>\n",
              "      <td>[9.04e-07, 23.7, 1210.0, 1.0, 9.36e-08]</td>\n",
              "    </tr>\n",
              "    <tr>\n",
              "      <th>27</th>\n",
              "      <td>[1.0, 1.34171284, 1.80019333, 2.4153425, 3.240...</td>\n",
              "      <td>[(0.64168195-23.2407201j), (0.57996447-17.3533...</td>\n",
              "      <td>L-R-RCPE</td>\n",
              "      <td>L1: 2.52e-06, R1: 4.05e-01, R2: 5.45e+04, CPE1...</td>\n",
              "      <td>[10.0, 13.73823795883263, 18.873918221350976, ...</td>\n",
              "      <td>[0.4288148842015722, 0.4223762845566246, 0.417...</td>\n",
              "      <td>[-2.3884593585330647, -1.732490487189707, -1.2...</td>\n",
              "      <td>[L1, R1, R2, CPE1_t, CPE1_C]</td>\n",
              "      <td>[2.52e-06, 0.405, 54500.0, 0.994, 0.043]</td>\n",
              "    </tr>\n",
              "    <tr>\n",
              "      <th>29</th>\n",
              "      <td>[0.1, 0.149623566, 0.223872114, 0.334965439, 0...</td>\n",
              "      <td>[(3.32454359-3.37348466e-07j), (3.32454358-4.9...</td>\n",
              "      <td>L-R-RCPE</td>\n",
              "      <td>L1: 2.56e-08, R1: 1.56e+00, R2: 1.76e+00, CPE1...</td>\n",
              "      <td>[10.0, 13.73823795883263, 18.873918221350976, ...</td>\n",
              "      <td>[3.324541232927524, 3.3245403980313397, 3.3245...</td>\n",
              "      <td>[-2.5680336968910618e-05, -3.46355880500947e-0...</td>\n",
              "      <td>[L1, R1, R2, CPE1_t, CPE1_C]</td>\n",
              "      <td>[2.56e-08, 1.56, 1.76, 0.942, 9.61e-07]</td>\n",
              "    </tr>\n",
              "    <tr>\n",
              "      <th>30</th>\n",
              "      <td>[0.01, 0.0134051824, 0.0179698915, 0.024088967...</td>\n",
              "      <td>[(1089.8535813-181.514229j), (1055.79878508-20...</td>\n",
              "      <td>L-R-RCPE</td>\n",
              "      <td>L1: 9.74e-07, R1: 3.98e+00, R2: 1.23e+03, CPE1...</td>\n",
              "      <td>[10.0, 13.73823795883263, 18.873918221350976, ...</td>\n",
              "      <td>[33.579076421842096, 27.708840892100422, 23.01...</td>\n",
              "      <td>[-47.45119722165075, -38.68338352830796, -31.4...</td>\n",
              "      <td>[L1, R1, R2, CPE1_t, CPE1_C]</td>\n",
              "      <td>[9.74e-07, 3.98, 1230.0, 0.67, 0.00378]</td>\n",
              "    </tr>\n",
              "    <tr>\n",
              "      <th>32</th>\n",
              "      <td>[10.0, 14.9249555, 22.2754295, 33.2459793, 49....</td>\n",
              "      <td>[(95766.24176939-0.87437686j), (95766.08903648...</td>\n",
              "      <td>L-R-RCPE</td>\n",
              "      <td>L1: 1.88e-06, R1: 2.56e+00, R2: 9.58e+04, CPE1...</td>\n",
              "      <td>[10.0, 13.73823795883263, 18.873918221350976, ...</td>\n",
              "      <td>[95766.24176939, 95766.12583901017, 95765.9816...</td>\n",
              "      <td>[-0.87437686, -1.079492885085377, -1.334653446...</td>\n",
              "      <td>[L1, R1, R2, CPE1_t, CPE1_C]</td>\n",
              "      <td>[1.88e-06, 2.56, 95800.0, 0.673, 2.33e-11]</td>\n",
              "    </tr>\n",
              "  </tbody>\n",
              "</table>\n",
              "</div>"
            ],
            "text/plain": [
              "                                                 freq  \\\n",
              "9   [0.1, 0.149213983, 0.222648128, 0.33222214, 0....   \n",
              "27  [1.0, 1.34171284, 1.80019333, 2.4153425, 3.240...   \n",
              "29  [0.1, 0.149623566, 0.223872114, 0.334965439, 0...   \n",
              "30  [0.01, 0.0134051824, 0.0179698915, 0.024088967...   \n",
              "32  [10.0, 14.9249555, 22.2754295, 33.2459793, 49....   \n",
              "\n",
              "                                                    Z   Circuit  \\\n",
              "9   [(1237.55544252-0.0137576222j), (1237.55545322...  L-R-RCPE   \n",
              "27  [(0.64168195-23.2407201j), (0.57996447-17.3533...  L-R-RCPE   \n",
              "29  [(3.32454359-3.37348466e-07j), (3.32454358-4.9...  L-R-RCPE   \n",
              "30  [(1089.8535813-181.514229j), (1055.79878508-20...  L-R-RCPE   \n",
              "32  [(95766.24176939-0.87437686j), (95766.08903648...  L-R-RCPE   \n",
              "\n",
              "                                           Parameters  \\\n",
              "9   L1: 9.04e-07, R1: 2.37e+01, R2: 1.21e+03, CPE1...   \n",
              "27  L1: 2.52e-06, R1: 4.05e-01, R2: 5.45e+04, CPE1...   \n",
              "29  L1: 2.56e-08, R1: 1.56e+00, R2: 1.76e+00, CPE1...   \n",
              "30  L1: 9.74e-07, R1: 3.98e+00, R2: 1.23e+03, CPE1...   \n",
              "32  L1: 1.88e-06, R1: 2.56e+00, R2: 9.58e+04, CPE1...   \n",
              "\n",
              "                                                    f  \\\n",
              "9   [10.0, 13.73823795883263, 18.873918221350976, ...   \n",
              "27  [10.0, 13.73823795883263, 18.873918221350976, ...   \n",
              "29  [10.0, 13.73823795883263, 18.873918221350976, ...   \n",
              "30  [10.0, 13.73823795883263, 18.873918221350976, ...   \n",
              "32  [10.0, 13.73823795883263, 18.873918221350976, ...   \n",
              "\n",
              "                                                zreal  \\\n",
              "9   [1237.5560050720353, 1237.555392001476, 1237.5...   \n",
              "27  [0.4288148842015722, 0.4223762845566246, 0.417...   \n",
              "29  [3.324541232927524, 3.3245403980313397, 3.3245...   \n",
              "30  [33.579076421842096, 27.708840892100422, 23.01...   \n",
              "32  [95766.24176939, 95766.12583901017, 95765.9816...   \n",
              "\n",
              "                                                zimag  \\\n",
              "9   [-1.3822918101198913, -1.8996376035109108, -2....   \n",
              "27  [-2.3884593585330647, -1.732490487189707, -1.2...   \n",
              "29  [-2.5680336968910618e-05, -3.46355880500947e-0...   \n",
              "30  [-47.45119722165075, -38.68338352830796, -31.4...   \n",
              "32  [-0.87437686, -1.079492885085377, -1.334653446...   \n",
              "\n",
              "                      param_strs                                param_values  \n",
              "9   [L1, R1, R2, CPE1_t, CPE1_C]     [9.04e-07, 23.7, 1210.0, 1.0, 9.36e-08]  \n",
              "27  [L1, R1, R2, CPE1_t, CPE1_C]    [2.52e-06, 0.405, 54500.0, 0.994, 0.043]  \n",
              "29  [L1, R1, R2, CPE1_t, CPE1_C]     [2.56e-08, 1.56, 1.76, 0.942, 9.61e-07]  \n",
              "30  [L1, R1, R2, CPE1_t, CPE1_C]     [9.74e-07, 3.98, 1230.0, 0.67, 0.00378]  \n",
              "32  [L1, R1, R2, CPE1_t, CPE1_C]  [1.88e-06, 2.56, 95800.0, 0.673, 2.33e-11]  "
            ]
          },
          "execution_count": 6,
          "metadata": {},
          "output_type": "execute_result"
        }
      ],
      "source": [
        "dfs = list()\n",
        "dfs_test = list()\n",
        "for i in np.arange(len(circuits)):\n",
        "  dfs.append(df[df[\"Circuit\"] == circuits[i]])\n",
        "  dfs_test.append(df_test[df_test[\"Circuit\"] == circuits[i]])\n",
        "dfs[0].head()"
      ]
    },
    {
      "cell_type": "code",
      "execution_count": 7,
      "metadata": {},
      "outputs": [],
      "source": [
        "circuit_str = []\n",
        "for i in range(len(circuits)):\n",
        "    for j in range(len(dfs[i][\"param_strs\"].iloc[0])):\n",
        "        if j==0: \n",
        "            circuit_str.append(circuits[i])\n",
        "        else: \n",
        "            circuit_str.append(\"\")"
      ]
    },
    {
      "cell_type": "code",
      "execution_count": 8,
      "metadata": {},
      "outputs": [],
      "source": [
        "df_ = dfs[0]\n",
        "df_y = pd.DataFrame(df_['param_values'].to_list(), columns=df_[\"param_strs\"].loc[df_.index[0]])"
      ]
    },
    {
      "cell_type": "code",
      "execution_count": 9,
      "metadata": {},
      "outputs": [],
      "source": [
        "def ecm_regression(use_dummy=False, quantile=False, relevant=False):\n",
        "    ppls = list()\n",
        "    param_values_pred = list(range(df.shape[0]))\n",
        "    predictions = []\n",
        "    y_true = []\n",
        "    circuit_str = []\n",
        "    for i, [df_, df_test_] in enumerate(zip(dfs, dfs_test)):\n",
        "        print(\" \")\n",
        "        print(\"Fitting regression for %s\" % df_[\"Circuit\"].loc[df_.index[0]])\n",
        "        df_ts_ = df_ts[df_ts[\"id\"].isin(df_.index)]\n",
        "        df_ts_test_ = df_ts_test[df_ts_test[\"id\"].isin(df_test[df_test[\"Circuit\"] == df_[\"Circuit\"].loc[df_.index[0]]].index)]\n",
        "        X_train = pd.DataFrame(index=np.unique(df_ts_[\"id\"]))\n",
        "        y_train = pd.DataFrame(df_['param_values'].to_list(), columns=df_[\"param_strs\"].loc[df_.index[0]])\n",
        "        X_test = pd.DataFrame(index=np.unique(df_ts_test_[\"id\"]))\n",
        "        y_test = pd.DataFrame(df_test_['param_values'].to_list(), columns=df_test_[\"param_strs\"].loc[df_test_.index[0]])\n",
        "        # transformer mask, tell the transformer which parameters to skip over\n",
        "        mask = [n for n, x in enumerate(df_[\"param_strs\"].loc[df_.index[0]]) if '_t' in x]\n",
        "        if not use_dummy:\n",
        "            mdl = MultiOutputRegressor(estimator=xgb.XGBRegressor(random_state=42))\n",
        "        else: \n",
        "            mdl = MultiOutputRegressor(estimator=DummyRegressor(strategy='median'))\n",
        "\n",
        "        if quantile:\n",
        "            regr = TransformedTargetRegressor(regressor=mdl,\n",
        "                                                transformer=QuantileTransformer(n_quantiles=10, random_state=0))\n",
        "                                                #transformer=PowerTransformer())\n",
        "        else:\n",
        "            regr = mdl\n",
        "\n",
        "        if relevant:\n",
        "            ppl = Pipeline([\n",
        "                    ('augmenter', RelevantFeatureAugmenter(column_id='id', column_sort='freq', default_fc_parameters=ComprehensiveFCParameters())),\n",
        "                    ('regressor', regr)\n",
        "                ])\n",
        "        else:\n",
        "            ppl = Pipeline([\n",
        "                    ('augmenter', FeatureAugmenter(column_id='id', column_sort='freq', default_fc_parameters=ComprehensiveFCParameters())),\n",
        "                    ('regressor', regr)\n",
        "                ])\n",
        "        ppl.set_params(augmenter__timeseries_container=df_ts_);\n",
        "        ppl.fit(X_train, y_train)\n",
        "        ppl.set_params(augmenter__timeseries_container=df_ts_test_);\n",
        "        y_pred = ppl.predict(X_test)\n",
        "        y_pred_df = pd.DataFrame(y_pred, columns=df_test_[\"param_strs\"].loc[df_test_.index[0]])\n",
        "        y_true_df = pd.DataFrame(y_test, columns=df_test_[\"param_strs\"].loc[df_test_.index[0]])\n",
        "        predictions.append(y_pred_df)\n",
        "        y_true.append(y_true_df)\n",
        "        print(\"MAE:%.4g\" % mean_absolute_error(y_test, y_pred))\n",
        "        p_strs = df_[\"param_strs\"].loc[df_.index[0]]\n",
        "        for j in np.arange(len(p_strs)):\n",
        "            print(\"%s MAE:%.4g\" % (p_strs[j], mean_absolute_error(y_test[p_strs[j]], y_pred[:,j])))\n",
        "            if j==0: \n",
        "                circuit_str.append(circuits[i])\n",
        "            else: \n",
        "                circuit_str.append(\"\")\n",
        "        ppls.append(ppl)\n",
        "        #for idx, i in zip(df_.index, np.arange(y_pred.shape[0])):\n",
        "            #param_values_pred[idx] = y_pred[i,:]\n",
        "    return predictions, y_true, ppls, circuit_str"
      ]
    },
    {
      "cell_type": "code",
      "execution_count": 10,
      "metadata": {},
      "outputs": [
        {
          "name": "stdout",
          "output_type": "stream",
          "text": [
            " \n",
            "Fitting regression for L-R-RCPE\n"
          ]
        },
        {
          "name": "stderr",
          "output_type": "stream",
          "text": [
            "Feature Extraction: 100%|██████████| 25/25 [00:11<00:00,  2.11it/s]\n",
            "Feature Extraction: 100%|██████████| 25/25 [00:02<00:00,  8.67it/s]\n"
          ]
        },
        {
          "name": "stdout",
          "output_type": "stream",
          "text": [
            "MAE:7762\n",
            "L1 MAE:1.812e-06\n",
            "R1 MAE:36.18\n",
            "R2 MAE:3.877e+04\n",
            "CPE1_t MAE:0.01571\n",
            "CPE1_C MAE:0.003598\n",
            " \n",
            "Fitting regression for L-R-RCPE-RCPE\n"
          ]
        },
        {
          "name": "stderr",
          "output_type": "stream",
          "text": [
            "Feature Extraction: 100%|██████████| 25/25 [00:11<00:00,  2.12it/s]\n",
            "Feature Extraction: 100%|██████████| 25/25 [00:02<00:00,  9.04it/s]\n"
          ]
        },
        {
          "name": "stdout",
          "output_type": "stream",
          "text": [
            "MAE:6746\n",
            "L1 MAE:1.787e-06\n",
            "R1 MAE:45.37\n",
            "R2 MAE:322.5\n",
            "CPE1_t MAE:0.1273\n",
            "CPE1_C MAE:3.569e-06\n",
            "R3 MAE:5.36e+04\n",
            "CPE2_t MAE:0.02882\n",
            "CPE2_C MAE:0.007694\n",
            " \n",
            "Fitting regression for L-R-RCPE-RCPE-RCPE\n"
          ]
        },
        {
          "name": "stderr",
          "output_type": "stream",
          "text": [
            "Feature Extraction: 100%|██████████| 25/25 [00:11<00:00,  2.13it/s]\n",
            "Feature Extraction: 100%|██████████| 25/25 [00:03<00:00,  8.22it/s]\n"
          ]
        },
        {
          "name": "stdout",
          "output_type": "stream",
          "text": [
            "MAE:9691\n",
            "L1 MAE:1.73e-06\n",
            "R1 MAE:52.02\n",
            "R2 MAE:209.9\n",
            "CPE1_t MAE:0.1414\n",
            "CPE1_C MAE:3.214e-06\n",
            "R3 MAE:1631\n",
            "CPE2_t MAE:0.09929\n",
            "CPE2_C MAE:0.0007048\n",
            "R4 MAE:1.047e+05\n",
            "CPE3_t MAE:0.07858\n",
            "CPE3_C MAE:0.03011\n",
            " \n",
            "Fitting regression for RC-G-G\n"
          ]
        },
        {
          "name": "stderr",
          "output_type": "stream",
          "text": [
            "Feature Extraction: 100%|██████████| 25/25 [00:11<00:00,  2.18it/s]\n",
            "Feature Extraction: 100%|██████████| 25/25 [00:03<00:00,  7.88it/s]\n"
          ]
        },
        {
          "name": "stdout",
          "output_type": "stream",
          "text": [
            "MAE:23.81\n",
            "R1 MAE:48.13\n",
            "C1 MAE:7.824e-06\n",
            "R_g1 MAE:4.712\n",
            "t_g1 MAE:3.469\n",
            "R_g2 MAE:47.68\n",
            "t_g2 MAE:38.89\n",
            " \n",
            "Fitting regression for RC-RC-RCPE-RCPE\n"
          ]
        },
        {
          "name": "stderr",
          "output_type": "stream",
          "text": [
            "Feature Extraction: 100%|██████████| 25/25 [00:11<00:00,  2.11it/s]\n",
            "Feature Extraction: 100%|██████████| 24/24 [00:03<00:00,  7.88it/s]\n"
          ]
        },
        {
          "name": "stdout",
          "output_type": "stream",
          "text": [
            "MAE:2.676e+04\n",
            "R1 MAE:30.49\n",
            "R2 MAE:10.5\n",
            "R3 MAE:19.26\n",
            "R4 MAE:2.676e+05\n",
            "C2 MAE:1.275e-05\n",
            "CPE3_C MAE:0.0003576\n",
            "CPE4_t MAE:0.1772\n",
            "CPE4_C MAE:0.5574\n",
            "C1 MAE:1.655e-16\n",
            "CPE3_t MAE:8.345e-08\n",
            " \n",
            "Fitting regression for RCPE-RCPE\n"
          ]
        },
        {
          "name": "stderr",
          "output_type": "stream",
          "text": [
            "Feature Extraction: 100%|██████████| 25/25 [00:10<00:00,  2.28it/s]\n",
            "Feature Extraction: 100%|██████████| 25/25 [00:03<00:00,  8.19it/s]\n"
          ]
        },
        {
          "name": "stdout",
          "output_type": "stream",
          "text": [
            "MAE:6591\n",
            "R1 MAE:25.56\n",
            "R2 MAE:3.952e+04\n",
            "CPE1_t MAE:0.13\n",
            "CPE1_C MAE:0.001357\n",
            "CPE2_t MAE:0.02696\n",
            "CPE2_C MAE:0.009517\n",
            " \n",
            "Fitting regression for RCPE-RCPE-RCPE\n"
          ]
        },
        {
          "name": "stderr",
          "output_type": "stream",
          "text": [
            "Feature Extraction: 100%|██████████| 25/25 [00:12<00:00,  2.06it/s]\n",
            "Feature Extraction: 100%|██████████| 24/24 [00:03<00:00,  7.64it/s]\n"
          ]
        },
        {
          "name": "stdout",
          "output_type": "stream",
          "text": [
            "MAE:1.163e+04\n",
            "R1 MAE:13.13\n",
            "R2 MAE:524.1\n",
            "R3 MAE:1.041e+05\n",
            "CPE1_t MAE:0.1552\n",
            "CPE1_C MAE:2.6e-06\n",
            "CPE2_t MAE:0.1261\n",
            "CPE2_C MAE:0.0001472\n",
            "CPE3_t MAE:0.1148\n",
            "CPE3_C MAE:0.2097\n",
            " \n",
            "Fitting regression for RCPE-RCPE-RCPE-RCPE\n"
          ]
        },
        {
          "name": "stderr",
          "output_type": "stream",
          "text": [
            "Feature Extraction: 100%|██████████| 25/25 [00:12<00:00,  2.08it/s]\n",
            "Feature Extraction: 100%|██████████| 25/25 [00:02<00:00,  8.63it/s]\n"
          ]
        },
        {
          "name": "stdout",
          "output_type": "stream",
          "text": [
            "MAE:1.295e+04\n",
            "R1 MAE:39.91\n",
            "R2 MAE:184\n",
            "R3 MAE:2764\n",
            "R4 MAE:1.525e+05\n",
            "CPE1_t MAE:0.1356\n",
            "CPE1_C MAE:0.0002899\n",
            "CPE2_t MAE:0.1262\n",
            "CPE2_C MAE:0.001822\n",
            "CPE3_t MAE:0.1058\n",
            "CPE3_C MAE:0.00671\n",
            "CPE4_t MAE:0.1053\n",
            "CPE4_C MAE:0.03056\n",
            " \n",
            "Fitting regression for Rs_Ws\n"
          ]
        },
        {
          "name": "stderr",
          "output_type": "stream",
          "text": [
            "Feature Extraction: 100%|██████████| 25/25 [00:04<00:00,  6.01it/s]\n",
            "Feature Extraction: 100%|██████████| 24/24 [00:01<00:00, 20.91it/s]\n"
          ]
        },
        {
          "name": "stdout",
          "output_type": "stream",
          "text": [
            "MAE:117.4\n",
            "R1 MAE:16.34\n",
            "W1_R MAE:259.2\n",
            "W1_T MAE:194\n",
            "W1_p MAE:0.08118\n",
            " \n",
            "Fitting regression for L-R-RCPE\n"
          ]
        },
        {
          "name": "stderr",
          "output_type": "stream",
          "text": [
            "Feature Extraction: 100%|██████████| 25/25 [00:11<00:00,  2.21it/s]\n",
            "Feature Extraction: 100%|██████████| 25/25 [00:02<00:00,  8.45it/s]\n"
          ]
        },
        {
          "name": "stdout",
          "output_type": "stream",
          "text": [
            "MAE:5399\n",
            "L1 MAE:9.45e-07\n",
            "R1 MAE:36.9\n",
            "R2 MAE:2.696e+04\n",
            "CPE1_t MAE:0.01481\n",
            "CPE1_C MAE:0.003592\n",
            " \n",
            "Fitting regression for L-R-RCPE-RCPE\n"
          ]
        },
        {
          "name": "stderr",
          "output_type": "stream",
          "text": [
            "Feature Extraction: 100%|██████████| 25/25 [00:12<00:00,  1.97it/s]\n",
            "Feature Extraction: 100%|██████████| 25/25 [00:02<00:00,  9.07it/s]\n"
          ]
        },
        {
          "name": "stdout",
          "output_type": "stream",
          "text": [
            "MAE:5293\n",
            "L1 MAE:1.113e-06\n",
            "R1 MAE:37.9\n",
            "R2 MAE:343.1\n",
            "CPE1_t MAE:0.1292\n",
            "CPE1_C MAE:2.588e-06\n",
            "R3 MAE:4.196e+04\n",
            "CPE2_t MAE:0.02892\n",
            "CPE2_C MAE:0.006956\n",
            " \n",
            "Fitting regression for L-R-RCPE-RCPE-RCPE\n"
          ]
        },
        {
          "name": "stderr",
          "output_type": "stream",
          "text": [
            "Feature Extraction: 100%|██████████| 25/25 [00:11<00:00,  2.16it/s]\n",
            "Feature Extraction: 100%|██████████| 25/25 [00:03<00:00,  8.29it/s]\n"
          ]
        },
        {
          "name": "stdout",
          "output_type": "stream",
          "text": [
            "MAE:8707\n",
            "L1 MAE:1.348e-06\n",
            "R1 MAE:40.18\n",
            "R2 MAE:172.8\n",
            "CPE1_t MAE:0.1399\n",
            "CPE1_C MAE:2.201e-06\n",
            "R3 MAE:1802\n",
            "CPE2_t MAE:0.1003\n",
            "CPE2_C MAE:0.0005581\n",
            "R4 MAE:9.376e+04\n",
            "CPE3_t MAE:0.08379\n",
            "CPE3_C MAE:0.01813\n",
            " \n",
            "Fitting regression for RC-G-G\n"
          ]
        },
        {
          "name": "stderr",
          "output_type": "stream",
          "text": [
            "Feature Extraction: 100%|██████████| 25/25 [00:11<00:00,  2.23it/s]\n",
            "Feature Extraction: 100%|██████████| 25/25 [00:03<00:00,  7.67it/s]\n"
          ]
        },
        {
          "name": "stdout",
          "output_type": "stream",
          "text": [
            "MAE:20.18\n",
            "R1 MAE:52.72\n",
            "C1 MAE:7.382e-06\n",
            "R_g1 MAE:1.802\n",
            "t_g1 MAE:0.6133\n",
            "R_g2 MAE:50.22\n",
            "t_g2 MAE:15.71\n",
            " \n",
            "Fitting regression for RC-RC-RCPE-RCPE\n"
          ]
        },
        {
          "name": "stderr",
          "output_type": "stream",
          "text": [
            "Feature Extraction: 100%|██████████| 25/25 [00:11<00:00,  2.12it/s]\n",
            "Feature Extraction: 100%|██████████| 24/24 [00:03<00:00,  7.92it/s]\n"
          ]
        },
        {
          "name": "stdout",
          "output_type": "stream",
          "text": [
            "MAE:7026\n",
            "R1 MAE:3.329\n",
            "R2 MAE:6.235\n",
            "R3 MAE:4.824\n",
            "R4 MAE:7.024e+04\n",
            "C2 MAE:6.041e-06\n",
            "CPE3_C MAE:5.518e-05\n",
            "CPE4_t MAE:0.07772\n",
            "CPE4_C MAE:0.1724\n",
            "C1 MAE:5.656e-17\n",
            "CPE3_t MAE:2.384e-08\n",
            " \n",
            "Fitting regression for RCPE-RCPE\n"
          ]
        },
        {
          "name": "stderr",
          "output_type": "stream",
          "text": [
            "Feature Extraction: 100%|██████████| 25/25 [00:11<00:00,  2.26it/s]\n",
            "Feature Extraction: 100%|██████████| 25/25 [00:03<00:00,  7.95it/s]\n"
          ]
        },
        {
          "name": "stdout",
          "output_type": "stream",
          "text": [
            "MAE:3913\n",
            "R1 MAE:32.88\n",
            "R2 MAE:2.344e+04\n",
            "CPE1_t MAE:0.1267\n",
            "CPE1_C MAE:0.001578\n",
            "CPE2_t MAE:0.02905\n",
            "CPE2_C MAE:0.004972\n",
            " \n",
            "Fitting regression for RCPE-RCPE-RCPE\n"
          ]
        },
        {
          "name": "stderr",
          "output_type": "stream",
          "text": [
            "Feature Extraction: 100%|██████████| 25/25 [00:11<00:00,  2.12it/s]\n",
            "Feature Extraction: 100%|██████████| 24/24 [00:03<00:00,  7.93it/s]\n"
          ]
        },
        {
          "name": "stdout",
          "output_type": "stream",
          "text": [
            "MAE:8284\n",
            "R1 MAE:11.59\n",
            "R2 MAE:306\n",
            "R3 MAE:7.424e+04\n",
            "CPE1_t MAE:0.14\n",
            "CPE1_C MAE:1.745e-06\n",
            "CPE2_t MAE:0.11\n",
            "CPE2_C MAE:5.111e-05\n",
            "CPE3_t MAE:0.04714\n",
            "CPE3_C MAE:0.01502\n",
            " \n",
            "Fitting regression for RCPE-RCPE-RCPE-RCPE\n"
          ]
        },
        {
          "name": "stderr",
          "output_type": "stream",
          "text": [
            "Feature Extraction: 100%|██████████| 25/25 [00:11<00:00,  2.13it/s]\n",
            "Feature Extraction: 100%|██████████| 25/25 [00:02<00:00,  8.45it/s]\n"
          ]
        },
        {
          "name": "stdout",
          "output_type": "stream",
          "text": [
            "MAE:7052\n",
            "R1 MAE:37.37\n",
            "R2 MAE:135.9\n",
            "R3 MAE:2292\n",
            "R4 MAE:8.216e+04\n",
            "CPE1_t MAE:0.1402\n",
            "CPE1_C MAE:4.561e-07\n",
            "CPE2_t MAE:0.1345\n",
            "CPE2_C MAE:0.0008815\n",
            "CPE3_t MAE:0.1049\n",
            "CPE3_C MAE:0.003621\n",
            "CPE4_t MAE:0.1059\n",
            "CPE4_C MAE:0.02042\n",
            " \n",
            "Fitting regression for Rs_Ws\n"
          ]
        },
        {
          "name": "stderr",
          "output_type": "stream",
          "text": [
            "Feature Extraction: 100%|██████████| 25/25 [00:04<00:00,  5.85it/s]\n",
            "Feature Extraction: 100%|██████████| 24/24 [00:01<00:00, 20.86it/s]\n"
          ]
        },
        {
          "name": "stdout",
          "output_type": "stream",
          "text": [
            "MAE:120.8\n",
            "R1 MAE:26.31\n",
            "W1_R MAE:240\n",
            "W1_T MAE:216.6\n",
            "W1_p MAE:0.08077\n",
            " \n",
            "Fitting regression for L-R-RCPE\n"
          ]
        },
        {
          "name": "stderr",
          "output_type": "stream",
          "text": [
            "Feature Extraction: 100%|██████████| 25/25 [00:11<00:00,  2.22it/s]\n",
            "/Users/joachim/opt/anaconda3/envs/eis-battmen/lib/python3.7/site-packages/sklearn/utils/deprecation.py:103: FutureWarning: `n_features_in_` is deprecated in 1.0 and will be removed in 1.2.\n",
            "  warnings.warn(msg, category=FutureWarning)\n",
            "Feature Extraction: 100%|██████████| 25/25 [00:02<00:00,  8.67it/s]\n"
          ]
        },
        {
          "name": "stdout",
          "output_type": "stream",
          "text": [
            "MAE:7851\n",
            "L1 MAE:1.608e-06\n",
            "R1 MAE:45.85\n",
            "R2 MAE:3.921e+04\n",
            "CPE1_t MAE:0.1172\n",
            "CPE1_C MAE:0.004674\n",
            " \n",
            "Fitting regression for L-R-RCPE-RCPE\n"
          ]
        },
        {
          "name": "stderr",
          "output_type": "stream",
          "text": [
            "Feature Extraction: 100%|██████████| 25/25 [00:12<00:00,  2.07it/s]\n",
            "/Users/joachim/opt/anaconda3/envs/eis-battmen/lib/python3.7/site-packages/sklearn/utils/deprecation.py:103: FutureWarning: `n_features_in_` is deprecated in 1.0 and will be removed in 1.2.\n",
            "  warnings.warn(msg, category=FutureWarning)\n",
            "Feature Extraction: 100%|██████████| 25/25 [00:02<00:00,  8.62it/s]\n"
          ]
        },
        {
          "name": "stdout",
          "output_type": "stream",
          "text": [
            "MAE:5403\n",
            "L1 MAE:1.489e-06\n",
            "R1 MAE:37.1\n",
            "R2 MAE:392.5\n",
            "CPE1_t MAE:0.1238\n",
            "CPE1_C MAE:1.873e-06\n",
            "R3 MAE:4.279e+04\n",
            "CPE2_t MAE:0.136\n",
            "CPE2_C MAE:0.01465\n",
            " \n",
            "Fitting regression for L-R-RCPE-RCPE-RCPE\n"
          ]
        },
        {
          "name": "stderr",
          "output_type": "stream",
          "text": [
            "Feature Extraction: 100%|██████████| 25/25 [00:11<00:00,  2.11it/s]\n",
            "/Users/joachim/opt/anaconda3/envs/eis-battmen/lib/python3.7/site-packages/sklearn/utils/deprecation.py:103: FutureWarning: `n_features_in_` is deprecated in 1.0 and will be removed in 1.2.\n",
            "  warnings.warn(msg, category=FutureWarning)\n",
            "Feature Extraction: 100%|██████████| 25/25 [00:03<00:00,  8.06it/s]\n"
          ]
        },
        {
          "name": "stdout",
          "output_type": "stream",
          "text": [
            "MAE:9237\n",
            "L1 MAE:1.409e-06\n",
            "R1 MAE:36.85\n",
            "R2 MAE:190\n",
            "CPE1_t MAE:0.1316\n",
            "CPE1_C MAE:1.773e-06\n",
            "R3 MAE:2706\n",
            "CPE2_t MAE:0.1359\n",
            "CPE2_C MAE:0.0005893\n",
            "R4 MAE:9.868e+04\n",
            "CPE3_t MAE:0.1259\n",
            "CPE3_C MAE:0.03194\n",
            " \n",
            "Fitting regression for RC-G-G\n"
          ]
        },
        {
          "name": "stderr",
          "output_type": "stream",
          "text": [
            "Feature Extraction: 100%|██████████| 25/25 [00:11<00:00,  2.13it/s]\n",
            "/Users/joachim/opt/anaconda3/envs/eis-battmen/lib/python3.7/site-packages/sklearn/utils/deprecation.py:103: FutureWarning: `n_features_in_` is deprecated in 1.0 and will be removed in 1.2.\n",
            "  warnings.warn(msg, category=FutureWarning)\n",
            "Feature Extraction: 100%|██████████| 25/25 [00:03<00:00,  8.11it/s]\n"
          ]
        },
        {
          "name": "stdout",
          "output_type": "stream",
          "text": [
            "MAE:19.87\n",
            "R1 MAE:51.82\n",
            "C1 MAE:5.383e-06\n",
            "R_g1 MAE:1.801\n",
            "t_g1 MAE:0.6123\n",
            "R_g2 MAE:48.34\n",
            "t_g2 MAE:16.65\n",
            " \n",
            "Fitting regression for RC-RC-RCPE-RCPE\n"
          ]
        },
        {
          "name": "stderr",
          "output_type": "stream",
          "text": [
            "Feature Extraction: 100%|██████████| 25/25 [00:12<00:00,  2.06it/s]\n",
            "/Users/joachim/opt/anaconda3/envs/eis-battmen/lib/python3.7/site-packages/sklearn/utils/deprecation.py:103: FutureWarning: `n_features_in_` is deprecated in 1.0 and will be removed in 1.2.\n",
            "  warnings.warn(msg, category=FutureWarning)\n",
            "Feature Extraction: 100%|██████████| 24/24 [00:03<00:00,  7.89it/s]\n"
          ]
        },
        {
          "name": "stdout",
          "output_type": "stream",
          "text": [
            "MAE:6929\n",
            "R1 MAE:28.81\n",
            "R2 MAE:8.982\n",
            "R3 MAE:34.96\n",
            "R4 MAE:6.921e+04\n",
            "C2 MAE:8.525e-06\n",
            "CPE3_C MAE:0.0001284\n",
            "CPE4_t MAE:0.1572\n",
            "CPE4_C MAE:0.4308\n",
            "C1 MAE:0\n",
            "CPE3_t MAE:0\n",
            " \n",
            "Fitting regression for RCPE-RCPE\n"
          ]
        },
        {
          "name": "stderr",
          "output_type": "stream",
          "text": [
            "Feature Extraction: 100%|██████████| 25/25 [00:11<00:00,  2.25it/s]\n",
            "/Users/joachim/opt/anaconda3/envs/eis-battmen/lib/python3.7/site-packages/sklearn/utils/deprecation.py:103: FutureWarning: `n_features_in_` is deprecated in 1.0 and will be removed in 1.2.\n",
            "  warnings.warn(msg, category=FutureWarning)\n",
            "Feature Extraction: 100%|██████████| 25/25 [00:02<00:00,  8.45it/s]\n"
          ]
        },
        {
          "name": "stdout",
          "output_type": "stream",
          "text": [
            "MAE:6192\n",
            "R1 MAE:42.37\n",
            "R2 MAE:3.711e+04\n",
            "CPE1_t MAE:0.1199\n",
            "CPE1_C MAE:0.00116\n",
            "CPE2_t MAE:0.1264\n",
            "CPE2_C MAE:0.0123\n",
            " \n",
            "Fitting regression for RCPE-RCPE-RCPE\n"
          ]
        },
        {
          "name": "stderr",
          "output_type": "stream",
          "text": [
            "Feature Extraction: 100%|██████████| 25/25 [00:11<00:00,  2.11it/s]\n",
            "/Users/joachim/opt/anaconda3/envs/eis-battmen/lib/python3.7/site-packages/sklearn/utils/deprecation.py:103: FutureWarning: `n_features_in_` is deprecated in 1.0 and will be removed in 1.2.\n",
            "  warnings.warn(msg, category=FutureWarning)\n",
            "Feature Extraction: 100%|██████████| 24/24 [00:03<00:00,  7.61it/s]\n"
          ]
        },
        {
          "name": "stdout",
          "output_type": "stream",
          "text": [
            "MAE:8196\n",
            "R1 MAE:11.95\n",
            "R2 MAE:328.6\n",
            "R3 MAE:7.343e+04\n",
            "CPE1_t MAE:0.1251\n",
            "CPE1_C MAE:1.741e-06\n",
            "CPE2_t MAE:0.1273\n",
            "CPE2_C MAE:5.95e-05\n",
            "CPE3_t MAE:0.1226\n",
            "CPE3_C MAE:0.02729\n",
            " \n",
            "Fitting regression for RCPE-RCPE-RCPE-RCPE\n"
          ]
        },
        {
          "name": "stderr",
          "output_type": "stream",
          "text": [
            "Feature Extraction: 100%|██████████| 25/25 [00:12<00:00,  2.04it/s]\n",
            "/Users/joachim/opt/anaconda3/envs/eis-battmen/lib/python3.7/site-packages/sklearn/utils/deprecation.py:103: FutureWarning: `n_features_in_` is deprecated in 1.0 and will be removed in 1.2.\n",
            "  warnings.warn(msg, category=FutureWarning)\n",
            "Feature Extraction: 100%|██████████| 25/25 [00:03<00:00,  8.31it/s]\n"
          ]
        },
        {
          "name": "stdout",
          "output_type": "stream",
          "text": [
            "MAE:7764\n",
            "R1 MAE:39.29\n",
            "R2 MAE:137.5\n",
            "R3 MAE:2503\n",
            "R4 MAE:9.049e+04\n",
            "CPE1_t MAE:0.1298\n",
            "CPE1_C MAE:4.552e-07\n",
            "CPE2_t MAE:0.1308\n",
            "CPE2_C MAE:0.0008804\n",
            "CPE3_t MAE:0.1294\n",
            "CPE3_C MAE:0.003501\n",
            "CPE4_t MAE:0.1297\n",
            "CPE4_C MAE:0.02773\n",
            " \n",
            "Fitting regression for Rs_Ws\n"
          ]
        },
        {
          "name": "stderr",
          "output_type": "stream",
          "text": [
            "Feature Extraction: 100%|██████████| 25/25 [00:04<00:00,  5.93it/s]\n",
            "/Users/joachim/opt/anaconda3/envs/eis-battmen/lib/python3.7/site-packages/sklearn/utils/deprecation.py:103: FutureWarning: `n_features_in_` is deprecated in 1.0 and will be removed in 1.2.\n",
            "  warnings.warn(msg, category=FutureWarning)\n",
            "Feature Extraction: 100%|██████████| 24/24 [00:01<00:00, 21.06it/s]\n"
          ]
        },
        {
          "name": "stdout",
          "output_type": "stream",
          "text": [
            "MAE:268.2\n",
            "R1 MAE:100.4\n",
            "W1_R MAE:783\n",
            "W1_T MAE:188.6\n",
            "W1_p MAE:0.9692\n"
          ]
        }
      ],
      "source": [
        "predictions_xg, y_true, ppls_xg, circuit_str = ecm_regression(use_dummy=False, quantile=False)\n",
        "predictions_xgt, y_true, ppls_xgt, circuit_str = ecm_regression(use_dummy=False, quantile=True)\n",
        "predictions_d, y_true, ppls_d, circuit_str = ecm_regression(use_dummy=True, quantile=False)"
      ]
    },
    {
      "cell_type": "code",
      "execution_count": 11,
      "metadata": {},
      "outputs": [],
      "source": [
        "def MAE_loss(y_true, y_pred):\n",
        "    return np.mean(np.abs(y_true - y_pred))\n",
        "\n",
        "def parse_mae(predictions, y_true, circuit_str, model_names, save=False, save_path=None):\n",
        "    results = []\n",
        "    k = 0\n",
        "    for i in range(len(predictions[0])):\n",
        "        for j, col in enumerate(predictions[0][i].columns):\n",
        "            mae_test_element = []\n",
        "            for prediction in predictions:\n",
        "                mae_test_element.append(MAE_loss(y_true[i][col], prediction[i][col]))\n",
        "            res_element = [circuit_str[k], col] + mae_test_element\n",
        "            results.append(res_element)\n",
        "            k += 1\n",
        "    if save:\n",
        "        # Save results to csv\n",
        "        results_df = pd.DataFrame(results, columns=['Circuit', 'Parameter'] + model_names)\n",
        "        results_df.to_csv(save_path+'results.csv', index=False)\n",
        "    return results, results_df"
      ]
    },
    {
      "cell_type": "code",
      "execution_count": 12,
      "metadata": {},
      "outputs": [],
      "source": [
        "model_names = ['Dummy', 'tsfresh-XGBoost', 'tsfresh-XGBoost-Quantile']\n",
        "results_xg, results_df = parse_mae([predictions_d, predictions_xg, predictions_xgt], y_true, circuit_str, model_names, save=True, save_path='reg-')"
      ]
    },
    {
      "cell_type": "code",
      "execution_count": 13,
      "metadata": {},
      "outputs": [],
      "source": [
        "results_df.to_latex('reg-results.tex', index=False)"
      ]
    }
  ],
  "metadata": {
    "colab": {
      "collapsed_sections": [],
      "provenance": []
    },
    "kernelspec": {
      "display_name": "Python 3.7.13",
      "language": "python",
      "name": "python3"
    },
    "language_info": {
      "codemirror_mode": {
        "name": "ipython",
        "version": 3
      },
      "file_extension": ".py",
      "mimetype": "text/x-python",
      "name": "python",
      "nbconvert_exporter": "python",
      "pygments_lexer": "ipython3",
      "version": "3.7.13"
    },
    "vscode": {
      "interpreter": {
        "hash": "db3441f3efc18b286252faba8848b9af7d49db2dc5505bf705b457c48ff7d418"
      }
    }
  },
  "nbformat": 4,
  "nbformat_minor": 0
}
