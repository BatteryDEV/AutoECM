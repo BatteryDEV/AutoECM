{
  "cells": [
    {
      "cell_type": "code",
      "execution_count": null,
      "metadata": {
        "id": "AICoXl_RvHhE"
      },
      "outputs": [],
      "source": [
        "# Comment: You might need to move this file to the root directory of the project to run it.\n",
        "import numpy as np\n",
        "import pandas as pd\n",
        "from pandas.core.frame import DataFrame\n",
        "\n",
        "from scipy.interpolate import interp1d\n",
        "\n",
        "from sklearn.pipeline import Pipeline\n",
        "from sklearn.multioutput import MultiOutputRegressor\n",
        "from sklearn.compose import TransformedTargetRegressor\n",
        "from sklearn.preprocessing import QuantileTransformer, PowerTransformer\n",
        "from sklearn.dummy import DummyRegressor\n",
        "from sklearn.model_selection import train_test_split\n",
        "from sklearn.metrics import mean_absolute_error\n",
        "import matplotlib.pyplot as plt\n",
        "import seaborn as sns\n",
        "\n",
        "import xgboost as xgb\n",
        "\n",
        "from tsfresh.transformers import RelevantFeatureAugmenter, FeatureAugmenter\n",
        "from tsfresh import extract_relevant_features\n",
        "from tsfresh.utilities.dataframe_functions import impute\n",
        "from tsfresh.feature_extraction import ComprehensiveFCParameters, MinimalFCParameters\n",
        "\n",
        "from typing import Dict, Any\n",
        "import numpy as np\n",
        "import pandas as pd\n",
        "from functools import partial\n",
        "\n",
        "from utils_preprocessing import parse_circuit_params_from_str\n",
        "from utils_preprocessing import preprocess_data\n",
        "from utils_preprocessing import unwrap_df"
      ]
    },
    {
      "cell_type": "markdown",
      "metadata": {
        "id": "Bqeoq-k1wjIZ"
      },
      "source": [
        "Function definitions:"
      ]
    },
    {
      "cell_type": "code",
      "execution_count": null,
      "metadata": {
        "id": "zOmjfJC0wdYC"
      },
      "outputs": [],
      "source": [
        "def parse_circuit_params_from_str(params_str: str) -> Dict[str, float]:\n",
        "    return {item.split(\":\")[0].strip(): float(item.split(\":\")[1].strip()) for item in params_str.split(\",\")}\n",
        "    \n",
        "def process_batch_element_params(Parameters):\n",
        "    Params = parse_circuit_params_from_str(Parameters)\n",
        "    return np.array(list(Params.values()))\n",
        "\n",
        "def process_batch_element_params_str(Parameters):\n",
        "    Params = parse_circuit_params_from_str(Parameters)\n",
        "    return np.array(list(Params.keys()))"
      ]
    },
    {
      "cell_type": "markdown",
      "metadata": {
        "id": "v47MMAvGvi7B"
      },
      "source": [
        "Process data:"
      ]
    },
    {
      "cell_type": "code",
      "execution_count": null,
      "metadata": {
        "id": "ngMLlDbBwoFZ"
      },
      "outputs": [],
      "source": [
        "df = preprocess_data(\"./data/train_data.csv\")\n",
        "df_test = preprocess_data(\"./data/test_data.csv\")\n",
        "\n",
        "df[\"param_strs\"] = df.apply(lambda x: process_batch_element_params_str(x.Parameters), axis=1)\n",
        "df[\"param_values\"] = df.apply(lambda x: process_batch_element_params(x.Parameters), axis=1)\n",
        "\n",
        "df_test[\"param_strs\"] = df_test.apply(lambda x: process_batch_element_params_str(x.Parameters), axis=1)\n",
        "df_test[\"param_values\"] = df_test.apply(lambda x: process_batch_element_params(x.Parameters), axis=1)\n"
      ]
    },
    {
      "cell_type": "markdown",
      "metadata": {
        "id": "92LlvjZCwx6f"
      },
      "source": [
        "For tsfresh we need to 'unwrap' all the measurements into a dataframe with measurement ids, freq, zreal, and zimag columns"
      ]
    },
    {
      "cell_type": "code",
      "execution_count": null,
      "metadata": {
        "colab": {
          "base_uri": "https://localhost:8080/"
        },
        "id": "leqApmRcwyOW",
        "outputId": "3995911d-8768-4437-9350-da2f8d12b349"
      },
      "outputs": [],
      "source": [
        "df_ts = unwrap_df(df)\n",
        "df_ts.shape, len(np.unique(df_ts[\"id\"]))\n",
        "\n",
        "df_ts_test = unwrap_df(df_test)\n",
        "df_ts_test.shape, len(np.unique(df_ts_test[\"id\"]))"
      ]
    },
    {
      "cell_type": "markdown",
      "metadata": {
        "id": "-FfI_fgHbQkE"
      },
      "source": [
        "Train a model for each class of circuit"
      ]
    },
    {
      "cell_type": "code",
      "execution_count": null,
      "metadata": {
        "colab": {
          "base_uri": "https://localhost:8080/"
        },
        "id": "lB3brGp6bG6o",
        "outputId": "798418b6-b516-48c2-c9df-f6cb798c02d0"
      },
      "outputs": [],
      "source": [
        "circuits = np.unique(df[\"Circuit\"])\n",
        "circuits"
      ]
    },
    {
      "cell_type": "code",
      "execution_count": null,
      "metadata": {
        "colab": {
          "base_uri": "https://localhost:8080/"
        },
        "id": "1IfHpF-Hw2q6",
        "outputId": "a4a5e44e-e6c5-4ad4-9999-a76145c6c018"
      },
      "outputs": [],
      "source": [
        "dfs = list()\n",
        "dfs_test = list()\n",
        "for i in np.arange(len(circuits)):\n",
        "  dfs.append(df[df[\"Circuit\"] == circuits[i]])\n",
        "  dfs_test.append(df_test[df_test[\"Circuit\"] == circuits[i]])\n",
        "dfs[0].head()"
      ]
    },
    {
      "cell_type": "code",
      "execution_count": null,
      "metadata": {},
      "outputs": [],
      "source": [
        "circuit_str = []\n",
        "for i in range(len(circuits)):\n",
        "    for j in range(len(dfs[i][\"param_strs\"].iloc[0])):\n",
        "        if j==0: \n",
        "            circuit_str.append(circuits[i])\n",
        "        else: \n",
        "            circuit_str.append(\"\")"
      ]
    },
    {
      "cell_type": "code",
      "execution_count": null,
      "metadata": {},
      "outputs": [],
      "source": [
        "df_ = dfs[0]\n",
        "df_y = pd.DataFrame(df_['param_values'].to_list(), columns=df_[\"param_strs\"].loc[df_.index[0]])"
      ]
    },
    {
      "cell_type": "code",
      "execution_count": null,
      "metadata": {},
      "outputs": [],
      "source": [
        "def ecm_regression(use_dummy=False, quantile=False, relevant=False):\n",
        "    ppls = list()\n",
        "    param_values_pred = list(range(df.shape[0]))\n",
        "    predictions = []\n",
        "    y_true = []\n",
        "    circuit_str = []\n",
        "    for i, [df_, df_test_] in enumerate(zip(dfs, dfs_test)):\n",
        "        print(\" \")\n",
        "        print(\"Fitting regression for %s\" % df_[\"Circuit\"].loc[df_.index[0]])\n",
        "        df_ts_ = df_ts[df_ts[\"id\"].isin(df_.index)]\n",
        "        df_ts_test_ = df_ts_test[df_ts_test[\"id\"].isin(df_test[df_test[\"Circuit\"] == df_[\"Circuit\"].loc[df_.index[0]]].index)]\n",
        "        X_train = pd.DataFrame(index=np.unique(df_ts_[\"id\"]))\n",
        "        y_train = pd.DataFrame(df_['param_values'].to_list(), columns=df_[\"param_strs\"].loc[df_.index[0]])\n",
        "        X_test = pd.DataFrame(index=np.unique(df_ts_test_[\"id\"]))\n",
        "        y_test = pd.DataFrame(df_test_['param_values'].to_list(), columns=df_test_[\"param_strs\"].loc[df_test_.index[0]])\n",
        "        # transformer mask, tell the transformer which parameters to skip over\n",
        "        mask = [n for n, x in enumerate(df_[\"param_strs\"].loc[df_.index[0]]) if '_t' in x]\n",
        "        if not use_dummy:\n",
        "            mdl = MultiOutputRegressor(estimator=xgb.XGBRegressor(random_state=42))\n",
        "        else: \n",
        "            mdl = MultiOutputRegressor(estimator=DummyRegressor(strategy='median'))\n",
        "\n",
        "        if quantile:\n",
        "            regr = TransformedTargetRegressor(regressor=mdl,\n",
        "                                                transformer=QuantileTransformer(n_quantiles=10, random_state=0))\n",
        "                                                #transformer=PowerTransformer())\n",
        "        else:\n",
        "            regr = mdl\n",
        "\n",
        "        if relevant:\n",
        "            ppl = Pipeline([\n",
        "                    ('augmenter', RelevantFeatureAugmenter(column_id='id', column_sort='freq', default_fc_parameters=ComprehensiveFCParameters())),\n",
        "                    ('regressor', regr)\n",
        "                ])\n",
        "        else:\n",
        "            ppl = Pipeline([\n",
        "                    ('augmenter', FeatureAugmenter(column_id='id', column_sort='freq', default_fc_parameters=ComprehensiveFCParameters())),\n",
        "                    ('regressor', regr)\n",
        "                ])\n",
        "        ppl.set_params(augmenter__timeseries_container=df_ts_);\n",
        "        ppl.fit(X_train, y_train)\n",
        "        ppl.set_params(augmenter__timeseries_container=df_ts_test_);\n",
        "        y_pred = ppl.predict(X_test)\n",
        "        y_pred_df = pd.DataFrame(y_pred, columns=df_test_[\"param_strs\"].loc[df_test_.index[0]])\n",
        "        y_true_df = pd.DataFrame(y_test, columns=df_test_[\"param_strs\"].loc[df_test_.index[0]])\n",
        "        predictions.append(y_pred_df)\n",
        "        y_true.append(y_true_df)\n",
        "        print(\"MAE:%.4g\" % mean_absolute_error(y_test, y_pred))\n",
        "        p_strs = df_[\"param_strs\"].loc[df_.index[0]]\n",
        "        for j in np.arange(len(p_strs)):\n",
        "            print(\"%s MAE:%.4g\" % (p_strs[j], mean_absolute_error(y_test[p_strs[j]], y_pred[:,j])))\n",
        "            if j==0: \n",
        "                circuit_str.append(circuits[i])\n",
        "            else: \n",
        "                circuit_str.append(\"\")\n",
        "        ppls.append(ppl)\n",
        "        #for idx, i in zip(df_.index, np.arange(y_pred.shape[0])):\n",
        "            #param_values_pred[idx] = y_pred[i,:]\n",
        "    return predictions, y_true, ppls, circuit_str"
      ]
    },
    {
      "cell_type": "code",
      "execution_count": null,
      "metadata": {},
      "outputs": [],
      "source": [
        "predictions_xg, y_true, ppls_xg, circuit_str = ecm_regression(use_dummy=False, quantile=False)\n",
        "predictions_xgt, y_true, ppls_xgt, circuit_str = ecm_regression(use_dummy=False, quantile=True)\n",
        "predictions_d, y_true, ppls_d, circuit_str = ecm_regression(use_dummy=True, quantile=False)"
      ]
    },
    {
      "cell_type": "code",
      "execution_count": null,
      "metadata": {},
      "outputs": [],
      "source": [
        "def MAE_loss(y_true, y_pred):\n",
        "    return np.mean(np.abs(y_true - y_pred))\n",
        "\n",
        "def parse_mae(predictions, y_true, circuit_str, model_names, save=False, save_path=None):\n",
        "    results = []\n",
        "    k = 0\n",
        "    for i in range(len(predictions[0])):\n",
        "        for j, col in enumerate(predictions[0][i].columns):\n",
        "            mae_test_element = []\n",
        "            for prediction in predictions:\n",
        "                mae_test_element.append(MAE_loss(y_true[i][col], prediction[i][col]))\n",
        "            res_element = [circuit_str[k], col] + mae_test_element\n",
        "            results.append(res_element)\n",
        "            k += 1\n",
        "    if save:\n",
        "        # Save results to csv\n",
        "        results_df = pd.DataFrame(results, columns=['Circuit', 'Parameter'] + model_names)\n",
        "        results_df.to_csv(save_path+'results.csv', index=False)\n",
        "    return results, results_df"
      ]
    },
    {
      "cell_type": "code",
      "execution_count": null,
      "metadata": {},
      "outputs": [],
      "source": [
        "model_names = ['Dummy', 'tsfresh-XGBoost', 'tsfresh-XGBoost-Quantile']\n",
        "results_xg, results_df = parse_mae([predictions_d, predictions_xg, predictions_xgt], y_true, circuit_str, model_names, save=True, save_path='reg-')"
      ]
    },
    {
      "cell_type": "code",
      "execution_count": null,
      "metadata": {},
      "outputs": [],
      "source": [
        "results_df.to_latex('reg-results.tex', index=False)"
      ]
    }
  ],
  "metadata": {
    "colab": {
      "collapsed_sections": [],
      "provenance": []
    },
    "kernelspec": {
      "display_name": "Python 3.7.13",
      "language": "python",
      "name": "python3"
    },
    "language_info": {
      "codemirror_mode": {
        "name": "ipython",
        "version": 3
      },
      "file_extension": ".py",
      "mimetype": "text/x-python",
      "name": "python",
      "nbconvert_exporter": "python",
      "pygments_lexer": "ipython3",
      "version": "3.7.13"
    },
    "vscode": {
      "interpreter": {
        "hash": "db3441f3efc18b286252faba8848b9af7d49db2dc5505bf705b457c48ff7d418"
      }
    }
  },
  "nbformat": 4,
  "nbformat_minor": 0
}
