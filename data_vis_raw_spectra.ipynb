{
 "cells": [
  {
   "cell_type": "code",
   "execution_count": null,
   "metadata": {},
   "outputs": [],
   "source": [
    "import numpy as np\n",
    "import pandas as pd\n",
    "\n",
    "from utils_preprocessing import eis_dataframe_from_csv\n",
    "from utils_preprocessing import unwrap_z, sort_circuits\n",
    "from utils import visualize_raw_spectra\n",
    "\n",
    "# autoreload modules when code is run\n",
    "%load_ext autoreload\n",
    "%autoreload 2"
   ]
  },
  {
   "cell_type": "code",
   "execution_count": null,
   "metadata": {},
   "outputs": [],
   "source": [
    "save_figs = 1\n",
    "plot_labelled = 0\n",
    "plot_unlabelled = 0\n",
    "\n",
    "# Load the csv into a data frame.\n",
    "df = unwrap_z(eis_dataframe_from_csv(\"data/train_data_filtered.csv\"))\n",
    "df_test = unwrap_z(eis_dataframe_from_csv(\"data/test_data_filtered.csv\"))\n",
    "df_unlabelled = unwrap_z(eis_dataframe_from_csv(\"data/unlabeled_data.csv\"))\n",
    "\n",
    "df_sorted = sort_circuits(df).copy()\n",
    "df_test_sorted = sort_circuits(df_test).copy()\n",
    "\n",
    "# merege df_sorted and df_test_sorted\n",
    "df_labelled = pd.concat([df_sorted, df_test_sorted], ignore_index=True)\n",
    "# reset the index\n",
    "df_labelled = df_labelled.reset_index(drop=True)\n",
    "# sort by circuit\n",
    "df_labelled = df_labelled.sort_values(by=['Circuit'])\n",
    "\n",
    "df_unfiltered = unwrap_z(eis_dataframe_from_csv(\"data/train_data.csv\"))\n",
    "df_unfiltred_test = unwrap_z(eis_dataframe_from_csv(\"data/test_data.csv\"))"
   ]
  },
  {
   "cell_type": "code",
   "execution_count": null,
   "metadata": {},
   "outputs": [],
   "source": [
    "# Filtered out train data\n",
    "df_filtered_out_train = df_unfiltered[~df_unfiltered.index.isin(df.index)].copy()\n",
    "df_filtered_out_test = df_unfiltred_test[~df_unfiltred_test.index.isin(df_test.index)].copy()\n",
    "\n",
    "# merege df_sorted and df_test_sorted\n",
    "df_filtered_out = sort_circuits(pd.concat([df_filtered_out_train, df_filtered_out_test], ignore_index=True))"
   ]
  },
  {
   "cell_type": "code",
   "execution_count": null,
   "metadata": {},
   "outputs": [],
   "source": [
    "# Get df_filtered out for \"L-R-RCPE\" circuit\n",
    "df_filtered_out_LRRCPE = df_filtered_out[df_filtered_out['Circuit'] == 'L-R-RCPE'].copy()\n",
    "# Other circuits\n",
    "df_filtered_out_other = df_filtered_out[df_filtered_out['Circuit'] != 'L-R-RCPE'].copy()\n",
    "\n",
    "# Loop thorugh all circuits and print number of filtered out spectra \n",
    "for circuit in df_filtered_out['Circuit'].unique():\n",
    "    print(f\"{circuit}: {len(df_filtered_out[df_filtered_out['Circuit'] == circuit])}\")"
   ]
  },
  {
   "cell_type": "code",
   "execution_count": null,
   "metadata": {},
   "outputs": [],
   "source": [
    "fig = visualize_raw_spectra(\n",
    "    df_filtered_out_LRRCPE.sample(150, random_state=42).copy(), \n",
    "    show=1, \n",
    "    save_figs=save_figs, \n",
    "    row_col_ratio=1.8, \n",
    "    pdf=True, \n",
    "    fig_name=\"eis_spectra_filtered_out_LRRCPE\",\n",
    "    sup_title=\"\",\n",
    "    axis_off=False,\n",
    "    label_fontsize=20,\n",
    "    )"
   ]
  },
  {
   "cell_type": "code",
   "execution_count": null,
   "metadata": {},
   "outputs": [],
   "source": [
    "fig = visualize_raw_spectra(\n",
    "    df_filtered_out_other.copy(), \n",
    "    show=1, \n",
    "    save_figs=save_figs, \n",
    "    row_col_ratio=1.8, \n",
    "    pdf=True, \n",
    "    fig_name=\"eis_spectra_filtered_out_other\",\n",
    "    sup_title=\"\",\n",
    "    axis_off=False,\n",
    "    label_fontsize=18,\n",
    "    )"
   ]
  },
  {
   "cell_type": "code",
   "execution_count": null,
   "metadata": {},
   "outputs": [],
   "source": [
    "# Sanity check: Are any sepctra in the laballed and unlabelled dataset that are the same.\n",
    "# Get the mean of zimag\n",
    "df_labelled['z_real_mean'] = df_labelled['zreal'].apply(lambda x: np.mean(x))\n",
    "df_labelled['z_imag_mean'] = df_labelled['zimag'].apply(lambda x: np.mean(x))\n",
    "df_unlabelled['z_real_mean'] = df_unlabelled['zreal'].apply(lambda x: np.mean(x))\n",
    "df_unlabelled['z_imag_mean'] = df_unlabelled['zimag'].apply(lambda x: np.mean(x))\n",
    "\n",
    "# check if there are any spectra in the labelled and unlabelled dataset that are the same.\n",
    "test_zreal_mean = df_labelled['z_real_mean'].isin(df_unlabelled['z_real_mean'])\n",
    "print(np.sum(test_zreal_mean))\n",
    "test_zimag_mean = df_labelled['z_imag_mean'].isin(df_unlabelled['z_imag_mean']).any()\n",
    "print(np.sum(test_zimag_mean))"
   ]
  },
  {
   "cell_type": "code",
   "execution_count": null,
   "metadata": {},
   "outputs": [],
   "source": [
    "if plot_labelled:\n",
    "    # Get all unique circuits \n",
    "    circuits = df_labelled['Circuit'].unique()\n",
    "    # Loop through all circuits\n",
    "    for circuit in circuits:\n",
    "        # plot the data for the circuit\n",
    "        fig = visualize_raw_spectra(\n",
    "            df_labelled[df_labelled['Circuit'] == circuit].copy(), \n",
    "            show=1, \n",
    "            save_figs=save_figs, \n",
    "            row_col_ratio=0.6, \n",
    "            pdf=True, \n",
    "            fig_name=f\"eis_art_circuit_{circuit}\",\n",
    "            sup_title=f\"EIS Spectra: {circuit}\",\n",
    "            axis_off=False,\n",
    "            )"
   ]
  },
  {
   "cell_type": "code",
   "execution_count": null,
   "metadata": {},
   "outputs": [],
   "source": [
    "if plot_unlabelled:\n",
    "    # Visualize all the unlabelled data by looping through it in batches of 2000. \n",
    "    rows_unlabelled = df_unlabelled.shape[0]\n",
    "    iterations = int(np.ceil(rows_unlabelled/2000))\n",
    "\n",
    "    for i in range(iterations):\n",
    "        ind_low = i*2000\n",
    "        ind_high = np.min(((i+1)*2000, rows_unlabelled))\n",
    "        fig = visualize_raw_spectra(\n",
    "            df_unlabelled[ind_low:ind_high].copy(), \n",
    "            show=1, \n",
    "            save_figs=save_figs, \n",
    "            row_col_ratio=0.6, \n",
    "            pdf=True, \n",
    "            fig_name=f\"eis_art_unlabelled_{ind_low}_{ind_high}\",\n",
    "            sup_title=f\"Unlabelled EIS Spectra: {ind_low} to {ind_high}\"\n",
    "            )"
   ]
  },
  {
   "cell_type": "code",
   "execution_count": null,
   "metadata": {},
   "outputs": [],
   "source": [
    "def extract_freq_ranges_measurements_points(df):\n",
    "    df['freq_min_max'] = df['freq'].apply(lambda x: (x[0], x[-1]))\n",
    "    df['meas_count'] = df['freq'].apply(lambda x: len(x))\n",
    "\n",
    "    freq_ranges = df['freq_min_max'].unique()\n",
    "    meas_counts = np.sort(df['meas_count'].unique())\n",
    "    print(f\"freq_range {freq_ranges}\")\n",
    "    print(f\"Number of freq ranges {len(freq_ranges)}\")\n",
    "    print(f\" Meas count {meas_counts}\")\n",
    "    print(f\"Number of meas counts {len(meas_counts)}\")\n",
    "\n",
    "    # largest shared frequency range\n",
    "    freq_range = (np.max([freq_range[0] for freq_range in freq_ranges]), np.min([freq_range[1] for freq_range in freq_ranges]))\n",
    "    print(f\"Largest shared frequency range {freq_range}\")\n",
    "    return freq_ranges, meas_counts"
   ]
  },
  {
   "cell_type": "code",
   "execution_count": null,
   "metadata": {},
   "outputs": [],
   "source": [
    "print(\"Labelled data:\")\n",
    "freq_ranges_l, meas_counts_l = extract_freq_ranges_measurements_points(df_labelled)\n",
    "print(\"\\n\")\n",
    "\n",
    "print(\"Unlabelled data:\")\n",
    "freq_ranges_ul, meas_counts_ul = extract_freq_ranges_measurements_points(df_unlabelled)\n",
    "print(\"\\n\")\n"
   ]
  }
 ],
 "metadata": {
  "kernelspec": {
   "display_name": "Python 3.7.13",
   "language": "python",
   "name": "python3"
  },
  "language_info": {
   "codemirror_mode": {
    "name": "ipython",
    "version": 3
   },
   "file_extension": ".py",
   "mimetype": "text/x-python",
   "name": "python",
   "nbconvert_exporter": "python",
   "pygments_lexer": "ipython3",
   "version": "3.7.13"
  },
  "orig_nbformat": 4,
  "vscode": {
   "interpreter": {
    "hash": "db3441f3efc18b286252faba8848b9af7d49db2dc5505bf705b457c48ff7d418"
   }
  }
 },
 "nbformat": 4,
 "nbformat_minor": 2
}
