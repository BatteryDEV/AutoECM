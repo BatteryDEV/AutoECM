{
  "cells": [
    {
      "cell_type": "code",
      "execution_count": 1,
      "metadata": {
        "id": "AICoXl_RvHhE"
      },
      "outputs": [],
      "source": [
        "import numpy as np\n",
        "import pandas as pd\n",
        "from pandas.core.frame import DataFrame\n",
        "\n",
        "from scipy.interpolate import interp1d\n",
        "\n",
        "from sklearn.pipeline import Pipeline\n",
        "from sklearn.multioutput import MultiOutputRegressor\n",
        "from sklearn.compose import TransformedTargetRegressor\n",
        "from sklearn.preprocessing import QuantileTransformer, PowerTransformer\n",
        "from sklearn.dummy import DummyRegressor\n",
        "from sklearn.model_selection import train_test_split\n",
        "from sklearn.metrics import mean_absolute_error\n",
        "import matplotlib.pyplot as plt\n",
        "import seaborn as sns\n",
        "\n",
        "import xgboost as xgb\n",
        "\n",
        "from tsfresh.transformers import RelevantFeatureAugmenter, FeatureAugmenter\n",
        "from tsfresh import extract_relevant_features\n",
        "from tsfresh.utilities.dataframe_functions import impute\n",
        "from tsfresh.feature_extraction import ComprehensiveFCParameters, MinimalFCParameters\n",
        "\n",
        "from typing import Dict, Any\n",
        "import numpy as np\n",
        "import pandas as pd\n",
        "from functools import partial"
      ]
    },
    {
      "cell_type": "markdown",
      "metadata": {
        "id": "Bqeoq-k1wjIZ"
      },
      "source": [
        "Function definitions:"
      ]
    },
    {
      "cell_type": "code",
      "execution_count": 2,
      "metadata": {
        "id": "muf1qVD1wJVs"
      },
      "outputs": [],
      "source": [
        "def parse_circuit_params_from_str(params_str: str) -> Dict[str, float]:\n",
        "    return {item.split(\":\")[0].strip(): float(item.split(\":\")[1].strip()) for item in params_str.split(\",\")}"
      ]
    },
    {
      "cell_type": "code",
      "execution_count": 3,
      "metadata": {
        "id": "iwthhqtvwZ_z"
      },
      "outputs": [],
      "source": [
        "def eis_dataframe_from_csv(csv_path) -> pd.DataFrame:\n",
        "    \"\"\" Reads a CSV file of EIS data into a pandas dataframe\n",
        "\n",
        "    Args:\n",
        "        csv_df_path (File-Like-Object): path to file of, or buffer of, EIS data in CSV format\n",
        "\n",
        "    Returns:\n",
        "        pd.DataFrame: Dataframe with two or three columns - each row represents an EIS spectrum\n",
        "            - freq      : short for frequency, column of real-number numpy arrays\n",
        "            - Z         : short for impedance, column of imaginary-number numpy arrays\n",
        "            - Circuit   : Equivalent Circuit Model labels assigned to the spectra (Optional)\n",
        "            - Parameters: Parameters of the Equivalent Circuit Models (Optional)\n",
        "    \"\"\"\n",
        "    df = pd.read_csv(csv_path, index_col=0)\n",
        "\n",
        "    def real2array(arraystr: str):\n",
        "        return np.array([float(c.strip(\"[]\")) for c in arraystr.split(\", \")])\n",
        "\n",
        "    def comp2array(arraystr: str):\n",
        "        return np.array([complex(c.strip(\"[]\").replace(\" \", \"\")) for c in arraystr.split(\", \")])\n",
        "\n",
        "    if \"freq\" in df.columns:\n",
        "        df[\"freq\"] = df[\"freq\"].apply(real2array)\n",
        "    if \"Z\" in df.columns:\n",
        "        df[\"Z\"] = df[\"Z\"].apply(comp2array)\n",
        "\n",
        "    return df"
      ]
    },
    {
      "cell_type": "markdown",
      "metadata": {
        "id": "a-NdgApa1y4Y"
      },
      "source": [
        "Prior version (interpolated variables)\n",
        "```\n",
        "def process_batch_element(freq, impedance, interpolated_basis):\n",
        "    x_real = np.real(impedance)\n",
        "    x_imag = -np.imag(impedance)\n",
        "\n",
        "    f_real = interp1d(freq, x_real)\n",
        "    f_imag = interp1d(freq, x_imag)\n",
        "    return np.concatenate((f_real(interpolated_basis), f_imag(interpolated_basis)))\n",
        "\n",
        "# Separate freq, zreal, zimag\n",
        "def process_batch_element_f(interpolated_basis):\n",
        "    return interpolated_basis\n",
        "\n",
        "def process_batch_element_zreal(freq, Z, interpolated_basis):\n",
        "    x = np.real(Z)\n",
        "    f = interp1d(freq, x)\n",
        "    return f(interpolated_basis)\n",
        "\n",
        "def process_batch_element_zimag(freq, Z, interpolated_basis):\n",
        "    x = np.imag(Z)\n",
        "    f = interp1d(freq, x)\n",
        "    return f(interpolated_basis)\n",
        "\n",
        "def process_batch_element_params(Parameters):\n",
        "    Params = parse_circuit_params_from_str(Parameters)\n",
        "    return np.array(list(Params.values()))\n",
        "```\n",
        "\n"
      ]
    },
    {
      "cell_type": "code",
      "execution_count": 4,
      "metadata": {
        "id": "zOmjfJC0wdYC"
      },
      "outputs": [],
      "source": [
        "def process_batch_element(freq, impedance):\n",
        "    x_real = np.real(impedance)\n",
        "    x_imag = -np.imag(impedance)\n",
        "    return np.concatenate((x_real, x_imag))\n",
        "\n",
        "# Separate freq, zreal, zimag\n",
        "def process_batch_element_f(interpolated_basis):\n",
        "    return interpolated_basis\n",
        "\n",
        "def process_batch_element_zreal(freq, Z):\n",
        "    x = np.real(Z)\n",
        "    return x\n",
        "\n",
        "def process_batch_element_zimag(freq, Z):\n",
        "    x = np.imag(Z)\n",
        "    f = interp1d(freq, x)\n",
        "    return x\n",
        "\n",
        "def process_batch_element_params(Parameters):\n",
        "    Params = parse_circuit_params_from_str(Parameters)\n",
        "    return np.array(list(Params.values()))\n",
        "\n",
        "def process_batch_element_params_str(Parameters):\n",
        "    Params = parse_circuit_params_from_str(Parameters)\n",
        "    return np.array(list(Params.keys()))"
      ]
    },
    {
      "cell_type": "code",
      "execution_count": 5,
      "metadata": {
        "id": "yu2BiATTw0AE"
      },
      "outputs": [],
      "source": [
        "def unwrap_df(df):\n",
        "  df2 = DataFrame(columns=['id','freq','zreal','zimag'])\n",
        "  for i in np.arange(df.shape[0]):\n",
        "    f, zreal, zimag = df[[\"f\",\"zreal\",\"zimag\"]].loc[i]\n",
        "    id = np.tile(i, f.size)\n",
        "    df_ = DataFrame(data=(id,np.log(f),zreal,zimag), index=['id','freq','zreal','zimag']).T\n",
        "    df2 = df2.append(df_, ignore_index=True)\n",
        "  return df2"
      ]
    },
    {
      "cell_type": "code",
      "execution_count": 6,
      "metadata": {
        "id": "1erzsLfnVd8_"
      },
      "outputs": [],
      "source": [
        "def transform_params(p, mask_skip):\n",
        "    p_ = np.log(p)\n",
        "    p_[mask_skip] = p[mask_skip]\n",
        "    return p_\n",
        "\n",
        "def invert_params(p, mask_skip):\n",
        "    p_ = np.exp(p)\n",
        "    p_[mask_skip] = p[mask_skip]\n",
        "    return p_"
      ]
    },
    {
      "cell_type": "markdown",
      "metadata": {
        "id": "v47MMAvGvi7B"
      },
      "source": [
        "Process data:"
      ]
    },
    {
      "cell_type": "code",
      "execution_count": 14,
      "metadata": {
        "colab": {
          "base_uri": "https://localhost:8080/"
        },
        "id": "1LRwmLNxvbEi",
        "outputId": "6f7c7c02-43bd-40fb-f725-b6c22505026f"
      },
      "outputs": [],
      "source": [
        "df = eis_dataframe_from_csv(\"data/train_data.csv\")\n",
        "df_test = eis_dataframe_from_csv(\"data/test_data.csv\")"
      ]
    },
    {
      "cell_type": "code",
      "execution_count": 16,
      "metadata": {
        "id": "ngMLlDbBwoFZ"
      },
      "outputs": [],
      "source": [
        "df[\"f\"] = df.apply(lambda x: process_batch_element_f(x.freq), axis=1)\n",
        "df[\"zreal\"] = df.apply(lambda x: process_batch_element_zreal(x.freq, x.Z), axis=1)\n",
        "df[\"zimag\"] = df.apply(lambda x: process_batch_element_zimag(x.freq, x.Z), axis=1)\n",
        "df[\"param_strs\"] = df.apply(lambda x: process_batch_element_params_str(x.Parameters), axis=1)\n",
        "df[\"param_values\"] = df.apply(lambda x: process_batch_element_params(x.Parameters), axis=1)\n",
        "\n",
        "df_test[\"f\"] = df_test.apply(lambda x: process_batch_element_f(x.freq), axis=1)\n",
        "df_test[\"zreal\"] = df_test.apply(lambda x: process_batch_element_zreal(x.freq, x.Z), axis=1)\n",
        "df_test[\"zimag\"] = df_test.apply(lambda x: process_batch_element_zimag(x.freq, x.Z), axis=1)\n",
        "df_test[\"param_strs\"] = df_test.apply(lambda x: process_batch_element_params_str(x.Parameters), axis=1)\n",
        "df_test[\"param_values\"] = df_test.apply(lambda x: process_batch_element_params(x.Parameters), axis=1)\n"
      ]
    },
    {
      "cell_type": "markdown",
      "metadata": {
        "id": "92LlvjZCwx6f"
      },
      "source": [
        "For tsfresh we need to 'unwrap' all the measurements into a dataframe with measurement ids, freq, zreal, and zimag columns"
      ]
    },
    {
      "cell_type": "code",
      "execution_count": 17,
      "metadata": {
        "colab": {
          "base_uri": "https://localhost:8080/"
        },
        "id": "leqApmRcwyOW",
        "outputId": "3995911d-8768-4437-9350-da2f8d12b349"
      },
      "outputs": [
        {
          "data": {
            "text/plain": [
              "((91895, 4), 1865)"
            ]
          },
          "execution_count": 17,
          "metadata": {},
          "output_type": "execute_result"
        }
      ],
      "source": [
        "df_ts = unwrap_df(df)\n",
        "df_ts.shape, len(np.unique(df_ts[\"id\"]))\n",
        "\n",
        "df_ts_test = unwrap_df(df_test)\n",
        "df_ts_test.shape, len(np.unique(df_ts_test[\"id\"]))"
      ]
    },
    {
      "cell_type": "markdown",
      "metadata": {
        "id": "-FfI_fgHbQkE"
      },
      "source": [
        "Train a model for each class of circuit"
      ]
    },
    {
      "cell_type": "code",
      "execution_count": 18,
      "metadata": {
        "colab": {
          "base_uri": "https://localhost:8080/"
        },
        "id": "lB3brGp6bG6o",
        "outputId": "798418b6-b516-48c2-c9df-f6cb798c02d0"
      },
      "outputs": [
        {
          "data": {
            "text/plain": [
              "array(['L-R-RCPE', 'L-R-RCPE-RCPE', 'L-R-RCPE-RCPE-RCPE', 'RC-G-G',\n",
              "       'RC-RC-RCPE-RCPE', 'RCPE-RCPE', 'RCPE-RCPE-RCPE',\n",
              "       'RCPE-RCPE-RCPE-RCPE', 'Rs_Ws'], dtype=object)"
            ]
          },
          "execution_count": 18,
          "metadata": {},
          "output_type": "execute_result"
        }
      ],
      "source": [
        "circuits = np.unique(df[\"Circuit\"])\n",
        "circuits"
      ]
    },
    {
      "cell_type": "code",
      "execution_count": 26,
      "metadata": {
        "colab": {
          "base_uri": "https://localhost:8080/"
        },
        "id": "1IfHpF-Hw2q6",
        "outputId": "a4a5e44e-e6c5-4ad4-9999-a76145c6c018"
      },
      "outputs": [
        {
          "data": {
            "text/plain": [
              "Int64Index([   9,   27,   29,   30,   32,   38,   42,   44,   47,   49,\n",
              "            ...\n",
              "            7389, 7394, 7398, 7403, 7407, 7426, 7440, 7453, 7455, 7460],\n",
              "           dtype='int64', length=864)"
            ]
          },
          "execution_count": 26,
          "metadata": {},
          "output_type": "execute_result"
        }
      ],
      "source": [
        "dfs = list()\n",
        "dfs_test = list()\n",
        "for i in np.arange(len(circuits)):\n",
        "  dfs.append(df[df[\"Circuit\"] == circuits[i]])\n",
        "  dfs_test.append(df_test[df_test[\"Circuit\"] == circuits[i]])\n",
        "dfs[0].index"
      ]
    },
    {
      "cell_type": "markdown",
      "metadata": {
        "id": "BOOubTosHoCE"
      },
      "source": [
        "Working model: quantile transform on target."
      ]
    },
    {
      "cell_type": "code",
      "execution_count": 20,
      "metadata": {},
      "outputs": [],
      "source": [
        "\n",
        "def MAE_loss(y_true, y_pred):\n",
        "    return np.mean(np.abs(y_true - y_pred))\n",
        "\n",
        "def score_qs_vs_pred(y_true, y_pred, model_name):\n",
        "    results = []\n",
        "    for i, element in enumerate(df_ecm['param_strs'].iloc[0]):\n",
        "        # mae_train_element = MAE_loss(y_true_train.apply(lambda x: x[i]), y_pred_train.apply(lambda x: x[i]))\n",
        "        mae_element = MAE_loss(y_true[:, i], y_pred[:, i])\n",
        "        res_element = [ecm, element, mae_element]\n",
        "        results.append(res_element)\n",
        "    # Save results\n",
        "    return results"
      ]
    },
    {
      "cell_type": "code",
      "execution_count": 21,
      "metadata": {},
      "outputs": [],
      "source": [
        "df_ = dfs[0]\n",
        "df_y = pd.DataFrame(df_['param_values'].to_list(), columns=df_[\"param_strs\"].loc[df_.index[0]])"
      ]
    },
    {
      "cell_type": "code",
      "execution_count": 33,
      "metadata": {
        "colab": {
          "base_uri": "https://localhost:8080/"
        },
        "id": "LShfL14aHqzH",
        "outputId": "b93c5148-a10d-4ee5-d5c8-e63fa21b9094"
      },
      "outputs": [
        {
          "name": "stdout",
          "output_type": "stream",
          "text": [
            " \n",
            "Fitting regression for L-R-RCPE\n"
          ]
        },
        {
          "name": "stderr",
          "output_type": "stream",
          "text": [
            "Feature Extraction: 100%|██████████| 25/25 [00:12<00:00,  1.95it/s]\n",
            "Feature Extraction: 100%|██████████| 25/25 [00:03<00:00,  7.86it/s]\n"
          ]
        },
        {
          "name": "stdout",
          "output_type": "stream",
          "text": [
            "MAE:4240\n",
            "L1 MAE:1.218e-06\n",
            "R1 MAE:32.39\n",
            "R2 MAE:2.117e+04\n",
            "CPE1_t MAE:0.04722\n",
            "CPE1_C MAE:0.004859\n",
            " \n",
            "Fitting regression for L-R-RCPE-RCPE\n"
          ]
        },
        {
          "name": "stderr",
          "output_type": "stream",
          "text": [
            "Feature Extraction: 100%|██████████| 25/25 [00:13<00:00,  1.92it/s]\n",
            "Feature Extraction: 100%|██████████| 25/25 [00:02<00:00,  8.34it/s]\n"
          ]
        },
        {
          "name": "stdout",
          "output_type": "stream",
          "text": [
            "MAE:4072\n",
            "L1 MAE:1.216e-06\n",
            "R1 MAE:38.92\n",
            "R2 MAE:314.3\n",
            "CPE1_t MAE:0.1358\n",
            "CPE1_C MAE:2.001e-06\n",
            "R3 MAE:3.222e+04\n",
            "CPE2_t MAE:0.0606\n",
            "CPE2_C MAE:0.0122\n",
            " \n",
            "Fitting regression for L-R-RCPE-RCPE-RCPE\n"
          ]
        },
        {
          "name": "stderr",
          "output_type": "stream",
          "text": [
            "Feature Extraction: 100%|██████████| 25/25 [00:12<00:00,  1.99it/s]\n",
            "Feature Extraction: 100%|██████████| 25/25 [00:03<00:00,  7.56it/s]\n"
          ]
        },
        {
          "name": "stdout",
          "output_type": "stream",
          "text": [
            "MAE:7448\n",
            "L1 MAE:1.279e-06\n",
            "R1 MAE:31.66\n",
            "R2 MAE:197.6\n",
            "CPE1_t MAE:0.1495\n",
            "CPE1_C MAE:1.976e-06\n",
            "R3 MAE:2047\n",
            "CPE2_t MAE:0.1201\n",
            "CPE2_C MAE:0.000534\n",
            "R4 MAE:7.966e+04\n",
            "CPE3_t MAE:0.08105\n",
            "CPE3_C MAE:0.02436\n",
            " \n",
            "Fitting regression for RC-G-G\n"
          ]
        },
        {
          "name": "stderr",
          "output_type": "stream",
          "text": [
            "Feature Extraction: 100%|██████████| 25/25 [00:12<00:00,  2.05it/s]\n",
            "Feature Extraction: 100%|██████████| 25/25 [00:03<00:00,  7.51it/s]\n"
          ]
        },
        {
          "name": "stdout",
          "output_type": "stream",
          "text": [
            "MAE:6.148\n",
            "R1 MAE:8.354\n",
            "C1 MAE:4.458e-06\n",
            "R_g1 MAE:2.034\n",
            "t_g1 MAE:0.6604\n",
            "R_g2 MAE:12.95\n",
            "t_g2 MAE:12.89\n",
            " \n",
            "Fitting regression for RC-RC-RCPE-RCPE\n"
          ]
        },
        {
          "name": "stderr",
          "output_type": "stream",
          "text": [
            "Feature Extraction: 100%|██████████| 25/25 [00:12<00:00,  1.93it/s]\n",
            "Feature Extraction: 100%|██████████| 24/24 [00:03<00:00,  7.16it/s]\n"
          ]
        },
        {
          "name": "stdout",
          "output_type": "stream",
          "text": [
            "MAE:7748\n",
            "R1 MAE:3.592\n",
            "R2 MAE:7.963\n",
            "R3 MAE:11.94\n",
            "R4 MAE:7.746e+04\n",
            "C2 MAE:5.833e-06\n",
            "CPE3_C MAE:6.984e-05\n",
            "CPE4_t MAE:0.08969\n",
            "CPE4_C MAE:0.3434\n",
            "C1 MAE:5.656e-17\n",
            "CPE3_t MAE:2.384e-08\n",
            " \n",
            "Fitting regression for RCPE-RCPE\n"
          ]
        },
        {
          "name": "stderr",
          "output_type": "stream",
          "text": [
            "Feature Extraction: 100%|██████████| 25/25 [00:11<00:00,  2.10it/s]\n",
            "Feature Extraction: 100%|██████████| 25/25 [00:03<00:00,  8.08it/s]\n"
          ]
        },
        {
          "name": "stdout",
          "output_type": "stream",
          "text": [
            "MAE:2908\n",
            "R1 MAE:34.29\n",
            "R2 MAE:1.741e+04\n",
            "CPE1_t MAE:0.1319\n",
            "CPE1_C MAE:0.001046\n",
            "CPE2_t MAE:0.05662\n",
            "CPE2_C MAE:0.007384\n",
            " \n",
            "Fitting regression for RCPE-RCPE-RCPE\n"
          ]
        },
        {
          "name": "stderr",
          "output_type": "stream",
          "text": [
            "Feature Extraction: 100%|██████████| 25/25 [00:12<00:00,  1.94it/s]\n",
            "Feature Extraction: 100%|██████████| 24/24 [00:03<00:00,  7.28it/s]\n"
          ]
        },
        {
          "name": "stdout",
          "output_type": "stream",
          "text": [
            "MAE:5960\n",
            "R1 MAE:10.4\n",
            "R2 MAE:281\n",
            "R3 MAE:5.335e+04\n",
            "CPE1_t MAE:0.1373\n",
            "CPE1_C MAE:2.474e-06\n",
            "CPE2_t MAE:0.1106\n",
            "CPE2_C MAE:5.308e-05\n",
            "CPE3_t MAE:0.07056\n",
            "CPE3_C MAE:0.02181\n",
            " \n",
            "Fitting regression for RCPE-RCPE-RCPE-RCPE\n"
          ]
        },
        {
          "name": "stderr",
          "output_type": "stream",
          "text": [
            "Feature Extraction: 100%|██████████| 25/25 [00:12<00:00,  1.97it/s]\n",
            "Feature Extraction: 100%|██████████| 25/25 [00:03<00:00,  7.85it/s]\n"
          ]
        },
        {
          "name": "stdout",
          "output_type": "stream",
          "text": [
            "MAE:5249\n",
            "R1 MAE:31.96\n",
            "R2 MAE:131.4\n",
            "R3 MAE:2643\n",
            "R4 MAE:6.018e+04\n",
            "CPE1_t MAE:0.1356\n",
            "CPE1_C MAE:4.559e-07\n",
            "CPE2_t MAE:0.1277\n",
            "CPE2_C MAE:0.001084\n",
            "CPE3_t MAE:0.1089\n",
            "CPE3_C MAE:0.003579\n",
            "CPE4_t MAE:0.09434\n",
            "CPE4_C MAE:0.02515\n",
            " \n",
            "Fitting regression for Rs_Ws\n"
          ]
        },
        {
          "name": "stderr",
          "output_type": "stream",
          "text": [
            "Feature Extraction: 100%|██████████| 25/25 [00:04<00:00,  5.49it/s]\n",
            "Feature Extraction: 100%|██████████| 24/24 [00:01<00:00, 19.14it/s]\n"
          ]
        },
        {
          "name": "stdout",
          "output_type": "stream",
          "text": [
            "MAE:101.8\n",
            "R1 MAE:23.03\n",
            "W1_R MAE:191\n",
            "W1_T MAE:193\n",
            "W1_p MAE:0.232\n"
          ]
        }
      ],
      "source": [
        "ppls = list()\n",
        "param_values_pred = list(range(df.shape[0]))\n",
        "predictions = []\n",
        "y_true = []\n",
        "for df_, df_test_ in zip(dfs, dfs_test):\n",
        "  print(\" \")\n",
        "  print(\"Fitting regression for %s\" % df_[\"Circuit\"].loc[df_.index[0]])\n",
        "  df_ts_ = df_ts[df_ts[\"id\"].isin(df_.index)]\n",
        "  df_ts_test_ = df_ts_test[df_ts_test[\"id\"].isin(df_test[df_test[\"Circuit\"] == df_[\"Circuit\"].loc[df_.index[0]]].index)]\n",
        "  X_train = pd.DataFrame(index=np.unique(df_ts_[\"id\"]))\n",
        "  y_train = pd.DataFrame(df_['param_values'].to_list(), columns=df_[\"param_strs\"].loc[df_.index[0]])\n",
        "  X_test = pd.DataFrame(index=np.unique(df_ts_test_[\"id\"]))\n",
        "  y_test = pd.DataFrame(df_test_['param_values'].to_list(), columns=df_test_[\"param_strs\"].loc[df_test_.index[0]])\n",
        "  # transformer mask, tell the transformer which parameters to skip over\n",
        "  mask = [n for n, x in enumerate(df_[\"param_strs\"].loc[df_.index[0]]) if '_t' in x]\n",
        "  mdl = MultiOutputRegressor(estimator=xgb.XGBRegressor())\n",
        "  regr = TransformedTargetRegressor(regressor=mdl,\n",
        "                                    transformer=QuantileTransformer(n_quantiles=10, random_state=0))\n",
        "                                    #transformer=PowerTransformer())\n",
        "  ppl = Pipeline([\n",
        "        ('augmenter', FeatureAugmenter(column_id='id', column_sort='freq', default_fc_parameters=ComprehensiveFCParameters())),\n",
        "        ('regressor', regr)\n",
        "      ])\n",
        "  ppl.set_params(augmenter__timeseries_container=df_ts_);\n",
        "  ppl.fit(X_train, y_train)\n",
        "  ppl.set_params(augmenter__timeseries_container=df_ts_test_);\n",
        "  y_pred = ppl.predict(X_test)\n",
        "  y_pred_df = pd.DataFrame(y_pred, columns=df_test_[\"param_strs\"].loc[df_test_.index[0]])\n",
        "  y_true_df = pd.DataFrame(y_test, columns=df_test_[\"param_strs\"].loc[df_test_.index[0]])\n",
        "  predictions.append(y_pred_df)\n",
        "  y_true.append(y_true_df)\n",
        "  print(\"MAE:%.4g\" % mean_absolute_error(y_test, y_pred))\n",
        "  p_strs = df_[\"param_strs\"].loc[df_.index[0]]\n",
        "  for i in np.arange(len(p_strs)):\n",
        "    print(\"%s MAE:%.4g\" % (p_strs[i], mean_absolute_error(y_test[p_strs[i]], y_pred[:,i])))\n",
        "  ppls.append(ppl)\n",
        "  for idx, i in zip(df_.index, np.arange(y_pred.shape[0])):\n",
        "    param_values_pred[idx] = y_pred[i,:]\n"
      ]
    },
    {
      "cell_type": "code",
      "execution_count": 47,
      "metadata": {},
      "outputs": [],
      "source": [
        "def ecm_regression(use_dummy=False, quantile=False, relevant=False):\n",
        "    ppls = list()\n",
        "    param_values_pred = list(range(df.shape[0]))\n",
        "    predictions = []\n",
        "    y_true = []\n",
        "    for df_, df_test_ in zip(dfs, dfs_test):\n",
        "        print(\" \")\n",
        "        print(\"Fitting regression for %s\" % df_[\"Circuit\"].loc[df_.index[0]])\n",
        "        df_ts_ = df_ts[df_ts[\"id\"].isin(df_.index)]\n",
        "        df_ts_test_ = df_ts_test[df_ts_test[\"id\"].isin(df_test[df_test[\"Circuit\"] == df_[\"Circuit\"].loc[df_.index[0]]].index)]\n",
        "        X_train = pd.DataFrame(index=np.unique(df_ts_[\"id\"]))\n",
        "        y_train = pd.DataFrame(df_['param_values'].to_list(), columns=df_[\"param_strs\"].loc[df_.index[0]])\n",
        "        X_test = pd.DataFrame(index=np.unique(df_ts_test_[\"id\"]))\n",
        "        y_test = pd.DataFrame(df_test_['param_values'].to_list(), columns=df_test_[\"param_strs\"].loc[df_test_.index[0]])\n",
        "        # transformer mask, tell the transformer which parameters to skip over\n",
        "        mask = [n for n, x in enumerate(df_[\"param_strs\"].loc[df_.index[0]]) if '_t' in x]\n",
        "        if not use_dummy:\n",
        "            mdl = MultiOutputRegressor(estimator=xgb.XGBRegressor())\n",
        "        else: \n",
        "            mdl = MultiOutputRegressor(estimator=DummyRegressor(strategy='median'))\n",
        "\n",
        "        if quantile:\n",
        "            regr = TransformedTargetRegressor(regressor=mdl,\n",
        "                                                transformer=QuantileTransformer(n_quantiles=10, random_state=0))\n",
        "                                                #transformer=PowerTransformer())\n",
        "        else:\n",
        "            regr = mdl\n",
        "\n",
        "        if relevant:\n",
        "            ppl = Pipeline([\n",
        "                    ('augmenter', RelevantFeatureAugmenter(column_id='id', column_sort='freq', default_fc_parameters=ComprehensiveFCParameters())),\n",
        "                    ('regressor', regr)\n",
        "                ])\n",
        "        else:\n",
        "            ppl = Pipeline([\n",
        "                    ('augmenter', FeatureAugmenter(column_id='id', column_sort='freq', default_fc_parameters=ComprehensiveFCParameters())),\n",
        "                    ('regressor', regr)\n",
        "                ])\n",
        "        ppl.set_params(augmenter__timeseries_container=df_ts_);\n",
        "        ppl.fit(X_train, y_train)\n",
        "        ppl.set_params(augmenter__timeseries_container=df_ts_test_);\n",
        "        y_pred = ppl.predict(X_test)\n",
        "        y_pred_df = pd.DataFrame(y_pred, columns=df_test_[\"param_strs\"].loc[df_test_.index[0]])\n",
        "        y_true_df = pd.DataFrame(y_test, columns=df_test_[\"param_strs\"].loc[df_test_.index[0]])\n",
        "        predictions.append(y_pred_df)\n",
        "        y_true.append(y_true_df)\n",
        "        print(\"MAE:%.4g\" % mean_absolute_error(y_test, y_pred))\n",
        "        p_strs = df_[\"param_strs\"].loc[df_.index[0]]\n",
        "        for i in np.arange(len(p_strs)):\n",
        "            print(\"%s MAE:%.4g\" % (p_strs[i], mean_absolute_error(y_test[p_strs[i]], y_pred[:,i])))\n",
        "        ppls.append(ppl)\n",
        "        #for idx, i in zip(df_.index, np.arange(y_pred.shape[0])):\n",
        "            #param_values_pred[idx] = y_pred[i,:]\n",
        "    return predictions, y_true, ppls #, param_values_pred"
      ]
    },
    {
      "cell_type": "code",
      "execution_count": 42,
      "metadata": {},
      "outputs": [
        {
          "name": "stdout",
          "output_type": "stream",
          "text": [
            " \n",
            "Fitting regression for L-R-RCPE\n"
          ]
        },
        {
          "name": "stderr",
          "output_type": "stream",
          "text": [
            "Feature Extraction: 100%|██████████| 25/25 [00:12<00:00,  1.96it/s]\n",
            "Feature Extraction: 100%|██████████| 25/25 [00:03<00:00,  7.46it/s]\n"
          ]
        },
        {
          "name": "stdout",
          "output_type": "stream",
          "text": [
            "MAE:5163\n",
            "L1 MAE:1.812e-06\n",
            "R1 MAE:39.35\n",
            "R2 MAE:2.577e+04\n",
            "CPE1_t MAE:0.04656\n",
            "CPE1_C MAE:0.005244\n",
            " \n",
            "Fitting regression for L-R-RCPE-RCPE\n"
          ]
        },
        {
          "name": "stderr",
          "output_type": "stream",
          "text": [
            "Feature Extraction: 100%|██████████| 25/25 [00:13<00:00,  1.86it/s]\n",
            "Feature Extraction: 100%|██████████| 25/25 [00:03<00:00,  7.93it/s]\n"
          ]
        },
        {
          "name": "stdout",
          "output_type": "stream",
          "text": [
            "MAE:9154\n",
            "L1 MAE:1.787e-06\n",
            "R1 MAE:43.77\n",
            "R2 MAE:332.1\n",
            "CPE1_t MAE:0.138\n",
            "CPE1_C MAE:3.569e-06\n",
            "R3 MAE:7.286e+04\n",
            "CPE2_t MAE:0.06682\n",
            "CPE2_C MAE:0.01754\n",
            " \n",
            "Fitting regression for L-R-RCPE-RCPE-RCPE\n"
          ]
        },
        {
          "name": "stderr",
          "output_type": "stream",
          "text": [
            "Feature Extraction: 100%|██████████| 25/25 [00:12<00:00,  1.94it/s]\n",
            "Feature Extraction: 100%|██████████| 25/25 [00:03<00:00,  7.32it/s]\n"
          ]
        },
        {
          "name": "stdout",
          "output_type": "stream",
          "text": [
            "MAE:2.285e+04\n",
            "L1 MAE:1.73e-06\n",
            "R1 MAE:39.09\n",
            "R2 MAE:212.8\n",
            "CPE1_t MAE:0.1526\n",
            "CPE1_C MAE:3.214e-06\n",
            "R3 MAE:6018\n",
            "CPE2_t MAE:0.1363\n",
            "CPE2_C MAE:0.008348\n",
            "R4 MAE:2.451e+05\n",
            "CPE3_t MAE:0.1305\n",
            "CPE3_C MAE:0.3094\n",
            " \n",
            "Fitting regression for RC-G-G\n"
          ]
        },
        {
          "name": "stderr",
          "output_type": "stream",
          "text": [
            "Feature Extraction: 100%|██████████| 25/25 [00:12<00:00,  1.99it/s]\n",
            "Feature Extraction: 100%|██████████| 25/25 [00:03<00:00,  7.03it/s]\n"
          ]
        },
        {
          "name": "stdout",
          "output_type": "stream",
          "text": [
            "MAE:5.605\n",
            "R1 MAE:3.377\n",
            "C1 MAE:7.824e-06\n",
            "R_g1 MAE:1.97\n",
            "t_g1 MAE:1.081\n",
            "R_g2 MAE:13.88\n",
            "t_g2 MAE:13.32\n",
            " \n",
            "Fitting regression for RC-RC-RCPE-RCPE\n"
          ]
        },
        {
          "name": "stderr",
          "output_type": "stream",
          "text": [
            "Feature Extraction: 100%|██████████| 25/25 [00:13<00:00,  1.91it/s]\n",
            "Feature Extraction: 100%|██████████| 24/24 [00:03<00:00,  7.16it/s]\n"
          ]
        },
        {
          "name": "stdout",
          "output_type": "stream",
          "text": [
            "MAE:1.159e+04\n",
            "R1 MAE:3.64\n",
            "R2 MAE:6.814\n",
            "R3 MAE:12.99\n",
            "R4 MAE:1.158e+05\n",
            "C2 MAE:1.275e-05\n",
            "CPE3_C MAE:9.209e-05\n",
            "CPE4_t MAE:0.088\n",
            "CPE4_C MAE:0.4155\n",
            "C1 MAE:1.655e-16\n",
            "CPE3_t MAE:8.345e-08\n",
            " \n",
            "Fitting regression for RCPE-RCPE\n"
          ]
        },
        {
          "name": "stderr",
          "output_type": "stream",
          "text": [
            "Feature Extraction: 100%|██████████| 25/25 [00:12<00:00,  2.00it/s]\n",
            "Feature Extraction: 100%|██████████| 25/25 [00:03<00:00,  7.77it/s]\n"
          ]
        },
        {
          "name": "stdout",
          "output_type": "stream",
          "text": [
            "MAE:2851\n",
            "R1 MAE:30.45\n",
            "R2 MAE:1.708e+04\n",
            "CPE1_t MAE:0.1255\n",
            "CPE1_C MAE:0.001442\n",
            "CPE2_t MAE:0.05945\n",
            "CPE2_C MAE:0.01722\n",
            " \n",
            "Fitting regression for RCPE-RCPE-RCPE\n"
          ]
        },
        {
          "name": "stderr",
          "output_type": "stream",
          "text": [
            "Feature Extraction: 100%|██████████| 25/25 [00:13<00:00,  1.87it/s]\n",
            "Feature Extraction: 100%|██████████| 24/24 [00:03<00:00,  6.92it/s]\n"
          ]
        },
        {
          "name": "stdout",
          "output_type": "stream",
          "text": [
            "MAE:8379\n",
            "R1 MAE:10.6\n",
            "R2 MAE:264.5\n",
            "R3 MAE:7.514e+04\n",
            "CPE1_t MAE:0.1362\n",
            "CPE1_C MAE:2.6e-06\n",
            "CPE2_t MAE:0.1185\n",
            "CPE2_C MAE:7.254e-05\n",
            "CPE3_t MAE:0.06634\n",
            "CPE3_C MAE:0.02931\n",
            " \n",
            "Fitting regression for RCPE-RCPE-RCPE-RCPE\n"
          ]
        },
        {
          "name": "stderr",
          "output_type": "stream",
          "text": [
            "Feature Extraction: 100%|██████████| 25/25 [00:13<00:00,  1.84it/s]\n",
            "Feature Extraction: 100%|██████████| 25/25 [00:03<00:00,  7.64it/s]\n"
          ]
        },
        {
          "name": "stdout",
          "output_type": "stream",
          "text": [
            "MAE:1.075e+04\n",
            "R1 MAE:34.04\n",
            "R2 MAE:183.7\n",
            "R3 MAE:2161\n",
            "R4 MAE:1.266e+05\n",
            "CPE1_t MAE:0.1388\n",
            "CPE1_C MAE:0.0002922\n",
            "CPE2_t MAE:0.1349\n",
            "CPE2_C MAE:0.002254\n",
            "CPE3_t MAE:0.1084\n",
            "CPE3_C MAE:0.006373\n",
            "CPE4_t MAE:0.09922\n",
            "CPE4_C MAE:0.03814\n",
            " \n",
            "Fitting regression for Rs_Ws\n"
          ]
        },
        {
          "name": "stderr",
          "output_type": "stream",
          "text": [
            "Feature Extraction: 100%|██████████| 25/25 [00:04<00:00,  5.26it/s]\n",
            "Feature Extraction: 100%|██████████| 24/24 [00:01<00:00, 18.42it/s]\n"
          ]
        },
        {
          "name": "stdout",
          "output_type": "stream",
          "text": [
            "MAE:112.9\n",
            "R1 MAE:19.32\n",
            "W1_R MAE:251.3\n",
            "W1_T MAE:181\n",
            "W1_p MAE:0.1415\n"
          ]
        }
      ],
      "source": [
        "predictions_xg, y_true, ppls_xg = ecm_regression(use_dummy=False, quantile=False)"
      ]
    },
    {
      "cell_type": "code",
      "execution_count": 41,
      "metadata": {},
      "outputs": [
        {
          "name": "stdout",
          "output_type": "stream",
          "text": [
            " \n",
            "Fitting regression for L-R-RCPE\n"
          ]
        },
        {
          "name": "stderr",
          "output_type": "stream",
          "text": [
            "Feature Extraction: 100%|██████████| 25/25 [00:12<00:00,  1.96it/s]\n",
            "Feature Extraction: 100%|██████████| 25/25 [00:03<00:00,  7.66it/s]\n"
          ]
        },
        {
          "name": "stdout",
          "output_type": "stream",
          "text": [
            "MAE:4240\n",
            "L1 MAE:1.218e-06\n",
            "R1 MAE:32.39\n",
            "R2 MAE:2.117e+04\n",
            "CPE1_t MAE:0.04722\n",
            "CPE1_C MAE:0.004859\n",
            " \n",
            "Fitting regression for L-R-RCPE-RCPE\n"
          ]
        },
        {
          "name": "stderr",
          "output_type": "stream",
          "text": [
            "Feature Extraction: 100%|██████████| 25/25 [00:13<00:00,  1.87it/s]\n",
            "Feature Extraction: 100%|██████████| 25/25 [00:03<00:00,  8.06it/s]\n"
          ]
        },
        {
          "name": "stdout",
          "output_type": "stream",
          "text": [
            "MAE:4072\n",
            "L1 MAE:1.216e-06\n",
            "R1 MAE:38.92\n",
            "R2 MAE:314.3\n",
            "CPE1_t MAE:0.1358\n",
            "CPE1_C MAE:2.001e-06\n",
            "R3 MAE:3.222e+04\n",
            "CPE2_t MAE:0.0606\n",
            "CPE2_C MAE:0.0122\n",
            " \n",
            "Fitting regression for L-R-RCPE-RCPE-RCPE\n"
          ]
        },
        {
          "name": "stderr",
          "output_type": "stream",
          "text": [
            "Feature Extraction: 100%|██████████| 25/25 [00:12<00:00,  1.96it/s]\n",
            "Feature Extraction: 100%|██████████| 25/25 [00:03<00:00,  7.53it/s]\n"
          ]
        },
        {
          "name": "stdout",
          "output_type": "stream",
          "text": [
            "MAE:7448\n",
            "L1 MAE:1.279e-06\n",
            "R1 MAE:31.66\n",
            "R2 MAE:197.6\n",
            "CPE1_t MAE:0.1495\n",
            "CPE1_C MAE:1.976e-06\n",
            "R3 MAE:2047\n",
            "CPE2_t MAE:0.1201\n",
            "CPE2_C MAE:0.000534\n",
            "R4 MAE:7.966e+04\n",
            "CPE3_t MAE:0.08105\n",
            "CPE3_C MAE:0.02436\n",
            " \n",
            "Fitting regression for RC-G-G\n"
          ]
        },
        {
          "name": "stderr",
          "output_type": "stream",
          "text": [
            "Feature Extraction: 100%|██████████| 25/25 [00:12<00:00,  2.01it/s]\n",
            "Feature Extraction: 100%|██████████| 25/25 [00:03<00:00,  7.01it/s]\n"
          ]
        },
        {
          "name": "stdout",
          "output_type": "stream",
          "text": [
            "MAE:6.148\n",
            "R1 MAE:8.354\n",
            "C1 MAE:4.458e-06\n",
            "R_g1 MAE:2.034\n",
            "t_g1 MAE:0.6604\n",
            "R_g2 MAE:12.95\n",
            "t_g2 MAE:12.89\n",
            " \n",
            "Fitting regression for RC-RC-RCPE-RCPE\n"
          ]
        },
        {
          "name": "stderr",
          "output_type": "stream",
          "text": [
            "Feature Extraction: 100%|██████████| 25/25 [00:13<00:00,  1.85it/s]\n",
            "Feature Extraction: 100%|██████████| 24/24 [00:03<00:00,  7.09it/s]\n"
          ]
        },
        {
          "name": "stdout",
          "output_type": "stream",
          "text": [
            "MAE:7748\n",
            "R1 MAE:3.592\n",
            "R2 MAE:7.963\n",
            "R3 MAE:11.94\n",
            "R4 MAE:7.746e+04\n",
            "C2 MAE:5.833e-06\n",
            "CPE3_C MAE:6.984e-05\n",
            "CPE4_t MAE:0.08969\n",
            "CPE4_C MAE:0.3434\n",
            "C1 MAE:5.656e-17\n",
            "CPE3_t MAE:2.384e-08\n",
            " \n",
            "Fitting regression for RCPE-RCPE\n"
          ]
        },
        {
          "name": "stderr",
          "output_type": "stream",
          "text": [
            "Feature Extraction: 100%|██████████| 25/25 [00:12<00:00,  2.05it/s]\n",
            "Feature Extraction: 100%|██████████| 25/25 [00:03<00:00,  7.90it/s]\n"
          ]
        },
        {
          "name": "stdout",
          "output_type": "stream",
          "text": [
            "MAE:2908\n",
            "R1 MAE:34.29\n",
            "R2 MAE:1.741e+04\n",
            "CPE1_t MAE:0.1319\n",
            "CPE1_C MAE:0.001046\n",
            "CPE2_t MAE:0.05662\n",
            "CPE2_C MAE:0.007384\n",
            " \n",
            "Fitting regression for RCPE-RCPE-RCPE\n"
          ]
        },
        {
          "name": "stderr",
          "output_type": "stream",
          "text": [
            "Feature Extraction: 100%|██████████| 25/25 [00:13<00:00,  1.84it/s]\n",
            "Feature Extraction: 100%|██████████| 24/24 [00:03<00:00,  6.68it/s]\n"
          ]
        },
        {
          "name": "stdout",
          "output_type": "stream",
          "text": [
            "MAE:5960\n",
            "R1 MAE:10.4\n",
            "R2 MAE:281\n",
            "R3 MAE:5.335e+04\n",
            "CPE1_t MAE:0.1373\n",
            "CPE1_C MAE:2.474e-06\n",
            "CPE2_t MAE:0.1106\n",
            "CPE2_C MAE:5.308e-05\n",
            "CPE3_t MAE:0.07056\n",
            "CPE3_C MAE:0.02181\n",
            " \n",
            "Fitting regression for RCPE-RCPE-RCPE-RCPE\n"
          ]
        },
        {
          "name": "stderr",
          "output_type": "stream",
          "text": [
            "Feature Extraction: 100%|██████████| 25/25 [00:13<00:00,  1.86it/s]\n",
            "Feature Extraction: 100%|██████████| 25/25 [00:03<00:00,  7.54it/s]\n"
          ]
        },
        {
          "name": "stdout",
          "output_type": "stream",
          "text": [
            "MAE:5249\n",
            "R1 MAE:31.96\n",
            "R2 MAE:131.4\n",
            "R3 MAE:2643\n",
            "R4 MAE:6.018e+04\n",
            "CPE1_t MAE:0.1356\n",
            "CPE1_C MAE:4.559e-07\n",
            "CPE2_t MAE:0.1277\n",
            "CPE2_C MAE:0.001084\n",
            "CPE3_t MAE:0.1089\n",
            "CPE3_C MAE:0.003579\n",
            "CPE4_t MAE:0.09434\n",
            "CPE4_C MAE:0.02515\n",
            " \n",
            "Fitting regression for Rs_Ws\n"
          ]
        },
        {
          "name": "stderr",
          "output_type": "stream",
          "text": [
            "Feature Extraction: 100%|██████████| 25/25 [00:04<00:00,  5.12it/s]\n",
            "Feature Extraction: 100%|██████████| 24/24 [00:01<00:00, 18.08it/s]\n"
          ]
        },
        {
          "name": "stdout",
          "output_type": "stream",
          "text": [
            "MAE:101.8\n",
            "R1 MAE:23.03\n",
            "W1_R MAE:191\n",
            "W1_T MAE:193\n",
            "W1_p MAE:0.232\n",
            " \n",
            "Fitting regression for L-R-RCPE\n"
          ]
        },
        {
          "name": "stderr",
          "output_type": "stream",
          "text": [
            "Feature Extraction: 100%|██████████| 25/25 [00:12<00:00,  1.97it/s]\n",
            "/Users/joachim/opt/anaconda3/envs/eis-battmen/lib/python3.7/site-packages/sklearn/utils/deprecation.py:103: FutureWarning: `n_features_in_` is deprecated in 1.0 and will be removed in 1.2.\n",
            "  warnings.warn(msg, category=FutureWarning)\n",
            "Feature Extraction: 100%|██████████| 25/25 [00:03<00:00,  7.76it/s]\n"
          ]
        },
        {
          "name": "stdout",
          "output_type": "stream",
          "text": [
            "MAE:7851\n",
            "L1 MAE:1.608e-06\n",
            "R1 MAE:45.85\n",
            "R2 MAE:3.921e+04\n",
            "CPE1_t MAE:0.1172\n",
            "CPE1_C MAE:0.004674\n",
            " \n",
            "Fitting regression for L-R-RCPE-RCPE\n"
          ]
        },
        {
          "name": "stderr",
          "output_type": "stream",
          "text": [
            "Feature Extraction: 100%|██████████| 25/25 [00:13<00:00,  1.82it/s]\n",
            "/Users/joachim/opt/anaconda3/envs/eis-battmen/lib/python3.7/site-packages/sklearn/utils/deprecation.py:103: FutureWarning: `n_features_in_` is deprecated in 1.0 and will be removed in 1.2.\n",
            "  warnings.warn(msg, category=FutureWarning)\n",
            "Feature Extraction: 100%|██████████| 25/25 [00:03<00:00,  8.10it/s]\n"
          ]
        },
        {
          "name": "stdout",
          "output_type": "stream",
          "text": [
            "MAE:5403\n",
            "L1 MAE:1.489e-06\n",
            "R1 MAE:37.1\n",
            "R2 MAE:392.5\n",
            "CPE1_t MAE:0.1238\n",
            "CPE1_C MAE:1.873e-06\n",
            "R3 MAE:4.279e+04\n",
            "CPE2_t MAE:0.136\n",
            "CPE2_C MAE:0.01465\n",
            " \n",
            "Fitting regression for L-R-RCPE-RCPE-RCPE\n"
          ]
        },
        {
          "name": "stderr",
          "output_type": "stream",
          "text": [
            "Feature Extraction: 100%|██████████| 25/25 [00:13<00:00,  1.89it/s]\n",
            "/Users/joachim/opt/anaconda3/envs/eis-battmen/lib/python3.7/site-packages/sklearn/utils/deprecation.py:103: FutureWarning: `n_features_in_` is deprecated in 1.0 and will be removed in 1.2.\n",
            "  warnings.warn(msg, category=FutureWarning)\n",
            "Feature Extraction: 100%|██████████| 25/25 [00:03<00:00,  7.56it/s]\n"
          ]
        },
        {
          "name": "stdout",
          "output_type": "stream",
          "text": [
            "MAE:9237\n",
            "L1 MAE:1.409e-06\n",
            "R1 MAE:36.85\n",
            "R2 MAE:190\n",
            "CPE1_t MAE:0.1316\n",
            "CPE1_C MAE:1.773e-06\n",
            "R3 MAE:2706\n",
            "CPE2_t MAE:0.1359\n",
            "CPE2_C MAE:0.0005893\n",
            "R4 MAE:9.868e+04\n",
            "CPE3_t MAE:0.1259\n",
            "CPE3_C MAE:0.03194\n",
            " \n",
            "Fitting regression for RC-G-G\n"
          ]
        },
        {
          "name": "stderr",
          "output_type": "stream",
          "text": [
            "Feature Extraction: 100%|██████████| 25/25 [00:12<00:00,  1.94it/s]\n",
            "/Users/joachim/opt/anaconda3/envs/eis-battmen/lib/python3.7/site-packages/sklearn/utils/deprecation.py:103: FutureWarning: `n_features_in_` is deprecated in 1.0 and will be removed in 1.2.\n",
            "  warnings.warn(msg, category=FutureWarning)\n",
            "Feature Extraction: 100%|██████████| 25/25 [00:03<00:00,  7.33it/s]\n"
          ]
        },
        {
          "name": "stdout",
          "output_type": "stream",
          "text": [
            "MAE:19.87\n",
            "R1 MAE:51.82\n",
            "C1 MAE:5.383e-06\n",
            "R_g1 MAE:1.801\n",
            "t_g1 MAE:0.6123\n",
            "R_g2 MAE:48.34\n",
            "t_g2 MAE:16.65\n",
            " \n",
            "Fitting regression for RC-RC-RCPE-RCPE\n"
          ]
        },
        {
          "name": "stderr",
          "output_type": "stream",
          "text": [
            "Feature Extraction: 100%|██████████| 25/25 [00:13<00:00,  1.89it/s]\n",
            "/Users/joachim/opt/anaconda3/envs/eis-battmen/lib/python3.7/site-packages/sklearn/utils/deprecation.py:103: FutureWarning: `n_features_in_` is deprecated in 1.0 and will be removed in 1.2.\n",
            "  warnings.warn(msg, category=FutureWarning)\n",
            "Feature Extraction: 100%|██████████| 24/24 [00:03<00:00,  7.17it/s]\n"
          ]
        },
        {
          "name": "stdout",
          "output_type": "stream",
          "text": [
            "MAE:6929\n",
            "R1 MAE:28.81\n",
            "R2 MAE:8.982\n",
            "R3 MAE:34.96\n",
            "R4 MAE:6.921e+04\n",
            "C2 MAE:8.525e-06\n",
            "CPE3_C MAE:0.0001284\n",
            "CPE4_t MAE:0.1572\n",
            "CPE4_C MAE:0.4308\n",
            "C1 MAE:0\n",
            "CPE3_t MAE:0\n",
            " \n",
            "Fitting regression for RCPE-RCPE\n"
          ]
        },
        {
          "name": "stderr",
          "output_type": "stream",
          "text": [
            "Feature Extraction: 100%|██████████| 25/25 [00:12<00:00,  2.07it/s]\n",
            "/Users/joachim/opt/anaconda3/envs/eis-battmen/lib/python3.7/site-packages/sklearn/utils/deprecation.py:103: FutureWarning: `n_features_in_` is deprecated in 1.0 and will be removed in 1.2.\n",
            "  warnings.warn(msg, category=FutureWarning)\n",
            "Feature Extraction: 100%|██████████| 25/25 [00:03<00:00,  7.99it/s]\n"
          ]
        },
        {
          "name": "stdout",
          "output_type": "stream",
          "text": [
            "MAE:6192\n",
            "R1 MAE:42.37\n",
            "R2 MAE:3.711e+04\n",
            "CPE1_t MAE:0.1199\n",
            "CPE1_C MAE:0.00116\n",
            "CPE2_t MAE:0.1264\n",
            "CPE2_C MAE:0.0123\n",
            " \n",
            "Fitting regression for RCPE-RCPE-RCPE\n"
          ]
        },
        {
          "name": "stderr",
          "output_type": "stream",
          "text": [
            "Feature Extraction: 100%|██████████| 25/25 [00:13<00:00,  1.81it/s]\n",
            "/Users/joachim/opt/anaconda3/envs/eis-battmen/lib/python3.7/site-packages/sklearn/utils/deprecation.py:103: FutureWarning: `n_features_in_` is deprecated in 1.0 and will be removed in 1.2.\n",
            "  warnings.warn(msg, category=FutureWarning)\n",
            "Feature Extraction: 100%|██████████| 24/24 [00:03<00:00,  6.64it/s]\n"
          ]
        },
        {
          "name": "stdout",
          "output_type": "stream",
          "text": [
            "MAE:8196\n",
            "R1 MAE:11.95\n",
            "R2 MAE:328.6\n",
            "R3 MAE:7.343e+04\n",
            "CPE1_t MAE:0.1251\n",
            "CPE1_C MAE:1.741e-06\n",
            "CPE2_t MAE:0.1273\n",
            "CPE2_C MAE:5.95e-05\n",
            "CPE3_t MAE:0.1226\n",
            "CPE3_C MAE:0.02729\n",
            " \n",
            "Fitting regression for RCPE-RCPE-RCPE-RCPE\n"
          ]
        },
        {
          "name": "stderr",
          "output_type": "stream",
          "text": [
            "Feature Extraction: 100%|██████████| 25/25 [00:13<00:00,  1.82it/s]\n",
            "/Users/joachim/opt/anaconda3/envs/eis-battmen/lib/python3.7/site-packages/sklearn/utils/deprecation.py:103: FutureWarning: `n_features_in_` is deprecated in 1.0 and will be removed in 1.2.\n",
            "  warnings.warn(msg, category=FutureWarning)\n",
            "Feature Extraction: 100%|██████████| 25/25 [00:03<00:00,  7.12it/s]\n"
          ]
        },
        {
          "name": "stdout",
          "output_type": "stream",
          "text": [
            "MAE:7764\n",
            "R1 MAE:39.29\n",
            "R2 MAE:137.5\n",
            "R3 MAE:2503\n",
            "R4 MAE:9.049e+04\n",
            "CPE1_t MAE:0.1298\n",
            "CPE1_C MAE:4.552e-07\n",
            "CPE2_t MAE:0.1308\n",
            "CPE2_C MAE:0.0008804\n",
            "CPE3_t MAE:0.1294\n",
            "CPE3_C MAE:0.003501\n",
            "CPE4_t MAE:0.1297\n",
            "CPE4_C MAE:0.02773\n",
            " \n",
            "Fitting regression for Rs_Ws\n"
          ]
        },
        {
          "name": "stderr",
          "output_type": "stream",
          "text": [
            "Feature Extraction: 100%|██████████| 25/25 [00:04<00:00,  5.08it/s]\n",
            "/Users/joachim/opt/anaconda3/envs/eis-battmen/lib/python3.7/site-packages/sklearn/utils/deprecation.py:103: FutureWarning: `n_features_in_` is deprecated in 1.0 and will be removed in 1.2.\n",
            "  warnings.warn(msg, category=FutureWarning)\n",
            "Feature Extraction: 100%|██████████| 24/24 [00:01<00:00, 19.34it/s]\n"
          ]
        },
        {
          "name": "stdout",
          "output_type": "stream",
          "text": [
            "MAE:268.2\n",
            "R1 MAE:100.4\n",
            "W1_R MAE:783\n",
            "W1_T MAE:188.6\n",
            "W1_p MAE:0.9692\n"
          ]
        }
      ],
      "source": [
        "predictions_xgt, y_true, ppls_xgt = ecm_regression(use_dummy=False, quantile=True)\n",
        "predictions_d, y_true, ppls_d = ecm_regression(use_dummy=True, quantile=False)"
      ]
    },
    {
      "cell_type": "code",
      "execution_count": 61,
      "metadata": {},
      "outputs": [
        {
          "data": {
            "text/plain": [
              "0      1.780000e-07\n",
              "1      1.310000e-07\n",
              "2      1.160000e-06\n",
              "3      8.070000e-06\n",
              "4      5.710000e-06\n",
              "           ...     \n",
              "215    4.890000e-07\n",
              "216    3.190000e-07\n",
              "217    1.380000e-06\n",
              "218    5.740000e-06\n",
              "219    1.270000e-07\n",
              "Name: L1, Length: 220, dtype: float64"
            ]
          },
          "execution_count": 61,
          "metadata": {},
          "output_type": "execute_result"
        }
      ],
      "source": [
        "y_true[0][col]"
      ]
    },
    {
      "cell_type": "code",
      "execution_count": 69,
      "metadata": {},
      "outputs": [],
      "source": [
        "def parse_mae(predictions, y_true, save=False, save_path=None):\n",
        "    results = []\n",
        "    for i in range(len(predictions)):\n",
        "        for j, col in enumerate(predictions[i].columns):\n",
        "            mae_test_element = MAE_loss(y_true[i][col], predictions[i][col])\n",
        "            res_element = [i, col, mae_test_element]\n",
        "            results.append(res_element)\n",
        "    if save:\n",
        "        # Save results to csv\n",
        "        results_df = pd.DataFrame(results, columns=['circuit', 'param', 'mae'])\n",
        "        results_df.to_csv(save_path+'results.csv')\n",
        "    return results"
      ]
    },
    {
      "cell_type": "code",
      "execution_count": 70,
      "metadata": {},
      "outputs": [],
      "source": [
        "results_xg = parse_mae(predictions_xg, y_true, save=True, save_path='xg')\n",
        "results_xgt = parse_mae(predictions_xgt, y_true, save=True, save_path='xgt')\n",
        "results_d = parse_mae(predictions_d, y_true, save=True, save_path='d')"
      ]
    },
    {
      "cell_type": "code",
      "execution_count": 48,
      "metadata": {},
      "outputs": [
        {
          "name": "stdout",
          "output_type": "stream",
          "text": [
            " \n",
            "Fitting regression for L-R-RCPE\n"
          ]
        },
        {
          "name": "stderr",
          "output_type": "stream",
          "text": [
            "Feature Extraction: 100%|██████████| 25/25 [00:12<00:00,  2.02it/s]\n",
            "/Users/joachim/opt/anaconda3/envs/eis-battmen/lib/python3.7/site-packages/tsfresh/utilities/dataframe_functions.py:202: RuntimeWarning: The columns ['zreal__fft_coefficient__attr_\"real\"__coeff_42'\n",
            " 'zreal__fft_coefficient__attr_\"real\"__coeff_43'\n",
            " 'zreal__fft_coefficient__attr_\"real\"__coeff_44'\n",
            " 'zreal__fft_coefficient__attr_\"real\"__coeff_45'\n",
            " 'zreal__fft_coefficient__attr_\"real\"__coeff_46'\n",
            " 'zreal__fft_coefficient__attr_\"real\"__coeff_47'\n",
            " 'zreal__fft_coefficient__attr_\"real\"__coeff_48'\n",
            " 'zreal__fft_coefficient__attr_\"real\"__coeff_49'\n",
            " 'zreal__fft_coefficient__attr_\"real\"__coeff_50'\n",
            " 'zreal__fft_coefficient__attr_\"real\"__coeff_51'\n",
            " 'zreal__fft_coefficient__attr_\"real\"__coeff_52'\n",
            " 'zreal__fft_coefficient__attr_\"real\"__coeff_53'\n",
            " 'zreal__fft_coefficient__attr_\"real\"__coeff_54'\n",
            " 'zreal__fft_coefficient__attr_\"real\"__coeff_55'\n",
            " 'zreal__fft_coefficient__attr_\"real\"__coeff_56'\n",
            " 'zreal__fft_coefficient__attr_\"real\"__coeff_57'\n",
            " 'zreal__fft_coefficient__attr_\"real\"__coeff_58'\n",
            " 'zreal__fft_coefficient__attr_\"real\"__coeff_59'\n",
            " 'zreal__fft_coefficient__attr_\"real\"__coeff_60'\n",
            " 'zreal__fft_coefficient__attr_\"real\"__coeff_61'\n",
            " 'zreal__fft_coefficient__attr_\"real\"__coeff_62'\n",
            " 'zreal__fft_coefficient__attr_\"real\"__coeff_63'\n",
            " 'zreal__fft_coefficient__attr_\"real\"__coeff_64'\n",
            " 'zreal__fft_coefficient__attr_\"real\"__coeff_65'\n",
            " 'zreal__fft_coefficient__attr_\"real\"__coeff_66'\n",
            " 'zreal__fft_coefficient__attr_\"real\"__coeff_67'\n",
            " 'zreal__fft_coefficient__attr_\"real\"__coeff_68'\n",
            " 'zreal__fft_coefficient__attr_\"real\"__coeff_69'\n",
            " 'zreal__fft_coefficient__attr_\"real\"__coeff_70'\n",
            " 'zreal__fft_coefficient__attr_\"real\"__coeff_71'\n",
            " 'zreal__fft_coefficient__attr_\"real\"__coeff_72'\n",
            " 'zreal__fft_coefficient__attr_\"real\"__coeff_73'\n",
            " 'zreal__fft_coefficient__attr_\"real\"__coeff_74'\n",
            " 'zreal__fft_coefficient__attr_\"real\"__coeff_75'\n",
            " 'zreal__fft_coefficient__attr_\"real\"__coeff_76'\n",
            " 'zreal__fft_coefficient__attr_\"real\"__coeff_77'\n",
            " 'zreal__fft_coefficient__attr_\"real\"__coeff_78'\n",
            " 'zreal__fft_coefficient__attr_\"real\"__coeff_79'\n",
            " 'zreal__fft_coefficient__attr_\"real\"__coeff_80'\n",
            " 'zreal__fft_coefficient__attr_\"real\"__coeff_81'\n",
            " 'zreal__fft_coefficient__attr_\"real\"__coeff_82'\n",
            " 'zreal__fft_coefficient__attr_\"real\"__coeff_83'\n",
            " 'zreal__fft_coefficient__attr_\"real\"__coeff_84'\n",
            " 'zreal__fft_coefficient__attr_\"real\"__coeff_85'\n",
            " 'zreal__fft_coefficient__attr_\"real\"__coeff_86'\n",
            " 'zreal__fft_coefficient__attr_\"real\"__coeff_87'\n",
            " 'zreal__fft_coefficient__attr_\"real\"__coeff_88'\n",
            " 'zreal__fft_coefficient__attr_\"real\"__coeff_89'\n",
            " 'zreal__fft_coefficient__attr_\"real\"__coeff_90'\n",
            " 'zreal__fft_coefficient__attr_\"real\"__coeff_91'\n",
            " 'zreal__fft_coefficient__attr_\"real\"__coeff_92'\n",
            " 'zreal__fft_coefficient__attr_\"real\"__coeff_93'\n",
            " 'zreal__fft_coefficient__attr_\"real\"__coeff_94'\n",
            " 'zreal__fft_coefficient__attr_\"real\"__coeff_95'\n",
            " 'zreal__fft_coefficient__attr_\"real\"__coeff_96'\n",
            " 'zreal__fft_coefficient__attr_\"real\"__coeff_97'\n",
            " 'zreal__fft_coefficient__attr_\"real\"__coeff_98'\n",
            " 'zreal__fft_coefficient__attr_\"real\"__coeff_99'\n",
            " 'zreal__fft_coefficient__attr_\"imag\"__coeff_42'\n",
            " 'zreal__fft_coefficient__attr_\"imag\"__coeff_43'\n",
            " 'zreal__fft_coefficient__attr_\"imag\"__coeff_44'\n",
            " 'zreal__fft_coefficient__attr_\"imag\"__coeff_45'\n",
            " 'zreal__fft_coefficient__attr_\"imag\"__coeff_46'\n",
            " 'zreal__fft_coefficient__attr_\"imag\"__coeff_47'\n",
            " 'zreal__fft_coefficient__attr_\"imag\"__coeff_48'\n",
            " 'zreal__fft_coefficient__attr_\"imag\"__coeff_49'\n",
            " 'zreal__fft_coefficient__attr_\"imag\"__coeff_50'\n",
            " 'zreal__fft_coefficient__attr_\"imag\"__coeff_51'\n",
            " 'zreal__fft_coefficient__attr_\"imag\"__coeff_52'\n",
            " 'zreal__fft_coefficient__attr_\"imag\"__coeff_53'\n",
            " 'zreal__fft_coefficient__attr_\"imag\"__coeff_54'\n",
            " 'zreal__fft_coefficient__attr_\"imag\"__coeff_55'\n",
            " 'zreal__fft_coefficient__attr_\"imag\"__coeff_56'\n",
            " 'zreal__fft_coefficient__attr_\"imag\"__coeff_57'\n",
            " 'zreal__fft_coefficient__attr_\"imag\"__coeff_58'\n",
            " 'zreal__fft_coefficient__attr_\"imag\"__coeff_59'\n",
            " 'zreal__fft_coefficient__attr_\"imag\"__coeff_60'\n",
            " 'zreal__fft_coefficient__attr_\"imag\"__coeff_61'\n",
            " 'zreal__fft_coefficient__attr_\"imag\"__coeff_62'\n",
            " 'zreal__fft_coefficient__attr_\"imag\"__coeff_63'\n",
            " 'zreal__fft_coefficient__attr_\"imag\"__coeff_64'\n",
            " 'zreal__fft_coefficient__attr_\"imag\"__coeff_65'\n",
            " 'zreal__fft_coefficient__attr_\"imag\"__coeff_66'\n",
            " 'zreal__fft_coefficient__attr_\"imag\"__coeff_67'\n",
            " 'zreal__fft_coefficient__attr_\"imag\"__coeff_68'\n",
            " 'zreal__fft_coefficient__attr_\"imag\"__coeff_69'\n",
            " 'zreal__fft_coefficient__attr_\"imag\"__coeff_70'\n",
            " 'zreal__fft_coefficient__attr_\"imag\"__coeff_71'\n",
            " 'zreal__fft_coefficient__attr_\"imag\"__coeff_72'\n",
            " 'zreal__fft_coefficient__attr_\"imag\"__coeff_73'\n",
            " 'zreal__fft_coefficient__attr_\"imag\"__coeff_74'\n",
            " 'zreal__fft_coefficient__attr_\"imag\"__coeff_75'\n",
            " 'zreal__fft_coefficient__attr_\"imag\"__coeff_76'\n",
            " 'zreal__fft_coefficient__attr_\"imag\"__coeff_77'\n",
            " 'zreal__fft_coefficient__attr_\"imag\"__coeff_78'\n",
            " 'zreal__fft_coefficient__attr_\"imag\"__coeff_79'\n",
            " 'zreal__fft_coefficient__attr_\"imag\"__coeff_80'\n",
            " 'zreal__fft_coefficient__attr_\"imag\"__coeff_81'\n",
            " 'zreal__fft_coefficient__attr_\"imag\"__coeff_82'\n",
            " 'zreal__fft_coefficient__attr_\"imag\"__coeff_83'\n",
            " 'zreal__fft_coefficient__attr_\"imag\"__coeff_84'\n",
            " 'zreal__fft_coefficient__attr_\"imag\"__coeff_85'\n",
            " 'zreal__fft_coefficient__attr_\"imag\"__coeff_86'\n",
            " 'zreal__fft_coefficient__attr_\"imag\"__coeff_87'\n",
            " 'zreal__fft_coefficient__attr_\"imag\"__coeff_88'\n",
            " 'zreal__fft_coefficient__attr_\"imag\"__coeff_89'\n",
            " 'zreal__fft_coefficient__attr_\"imag\"__coeff_90'\n",
            " 'zreal__fft_coefficient__attr_\"imag\"__coeff_91'\n",
            " 'zreal__fft_coefficient__attr_\"imag\"__coeff_92'\n",
            " 'zreal__fft_coefficient__attr_\"imag\"__coeff_93'\n",
            " 'zreal__fft_coefficient__attr_\"imag\"__coeff_94'\n",
            " 'zreal__fft_coefficient__attr_\"imag\"__coeff_95'\n",
            " 'zreal__fft_coefficient__attr_\"imag\"__coeff_96'\n",
            " 'zreal__fft_coefficient__attr_\"imag\"__coeff_97'\n",
            " 'zreal__fft_coefficient__attr_\"imag\"__coeff_98'\n",
            " 'zreal__fft_coefficient__attr_\"imag\"__coeff_99'\n",
            " 'zreal__fft_coefficient__attr_\"abs\"__coeff_42'\n",
            " 'zreal__fft_coefficient__attr_\"abs\"__coeff_43'\n",
            " 'zreal__fft_coefficient__attr_\"abs\"__coeff_44'\n",
            " 'zreal__fft_coefficient__attr_\"abs\"__coeff_45'\n",
            " 'zreal__fft_coefficient__attr_\"abs\"__coeff_46'\n",
            " 'zreal__fft_coefficient__attr_\"abs\"__coeff_47'\n",
            " 'zreal__fft_coefficient__attr_\"abs\"__coeff_48'\n",
            " 'zreal__fft_coefficient__attr_\"abs\"__coeff_49'\n",
            " 'zreal__fft_coefficient__attr_\"abs\"__coeff_50'\n",
            " 'zreal__fft_coefficient__attr_\"abs\"__coeff_51'\n",
            " 'zreal__fft_coefficient__attr_\"abs\"__coeff_52'\n",
            " 'zreal__fft_coefficient__attr_\"abs\"__coeff_53'\n",
            " 'zreal__fft_coefficient__attr_\"abs\"__coeff_54'\n",
            " 'zreal__fft_coefficient__attr_\"abs\"__coeff_55'\n",
            " 'zreal__fft_coefficient__attr_\"abs\"__coeff_56'\n",
            " 'zreal__fft_coefficient__attr_\"abs\"__coeff_57'\n",
            " 'zreal__fft_coefficient__attr_\"abs\"__coeff_58'\n",
            " 'zreal__fft_coefficient__attr_\"abs\"__coeff_59'\n",
            " 'zreal__fft_coefficient__attr_\"abs\"__coeff_60'\n",
            " 'zreal__fft_coefficient__attr_\"abs\"__coeff_61'\n",
            " 'zreal__fft_coefficient__attr_\"abs\"__coeff_62'\n",
            " 'zreal__fft_coefficient__attr_\"abs\"__coeff_63'\n",
            " 'zreal__fft_coefficient__attr_\"abs\"__coeff_64'\n",
            " 'zreal__fft_coefficient__attr_\"abs\"__coeff_65'\n",
            " 'zreal__fft_coefficient__attr_\"abs\"__coeff_66'\n",
            " 'zreal__fft_coefficient__attr_\"abs\"__coeff_67'\n",
            " 'zreal__fft_coefficient__attr_\"abs\"__coeff_68'\n",
            " 'zreal__fft_coefficient__attr_\"abs\"__coeff_69'\n",
            " 'zreal__fft_coefficient__attr_\"abs\"__coeff_70'\n",
            " 'zreal__fft_coefficient__attr_\"abs\"__coeff_71'\n",
            " 'zreal__fft_coefficient__attr_\"abs\"__coeff_72'\n",
            " 'zreal__fft_coefficient__attr_\"abs\"__coeff_73'\n",
            " 'zreal__fft_coefficient__attr_\"abs\"__coeff_74'\n",
            " 'zreal__fft_coefficient__attr_\"abs\"__coeff_75'\n",
            " 'zreal__fft_coefficient__attr_\"abs\"__coeff_76'\n",
            " 'zreal__fft_coefficient__attr_\"abs\"__coeff_77'\n",
            " 'zreal__fft_coefficient__attr_\"abs\"__coeff_78'\n",
            " 'zreal__fft_coefficient__attr_\"abs\"__coeff_79'\n",
            " 'zreal__fft_coefficient__attr_\"abs\"__coeff_80'\n",
            " 'zreal__fft_coefficient__attr_\"abs\"__coeff_81'\n",
            " 'zreal__fft_coefficient__attr_\"abs\"__coeff_82'\n",
            " 'zreal__fft_coefficient__attr_\"abs\"__coeff_83'\n",
            " 'zreal__fft_coefficient__attr_\"abs\"__coeff_84'\n",
            " 'zreal__fft_coefficient__attr_\"abs\"__coeff_85'\n",
            " 'zreal__fft_coefficient__attr_\"abs\"__coeff_86'\n",
            " 'zreal__fft_coefficient__attr_\"abs\"__coeff_87'\n",
            " 'zreal__fft_coefficient__attr_\"abs\"__coeff_88'\n",
            " 'zreal__fft_coefficient__attr_\"abs\"__coeff_89'\n",
            " 'zreal__fft_coefficient__attr_\"abs\"__coeff_90'\n",
            " 'zreal__fft_coefficient__attr_\"abs\"__coeff_91'\n",
            " 'zreal__fft_coefficient__attr_\"abs\"__coeff_92'\n",
            " 'zreal__fft_coefficient__attr_\"abs\"__coeff_93'\n",
            " 'zreal__fft_coefficient__attr_\"abs\"__coeff_94'\n",
            " 'zreal__fft_coefficient__attr_\"abs\"__coeff_95'\n",
            " 'zreal__fft_coefficient__attr_\"abs\"__coeff_96'\n",
            " 'zreal__fft_coefficient__attr_\"abs\"__coeff_97'\n",
            " 'zreal__fft_coefficient__attr_\"abs\"__coeff_98'\n",
            " 'zreal__fft_coefficient__attr_\"abs\"__coeff_99'\n",
            " 'zreal__fft_coefficient__attr_\"angle\"__coeff_42'\n",
            " 'zreal__fft_coefficient__attr_\"angle\"__coeff_43'\n",
            " 'zreal__fft_coefficient__attr_\"angle\"__coeff_44'\n",
            " 'zreal__fft_coefficient__attr_\"angle\"__coeff_45'\n",
            " 'zreal__fft_coefficient__attr_\"angle\"__coeff_46'\n",
            " 'zreal__fft_coefficient__attr_\"angle\"__coeff_47'\n",
            " 'zreal__fft_coefficient__attr_\"angle\"__coeff_48'\n",
            " 'zreal__fft_coefficient__attr_\"angle\"__coeff_49'\n",
            " 'zreal__fft_coefficient__attr_\"angle\"__coeff_50'\n",
            " 'zreal__fft_coefficient__attr_\"angle\"__coeff_51'\n",
            " 'zreal__fft_coefficient__attr_\"angle\"__coeff_52'\n",
            " 'zreal__fft_coefficient__attr_\"angle\"__coeff_53'\n",
            " 'zreal__fft_coefficient__attr_\"angle\"__coeff_54'\n",
            " 'zreal__fft_coefficient__attr_\"angle\"__coeff_55'\n",
            " 'zreal__fft_coefficient__attr_\"angle\"__coeff_56'\n",
            " 'zreal__fft_coefficient__attr_\"angle\"__coeff_57'\n",
            " 'zreal__fft_coefficient__attr_\"angle\"__coeff_58'\n",
            " 'zreal__fft_coefficient__attr_\"angle\"__coeff_59'\n",
            " 'zreal__fft_coefficient__attr_\"angle\"__coeff_60'\n",
            " 'zreal__fft_coefficient__attr_\"angle\"__coeff_61'\n",
            " 'zreal__fft_coefficient__attr_\"angle\"__coeff_62'\n",
            " 'zreal__fft_coefficient__attr_\"angle\"__coeff_63'\n",
            " 'zreal__fft_coefficient__attr_\"angle\"__coeff_64'\n",
            " 'zreal__fft_coefficient__attr_\"angle\"__coeff_65'\n",
            " 'zreal__fft_coefficient__attr_\"angle\"__coeff_66'\n",
            " 'zreal__fft_coefficient__attr_\"angle\"__coeff_67'\n",
            " 'zreal__fft_coefficient__attr_\"angle\"__coeff_68'\n",
            " 'zreal__fft_coefficient__attr_\"angle\"__coeff_69'\n",
            " 'zreal__fft_coefficient__attr_\"angle\"__coeff_70'\n",
            " 'zreal__fft_coefficient__attr_\"angle\"__coeff_71'\n",
            " 'zreal__fft_coefficient__attr_\"angle\"__coeff_72'\n",
            " 'zreal__fft_coefficient__attr_\"angle\"__coeff_73'\n",
            " 'zreal__fft_coefficient__attr_\"angle\"__coeff_74'\n",
            " 'zreal__fft_coefficient__attr_\"angle\"__coeff_75'\n",
            " 'zreal__fft_coefficient__attr_\"angle\"__coeff_76'\n",
            " 'zreal__fft_coefficient__attr_\"angle\"__coeff_77'\n",
            " 'zreal__fft_coefficient__attr_\"angle\"__coeff_78'\n",
            " 'zreal__fft_coefficient__attr_\"angle\"__coeff_79'\n",
            " 'zreal__fft_coefficient__attr_\"angle\"__coeff_80'\n",
            " 'zreal__fft_coefficient__attr_\"angle\"__coeff_81'\n",
            " 'zreal__fft_coefficient__attr_\"angle\"__coeff_82'\n",
            " 'zreal__fft_coefficient__attr_\"angle\"__coeff_83'\n",
            " 'zreal__fft_coefficient__attr_\"angle\"__coeff_84'\n",
            " 'zreal__fft_coefficient__attr_\"angle\"__coeff_85'\n",
            " 'zreal__fft_coefficient__attr_\"angle\"__coeff_86'\n",
            " 'zreal__fft_coefficient__attr_\"angle\"__coeff_87'\n",
            " 'zreal__fft_coefficient__attr_\"angle\"__coeff_88'\n",
            " 'zreal__fft_coefficient__attr_\"angle\"__coeff_89'\n",
            " 'zreal__fft_coefficient__attr_\"angle\"__coeff_90'\n",
            " 'zreal__fft_coefficient__attr_\"angle\"__coeff_91'\n",
            " 'zreal__fft_coefficient__attr_\"angle\"__coeff_92'\n",
            " 'zreal__fft_coefficient__attr_\"angle\"__coeff_93'\n",
            " 'zreal__fft_coefficient__attr_\"angle\"__coeff_94'\n",
            " 'zreal__fft_coefficient__attr_\"angle\"__coeff_95'\n",
            " 'zreal__fft_coefficient__attr_\"angle\"__coeff_96'\n",
            " 'zreal__fft_coefficient__attr_\"angle\"__coeff_97'\n",
            " 'zreal__fft_coefficient__attr_\"angle\"__coeff_98'\n",
            " 'zreal__fft_coefficient__attr_\"angle\"__coeff_99'\n",
            " 'zreal__query_similarity_count__query_None__threshold_0.0'\n",
            " 'zimag__fft_coefficient__attr_\"real\"__coeff_42'\n",
            " 'zimag__fft_coefficient__attr_\"real\"__coeff_43'\n",
            " 'zimag__fft_coefficient__attr_\"real\"__coeff_44'\n",
            " 'zimag__fft_coefficient__attr_\"real\"__coeff_45'\n",
            " 'zimag__fft_coefficient__attr_\"real\"__coeff_46'\n",
            " 'zimag__fft_coefficient__attr_\"real\"__coeff_47'\n",
            " 'zimag__fft_coefficient__attr_\"real\"__coeff_48'\n",
            " 'zimag__fft_coefficient__attr_\"real\"__coeff_49'\n",
            " 'zimag__fft_coefficient__attr_\"real\"__coeff_50'\n",
            " 'zimag__fft_coefficient__attr_\"real\"__coeff_51'\n",
            " 'zimag__fft_coefficient__attr_\"real\"__coeff_52'\n",
            " 'zimag__fft_coefficient__attr_\"real\"__coeff_53'\n",
            " 'zimag__fft_coefficient__attr_\"real\"__coeff_54'\n",
            " 'zimag__fft_coefficient__attr_\"real\"__coeff_55'\n",
            " 'zimag__fft_coefficient__attr_\"real\"__coeff_56'\n",
            " 'zimag__fft_coefficient__attr_\"real\"__coeff_57'\n",
            " 'zimag__fft_coefficient__attr_\"real\"__coeff_58'\n",
            " 'zimag__fft_coefficient__attr_\"real\"__coeff_59'\n",
            " 'zimag__fft_coefficient__attr_\"real\"__coeff_60'\n",
            " 'zimag__fft_coefficient__attr_\"real\"__coeff_61'\n",
            " 'zimag__fft_coefficient__attr_\"real\"__coeff_62'\n",
            " 'zimag__fft_coefficient__attr_\"real\"__coeff_63'\n",
            " 'zimag__fft_coefficient__attr_\"real\"__coeff_64'\n",
            " 'zimag__fft_coefficient__attr_\"real\"__coeff_65'\n",
            " 'zimag__fft_coefficient__attr_\"real\"__coeff_66'\n",
            " 'zimag__fft_coefficient__attr_\"real\"__coeff_67'\n",
            " 'zimag__fft_coefficient__attr_\"real\"__coeff_68'\n",
            " 'zimag__fft_coefficient__attr_\"real\"__coeff_69'\n",
            " 'zimag__fft_coefficient__attr_\"real\"__coeff_70'\n",
            " 'zimag__fft_coefficient__attr_\"real\"__coeff_71'\n",
            " 'zimag__fft_coefficient__attr_\"real\"__coeff_72'\n",
            " 'zimag__fft_coefficient__attr_\"real\"__coeff_73'\n",
            " 'zimag__fft_coefficient__attr_\"real\"__coeff_74'\n",
            " 'zimag__fft_coefficient__attr_\"real\"__coeff_75'\n",
            " 'zimag__fft_coefficient__attr_\"real\"__coeff_76'\n",
            " 'zimag__fft_coefficient__attr_\"real\"__coeff_77'\n",
            " 'zimag__fft_coefficient__attr_\"real\"__coeff_78'\n",
            " 'zimag__fft_coefficient__attr_\"real\"__coeff_79'\n",
            " 'zimag__fft_coefficient__attr_\"real\"__coeff_80'\n",
            " 'zimag__fft_coefficient__attr_\"real\"__coeff_81'\n",
            " 'zimag__fft_coefficient__attr_\"real\"__coeff_82'\n",
            " 'zimag__fft_coefficient__attr_\"real\"__coeff_83'\n",
            " 'zimag__fft_coefficient__attr_\"real\"__coeff_84'\n",
            " 'zimag__fft_coefficient__attr_\"real\"__coeff_85'\n",
            " 'zimag__fft_coefficient__attr_\"real\"__coeff_86'\n",
            " 'zimag__fft_coefficient__attr_\"real\"__coeff_87'\n",
            " 'zimag__fft_coefficient__attr_\"real\"__coeff_88'\n",
            " 'zimag__fft_coefficient__attr_\"real\"__coeff_89'\n",
            " 'zimag__fft_coefficient__attr_\"real\"__coeff_90'\n",
            " 'zimag__fft_coefficient__attr_\"real\"__coeff_91'\n",
            " 'zimag__fft_coefficient__attr_\"real\"__coeff_92'\n",
            " 'zimag__fft_coefficient__attr_\"real\"__coeff_93'\n",
            " 'zimag__fft_coefficient__attr_\"real\"__coeff_94'\n",
            " 'zimag__fft_coefficient__attr_\"real\"__coeff_95'\n",
            " 'zimag__fft_coefficient__attr_\"real\"__coeff_96'\n",
            " 'zimag__fft_coefficient__attr_\"real\"__coeff_97'\n",
            " 'zimag__fft_coefficient__attr_\"real\"__coeff_98'\n",
            " 'zimag__fft_coefficient__attr_\"real\"__coeff_99'\n",
            " 'zimag__fft_coefficient__attr_\"imag\"__coeff_42'\n",
            " 'zimag__fft_coefficient__attr_\"imag\"__coeff_43'\n",
            " 'zimag__fft_coefficient__attr_\"imag\"__coeff_44'\n",
            " 'zimag__fft_coefficient__attr_\"imag\"__coeff_45'\n",
            " 'zimag__fft_coefficient__attr_\"imag\"__coeff_46'\n",
            " 'zimag__fft_coefficient__attr_\"imag\"__coeff_47'\n",
            " 'zimag__fft_coefficient__attr_\"imag\"__coeff_48'\n",
            " 'zimag__fft_coefficient__attr_\"imag\"__coeff_49'\n",
            " 'zimag__fft_coefficient__attr_\"imag\"__coeff_50'\n",
            " 'zimag__fft_coefficient__attr_\"imag\"__coeff_51'\n",
            " 'zimag__fft_coefficient__attr_\"imag\"__coeff_52'\n",
            " 'zimag__fft_coefficient__attr_\"imag\"__coeff_53'\n",
            " 'zimag__fft_coefficient__attr_\"imag\"__coeff_54'\n",
            " 'zimag__fft_coefficient__attr_\"imag\"__coeff_55'\n",
            " 'zimag__fft_coefficient__attr_\"imag\"__coeff_56'\n",
            " 'zimag__fft_coefficient__attr_\"imag\"__coeff_57'\n",
            " 'zimag__fft_coefficient__attr_\"imag\"__coeff_58'\n",
            " 'zimag__fft_coefficient__attr_\"imag\"__coeff_59'\n",
            " 'zimag__fft_coefficient__attr_\"imag\"__coeff_60'\n",
            " 'zimag__fft_coefficient__attr_\"imag\"__coeff_61'\n",
            " 'zimag__fft_coefficient__attr_\"imag\"__coeff_62'\n",
            " 'zimag__fft_coefficient__attr_\"imag\"__coeff_63'\n",
            " 'zimag__fft_coefficient__attr_\"imag\"__coeff_64'\n",
            " 'zimag__fft_coefficient__attr_\"imag\"__coeff_65'\n",
            " 'zimag__fft_coefficient__attr_\"imag\"__coeff_66'\n",
            " 'zimag__fft_coefficient__attr_\"imag\"__coeff_67'\n",
            " 'zimag__fft_coefficient__attr_\"imag\"__coeff_68'\n",
            " 'zimag__fft_coefficient__attr_\"imag\"__coeff_69'\n",
            " 'zimag__fft_coefficient__attr_\"imag\"__coeff_70'\n",
            " 'zimag__fft_coefficient__attr_\"imag\"__coeff_71'\n",
            " 'zimag__fft_coefficient__attr_\"imag\"__coeff_72'\n",
            " 'zimag__fft_coefficient__attr_\"imag\"__coeff_73'\n",
            " 'zimag__fft_coefficient__attr_\"imag\"__coeff_74'\n",
            " 'zimag__fft_coefficient__attr_\"imag\"__coeff_75'\n",
            " 'zimag__fft_coefficient__attr_\"imag\"__coeff_76'\n",
            " 'zimag__fft_coefficient__attr_\"imag\"__coeff_77'\n",
            " 'zimag__fft_coefficient__attr_\"imag\"__coeff_78'\n",
            " 'zimag__fft_coefficient__attr_\"imag\"__coeff_79'\n",
            " 'zimag__fft_coefficient__attr_\"imag\"__coeff_80'\n",
            " 'zimag__fft_coefficient__attr_\"imag\"__coeff_81'\n",
            " 'zimag__fft_coefficient__attr_\"imag\"__coeff_82'\n",
            " 'zimag__fft_coefficient__attr_\"imag\"__coeff_83'\n",
            " 'zimag__fft_coefficient__attr_\"imag\"__coeff_84'\n",
            " 'zimag__fft_coefficient__attr_\"imag\"__coeff_85'\n",
            " 'zimag__fft_coefficient__attr_\"imag\"__coeff_86'\n",
            " 'zimag__fft_coefficient__attr_\"imag\"__coeff_87'\n",
            " 'zimag__fft_coefficient__attr_\"imag\"__coeff_88'\n",
            " 'zimag__fft_coefficient__attr_\"imag\"__coeff_89'\n",
            " 'zimag__fft_coefficient__attr_\"imag\"__coeff_90'\n",
            " 'zimag__fft_coefficient__attr_\"imag\"__coeff_91'\n",
            " 'zimag__fft_coefficient__attr_\"imag\"__coeff_92'\n",
            " 'zimag__fft_coefficient__attr_\"imag\"__coeff_93'\n",
            " 'zimag__fft_coefficient__attr_\"imag\"__coeff_94'\n",
            " 'zimag__fft_coefficient__attr_\"imag\"__coeff_95'\n",
            " 'zimag__fft_coefficient__attr_\"imag\"__coeff_96'\n",
            " 'zimag__fft_coefficient__attr_\"imag\"__coeff_97'\n",
            " 'zimag__fft_coefficient__attr_\"imag\"__coeff_98'\n",
            " 'zimag__fft_coefficient__attr_\"imag\"__coeff_99'\n",
            " 'zimag__fft_coefficient__attr_\"abs\"__coeff_42'\n",
            " 'zimag__fft_coefficient__attr_\"abs\"__coeff_43'\n",
            " 'zimag__fft_coefficient__attr_\"abs\"__coeff_44'\n",
            " 'zimag__fft_coefficient__attr_\"abs\"__coeff_45'\n",
            " 'zimag__fft_coefficient__attr_\"abs\"__coeff_46'\n",
            " 'zimag__fft_coefficient__attr_\"abs\"__coeff_47'\n",
            " 'zimag__fft_coefficient__attr_\"abs\"__coeff_48'\n",
            " 'zimag__fft_coefficient__attr_\"abs\"__coeff_49'\n",
            " 'zimag__fft_coefficient__attr_\"abs\"__coeff_50'\n",
            " 'zimag__fft_coefficient__attr_\"abs\"__coeff_51'\n",
            " 'zimag__fft_coefficient__attr_\"abs\"__coeff_52'\n",
            " 'zimag__fft_coefficient__attr_\"abs\"__coeff_53'\n",
            " 'zimag__fft_coefficient__attr_\"abs\"__coeff_54'\n",
            " 'zimag__fft_coefficient__attr_\"abs\"__coeff_55'\n",
            " 'zimag__fft_coefficient__attr_\"abs\"__coeff_56'\n",
            " 'zimag__fft_coefficient__attr_\"abs\"__coeff_57'\n",
            " 'zimag__fft_coefficient__attr_\"abs\"__coeff_58'\n",
            " 'zimag__fft_coefficient__attr_\"abs\"__coeff_59'\n",
            " 'zimag__fft_coefficient__attr_\"abs\"__coeff_60'\n",
            " 'zimag__fft_coefficient__attr_\"abs\"__coeff_61'\n",
            " 'zimag__fft_coefficient__attr_\"abs\"__coeff_62'\n",
            " 'zimag__fft_coefficient__attr_\"abs\"__coeff_63'\n",
            " 'zimag__fft_coefficient__attr_\"abs\"__coeff_64'\n",
            " 'zimag__fft_coefficient__attr_\"abs\"__coeff_65'\n",
            " 'zimag__fft_coefficient__attr_\"abs\"__coeff_66'\n",
            " 'zimag__fft_coefficient__attr_\"abs\"__coeff_67'\n",
            " 'zimag__fft_coefficient__attr_\"abs\"__coeff_68'\n",
            " 'zimag__fft_coefficient__attr_\"abs\"__coeff_69'\n",
            " 'zimag__fft_coefficient__attr_\"abs\"__coeff_70'\n",
            " 'zimag__fft_coefficient__attr_\"abs\"__coeff_71'\n",
            " 'zimag__fft_coefficient__attr_\"abs\"__coeff_72'\n",
            " 'zimag__fft_coefficient__attr_\"abs\"__coeff_73'\n",
            " 'zimag__fft_coefficient__attr_\"abs\"__coeff_74'\n",
            " 'zimag__fft_coefficient__attr_\"abs\"__coeff_75'\n",
            " 'zimag__fft_coefficient__attr_\"abs\"__coeff_76'\n",
            " 'zimag__fft_coefficient__attr_\"abs\"__coeff_77'\n",
            " 'zimag__fft_coefficient__attr_\"abs\"__coeff_78'\n",
            " 'zimag__fft_coefficient__attr_\"abs\"__coeff_79'\n",
            " 'zimag__fft_coefficient__attr_\"abs\"__coeff_80'\n",
            " 'zimag__fft_coefficient__attr_\"abs\"__coeff_81'\n",
            " 'zimag__fft_coefficient__attr_\"abs\"__coeff_82'\n",
            " 'zimag__fft_coefficient__attr_\"abs\"__coeff_83'\n",
            " 'zimag__fft_coefficient__attr_\"abs\"__coeff_84'\n",
            " 'zimag__fft_coefficient__attr_\"abs\"__coeff_85'\n",
            " 'zimag__fft_coefficient__attr_\"abs\"__coeff_86'\n",
            " 'zimag__fft_coefficient__attr_\"abs\"__coeff_87'\n",
            " 'zimag__fft_coefficient__attr_\"abs\"__coeff_88'\n",
            " 'zimag__fft_coefficient__attr_\"abs\"__coeff_89'\n",
            " 'zimag__fft_coefficient__attr_\"abs\"__coeff_90'\n",
            " 'zimag__fft_coefficient__attr_\"abs\"__coeff_91'\n",
            " 'zimag__fft_coefficient__attr_\"abs\"__coeff_92'\n",
            " 'zimag__fft_coefficient__attr_\"abs\"__coeff_93'\n",
            " 'zimag__fft_coefficient__attr_\"abs\"__coeff_94'\n",
            " 'zimag__fft_coefficient__attr_\"abs\"__coeff_95'\n",
            " 'zimag__fft_coefficient__attr_\"abs\"__coeff_96'\n",
            " 'zimag__fft_coefficient__attr_\"abs\"__coeff_97'\n",
            " 'zimag__fft_coefficient__attr_\"abs\"__coeff_98'\n",
            " 'zimag__fft_coefficient__attr_\"abs\"__coeff_99'\n",
            " 'zimag__fft_coefficient__attr_\"angle\"__coeff_42'\n",
            " 'zimag__fft_coefficient__attr_\"angle\"__coeff_43'\n",
            " 'zimag__fft_coefficient__attr_\"angle\"__coeff_44'\n",
            " 'zimag__fft_coefficient__attr_\"angle\"__coeff_45'\n",
            " 'zimag__fft_coefficient__attr_\"angle\"__coeff_46'\n",
            " 'zimag__fft_coefficient__attr_\"angle\"__coeff_47'\n",
            " 'zimag__fft_coefficient__attr_\"angle\"__coeff_48'\n",
            " 'zimag__fft_coefficient__attr_\"angle\"__coeff_49'\n",
            " 'zimag__fft_coefficient__attr_\"angle\"__coeff_50'\n",
            " 'zimag__fft_coefficient__attr_\"angle\"__coeff_51'\n",
            " 'zimag__fft_coefficient__attr_\"angle\"__coeff_52'\n",
            " 'zimag__fft_coefficient__attr_\"angle\"__coeff_53'\n",
            " 'zimag__fft_coefficient__attr_\"angle\"__coeff_54'\n",
            " 'zimag__fft_coefficient__attr_\"angle\"__coeff_55'\n",
            " 'zimag__fft_coefficient__attr_\"angle\"__coeff_56'\n",
            " 'zimag__fft_coefficient__attr_\"angle\"__coeff_57'\n",
            " 'zimag__fft_coefficient__attr_\"angle\"__coeff_58'\n",
            " 'zimag__fft_coefficient__attr_\"angle\"__coeff_59'\n",
            " 'zimag__fft_coefficient__attr_\"angle\"__coeff_60'\n",
            " 'zimag__fft_coefficient__attr_\"angle\"__coeff_61'\n",
            " 'zimag__fft_coefficient__attr_\"angle\"__coeff_62'\n",
            " 'zimag__fft_coefficient__attr_\"angle\"__coeff_63'\n",
            " 'zimag__fft_coefficient__attr_\"angle\"__coeff_64'\n",
            " 'zimag__fft_coefficient__attr_\"angle\"__coeff_65'\n",
            " 'zimag__fft_coefficient__attr_\"angle\"__coeff_66'\n",
            " 'zimag__fft_coefficient__attr_\"angle\"__coeff_67'\n",
            " 'zimag__fft_coefficient__attr_\"angle\"__coeff_68'\n",
            " 'zimag__fft_coefficient__attr_\"angle\"__coeff_69'\n",
            " 'zimag__fft_coefficient__attr_\"angle\"__coeff_70'\n",
            " 'zimag__fft_coefficient__attr_\"angle\"__coeff_71'\n",
            " 'zimag__fft_coefficient__attr_\"angle\"__coeff_72'\n",
            " 'zimag__fft_coefficient__attr_\"angle\"__coeff_73'\n",
            " 'zimag__fft_coefficient__attr_\"angle\"__coeff_74'\n",
            " 'zimag__fft_coefficient__attr_\"angle\"__coeff_75'\n",
            " 'zimag__fft_coefficient__attr_\"angle\"__coeff_76'\n",
            " 'zimag__fft_coefficient__attr_\"angle\"__coeff_77'\n",
            " 'zimag__fft_coefficient__attr_\"angle\"__coeff_78'\n",
            " 'zimag__fft_coefficient__attr_\"angle\"__coeff_79'\n",
            " 'zimag__fft_coefficient__attr_\"angle\"__coeff_80'\n",
            " 'zimag__fft_coefficient__attr_\"angle\"__coeff_81'\n",
            " 'zimag__fft_coefficient__attr_\"angle\"__coeff_82'\n",
            " 'zimag__fft_coefficient__attr_\"angle\"__coeff_83'\n",
            " 'zimag__fft_coefficient__attr_\"angle\"__coeff_84'\n",
            " 'zimag__fft_coefficient__attr_\"angle\"__coeff_85'\n",
            " 'zimag__fft_coefficient__attr_\"angle\"__coeff_86'\n",
            " 'zimag__fft_coefficient__attr_\"angle\"__coeff_87'\n",
            " 'zimag__fft_coefficient__attr_\"angle\"__coeff_88'\n",
            " 'zimag__fft_coefficient__attr_\"angle\"__coeff_89'\n",
            " 'zimag__fft_coefficient__attr_\"angle\"__coeff_90'\n",
            " 'zimag__fft_coefficient__attr_\"angle\"__coeff_91'\n",
            " 'zimag__fft_coefficient__attr_\"angle\"__coeff_92'\n",
            " 'zimag__fft_coefficient__attr_\"angle\"__coeff_93'\n",
            " 'zimag__fft_coefficient__attr_\"angle\"__coeff_94'\n",
            " 'zimag__fft_coefficient__attr_\"angle\"__coeff_95'\n",
            " 'zimag__fft_coefficient__attr_\"angle\"__coeff_96'\n",
            " 'zimag__fft_coefficient__attr_\"angle\"__coeff_97'\n",
            " 'zimag__fft_coefficient__attr_\"angle\"__coeff_98'\n",
            " 'zimag__fft_coefficient__attr_\"angle\"__coeff_99'\n",
            " 'zimag__query_similarity_count__query_None__threshold_0.0'] did not have any finite values. Filling with zeros.\n",
            "  RuntimeWarning,\n"
          ]
        },
        {
          "ename": "ValueError",
          "evalue": "The truth value of a DataFrame is ambiguous. Use a.empty, a.bool(), a.item(), a.any() or a.all().",
          "output_type": "error",
          "traceback": [
            "\u001b[0;31m---------------------------------------------------------------------------\u001b[0m",
            "\u001b[0;31mValueError\u001b[0m                                Traceback (most recent call last)",
            "\u001b[0;32m/var/folders/ht/42wc4pfd5y78cjfbdt_5qljr0000gn/T/ipykernel_26844/1672169789.py\u001b[0m in \u001b[0;36m<module>\u001b[0;34m\u001b[0m\n\u001b[0;32m----> 1\u001b[0;31m \u001b[0mpredictions_xgt_r\u001b[0m\u001b[0;34m,\u001b[0m \u001b[0my_true\u001b[0m\u001b[0;34m,\u001b[0m \u001b[0mppls_xgt_r\u001b[0m \u001b[0;34m=\u001b[0m \u001b[0mecm_regression\u001b[0m\u001b[0;34m(\u001b[0m\u001b[0muse_dummy\u001b[0m\u001b[0;34m=\u001b[0m\u001b[0;32mFalse\u001b[0m\u001b[0;34m,\u001b[0m \u001b[0mquantile\u001b[0m\u001b[0;34m=\u001b[0m\u001b[0;32mTrue\u001b[0m\u001b[0;34m,\u001b[0m \u001b[0mrelevant\u001b[0m\u001b[0;34m=\u001b[0m\u001b[0;32mTrue\u001b[0m\u001b[0;34m)\u001b[0m\u001b[0;34m\u001b[0m\u001b[0;34m\u001b[0m\u001b[0m\n\u001b[0m",
            "\u001b[0;32m/var/folders/ht/42wc4pfd5y78cjfbdt_5qljr0000gn/T/ipykernel_26844/3098703641.py\u001b[0m in \u001b[0;36mecm_regression\u001b[0;34m(use_dummy, quantile, relevant)\u001b[0m\n\u001b[1;32m     38\u001b[0m                 ])\n\u001b[1;32m     39\u001b[0m         \u001b[0mppl\u001b[0m\u001b[0;34m.\u001b[0m\u001b[0mset_params\u001b[0m\u001b[0;34m(\u001b[0m\u001b[0maugmenter__timeseries_container\u001b[0m\u001b[0;34m=\u001b[0m\u001b[0mdf_ts_\u001b[0m\u001b[0;34m)\u001b[0m\u001b[0;34m;\u001b[0m\u001b[0;34m\u001b[0m\u001b[0;34m\u001b[0m\u001b[0m\n\u001b[0;32m---> 40\u001b[0;31m         \u001b[0mppl\u001b[0m\u001b[0;34m.\u001b[0m\u001b[0mfit\u001b[0m\u001b[0;34m(\u001b[0m\u001b[0mX_train\u001b[0m\u001b[0;34m,\u001b[0m \u001b[0my_train\u001b[0m\u001b[0;34m)\u001b[0m\u001b[0;34m\u001b[0m\u001b[0;34m\u001b[0m\u001b[0m\n\u001b[0m\u001b[1;32m     41\u001b[0m         \u001b[0mppl\u001b[0m\u001b[0;34m.\u001b[0m\u001b[0mset_params\u001b[0m\u001b[0;34m(\u001b[0m\u001b[0maugmenter__timeseries_container\u001b[0m\u001b[0;34m=\u001b[0m\u001b[0mdf_ts_test_\u001b[0m\u001b[0;34m)\u001b[0m\u001b[0;34m;\u001b[0m\u001b[0;34m\u001b[0m\u001b[0;34m\u001b[0m\u001b[0m\n\u001b[1;32m     42\u001b[0m         \u001b[0my_pred\u001b[0m \u001b[0;34m=\u001b[0m \u001b[0mppl\u001b[0m\u001b[0;34m.\u001b[0m\u001b[0mpredict\u001b[0m\u001b[0;34m(\u001b[0m\u001b[0mX_test\u001b[0m\u001b[0;34m)\u001b[0m\u001b[0;34m\u001b[0m\u001b[0;34m\u001b[0m\u001b[0m\n",
            "\u001b[0;32m~/opt/anaconda3/envs/eis-battmen/lib/python3.7/site-packages/sklearn/pipeline.py\u001b[0m in \u001b[0;36mfit\u001b[0;34m(self, X, y, **fit_params)\u001b[0m\n\u001b[1;32m    388\u001b[0m         \"\"\"\n\u001b[1;32m    389\u001b[0m         \u001b[0mfit_params_steps\u001b[0m \u001b[0;34m=\u001b[0m \u001b[0mself\u001b[0m\u001b[0;34m.\u001b[0m\u001b[0m_check_fit_params\u001b[0m\u001b[0;34m(\u001b[0m\u001b[0;34m**\u001b[0m\u001b[0mfit_params\u001b[0m\u001b[0;34m)\u001b[0m\u001b[0;34m\u001b[0m\u001b[0;34m\u001b[0m\u001b[0m\n\u001b[0;32m--> 390\u001b[0;31m         \u001b[0mXt\u001b[0m \u001b[0;34m=\u001b[0m \u001b[0mself\u001b[0m\u001b[0;34m.\u001b[0m\u001b[0m_fit\u001b[0m\u001b[0;34m(\u001b[0m\u001b[0mX\u001b[0m\u001b[0;34m,\u001b[0m \u001b[0my\u001b[0m\u001b[0;34m,\u001b[0m \u001b[0;34m**\u001b[0m\u001b[0mfit_params_steps\u001b[0m\u001b[0;34m)\u001b[0m\u001b[0;34m\u001b[0m\u001b[0;34m\u001b[0m\u001b[0m\n\u001b[0m\u001b[1;32m    391\u001b[0m         \u001b[0;32mwith\u001b[0m \u001b[0m_print_elapsed_time\u001b[0m\u001b[0;34m(\u001b[0m\u001b[0;34m\"Pipeline\"\u001b[0m\u001b[0;34m,\u001b[0m \u001b[0mself\u001b[0m\u001b[0;34m.\u001b[0m\u001b[0m_log_message\u001b[0m\u001b[0;34m(\u001b[0m\u001b[0mlen\u001b[0m\u001b[0;34m(\u001b[0m\u001b[0mself\u001b[0m\u001b[0;34m.\u001b[0m\u001b[0msteps\u001b[0m\u001b[0;34m)\u001b[0m \u001b[0;34m-\u001b[0m \u001b[0;36m1\u001b[0m\u001b[0;34m)\u001b[0m\u001b[0;34m)\u001b[0m\u001b[0;34m:\u001b[0m\u001b[0;34m\u001b[0m\u001b[0;34m\u001b[0m\u001b[0m\n\u001b[1;32m    392\u001b[0m             \u001b[0;32mif\u001b[0m \u001b[0mself\u001b[0m\u001b[0;34m.\u001b[0m\u001b[0m_final_estimator\u001b[0m \u001b[0;34m!=\u001b[0m \u001b[0;34m\"passthrough\"\u001b[0m\u001b[0;34m:\u001b[0m\u001b[0;34m\u001b[0m\u001b[0;34m\u001b[0m\u001b[0m\n",
            "\u001b[0;32m~/opt/anaconda3/envs/eis-battmen/lib/python3.7/site-packages/sklearn/pipeline.py\u001b[0m in \u001b[0;36m_fit\u001b[0;34m(self, X, y, **fit_params_steps)\u001b[0m\n\u001b[1;32m    353\u001b[0m                 \u001b[0mmessage_clsname\u001b[0m\u001b[0;34m=\u001b[0m\u001b[0;34m\"Pipeline\"\u001b[0m\u001b[0;34m,\u001b[0m\u001b[0;34m\u001b[0m\u001b[0;34m\u001b[0m\u001b[0m\n\u001b[1;32m    354\u001b[0m                 \u001b[0mmessage\u001b[0m\u001b[0;34m=\u001b[0m\u001b[0mself\u001b[0m\u001b[0;34m.\u001b[0m\u001b[0m_log_message\u001b[0m\u001b[0;34m(\u001b[0m\u001b[0mstep_idx\u001b[0m\u001b[0;34m)\u001b[0m\u001b[0;34m,\u001b[0m\u001b[0;34m\u001b[0m\u001b[0;34m\u001b[0m\u001b[0m\n\u001b[0;32m--> 355\u001b[0;31m                 \u001b[0;34m**\u001b[0m\u001b[0mfit_params_steps\u001b[0m\u001b[0;34m[\u001b[0m\u001b[0mname\u001b[0m\u001b[0;34m]\u001b[0m\u001b[0;34m,\u001b[0m\u001b[0;34m\u001b[0m\u001b[0;34m\u001b[0m\u001b[0m\n\u001b[0m\u001b[1;32m    356\u001b[0m             )\n\u001b[1;32m    357\u001b[0m             \u001b[0;31m# Replace the transformer of the step with the fitted\u001b[0m\u001b[0;34m\u001b[0m\u001b[0;34m\u001b[0m\u001b[0;34m\u001b[0m\u001b[0m\n",
            "\u001b[0;32m~/opt/anaconda3/envs/eis-battmen/lib/python3.7/site-packages/joblib/memory.py\u001b[0m in \u001b[0;36m__call__\u001b[0;34m(self, *args, **kwargs)\u001b[0m\n\u001b[1;32m    347\u001b[0m \u001b[0;34m\u001b[0m\u001b[0m\n\u001b[1;32m    348\u001b[0m     \u001b[0;32mdef\u001b[0m \u001b[0m__call__\u001b[0m\u001b[0;34m(\u001b[0m\u001b[0mself\u001b[0m\u001b[0;34m,\u001b[0m \u001b[0;34m*\u001b[0m\u001b[0margs\u001b[0m\u001b[0;34m,\u001b[0m \u001b[0;34m**\u001b[0m\u001b[0mkwargs\u001b[0m\u001b[0;34m)\u001b[0m\u001b[0;34m:\u001b[0m\u001b[0;34m\u001b[0m\u001b[0;34m\u001b[0m\u001b[0m\n\u001b[0;32m--> 349\u001b[0;31m         \u001b[0;32mreturn\u001b[0m \u001b[0mself\u001b[0m\u001b[0;34m.\u001b[0m\u001b[0mfunc\u001b[0m\u001b[0;34m(\u001b[0m\u001b[0;34m*\u001b[0m\u001b[0margs\u001b[0m\u001b[0;34m,\u001b[0m \u001b[0;34m**\u001b[0m\u001b[0mkwargs\u001b[0m\u001b[0;34m)\u001b[0m\u001b[0;34m\u001b[0m\u001b[0;34m\u001b[0m\u001b[0m\n\u001b[0m\u001b[1;32m    350\u001b[0m \u001b[0;34m\u001b[0m\u001b[0m\n\u001b[1;32m    351\u001b[0m     \u001b[0;32mdef\u001b[0m \u001b[0mcall_and_shelve\u001b[0m\u001b[0;34m(\u001b[0m\u001b[0mself\u001b[0m\u001b[0;34m,\u001b[0m \u001b[0;34m*\u001b[0m\u001b[0margs\u001b[0m\u001b[0;34m,\u001b[0m \u001b[0;34m**\u001b[0m\u001b[0mkwargs\u001b[0m\u001b[0;34m)\u001b[0m\u001b[0;34m:\u001b[0m\u001b[0;34m\u001b[0m\u001b[0;34m\u001b[0m\u001b[0m\n",
            "\u001b[0;32m~/opt/anaconda3/envs/eis-battmen/lib/python3.7/site-packages/sklearn/pipeline.py\u001b[0m in \u001b[0;36m_fit_transform_one\u001b[0;34m(transformer, X, y, weight, message_clsname, message, **fit_params)\u001b[0m\n\u001b[1;32m    891\u001b[0m     \u001b[0;32mwith\u001b[0m \u001b[0m_print_elapsed_time\u001b[0m\u001b[0;34m(\u001b[0m\u001b[0mmessage_clsname\u001b[0m\u001b[0;34m,\u001b[0m \u001b[0mmessage\u001b[0m\u001b[0;34m)\u001b[0m\u001b[0;34m:\u001b[0m\u001b[0;34m\u001b[0m\u001b[0;34m\u001b[0m\u001b[0m\n\u001b[1;32m    892\u001b[0m         \u001b[0;32mif\u001b[0m \u001b[0mhasattr\u001b[0m\u001b[0;34m(\u001b[0m\u001b[0mtransformer\u001b[0m\u001b[0;34m,\u001b[0m \u001b[0;34m\"fit_transform\"\u001b[0m\u001b[0;34m)\u001b[0m\u001b[0;34m:\u001b[0m\u001b[0;34m\u001b[0m\u001b[0;34m\u001b[0m\u001b[0m\n\u001b[0;32m--> 893\u001b[0;31m             \u001b[0mres\u001b[0m \u001b[0;34m=\u001b[0m \u001b[0mtransformer\u001b[0m\u001b[0;34m.\u001b[0m\u001b[0mfit_transform\u001b[0m\u001b[0;34m(\u001b[0m\u001b[0mX\u001b[0m\u001b[0;34m,\u001b[0m \u001b[0my\u001b[0m\u001b[0;34m,\u001b[0m \u001b[0;34m**\u001b[0m\u001b[0mfit_params\u001b[0m\u001b[0;34m)\u001b[0m\u001b[0;34m\u001b[0m\u001b[0;34m\u001b[0m\u001b[0m\n\u001b[0m\u001b[1;32m    894\u001b[0m         \u001b[0;32melse\u001b[0m\u001b[0;34m:\u001b[0m\u001b[0;34m\u001b[0m\u001b[0;34m\u001b[0m\u001b[0m\n\u001b[1;32m    895\u001b[0m             \u001b[0mres\u001b[0m \u001b[0;34m=\u001b[0m \u001b[0mtransformer\u001b[0m\u001b[0;34m.\u001b[0m\u001b[0mfit\u001b[0m\u001b[0;34m(\u001b[0m\u001b[0mX\u001b[0m\u001b[0;34m,\u001b[0m \u001b[0my\u001b[0m\u001b[0;34m,\u001b[0m \u001b[0;34m**\u001b[0m\u001b[0mfit_params\u001b[0m\u001b[0;34m)\u001b[0m\u001b[0;34m.\u001b[0m\u001b[0mtransform\u001b[0m\u001b[0;34m(\u001b[0m\u001b[0mX\u001b[0m\u001b[0;34m)\u001b[0m\u001b[0;34m\u001b[0m\u001b[0;34m\u001b[0m\u001b[0m\n",
            "\u001b[0;32m~/opt/anaconda3/envs/eis-battmen/lib/python3.7/site-packages/tsfresh/transformers/relevant_feature_augmenter.py\u001b[0m in \u001b[0;36mfit_transform\u001b[0;34m(self, X, y)\u001b[0m\n\u001b[1;32m    379\u001b[0m         \u001b[0;34m:\u001b[0m\u001b[0mrtype\u001b[0m\u001b[0;34m:\u001b[0m \u001b[0mpandas\u001b[0m\u001b[0;34m.\u001b[0m\u001b[0mDataFrame\u001b[0m\u001b[0;34m\u001b[0m\u001b[0;34m\u001b[0m\u001b[0m\n\u001b[1;32m    380\u001b[0m         \"\"\"\n\u001b[0;32m--> 381\u001b[0;31m         \u001b[0mX_augmented\u001b[0m \u001b[0;34m=\u001b[0m \u001b[0mself\u001b[0m\u001b[0;34m.\u001b[0m\u001b[0m_fit_and_augment\u001b[0m\u001b[0;34m(\u001b[0m\u001b[0mX\u001b[0m\u001b[0;34m,\u001b[0m \u001b[0my\u001b[0m\u001b[0;34m)\u001b[0m\u001b[0;34m\u001b[0m\u001b[0;34m\u001b[0m\u001b[0m\n\u001b[0m\u001b[1;32m    382\u001b[0m \u001b[0;34m\u001b[0m\u001b[0m\n\u001b[1;32m    383\u001b[0m         selected_features = X_augmented.copy().loc[\n",
            "\u001b[0;32m~/opt/anaconda3/envs/eis-battmen/lib/python3.7/site-packages/tsfresh/transformers/relevant_feature_augmenter.py\u001b[0m in \u001b[0;36m_fit_and_augment\u001b[0;34m(self, X, y)\u001b[0m\n\u001b[1;32m    465\u001b[0m         )\n\u001b[1;32m    466\u001b[0m \u001b[0;34m\u001b[0m\u001b[0m\n\u001b[0;32m--> 467\u001b[0;31m         \u001b[0mself\u001b[0m\u001b[0;34m.\u001b[0m\u001b[0mfeature_selector\u001b[0m\u001b[0;34m.\u001b[0m\u001b[0mfit\u001b[0m\u001b[0;34m(\u001b[0m\u001b[0mX_augmented\u001b[0m\u001b[0;34m,\u001b[0m \u001b[0my\u001b[0m\u001b[0;34m)\u001b[0m\u001b[0;34m\u001b[0m\u001b[0;34m\u001b[0m\u001b[0m\n\u001b[0m\u001b[1;32m    468\u001b[0m \u001b[0;34m\u001b[0m\u001b[0m\n\u001b[1;32m    469\u001b[0m         \u001b[0;32mreturn\u001b[0m \u001b[0mX_augmented\u001b[0m\u001b[0;34m\u001b[0m\u001b[0;34m\u001b[0m\u001b[0m\n",
            "\u001b[0;32m~/opt/anaconda3/envs/eis-battmen/lib/python3.7/site-packages/tsfresh/transformers/feature_selector.py\u001b[0m in \u001b[0;36mfit\u001b[0;34m(self, X, y)\u001b[0m\n\u001b[1;32m    171\u001b[0m \u001b[0;34m\u001b[0m\u001b[0m\n\u001b[1;32m    172\u001b[0m         \u001b[0;32mif\u001b[0m \u001b[0;32mnot\u001b[0m \u001b[0misinstance\u001b[0m\u001b[0;34m(\u001b[0m\u001b[0my\u001b[0m\u001b[0;34m,\u001b[0m \u001b[0mpd\u001b[0m\u001b[0;34m.\u001b[0m\u001b[0mSeries\u001b[0m\u001b[0;34m)\u001b[0m\u001b[0;34m:\u001b[0m\u001b[0;34m\u001b[0m\u001b[0;34m\u001b[0m\u001b[0m\n\u001b[0;32m--> 173\u001b[0;31m             \u001b[0my\u001b[0m \u001b[0;34m=\u001b[0m \u001b[0mpd\u001b[0m\u001b[0;34m.\u001b[0m\u001b[0mSeries\u001b[0m\u001b[0;34m(\u001b[0m\u001b[0my\u001b[0m\u001b[0;34m.\u001b[0m\u001b[0mcopy\u001b[0m\u001b[0;34m(\u001b[0m\u001b[0;34m)\u001b[0m\u001b[0;34m)\u001b[0m\u001b[0;34m\u001b[0m\u001b[0;34m\u001b[0m\u001b[0m\n\u001b[0m\u001b[1;32m    174\u001b[0m \u001b[0;34m\u001b[0m\u001b[0m\n\u001b[1;32m    175\u001b[0m         relevance_table = calculate_relevance_table(\n",
            "\u001b[0;32m~/opt/anaconda3/envs/eis-battmen/lib/python3.7/site-packages/pandas/core/series.py\u001b[0m in \u001b[0;36m__init__\u001b[0;34m(self, data, index, dtype, name, copy, fastpath)\u001b[0m\n\u001b[1;32m    353\u001b[0m             \u001b[0mname\u001b[0m \u001b[0;34m=\u001b[0m \u001b[0mibase\u001b[0m\u001b[0;34m.\u001b[0m\u001b[0mmaybe_extract_name\u001b[0m\u001b[0;34m(\u001b[0m\u001b[0mname\u001b[0m\u001b[0;34m,\u001b[0m \u001b[0mdata\u001b[0m\u001b[0;34m,\u001b[0m \u001b[0mtype\u001b[0m\u001b[0;34m(\u001b[0m\u001b[0mself\u001b[0m\u001b[0;34m)\u001b[0m\u001b[0;34m)\u001b[0m\u001b[0;34m\u001b[0m\u001b[0;34m\u001b[0m\u001b[0m\n\u001b[1;32m    354\u001b[0m \u001b[0;34m\u001b[0m\u001b[0m\n\u001b[0;32m--> 355\u001b[0;31m             \u001b[0;32mif\u001b[0m \u001b[0mis_empty_data\u001b[0m\u001b[0;34m(\u001b[0m\u001b[0mdata\u001b[0m\u001b[0;34m)\u001b[0m \u001b[0;32mand\u001b[0m \u001b[0mdtype\u001b[0m \u001b[0;32mis\u001b[0m \u001b[0;32mNone\u001b[0m\u001b[0;34m:\u001b[0m\u001b[0;34m\u001b[0m\u001b[0;34m\u001b[0m\u001b[0m\n\u001b[0m\u001b[1;32m    356\u001b[0m                 \u001b[0;31m# gh-17261\u001b[0m\u001b[0;34m\u001b[0m\u001b[0;34m\u001b[0m\u001b[0;34m\u001b[0m\u001b[0m\n\u001b[1;32m    357\u001b[0m                 warnings.warn(\n",
            "\u001b[0;32m~/opt/anaconda3/envs/eis-battmen/lib/python3.7/site-packages/pandas/core/construction.py\u001b[0m in \u001b[0;36mis_empty_data\u001b[0;34m(data)\u001b[0m\n\u001b[1;32m    794\u001b[0m     \u001b[0mis_none\u001b[0m \u001b[0;34m=\u001b[0m \u001b[0mdata\u001b[0m \u001b[0;32mis\u001b[0m \u001b[0;32mNone\u001b[0m\u001b[0;34m\u001b[0m\u001b[0;34m\u001b[0m\u001b[0m\n\u001b[1;32m    795\u001b[0m     \u001b[0mis_list_like_without_dtype\u001b[0m \u001b[0;34m=\u001b[0m \u001b[0mis_list_like\u001b[0m\u001b[0;34m(\u001b[0m\u001b[0mdata\u001b[0m\u001b[0;34m)\u001b[0m \u001b[0;32mand\u001b[0m \u001b[0;32mnot\u001b[0m \u001b[0mhasattr\u001b[0m\u001b[0;34m(\u001b[0m\u001b[0mdata\u001b[0m\u001b[0;34m,\u001b[0m \u001b[0;34m\"dtype\"\u001b[0m\u001b[0;34m)\u001b[0m\u001b[0;34m\u001b[0m\u001b[0;34m\u001b[0m\u001b[0m\n\u001b[0;32m--> 796\u001b[0;31m     \u001b[0mis_simple_empty\u001b[0m \u001b[0;34m=\u001b[0m \u001b[0mis_list_like_without_dtype\u001b[0m \u001b[0;32mand\u001b[0m \u001b[0;32mnot\u001b[0m \u001b[0mdata\u001b[0m\u001b[0;34m\u001b[0m\u001b[0;34m\u001b[0m\u001b[0m\n\u001b[0m\u001b[1;32m    797\u001b[0m     \u001b[0;32mreturn\u001b[0m \u001b[0mis_none\u001b[0m \u001b[0;32mor\u001b[0m \u001b[0mis_simple_empty\u001b[0m\u001b[0;34m\u001b[0m\u001b[0;34m\u001b[0m\u001b[0m\n\u001b[1;32m    798\u001b[0m \u001b[0;34m\u001b[0m\u001b[0m\n",
            "\u001b[0;32m~/opt/anaconda3/envs/eis-battmen/lib/python3.7/site-packages/pandas/core/generic.py\u001b[0m in \u001b[0;36m__nonzero__\u001b[0;34m(self)\u001b[0m\n\u001b[1;32m   1536\u001b[0m     \u001b[0;32mdef\u001b[0m \u001b[0m__nonzero__\u001b[0m\u001b[0;34m(\u001b[0m\u001b[0mself\u001b[0m\u001b[0;34m)\u001b[0m\u001b[0;34m:\u001b[0m\u001b[0;34m\u001b[0m\u001b[0;34m\u001b[0m\u001b[0m\n\u001b[1;32m   1537\u001b[0m         raise ValueError(\n\u001b[0;32m-> 1538\u001b[0;31m             \u001b[0;34mf\"The truth value of a {type(self).__name__} is ambiguous. \"\u001b[0m\u001b[0;34m\u001b[0m\u001b[0;34m\u001b[0m\u001b[0m\n\u001b[0m\u001b[1;32m   1539\u001b[0m             \u001b[0;34m\"Use a.empty, a.bool(), a.item(), a.any() or a.all().\"\u001b[0m\u001b[0;34m\u001b[0m\u001b[0;34m\u001b[0m\u001b[0m\n\u001b[1;32m   1540\u001b[0m         )\n",
            "\u001b[0;31mValueError\u001b[0m: The truth value of a DataFrame is ambiguous. Use a.empty, a.bool(), a.item(), a.any() or a.all()."
          ]
        }
      ],
      "source": [
        "predictions_xgt_r, y_true, ppls_xgt_r = ecm_regression(use_dummy=False, quantile=True, relevant=True)\n"
      ]
    },
    {
      "cell_type": "code",
      "execution_count": null,
      "metadata": {},
      "outputs": [],
      "source": [
        "predictions_xg_r, y_true, ppls_xg_r = ecm_regression(use_dummy=False, quantile=False, relevant=True)"
      ]
    },
    {
      "cell_type": "code",
      "execution_count": 35,
      "metadata": {},
      "outputs": [
        {
          "name": "stdout",
          "output_type": "stream",
          "text": [
            "Circuit L-R-RCPE\n",
            "MAE:4240\n",
            "R1 MAE:32.39\n"
          ]
        },
        {
          "ename": "KeyError",
          "evalue": "'W1_R'",
          "output_type": "error",
          "traceback": [
            "\u001b[0;31m---------------------------------------------------------------------------\u001b[0m",
            "\u001b[0;31mKeyError\u001b[0m                                  Traceback (most recent call last)",
            "\u001b[0;32m~/opt/anaconda3/envs/eis-battmen/lib/python3.7/site-packages/pandas/core/indexes/base.py\u001b[0m in \u001b[0;36mget_loc\u001b[0;34m(self, key, method, tolerance)\u001b[0m\n\u001b[1;32m   3360\u001b[0m             \u001b[0;32mtry\u001b[0m\u001b[0;34m:\u001b[0m\u001b[0;34m\u001b[0m\u001b[0;34m\u001b[0m\u001b[0m\n\u001b[0;32m-> 3361\u001b[0;31m                 \u001b[0;32mreturn\u001b[0m \u001b[0mself\u001b[0m\u001b[0;34m.\u001b[0m\u001b[0m_engine\u001b[0m\u001b[0;34m.\u001b[0m\u001b[0mget_loc\u001b[0m\u001b[0;34m(\u001b[0m\u001b[0mcasted_key\u001b[0m\u001b[0;34m)\u001b[0m\u001b[0;34m\u001b[0m\u001b[0;34m\u001b[0m\u001b[0m\n\u001b[0m\u001b[1;32m   3362\u001b[0m             \u001b[0;32mexcept\u001b[0m \u001b[0mKeyError\u001b[0m \u001b[0;32mas\u001b[0m \u001b[0merr\u001b[0m\u001b[0;34m:\u001b[0m\u001b[0;34m\u001b[0m\u001b[0;34m\u001b[0m\u001b[0m\n",
            "\u001b[0;32m~/opt/anaconda3/envs/eis-battmen/lib/python3.7/site-packages/pandas/_libs/index.pyx\u001b[0m in \u001b[0;36mpandas._libs.index.IndexEngine.get_loc\u001b[0;34m()\u001b[0m\n",
            "\u001b[0;32m~/opt/anaconda3/envs/eis-battmen/lib/python3.7/site-packages/pandas/_libs/index.pyx\u001b[0m in \u001b[0;36mpandas._libs.index.IndexEngine.get_loc\u001b[0;34m()\u001b[0m\n",
            "\u001b[0;32mpandas/_libs/hashtable_class_helper.pxi\u001b[0m in \u001b[0;36mpandas._libs.hashtable.PyObjectHashTable.get_item\u001b[0;34m()\u001b[0m\n",
            "\u001b[0;32mpandas/_libs/hashtable_class_helper.pxi\u001b[0m in \u001b[0;36mpandas._libs.hashtable.PyObjectHashTable.get_item\u001b[0;34m()\u001b[0m\n",
            "\u001b[0;31mKeyError\u001b[0m: 'W1_R'",
            "\nThe above exception was the direct cause of the following exception:\n",
            "\u001b[0;31mKeyError\u001b[0m                                  Traceback (most recent call last)",
            "\u001b[0;32m/var/folders/ht/42wc4pfd5y78cjfbdt_5qljr0000gn/T/ipykernel_26844/2197674728.py\u001b[0m in \u001b[0;36m<module>\u001b[0;34m\u001b[0m\n\u001b[1;32m      5\u001b[0m   \u001b[0mp_strs\u001b[0m \u001b[0;34m=\u001b[0m \u001b[0mdf_\u001b[0m\u001b[0;34m[\u001b[0m\u001b[0;34m\"param_strs\"\u001b[0m\u001b[0;34m]\u001b[0m\u001b[0;34m.\u001b[0m\u001b[0mloc\u001b[0m\u001b[0;34m[\u001b[0m\u001b[0mdf_\u001b[0m\u001b[0;34m.\u001b[0m\u001b[0mindex\u001b[0m\u001b[0;34m[\u001b[0m\u001b[0;36m0\u001b[0m\u001b[0;34m]\u001b[0m\u001b[0;34m]\u001b[0m\u001b[0;34m\u001b[0m\u001b[0;34m\u001b[0m\u001b[0m\n\u001b[1;32m      6\u001b[0m   \u001b[0;32mfor\u001b[0m \u001b[0mj\u001b[0m \u001b[0;32min\u001b[0m \u001b[0mnp\u001b[0m\u001b[0;34m.\u001b[0m\u001b[0marange\u001b[0m\u001b[0;34m(\u001b[0m\u001b[0mlen\u001b[0m\u001b[0;34m(\u001b[0m\u001b[0mp_strs\u001b[0m\u001b[0;34m)\u001b[0m\u001b[0;34m)\u001b[0m\u001b[0;34m:\u001b[0m\u001b[0;34m\u001b[0m\u001b[0;34m\u001b[0m\u001b[0m\n\u001b[0;32m----> 7\u001b[0;31m     \u001b[0mprint\u001b[0m\u001b[0;34m(\u001b[0m\u001b[0;34m\"%s MAE:%.4g\"\u001b[0m \u001b[0;34m%\u001b[0m \u001b[0;34m(\u001b[0m\u001b[0mp_strs\u001b[0m\u001b[0;34m[\u001b[0m\u001b[0mj\u001b[0m\u001b[0;34m]\u001b[0m\u001b[0;34m,\u001b[0m \u001b[0mmean_absolute_error\u001b[0m\u001b[0;34m(\u001b[0m\u001b[0my_true\u001b[0m\u001b[0;34m[\u001b[0m\u001b[0mi\u001b[0m\u001b[0;34m]\u001b[0m\u001b[0;34m[\u001b[0m\u001b[0mp_strs\u001b[0m\u001b[0;34m[\u001b[0m\u001b[0mj\u001b[0m\u001b[0;34m]\u001b[0m\u001b[0;34m]\u001b[0m\u001b[0;34m,\u001b[0m \u001b[0mpredictions\u001b[0m\u001b[0;34m[\u001b[0m\u001b[0mi\u001b[0m\u001b[0;34m]\u001b[0m\u001b[0;34m[\u001b[0m\u001b[0mp_strs\u001b[0m\u001b[0;34m[\u001b[0m\u001b[0mj\u001b[0m\u001b[0;34m]\u001b[0m\u001b[0;34m]\u001b[0m\u001b[0;34m)\u001b[0m\u001b[0;34m)\u001b[0m\u001b[0;34m)\u001b[0m\u001b[0;34m\u001b[0m\u001b[0;34m\u001b[0m\u001b[0m\n\u001b[0m",
            "\u001b[0;32m~/opt/anaconda3/envs/eis-battmen/lib/python3.7/site-packages/pandas/core/frame.py\u001b[0m in \u001b[0;36m__getitem__\u001b[0;34m(self, key)\u001b[0m\n\u001b[1;32m   3456\u001b[0m             \u001b[0;32mif\u001b[0m \u001b[0mself\u001b[0m\u001b[0;34m.\u001b[0m\u001b[0mcolumns\u001b[0m\u001b[0;34m.\u001b[0m\u001b[0mnlevels\u001b[0m \u001b[0;34m>\u001b[0m \u001b[0;36m1\u001b[0m\u001b[0;34m:\u001b[0m\u001b[0;34m\u001b[0m\u001b[0;34m\u001b[0m\u001b[0m\n\u001b[1;32m   3457\u001b[0m                 \u001b[0;32mreturn\u001b[0m \u001b[0mself\u001b[0m\u001b[0;34m.\u001b[0m\u001b[0m_getitem_multilevel\u001b[0m\u001b[0;34m(\u001b[0m\u001b[0mkey\u001b[0m\u001b[0;34m)\u001b[0m\u001b[0;34m\u001b[0m\u001b[0;34m\u001b[0m\u001b[0m\n\u001b[0;32m-> 3458\u001b[0;31m             \u001b[0mindexer\u001b[0m \u001b[0;34m=\u001b[0m \u001b[0mself\u001b[0m\u001b[0;34m.\u001b[0m\u001b[0mcolumns\u001b[0m\u001b[0;34m.\u001b[0m\u001b[0mget_loc\u001b[0m\u001b[0;34m(\u001b[0m\u001b[0mkey\u001b[0m\u001b[0;34m)\u001b[0m\u001b[0;34m\u001b[0m\u001b[0;34m\u001b[0m\u001b[0m\n\u001b[0m\u001b[1;32m   3459\u001b[0m             \u001b[0;32mif\u001b[0m \u001b[0mis_integer\u001b[0m\u001b[0;34m(\u001b[0m\u001b[0mindexer\u001b[0m\u001b[0;34m)\u001b[0m\u001b[0;34m:\u001b[0m\u001b[0;34m\u001b[0m\u001b[0;34m\u001b[0m\u001b[0m\n\u001b[1;32m   3460\u001b[0m                 \u001b[0mindexer\u001b[0m \u001b[0;34m=\u001b[0m \u001b[0;34m[\u001b[0m\u001b[0mindexer\u001b[0m\u001b[0;34m]\u001b[0m\u001b[0;34m\u001b[0m\u001b[0;34m\u001b[0m\u001b[0m\n",
            "\u001b[0;32m~/opt/anaconda3/envs/eis-battmen/lib/python3.7/site-packages/pandas/core/indexes/base.py\u001b[0m in \u001b[0;36mget_loc\u001b[0;34m(self, key, method, tolerance)\u001b[0m\n\u001b[1;32m   3361\u001b[0m                 \u001b[0;32mreturn\u001b[0m \u001b[0mself\u001b[0m\u001b[0;34m.\u001b[0m\u001b[0m_engine\u001b[0m\u001b[0;34m.\u001b[0m\u001b[0mget_loc\u001b[0m\u001b[0;34m(\u001b[0m\u001b[0mcasted_key\u001b[0m\u001b[0;34m)\u001b[0m\u001b[0;34m\u001b[0m\u001b[0;34m\u001b[0m\u001b[0m\n\u001b[1;32m   3362\u001b[0m             \u001b[0;32mexcept\u001b[0m \u001b[0mKeyError\u001b[0m \u001b[0;32mas\u001b[0m \u001b[0merr\u001b[0m\u001b[0;34m:\u001b[0m\u001b[0;34m\u001b[0m\u001b[0;34m\u001b[0m\u001b[0m\n\u001b[0;32m-> 3363\u001b[0;31m                 \u001b[0;32mraise\u001b[0m \u001b[0mKeyError\u001b[0m\u001b[0;34m(\u001b[0m\u001b[0mkey\u001b[0m\u001b[0;34m)\u001b[0m \u001b[0;32mfrom\u001b[0m \u001b[0merr\u001b[0m\u001b[0;34m\u001b[0m\u001b[0;34m\u001b[0m\u001b[0m\n\u001b[0m\u001b[1;32m   3364\u001b[0m \u001b[0;34m\u001b[0m\u001b[0m\n\u001b[1;32m   3365\u001b[0m         \u001b[0;32mif\u001b[0m \u001b[0mis_scalar\u001b[0m\u001b[0;34m(\u001b[0m\u001b[0mkey\u001b[0m\u001b[0;34m)\u001b[0m \u001b[0;32mand\u001b[0m \u001b[0misna\u001b[0m\u001b[0;34m(\u001b[0m\u001b[0mkey\u001b[0m\u001b[0;34m)\u001b[0m \u001b[0;32mand\u001b[0m \u001b[0;32mnot\u001b[0m \u001b[0mself\u001b[0m\u001b[0;34m.\u001b[0m\u001b[0mhasnans\u001b[0m\u001b[0;34m:\u001b[0m\u001b[0;34m\u001b[0m\u001b[0;34m\u001b[0m\u001b[0m\n",
            "\u001b[0;31mKeyError\u001b[0m: 'W1_R'"
          ]
        }
      ],
      "source": [
        "# Showcase results and compare\n",
        "for i, df in enumerate(dfs):\n",
        "  print(\"Circuit %s\" % circuits[i])\n",
        "  print(\"MAE:%.4g\" % mean_absolute_error(y_true[i], predictions[i]))\n",
        "  p_strs = df_[\"param_strs\"].loc[df_.index[0]]\n",
        "  for j in np.arange(len(p_strs)):\n",
        "    print(\"%s MAE:%.4g\" % (p_strs[j], mean_absolute_error(y_true[i][p_strs[j]], predictions[i][p_strs[j]])))"
      ]
    },
    {
      "cell_type": "code",
      "execution_count": null,
      "metadata": {
        "colab": {
          "base_uri": "https://localhost:8080/"
        },
        "id": "-qFS43XpHnlr",
        "outputId": "481aead3-b252-4666-b3f9-6fac6c7534cf"
      },
      "outputs": [
        {
          "name": "stdout",
          "output_type": "stream",
          "text": [
            " \n",
            "Fitting regression for L-R-RCPE\n"
          ]
        },
        {
          "name": "stderr",
          "output_type": "stream",
          "text": [
            "Feature Extraction: 100%|██████████| 1384/1384 [01:36<00:00, 14.37it/s]\n"
          ]
        },
        {
          "name": "stdout",
          "output_type": "stream",
          "text": [
            "[16:24:43] WARNING: /workspace/src/objective/regression_obj.cu:152: reg:linear is now deprecated in favor of reg:squarederror.\n",
            "[16:24:44] WARNING: /workspace/src/objective/regression_obj.cu:152: reg:linear is now deprecated in favor of reg:squarederror.\n",
            "[16:24:48] WARNING: /workspace/src/objective/regression_obj.cu:152: reg:linear is now deprecated in favor of reg:squarederror.\n",
            "[16:24:52] WARNING: /workspace/src/objective/regression_obj.cu:152: reg:linear is now deprecated in favor of reg:squarederror.\n",
            "[16:24:56] WARNING: /workspace/src/objective/regression_obj.cu:152: reg:linear is now deprecated in favor of reg:squarederror.\n"
          ]
        },
        {
          "name": "stderr",
          "output_type": "stream",
          "text": [
            "Feature Extraction: 100%|██████████| 346/346 [00:24<00:00, 14.41it/s]\n"
          ]
        },
        {
          "name": "stdout",
          "output_type": "stream",
          "text": [
            "MAE:3836\n",
            "L1 MAE:1.352e-05\n",
            "R1 MAE:40.09\n",
            "R2 MAE:1.914e+04\n",
            "CPE1_t MAE:0.04905\n",
            "CPE1_C MAE:0.01479\n",
            " \n",
            "Fitting regression for L-R-RCPE-RCPE\n"
          ]
        },
        {
          "name": "stderr",
          "output_type": "stream",
          "text": [
            "Feature Extraction: 100%|██████████| 1440/1440 [01:42<00:00, 14.12it/s]\n"
          ]
        },
        {
          "name": "stdout",
          "output_type": "stream",
          "text": [
            "[16:27:08] WARNING: /workspace/src/objective/regression_obj.cu:152: reg:linear is now deprecated in favor of reg:squarederror.\n",
            "[16:27:09] WARNING: /workspace/src/objective/regression_obj.cu:152: reg:linear is now deprecated in favor of reg:squarederror.\n",
            "[16:27:13] WARNING: /workspace/src/objective/regression_obj.cu:152: reg:linear is now deprecated in favor of reg:squarederror.\n",
            "[16:27:17] WARNING: /workspace/src/objective/regression_obj.cu:152: reg:linear is now deprecated in favor of reg:squarederror.\n",
            "[16:27:21] WARNING: /workspace/src/objective/regression_obj.cu:152: reg:linear is now deprecated in favor of reg:squarederror.\n",
            "[16:27:23] WARNING: /workspace/src/objective/regression_obj.cu:152: reg:linear is now deprecated in favor of reg:squarederror.\n",
            "[16:27:27] WARNING: /workspace/src/objective/regression_obj.cu:152: reg:linear is now deprecated in favor of reg:squarederror.\n",
            "[16:27:31] WARNING: /workspace/src/objective/regression_obj.cu:152: reg:linear is now deprecated in favor of reg:squarederror.\n"
          ]
        },
        {
          "name": "stderr",
          "output_type": "stream",
          "text": [
            "Feature Extraction: 100%|██████████| 360/360 [00:26<00:00, 13.80it/s]\n"
          ]
        },
        {
          "name": "stdout",
          "output_type": "stream",
          "text": [
            "MAE:6399\n",
            "L1 MAE:1.329e-05\n",
            "R1 MAE:67.65\n",
            "R2 MAE:296.9\n",
            "CPE1_t MAE:0.122\n",
            "CPE1_C MAE:1.599e-05\n",
            "R3 MAE:5.083e+04\n",
            "CPE2_t MAE:0.05153\n",
            "CPE2_C MAE:0.01181\n",
            " \n",
            "Fitting regression for L-R-RCPE-RCPE-RCPE\n"
          ]
        },
        {
          "name": "stderr",
          "output_type": "stream",
          "text": [
            "Feature Extraction: 100%|██████████| 1400/1400 [01:37<00:00, 14.32it/s]\n"
          ]
        },
        {
          "name": "stdout",
          "output_type": "stream",
          "text": [
            "[16:29:40] WARNING: /workspace/src/objective/regression_obj.cu:152: reg:linear is now deprecated in favor of reg:squarederror.\n",
            "[16:29:42] WARNING: /workspace/src/objective/regression_obj.cu:152: reg:linear is now deprecated in favor of reg:squarederror.\n",
            "[16:29:46] WARNING: /workspace/src/objective/regression_obj.cu:152: reg:linear is now deprecated in favor of reg:squarederror.\n",
            "[16:29:50] WARNING: /workspace/src/objective/regression_obj.cu:152: reg:linear is now deprecated in favor of reg:squarederror.\n",
            "[16:29:54] WARNING: /workspace/src/objective/regression_obj.cu:152: reg:linear is now deprecated in favor of reg:squarederror.\n",
            "[16:29:55] WARNING: /workspace/src/objective/regression_obj.cu:152: reg:linear is now deprecated in favor of reg:squarederror.\n",
            "[16:29:59] WARNING: /workspace/src/objective/regression_obj.cu:152: reg:linear is now deprecated in favor of reg:squarederror.\n",
            "[16:30:03] WARNING: /workspace/src/objective/regression_obj.cu:152: reg:linear is now deprecated in favor of reg:squarederror.\n",
            "[16:30:08] WARNING: /workspace/src/objective/regression_obj.cu:152: reg:linear is now deprecated in favor of reg:squarederror.\n",
            "[16:30:11] WARNING: /workspace/src/objective/regression_obj.cu:152: reg:linear is now deprecated in favor of reg:squarederror.\n",
            "[16:30:16] WARNING: /workspace/src/objective/regression_obj.cu:152: reg:linear is now deprecated in favor of reg:squarederror.\n"
          ]
        },
        {
          "name": "stderr",
          "output_type": "stream",
          "text": [
            "Feature Extraction: 100%|██████████| 352/352 [00:24<00:00, 14.49it/s]\n"
          ]
        },
        {
          "name": "stdout",
          "output_type": "stream",
          "text": [
            "MAE:9246\n",
            "L1 MAE:1.359e-05\n",
            "R1 MAE:64.84\n",
            "R2 MAE:168\n",
            "CPE1_t MAE:0.1315\n",
            "CPE1_C MAE:1.497e-05\n",
            "R3 MAE:2778\n",
            "CPE2_t MAE:0.1041\n",
            "CPE2_C MAE:0.0005445\n",
            "R4 MAE:9.869e+04\n",
            "CPE3_t MAE:0.07981\n",
            "CPE3_C MAE:0.02701\n",
            " \n",
            "Fitting regression for RC-G-G\n"
          ]
        },
        {
          "name": "stderr",
          "output_type": "stream",
          "text": [
            "Feature Extraction: 100%|██████████| 1424/1424 [01:40<00:00, 14.20it/s]\n"
          ]
        },
        {
          "name": "stdout",
          "output_type": "stream",
          "text": [
            "[16:32:26] WARNING: /workspace/src/objective/regression_obj.cu:152: reg:linear is now deprecated in favor of reg:squarederror.\n",
            "[16:32:30] WARNING: /workspace/src/objective/regression_obj.cu:152: reg:linear is now deprecated in favor of reg:squarederror.\n",
            "[16:32:31] WARNING: /workspace/src/objective/regression_obj.cu:152: reg:linear is now deprecated in favor of reg:squarederror.\n",
            "[16:32:35] WARNING: /workspace/src/objective/regression_obj.cu:152: reg:linear is now deprecated in favor of reg:squarederror.\n",
            "[16:32:39] WARNING: /workspace/src/objective/regression_obj.cu:152: reg:linear is now deprecated in favor of reg:squarederror.\n",
            "[16:32:43] WARNING: /workspace/src/objective/regression_obj.cu:152: reg:linear is now deprecated in favor of reg:squarederror.\n"
          ]
        },
        {
          "name": "stderr",
          "output_type": "stream",
          "text": [
            "Feature Extraction: 100%|██████████| 356/356 [00:24<00:00, 14.36it/s]\n"
          ]
        },
        {
          "name": "stdout",
          "output_type": "stream",
          "text": [
            "MAE:6.022\n",
            "R1 MAE:5.98\n",
            "C1 MAE:1.832e-05\n",
            "R_g1 MAE:2.187\n",
            "t_g1 MAE:1.149\n",
            "R_g2 MAE:15.3\n",
            "t_g2 MAE:11.51\n",
            " \n",
            "Fitting regression for RC-RC-RCPE-RCPE\n"
          ]
        },
        {
          "name": "stderr",
          "output_type": "stream",
          "text": [
            "Feature Extraction: 100%|██████████| 1450/1450 [01:43<00:00, 14.08it/s]\n"
          ]
        },
        {
          "name": "stdout",
          "output_type": "stream",
          "text": [
            "[16:34:57] WARNING: /workspace/src/objective/regression_obj.cu:152: reg:linear is now deprecated in favor of reg:squarederror.\n",
            "[16:35:01] WARNING: /workspace/src/objective/regression_obj.cu:152: reg:linear is now deprecated in favor of reg:squarederror.\n",
            "[16:35:05] WARNING: /workspace/src/objective/regression_obj.cu:152: reg:linear is now deprecated in favor of reg:squarederror.\n",
            "[16:35:09] WARNING: /workspace/src/objective/regression_obj.cu:152: reg:linear is now deprecated in favor of reg:squarederror.\n",
            "[16:35:13] WARNING: /workspace/src/objective/regression_obj.cu:152: reg:linear is now deprecated in favor of reg:squarederror.\n",
            "[16:35:15] WARNING: /workspace/src/objective/regression_obj.cu:152: reg:linear is now deprecated in favor of reg:squarederror.\n",
            "[16:35:16] WARNING: /workspace/src/objective/regression_obj.cu:152: reg:linear is now deprecated in favor of reg:squarederror.\n",
            "[16:35:21] WARNING: /workspace/src/objective/regression_obj.cu:152: reg:linear is now deprecated in favor of reg:squarederror.\n",
            "[16:35:25] WARNING: /workspace/src/objective/regression_obj.cu:152: reg:linear is now deprecated in favor of reg:squarederror.\n",
            "[16:35:26] WARNING: /workspace/src/objective/regression_obj.cu:152: reg:linear is now deprecated in favor of reg:squarederror.\n"
          ]
        },
        {
          "name": "stderr",
          "output_type": "stream",
          "text": [
            "Feature Extraction: 100%|██████████| 364/364 [00:25<00:00, 14.39it/s]\n"
          ]
        },
        {
          "name": "stdout",
          "output_type": "stream",
          "text": [
            "MAE:9807\n",
            "R1 MAE:4.029\n",
            "R2 MAE:7.525\n",
            "R3 MAE:10.72\n",
            "R4 MAE:9.805e+04\n",
            "C2 MAE:2.246e-05\n",
            "CPE3_C MAE:0.0001083\n",
            "CPE4_t MAE:0.091\n",
            "CPE4_C MAE:0.4991\n",
            "C1 MAE:1.356e-05\n",
            "CPE3_t MAE:1.075e-05\n",
            " \n",
            "Fitting regression for RCPE-RCPE\n"
          ]
        },
        {
          "name": "stderr",
          "output_type": "stream",
          "text": [
            "Feature Extraction: 100%|██████████| 1368/1368 [01:40<00:00, 13.63it/s]\n"
          ]
        },
        {
          "name": "stdout",
          "output_type": "stream",
          "text": [
            "[16:37:35] WARNING: /workspace/src/objective/regression_obj.cu:152: reg:linear is now deprecated in favor of reg:squarederror.\n",
            "[16:37:39] WARNING: /workspace/src/objective/regression_obj.cu:152: reg:linear is now deprecated in favor of reg:squarederror.\n",
            "[16:37:43] WARNING: /workspace/src/objective/regression_obj.cu:152: reg:linear is now deprecated in favor of reg:squarederror.\n",
            "[16:37:47] WARNING: /workspace/src/objective/regression_obj.cu:152: reg:linear is now deprecated in favor of reg:squarederror.\n",
            "[16:37:50] WARNING: /workspace/src/objective/regression_obj.cu:152: reg:linear is now deprecated in favor of reg:squarederror.\n",
            "[16:37:54] WARNING: /workspace/src/objective/regression_obj.cu:152: reg:linear is now deprecated in favor of reg:squarederror.\n"
          ]
        },
        {
          "name": "stderr",
          "output_type": "stream",
          "text": [
            "Feature Extraction: 100%|██████████| 342/342 [00:24<00:00, 14.20it/s]\n"
          ]
        },
        {
          "name": "stdout",
          "output_type": "stream",
          "text": [
            "MAE:3768\n",
            "R1 MAE:38.54\n",
            "R2 MAE:2.257e+04\n",
            "CPE1_t MAE:0.114\n",
            "CPE1_C MAE:0.001225\n",
            "CPE2_t MAE:0.05142\n",
            "CPE2_C MAE:0.01332\n",
            " \n",
            "Fitting regression for RCPE-RCPE-RCPE\n"
          ]
        },
        {
          "name": "stderr",
          "output_type": "stream",
          "text": [
            "Feature Extraction: 100%|██████████| 1470/1470 [01:43<00:00, 14.20it/s]\n"
          ]
        },
        {
          "name": "stdout",
          "output_type": "stream",
          "text": [
            "[16:40:07] WARNING: /workspace/src/objective/regression_obj.cu:152: reg:linear is now deprecated in favor of reg:squarederror.\n",
            "[16:40:11] WARNING: /workspace/src/objective/regression_obj.cu:152: reg:linear is now deprecated in favor of reg:squarederror.\n",
            "[16:40:16] WARNING: /workspace/src/objective/regression_obj.cu:152: reg:linear is now deprecated in favor of reg:squarederror.\n",
            "[16:40:20] WARNING: /workspace/src/objective/regression_obj.cu:152: reg:linear is now deprecated in favor of reg:squarederror.\n",
            "[16:40:24] WARNING: /workspace/src/objective/regression_obj.cu:152: reg:linear is now deprecated in favor of reg:squarederror.\n",
            "[16:40:25] WARNING: /workspace/src/objective/regression_obj.cu:152: reg:linear is now deprecated in favor of reg:squarederror.\n",
            "[16:40:29] WARNING: /workspace/src/objective/regression_obj.cu:152: reg:linear is now deprecated in favor of reg:squarederror.\n",
            "[16:40:31] WARNING: /workspace/src/objective/regression_obj.cu:152: reg:linear is now deprecated in favor of reg:squarederror.\n",
            "[16:40:35] WARNING: /workspace/src/objective/regression_obj.cu:152: reg:linear is now deprecated in favor of reg:squarederror.\n"
          ]
        },
        {
          "name": "stderr",
          "output_type": "stream",
          "text": [
            "Feature Extraction: 100%|██████████| 368/368 [00:25<00:00, 14.25it/s]\n"
          ]
        },
        {
          "name": "stdout",
          "output_type": "stream",
          "text": [
            "MAE:5426\n",
            "R1 MAE:12.5\n",
            "R2 MAE:247.1\n",
            "R3 MAE:4.857e+04\n",
            "CPE1_t MAE:0.131\n",
            "CPE1_C MAE:1.501e-05\n",
            "CPE2_t MAE:0.1149\n",
            "CPE2_C MAE:7.918e-05\n",
            "CPE3_t MAE:0.0688\n",
            "CPE3_C MAE:0.03097\n",
            " \n",
            "Fitting regression for RCPE-RCPE-RCPE-RCPE\n"
          ]
        },
        {
          "name": "stderr",
          "output_type": "stream",
          "text": [
            "Feature Extraction: 100%|██████████| 1478/1478 [01:44<00:00, 14.19it/s]\n"
          ]
        },
        {
          "name": "stdout",
          "output_type": "stream",
          "text": [
            "[16:42:51] WARNING: /workspace/src/objective/regression_obj.cu:152: reg:linear is now deprecated in favor of reg:squarederror.\n",
            "[16:42:55] WARNING: /workspace/src/objective/regression_obj.cu:152: reg:linear is now deprecated in favor of reg:squarederror.\n",
            "[16:42:59] WARNING: /workspace/src/objective/regression_obj.cu:152: reg:linear is now deprecated in favor of reg:squarederror.\n",
            "[16:43:04] WARNING: /workspace/src/objective/regression_obj.cu:152: reg:linear is now deprecated in favor of reg:squarederror.\n",
            "[16:43:08] WARNING: /workspace/src/objective/regression_obj.cu:152: reg:linear is now deprecated in favor of reg:squarederror.\n",
            "[16:43:12] WARNING: /workspace/src/objective/regression_obj.cu:152: reg:linear is now deprecated in favor of reg:squarederror.\n",
            "[16:43:14] WARNING: /workspace/src/objective/regression_obj.cu:152: reg:linear is now deprecated in favor of reg:squarederror.\n",
            "[16:43:18] WARNING: /workspace/src/objective/regression_obj.cu:152: reg:linear is now deprecated in favor of reg:squarederror.\n",
            "[16:43:22] WARNING: /workspace/src/objective/regression_obj.cu:152: reg:linear is now deprecated in favor of reg:squarederror.\n",
            "[16:43:26] WARNING: /workspace/src/objective/regression_obj.cu:152: reg:linear is now deprecated in favor of reg:squarederror.\n",
            "[16:43:30] WARNING: /workspace/src/objective/regression_obj.cu:152: reg:linear is now deprecated in favor of reg:squarederror.\n",
            "[16:43:34] WARNING: /workspace/src/objective/regression_obj.cu:152: reg:linear is now deprecated in favor of reg:squarederror.\n"
          ]
        },
        {
          "name": "stderr",
          "output_type": "stream",
          "text": [
            "Feature Extraction: 100%|██████████| 370/370 [00:27<00:00, 13.70it/s]\n"
          ]
        },
        {
          "name": "stdout",
          "output_type": "stream",
          "text": [
            "MAE:1.144e+04\n",
            "R1 MAE:33.57\n",
            "R2 MAE:227.6\n",
            "R3 MAE:2660\n",
            "R4 MAE:1.344e+05\n",
            "CPE1_t MAE:0.1517\n",
            "CPE1_C MAE:2.1e-05\n",
            "CPE2_t MAE:0.133\n",
            "CPE2_C MAE:0.002711\n",
            "CPE3_t MAE:0.1115\n",
            "CPE3_C MAE:0.006446\n",
            "CPE4_t MAE:0.09264\n",
            "CPE4_C MAE:0.0299\n",
            " \n",
            "Fitting regression for Rs_Ws\n"
          ]
        },
        {
          "name": "stderr",
          "output_type": "stream",
          "text": [
            "Feature Extraction: 100%|██████████| 520/520 [00:36<00:00, 14.09it/s]\n"
          ]
        },
        {
          "name": "stdout",
          "output_type": "stream",
          "text": [
            "[16:44:43] WARNING: /workspace/src/objective/regression_obj.cu:152: reg:linear is now deprecated in favor of reg:squarederror.\n",
            "[16:44:45] WARNING: /workspace/src/objective/regression_obj.cu:152: reg:linear is now deprecated in favor of reg:squarederror.\n",
            "[16:44:47] WARNING: /workspace/src/objective/regression_obj.cu:152: reg:linear is now deprecated in favor of reg:squarederror.\n",
            "[16:44:48] WARNING: /workspace/src/objective/regression_obj.cu:152: reg:linear is now deprecated in favor of reg:squarederror.\n"
          ]
        },
        {
          "name": "stderr",
          "output_type": "stream",
          "text": [
            "Feature Extraction: 100%|██████████| 132/132 [00:09<00:00, 14.32it/s]\n"
          ]
        },
        {
          "name": "stdout",
          "output_type": "stream",
          "text": [
            "MAE:150.5\n",
            "R1 MAE:41\n",
            "W1_R MAE:223.3\n",
            "W1_T MAE:337.5\n",
            "W1_p MAE:0.189\n"
          ]
        }
      ],
      "source": [
        "# tsfresh-xgboost no quantile transform\n",
        "ppls = list()\n",
        "param_values_pred = list(range(df.shape[0]))\n",
        "for df_ in dfs:\n",
        "  print(\" \")\n",
        "  print(\"Fitting regression for %s\" % df_[\"Circuit\"].loc[df_.index[0]])\n",
        "  df_ts_ = df_ts[df_ts[\"id\"].isin(df_.index)]\n",
        "  df_x = pd.DataFrame(index=np.unique(df_ts_[\"id\"]))\n",
        "  df_y = pd.DataFrame(df_['param_values'].to_list(), columns=df_[\"param_strs\"].loc[df_.index[0]])\n",
        "  X_train, X_test, y_train, y_test = train_test_split(df_x, df_y, test_size=0.2, random_state=42)\n",
        "  # transformer mask, tell the transformer which parameters to skip over\n",
        "  mask = [n for n, x in enumerate(df_[\"param_strs\"].loc[df_.index[0]]) if '_t' in x]\n",
        "  mdl = MultiOutputRegressor(estimator=xgb.XGBRegressor())\n",
        "  #regr = TransformedTargetRegressor(regressor=mdl,\n",
        "  #                                  transformer=QuantileTransformer(n_quantiles=10, random_state=0))\n",
        "  #                                  #transformer=PowerTransformer())\n",
        "  ppl = Pipeline([\n",
        "        ('augmenter', FeatureAugmenter(column_id='id', column_sort='freq', default_fc_parameters=ComprehensiveFCParameters())),\n",
        "        ('regressor', mdl)\n",
        "      ])\n",
        "  ppl.set_params(augmenter__timeseries_container=df_ts_);\n",
        "  ppl.fit(X_train, y_train)\n",
        "  y_pred = ppl.predict(X_test)\n",
        "  print(\"MAE:%.4g\" % mean_absolute_error(y_test, y_pred))\n",
        "  p_strs = df_[\"param_strs\"].loc[df_.index[0]]\n",
        "  for i in np.arange(len(p_strs)):\n",
        "    print(\"%s MAE:%.4g\" % (p_strs[i], mean_absolute_error(y_test[p_strs[i]], y_pred[:,i])))\n",
        "  ppls.append(ppl)\n",
        "  for idx, i in zip(df_.index, np.arange(y_pred.shape[0])):\n",
        "    param_values_pred[idx] = y_pred[i,:]"
      ]
    },
    {
      "cell_type": "code",
      "execution_count": null,
      "metadata": {
        "colab": {
          "base_uri": "https://localhost:8080/"
        },
        "id": "0p5LgziyHywa",
        "outputId": "be6e0019-36ee-4d8a-ca15-5d62e64f994a"
      },
      "outputs": [
        {
          "name": "stdout",
          "output_type": "stream",
          "text": [
            " \n",
            "Fitting regression for L-R-RCPE\n",
            "MAE:7342\n",
            "L1 MAE:1.372e-06\n",
            "R1 MAE:41.88\n",
            "R2 MAE:3.667e+04\n",
            "CPE1_t MAE:0.1324\n",
            "CPE1_C MAE:0.01403\n",
            " \n",
            "Fitting regression for L-R-RCPE-RCPE\n",
            "MAE:6860\n",
            "L1 MAE:1.671e-06\n",
            "R1 MAE:65.77\n",
            "R2 MAE:290.9\n",
            "CPE1_t MAE:0.1266\n",
            "CPE1_C MAE:3.477e-06\n",
            "R3 MAE:5.452e+04\n",
            "CPE2_t MAE:0.136\n",
            "CPE2_C MAE:0.01115\n",
            " \n",
            "Fitting regression for L-R-RCPE-RCPE-RCPE\n",
            "MAE:6933\n",
            "L1 MAE:1.23e-06\n",
            "R1 MAE:52.71\n",
            "R2 MAE:336.5\n",
            "CPE1_t MAE:0.1257\n",
            "CPE1_C MAE:8.535e-07\n",
            "R3 MAE:2181\n",
            "CPE2_t MAE:0.1226\n",
            "CPE2_C MAE:0.0003276\n",
            "R4 MAE:7.369e+04\n",
            "CPE3_t MAE:0.1193\n",
            "CPE3_C MAE:0.01829\n",
            " \n",
            "Fitting regression for RC-G-G\n",
            "MAE:22.4\n",
            "R1 MAE:74.1\n",
            "C1 MAE:4.985e-06\n",
            "R_g1 MAE:1.283\n",
            "t_g1 MAE:0.7691\n",
            "R_g2 MAE:45.08\n",
            "t_g2 MAE:13.17\n",
            " \n",
            "Fitting regression for RC-RC-RCPE-RCPE\n",
            "MAE:5967\n",
            "R1 MAE:33.19\n",
            "R2 MAE:6.394\n",
            "R3 MAE:40.62\n",
            "R4 MAE:5.959e+04\n",
            "C2 MAE:1.216e-05\n",
            "CPE3_C MAE:0.0001672\n",
            "CPE4_t MAE:0.1629\n",
            "CPE4_C MAE:0.5516\n",
            "C1 MAE:0\n",
            "CPE3_t MAE:0\n",
            " \n",
            "Fitting regression for RCPE-RCPE\n",
            "MAE:4632\n",
            "R1 MAE:50.85\n",
            "R2 MAE:2.774e+04\n",
            "CPE1_t MAE:0.1176\n",
            "CPE1_C MAE:0.0009411\n",
            "CPE2_t MAE:0.1202\n",
            "CPE2_C MAE:0.01439\n",
            " \n",
            "Fitting regression for RCPE-RCPE-RCPE\n",
            "MAE:6429\n",
            "R1 MAE:12.95\n",
            "R2 MAE:381.8\n",
            "R3 MAE:5.747e+04\n",
            "CPE1_t MAE:0.1247\n",
            "CPE1_C MAE:1.58e-06\n",
            "CPE2_t MAE:0.1252\n",
            "CPE2_C MAE:4.671e-05\n",
            "CPE3_t MAE:0.1286\n",
            "CPE3_C MAE:0.02993\n",
            " \n",
            "Fitting regression for RCPE-RCPE-RCPE-RCPE\n",
            "MAE:8518\n",
            "R1 MAE:31.93\n",
            "R2 MAE:168.4\n",
            "R3 MAE:2515\n",
            "R4 MAE:9.95e+04\n",
            "CPE1_t MAE:0.1431\n",
            "CPE1_C MAE:4.189e-07\n",
            "CPE2_t MAE:0.1235\n",
            "CPE2_C MAE:0.001248\n",
            "CPE3_t MAE:0.1218\n",
            "CPE3_C MAE:0.005062\n",
            "CPE4_t MAE:0.1284\n",
            "CPE4_C MAE:0.02498\n",
            " \n",
            "Fitting regression for Rs_Ws\n",
            "MAE:206.6\n",
            "R1 MAE:56.69\n",
            "W1_R MAE:674.6\n",
            "W1_T MAE:94.06\n",
            "W1_p MAE:0.8733\n"
          ]
        }
      ],
      "source": [
        "# dummy model, no quantile transform\n",
        "ppls_0 = list()\n",
        "for df_ in dfs:\n",
        "  print(\" \")\n",
        "  print(\"Fitting regression for %s\" % df_[\"Circuit\"].loc[df_.index[0]])\n",
        "  df_ts_ = df_ts[df_ts[\"id\"].isin(df_.index)]\n",
        "  df_x = pd.DataFrame(index=np.unique(df_ts_[\"id\"]))\n",
        "  df_y = pd.DataFrame(df_['param_values'].to_list(), columns=df_[\"param_strs\"].loc[df_.index[0]])\n",
        "  X_train, X_test, y_train, y_test = train_test_split(df_x, df_y, test_size=0.2, random_state=42)\n",
        "  # transformer mask, tell the transformer which parameters to skip over\n",
        "  mask = [n for n, x in enumerate(df_[\"param_strs\"].loc[df_.index[0]]) if '_t' in x]\n",
        "  mdl = DummyRegressor(strategy='median')\n",
        "  #regr = TransformedTargetRegressor(regressor=mdl, \n",
        "  #                                  func=partial(transform_params, mask_skip=mask),\n",
        "  #                                  inverse_func=partial(invert_params, mask_skip=mask))\n",
        "  ppl = Pipeline([\n",
        "        ('regressor', mdl)\n",
        "      ])\n",
        "  ppl.fit(X_train, y_train)\n",
        "  y_pred = ppl.predict(X_test)\n",
        "  print(\"MAE:%.4g\" % mean_absolute_error(y_test, y_pred))\n",
        "  p_strs = df_[\"param_strs\"].loc[df_.index[0]]\n",
        "  for i in np.arange(len(p_strs)):\n",
        "    print(\"%s MAE:%.4g\" % (p_strs[i], mean_absolute_error(y_test[p_strs[i]], y_pred[:,i])))\n",
        "  ppls_0.append(ppl)"
      ]
    },
    {
      "cell_type": "code",
      "execution_count": null,
      "metadata": {
        "colab": {
          "base_uri": "https://localhost:8080/"
        },
        "id": "bPYWulRKIRaL",
        "outputId": "0dc3edd5-c03c-452f-abe0-2abc81ba33dd"
      },
      "outputs": [
        {
          "name": "stdout",
          "output_type": "stream",
          "text": [
            " \n",
            "Fitting regression for L-R-RCPE\n",
            "MAE:7342\n",
            "L1 MAE:1.372e-06\n",
            "R1 MAE:41.88\n",
            "R2 MAE:3.667e+04\n",
            "CPE1_t MAE:0.1324\n",
            "CPE1_C MAE:0.01403\n",
            " \n",
            "Fitting regression for L-R-RCPE-RCPE\n",
            "MAE:6860\n",
            "L1 MAE:1.671e-06\n",
            "R1 MAE:65.77\n",
            "R2 MAE:290.9\n",
            "CPE1_t MAE:0.1266\n",
            "CPE1_C MAE:3.477e-06\n",
            "R3 MAE:5.452e+04\n",
            "CPE2_t MAE:0.136\n",
            "CPE2_C MAE:0.01115\n",
            " \n",
            "Fitting regression for L-R-RCPE-RCPE-RCPE\n",
            "MAE:6933\n",
            "L1 MAE:1.23e-06\n",
            "R1 MAE:52.71\n",
            "R2 MAE:336.5\n",
            "CPE1_t MAE:0.1257\n",
            "CPE1_C MAE:8.535e-07\n",
            "R3 MAE:2181\n",
            "CPE2_t MAE:0.1226\n",
            "CPE2_C MAE:0.0003276\n",
            "R4 MAE:7.369e+04\n",
            "CPE3_t MAE:0.1193\n",
            "CPE3_C MAE:0.01829\n",
            " \n",
            "Fitting regression for RC-G-G\n",
            "MAE:22.4\n",
            "R1 MAE:74.1\n",
            "C1 MAE:4.985e-06\n",
            "R_g1 MAE:1.283\n",
            "t_g1 MAE:0.7691\n",
            "R_g2 MAE:45.08\n",
            "t_g2 MAE:13.17\n",
            " \n",
            "Fitting regression for RC-RC-RCPE-RCPE\n",
            "MAE:5967\n",
            "R1 MAE:33.19\n",
            "R2 MAE:6.394\n",
            "R3 MAE:40.62\n",
            "R4 MAE:5.959e+04\n",
            "C2 MAE:1.216e-05\n",
            "CPE3_C MAE:0.0001672\n",
            "CPE4_t MAE:0.1629\n",
            "CPE4_C MAE:0.5516\n",
            "C1 MAE:0\n",
            "CPE3_t MAE:0\n",
            " \n",
            "Fitting regression for RCPE-RCPE\n",
            "MAE:4632\n",
            "R1 MAE:50.85\n",
            "R2 MAE:2.774e+04\n",
            "CPE1_t MAE:0.1176\n",
            "CPE1_C MAE:0.0009411\n",
            "CPE2_t MAE:0.1202\n",
            "CPE2_C MAE:0.01439\n",
            " \n",
            "Fitting regression for RCPE-RCPE-RCPE\n",
            "MAE:6429\n",
            "R1 MAE:12.95\n",
            "R2 MAE:381.8\n",
            "R3 MAE:5.747e+04\n",
            "CPE1_t MAE:0.1247\n",
            "CPE1_C MAE:1.58e-06\n",
            "CPE2_t MAE:0.1252\n",
            "CPE2_C MAE:4.671e-05\n",
            "CPE3_t MAE:0.1286\n",
            "CPE3_C MAE:0.02993\n",
            " \n",
            "Fitting regression for RCPE-RCPE-RCPE-RCPE\n",
            "MAE:8518\n",
            "R1 MAE:31.93\n",
            "R2 MAE:168.4\n",
            "R3 MAE:2515\n",
            "R4 MAE:9.95e+04\n",
            "CPE1_t MAE:0.1431\n",
            "CPE1_C MAE:4.189e-07\n",
            "CPE2_t MAE:0.1235\n",
            "CPE2_C MAE:0.001248\n",
            "CPE3_t MAE:0.1218\n",
            "CPE3_C MAE:0.005062\n",
            "CPE4_t MAE:0.1284\n",
            "CPE4_C MAE:0.02498\n",
            " \n",
            "Fitting regression for Rs_Ws\n",
            "MAE:206.6\n",
            "R1 MAE:56.69\n",
            "W1_R MAE:674.6\n",
            "W1_T MAE:94.06\n",
            "W1_p MAE:0.8733\n"
          ]
        }
      ],
      "source": [
        "# dummy model, quantile transform\n",
        "ppls_0 = list()\n",
        "for df_ in dfs:\n",
        "  print(\" \")\n",
        "  print(\"Fitting regression for %s\" % df_[\"Circuit\"].loc[df_.index[0]])\n",
        "  df_ts_ = df_ts[df_ts[\"id\"].isin(df_.index)]\n",
        "  df_x = pd.DataFrame(index=np.unique(df_ts_[\"id\"]))\n",
        "  df_y = pd.DataFrame(df_['param_values'].to_list(), columns=df_[\"param_strs\"].loc[df_.index[0]])\n",
        "  X_train, X_test, y_train, y_test = train_test_split(df_x, df_y, test_size=0.2, random_state=42)\n",
        "  # transformer mask, tell the transformer which parameters to skip over\n",
        "  mask = [n for n, x in enumerate(df_[\"param_strs\"].loc[df_.index[0]]) if '_t' in x]\n",
        "  mdl = DummyRegressor(strategy='median')\n",
        "  regr = TransformedTargetRegressor(regressor=mdl,\n",
        "                                    transformer=QuantileTransformer(n_quantiles=10, random_state=0))\n",
        "  ppl = Pipeline([\n",
        "        ('regressor', regr)\n",
        "      ])\n",
        "  ppl.fit(X_train, y_train)\n",
        "  y_pred = ppl.predict(X_test)\n",
        "  print(\"MAE:%.4g\" % mean_absolute_error(y_test, y_pred))\n",
        "  p_strs = df_[\"param_strs\"].loc[df_.index[0]]\n",
        "  for i in np.arange(len(p_strs)):\n",
        "    print(\"%s MAE:%.4g\" % (p_strs[i], mean_absolute_error(y_test[p_strs[i]], y_pred[:,i])))\n",
        "  ppls_0.append(ppl)"
      ]
    },
    {
      "cell_type": "markdown",
      "metadata": {
        "id": "i2nQjAiOH0GD"
      },
      "source": [
        "Model trained on all data for submission."
      ]
    },
    {
      "cell_type": "code",
      "execution_count": null,
      "metadata": {
        "colab": {
          "base_uri": "https://localhost:8080/"
        },
        "id": "fg7wP_ZFH0aC",
        "outputId": "78e9e45f-21ee-4067-fa72-61b5b2069e7e"
      },
      "outputs": [
        {
          "name": "stdout",
          "output_type": "stream",
          "text": [
            " \n",
            "Fitting regression for L-R-RCPE\n"
          ]
        },
        {
          "name": "stderr",
          "output_type": "stream",
          "text": [
            "Feature Extraction: 100%|██████████| 1730/1730 [02:24<00:00, 12.00it/s]\n"
          ]
        },
        {
          "name": "stdout",
          "output_type": "stream",
          "text": [
            "[03:57:16] WARNING: /workspace/src/objective/regression_obj.cu:152: reg:linear is now deprecated in favor of reg:squarederror.\n",
            "[03:57:22] WARNING: /workspace/src/objective/regression_obj.cu:152: reg:linear is now deprecated in favor of reg:squarederror.\n",
            "[03:57:27] WARNING: /workspace/src/objective/regression_obj.cu:152: reg:linear is now deprecated in favor of reg:squarederror.\n",
            "[03:57:32] WARNING: /workspace/src/objective/regression_obj.cu:152: reg:linear is now deprecated in favor of reg:squarederror.\n",
            "[03:57:38] WARNING: /workspace/src/objective/regression_obj.cu:152: reg:linear is now deprecated in favor of reg:squarederror.\n",
            " \n",
            "Fitting regression for L-R-RCPE-RCPE\n"
          ]
        },
        {
          "name": "stderr",
          "output_type": "stream",
          "text": [
            "Feature Extraction: 100%|██████████| 1800/1800 [02:32<00:00, 11.80it/s]\n"
          ]
        },
        {
          "name": "stdout",
          "output_type": "stream",
          "text": [
            "[04:00:18] WARNING: /workspace/src/objective/regression_obj.cu:152: reg:linear is now deprecated in favor of reg:squarederror.\n",
            "[04:00:24] WARNING: /workspace/src/objective/regression_obj.cu:152: reg:linear is now deprecated in favor of reg:squarederror.\n",
            "[04:00:29] WARNING: /workspace/src/objective/regression_obj.cu:152: reg:linear is now deprecated in favor of reg:squarederror.\n",
            "[04:00:35] WARNING: /workspace/src/objective/regression_obj.cu:152: reg:linear is now deprecated in favor of reg:squarederror.\n",
            "[04:00:41] WARNING: /workspace/src/objective/regression_obj.cu:152: reg:linear is now deprecated in favor of reg:squarederror.\n",
            "[04:00:46] WARNING: /workspace/src/objective/regression_obj.cu:152: reg:linear is now deprecated in favor of reg:squarederror.\n",
            "[04:00:52] WARNING: /workspace/src/objective/regression_obj.cu:152: reg:linear is now deprecated in favor of reg:squarederror.\n",
            "[04:00:57] WARNING: /workspace/src/objective/regression_obj.cu:152: reg:linear is now deprecated in favor of reg:squarederror.\n",
            " \n",
            "Fitting regression for L-R-RCPE-RCPE-RCPE\n"
          ]
        },
        {
          "name": "stderr",
          "output_type": "stream",
          "text": [
            "Feature Extraction: 100%|██████████| 1752/1752 [02:41<00:00, 10.82it/s]\n"
          ]
        },
        {
          "name": "stdout",
          "output_type": "stream",
          "text": [
            "[04:03:47] WARNING: /workspace/src/objective/regression_obj.cu:152: reg:linear is now deprecated in favor of reg:squarederror.\n",
            "[04:03:53] WARNING: /workspace/src/objective/regression_obj.cu:152: reg:linear is now deprecated in favor of reg:squarederror.\n",
            "[04:03:58] WARNING: /workspace/src/objective/regression_obj.cu:152: reg:linear is now deprecated in favor of reg:squarederror.\n",
            "[04:04:04] WARNING: /workspace/src/objective/regression_obj.cu:152: reg:linear is now deprecated in favor of reg:squarederror.\n",
            "[04:04:09] WARNING: /workspace/src/objective/regression_obj.cu:152: reg:linear is now deprecated in favor of reg:squarederror.\n",
            "[04:04:15] WARNING: /workspace/src/objective/regression_obj.cu:152: reg:linear is now deprecated in favor of reg:squarederror.\n",
            "[04:04:20] WARNING: /workspace/src/objective/regression_obj.cu:152: reg:linear is now deprecated in favor of reg:squarederror.\n",
            "[04:04:25] WARNING: /workspace/src/objective/regression_obj.cu:152: reg:linear is now deprecated in favor of reg:squarederror.\n",
            "[04:04:31] WARNING: /workspace/src/objective/regression_obj.cu:152: reg:linear is now deprecated in favor of reg:squarederror.\n",
            "[04:04:36] WARNING: /workspace/src/objective/regression_obj.cu:152: reg:linear is now deprecated in favor of reg:squarederror.\n",
            "[04:04:42] WARNING: /workspace/src/objective/regression_obj.cu:152: reg:linear is now deprecated in favor of reg:squarederror.\n",
            " \n",
            "Fitting regression for RC-G-G\n"
          ]
        },
        {
          "name": "stderr",
          "output_type": "stream",
          "text": [
            "Feature Extraction: 100%|██████████| 1780/1780 [02:38<00:00, 11.23it/s]\n"
          ]
        },
        {
          "name": "stdout",
          "output_type": "stream",
          "text": [
            "[04:07:27] WARNING: /workspace/src/objective/regression_obj.cu:152: reg:linear is now deprecated in favor of reg:squarederror.\n",
            "[04:07:33] WARNING: /workspace/src/objective/regression_obj.cu:152: reg:linear is now deprecated in favor of reg:squarederror.\n",
            "[04:07:38] WARNING: /workspace/src/objective/regression_obj.cu:152: reg:linear is now deprecated in favor of reg:squarederror.\n",
            "[04:07:44] WARNING: /workspace/src/objective/regression_obj.cu:152: reg:linear is now deprecated in favor of reg:squarederror.\n",
            "[04:07:50] WARNING: /workspace/src/objective/regression_obj.cu:152: reg:linear is now deprecated in favor of reg:squarederror.\n",
            "[04:07:56] WARNING: /workspace/src/objective/regression_obj.cu:152: reg:linear is now deprecated in favor of reg:squarederror.\n",
            " \n",
            "Fitting regression for RC-RC-RCPE-RCPE\n"
          ]
        },
        {
          "name": "stderr",
          "output_type": "stream",
          "text": [
            "Feature Extraction: 100%|██████████| 1814/1814 [02:32<00:00, 11.90it/s]\n"
          ]
        },
        {
          "name": "stdout",
          "output_type": "stream",
          "text": [
            "[04:10:36] WARNING: /workspace/src/objective/regression_obj.cu:152: reg:linear is now deprecated in favor of reg:squarederror.\n",
            "[04:10:41] WARNING: /workspace/src/objective/regression_obj.cu:152: reg:linear is now deprecated in favor of reg:squarederror.\n",
            "[04:10:47] WARNING: /workspace/src/objective/regression_obj.cu:152: reg:linear is now deprecated in favor of reg:squarederror.\n",
            "[04:10:53] WARNING: /workspace/src/objective/regression_obj.cu:152: reg:linear is now deprecated in favor of reg:squarederror.\n",
            "[04:10:58] WARNING: /workspace/src/objective/regression_obj.cu:152: reg:linear is now deprecated in favor of reg:squarederror.\n",
            "[04:11:04] WARNING: /workspace/src/objective/regression_obj.cu:152: reg:linear is now deprecated in favor of reg:squarederror.\n",
            "[04:11:10] WARNING: /workspace/src/objective/regression_obj.cu:152: reg:linear is now deprecated in favor of reg:squarederror.\n",
            "[04:11:15] WARNING: /workspace/src/objective/regression_obj.cu:152: reg:linear is now deprecated in favor of reg:squarederror.\n",
            "[04:11:22] WARNING: /workspace/src/objective/regression_obj.cu:152: reg:linear is now deprecated in favor of reg:squarederror.\n",
            "[04:11:24] WARNING: /workspace/src/objective/regression_obj.cu:152: reg:linear is now deprecated in favor of reg:squarederror.\n",
            " \n",
            "Fitting regression for RCPE-RCPE\n"
          ]
        },
        {
          "name": "stderr",
          "output_type": "stream",
          "text": [
            "Feature Extraction: 100%|██████████| 1710/1710 [02:23<00:00, 11.95it/s]\n"
          ]
        },
        {
          "name": "stdout",
          "output_type": "stream",
          "text": [
            "[04:13:51] WARNING: /workspace/src/objective/regression_obj.cu:152: reg:linear is now deprecated in favor of reg:squarederror.\n",
            "[04:13:56] WARNING: /workspace/src/objective/regression_obj.cu:152: reg:linear is now deprecated in favor of reg:squarederror.\n",
            "[04:14:02] WARNING: /workspace/src/objective/regression_obj.cu:152: reg:linear is now deprecated in favor of reg:squarederror.\n",
            "[04:14:07] WARNING: /workspace/src/objective/regression_obj.cu:152: reg:linear is now deprecated in favor of reg:squarederror.\n",
            "[04:14:13] WARNING: /workspace/src/objective/regression_obj.cu:152: reg:linear is now deprecated in favor of reg:squarederror.\n",
            "[04:14:18] WARNING: /workspace/src/objective/regression_obj.cu:152: reg:linear is now deprecated in favor of reg:squarederror.\n",
            " \n",
            "Fitting regression for RCPE-RCPE-RCPE\n"
          ]
        },
        {
          "name": "stderr",
          "output_type": "stream",
          "text": [
            "Feature Extraction: 100%|██████████| 1838/1838 [02:34<00:00, 11.86it/s]\n"
          ]
        },
        {
          "name": "stdout",
          "output_type": "stream",
          "text": [
            "[04:17:01] WARNING: /workspace/src/objective/regression_obj.cu:152: reg:linear is now deprecated in favor of reg:squarederror.\n",
            "[04:17:07] WARNING: /workspace/src/objective/regression_obj.cu:152: reg:linear is now deprecated in favor of reg:squarederror.\n",
            "[04:17:13] WARNING: /workspace/src/objective/regression_obj.cu:152: reg:linear is now deprecated in favor of reg:squarederror.\n",
            "[04:17:18] WARNING: /workspace/src/objective/regression_obj.cu:152: reg:linear is now deprecated in favor of reg:squarederror.\n",
            "[04:17:24] WARNING: /workspace/src/objective/regression_obj.cu:152: reg:linear is now deprecated in favor of reg:squarederror.\n",
            "[04:17:30] WARNING: /workspace/src/objective/regression_obj.cu:152: reg:linear is now deprecated in favor of reg:squarederror.\n",
            "[04:17:35] WARNING: /workspace/src/objective/regression_obj.cu:152: reg:linear is now deprecated in favor of reg:squarederror.\n",
            "[04:17:41] WARNING: /workspace/src/objective/regression_obj.cu:152: reg:linear is now deprecated in favor of reg:squarederror.\n",
            "[04:17:47] WARNING: /workspace/src/objective/regression_obj.cu:152: reg:linear is now deprecated in favor of reg:squarederror.\n",
            " \n",
            "Fitting regression for RCPE-RCPE-RCPE-RCPE\n"
          ]
        },
        {
          "name": "stderr",
          "output_type": "stream",
          "text": [
            "Feature Extraction: 100%|██████████| 1848/1848 [02:32<00:00, 12.11it/s]\n"
          ]
        },
        {
          "name": "stdout",
          "output_type": "stream",
          "text": [
            "[04:20:27] WARNING: /workspace/src/objective/regression_obj.cu:152: reg:linear is now deprecated in favor of reg:squarederror.\n",
            "[04:20:33] WARNING: /workspace/src/objective/regression_obj.cu:152: reg:linear is now deprecated in favor of reg:squarederror.\n",
            "[04:20:38] WARNING: /workspace/src/objective/regression_obj.cu:152: reg:linear is now deprecated in favor of reg:squarederror.\n",
            "[04:20:44] WARNING: /workspace/src/objective/regression_obj.cu:152: reg:linear is now deprecated in favor of reg:squarederror.\n",
            "[04:20:50] WARNING: /workspace/src/objective/regression_obj.cu:152: reg:linear is now deprecated in favor of reg:squarederror.\n",
            "[04:20:55] WARNING: /workspace/src/objective/regression_obj.cu:152: reg:linear is now deprecated in favor of reg:squarederror.\n",
            "[04:21:01] WARNING: /workspace/src/objective/regression_obj.cu:152: reg:linear is now deprecated in favor of reg:squarederror.\n",
            "[04:21:07] WARNING: /workspace/src/objective/regression_obj.cu:152: reg:linear is now deprecated in favor of reg:squarederror.\n",
            "[04:21:13] WARNING: /workspace/src/objective/regression_obj.cu:152: reg:linear is now deprecated in favor of reg:squarederror.\n",
            "[04:21:18] WARNING: /workspace/src/objective/regression_obj.cu:152: reg:linear is now deprecated in favor of reg:squarederror.\n",
            "[04:21:24] WARNING: /workspace/src/objective/regression_obj.cu:152: reg:linear is now deprecated in favor of reg:squarederror.\n",
            "[04:21:30] WARNING: /workspace/src/objective/regression_obj.cu:152: reg:linear is now deprecated in favor of reg:squarederror.\n",
            " \n",
            "Fitting regression for Rs_Ws\n"
          ]
        },
        {
          "name": "stderr",
          "output_type": "stream",
          "text": [
            "Feature Extraction: 100%|██████████| 652/652 [00:53<00:00, 12.17it/s]\n"
          ]
        },
        {
          "name": "stdout",
          "output_type": "stream",
          "text": [
            "[04:22:30] WARNING: /workspace/src/objective/regression_obj.cu:152: reg:linear is now deprecated in favor of reg:squarederror.\n",
            "[04:22:32] WARNING: /workspace/src/objective/regression_obj.cu:152: reg:linear is now deprecated in favor of reg:squarederror.\n",
            "[04:22:34] WARNING: /workspace/src/objective/regression_obj.cu:152: reg:linear is now deprecated in favor of reg:squarederror.\n",
            "[04:22:36] WARNING: /workspace/src/objective/regression_obj.cu:152: reg:linear is now deprecated in favor of reg:squarederror.\n"
          ]
        }
      ],
      "source": [
        "#train tsfresh-xgboost-quantile models on all data\n",
        "ppls = list()\n",
        "param_values_pred = list(range(df.shape[0]))\n",
        "for df_ in dfs:\n",
        "  print(\" \")\n",
        "  print(\"Fitting regression for %s\" % df_[\"Circuit\"].loc[df_.index[0]])\n",
        "  df_ts_ = df_ts[df_ts[\"id\"].isin(df_.index)]\n",
        "  df_x = pd.DataFrame(index=np.unique(df_ts_[\"id\"]))\n",
        "  df_y = pd.DataFrame(df_['param_values'].to_list(), columns=df_[\"param_strs\"].loc[df_.index[0]])\n",
        "  mdl = MultiOutputRegressor(estimator=xgb.XGBRegressor())\n",
        "  regr = TransformedTargetRegressor(regressor=mdl,\n",
        "                                    transformer=QuantileTransformer(n_quantiles=10, random_state=0))\n",
        "  ppl = Pipeline([\n",
        "        ('augmenter', FeatureAugmenter(column_id='id', column_sort='freq', default_fc_parameters=ComprehensiveFCParameters())),\n",
        "        ('regressor', regr)\n",
        "      ])\n",
        "  ppl.set_params(augmenter__timeseries_container=df_ts_);\n",
        "  ppl.fit(df_x, df_y)\n",
        "  ppls.append(ppl)\n",
        "\n",
        "  ####### help\n",
        "  # save fits\n",
        "  for idx, i in zip(df_.index, np.arange(y_pred.shape[0])):\n",
        "    param_values_pred[idx] = y_pred[i,:]\n",
        "\n",
        "\n",
        "#pickle each model in ppls\n",
        "\n",
        "#import pickle\n",
        "#for mdl in ppls:\n",
        "#  file = pickle.dump(mdl)"
      ]
    },
    {
      "cell_type": "markdown",
      "metadata": {
        "id": "qHM7xupZPOEw"
      },
      "source": [
        "Export df to csv"
      ]
    },
    {
      "cell_type": "code",
      "execution_count": null,
      "metadata": {
        "colab": {
          "base_uri": "https://localhost:8080/"
        },
        "id": "7XoN3W_7eACW",
        "outputId": "fc9f385c-c697-4453-b1f2-a670bd3bbda7"
      },
      "outputs": [
        {
          "data": {
            "text/plain": [
              "[array([4.2765201e+02, 2.8244915e+00, 4.3445881e-03, 4.3264108e+00],\n",
              "       dtype=float32),\n",
              " array([4.2765201e+02, 2.8244915e+00, 4.3445881e-03, 4.3264108e+00],\n",
              "       dtype=float32),\n",
              " array([0.17008224, 0.14053969, 0.03647374, 1.850966  ], dtype=float32),\n",
              " array([4.2765201e+02, 2.8244915e+00, 4.3445881e-03, 4.3264108e+00],\n",
              "       dtype=float32),\n",
              " array([4.2765201e+02, 2.8244915e+00, 4.3445881e-03, 4.3264108e+00],\n",
              "       dtype=float32),\n",
              " array([4.2765201e+02, 2.8244915e+00, 4.3445881e-03, 4.3264108e+00],\n",
              "       dtype=float32),\n",
              " array([4.2765201e+02, 2.8244915e+00, 4.3445881e-03, 4.3264108e+00],\n",
              "       dtype=float32),\n",
              " array([  4.6423497, 493.56506  ,   3.6793091,   2.0064642], dtype=float32),\n",
              " array([0.17008224, 0.14053969, 0.03647374, 1.850966  ], dtype=float32),\n",
              " array([0.17008224, 0.14053969, 0.03647374, 1.850966  ], dtype=float32),\n",
              " array([4.2765201e+02, 2.8244915e+00, 4.3445881e-03, 4.3264108e+00],\n",
              "       dtype=float32),\n",
              " array([0.17008224, 0.14053969, 0.03647374, 1.850966  ], dtype=float32),\n",
              " array([4.2765201e+02, 2.8244915e+00, 4.3445881e-03, 4.3264108e+00],\n",
              "       dtype=float32),\n",
              " array([4.2765201e+02, 2.8244915e+00, 4.3445881e-03, 4.3264108e+00],\n",
              "       dtype=float32),\n",
              " array([97.273224 , 16.687393 ,  2.8536568,  2.0283968], dtype=float32),\n",
              " array([  4.6423497, 493.56506  ,   3.6793091,   2.0064642], dtype=float32),\n",
              " array([0.17008224, 0.14053969, 0.03647374, 1.850966  ], dtype=float32),\n",
              " array([0.17008224, 0.14053969, 0.03647374, 1.850966  ], dtype=float32),\n",
              " array([  4.6423497, 493.56506  ,   3.6793091,   2.0064642], dtype=float32),\n",
              " array([  4.6423497, 493.56506  ,   3.6793091,   2.0064642], dtype=float32),\n",
              " array([97.273224 , 16.687393 ,  2.8536568,  2.0283968], dtype=float32),\n",
              " array([0.17008224, 0.14053969, 0.03647374, 1.850966  ], dtype=float32),\n",
              " array([0.17008224, 0.14053969, 0.03647374, 1.850966  ], dtype=float32),\n",
              " array([  4.6423497, 493.56506  ,   3.6793091,   2.0064642], dtype=float32),\n",
              " array([ 0.5339215 ,  0.04196054, 35.44175   ,  1.913935  ], dtype=float32),\n",
              " array([97.273224 , 16.687393 ,  2.8536568,  2.0283968], dtype=float32),\n",
              " array([ 0.5339215 ,  0.04196054, 35.44175   ,  1.913935  ], dtype=float32),\n",
              " array([  4.6423497, 493.56506  ,   3.6793091,   2.0064642], dtype=float32),\n",
              " array([97.273224 , 16.687393 ,  2.8536568,  2.0283968], dtype=float32),\n",
              " array([97.273224 , 16.687393 ,  2.8536568,  2.0283968], dtype=float32),\n",
              " array([ 0.5339215 ,  0.04196054, 35.44175   ,  1.913935  ], dtype=float32),\n",
              " array([7.7998895e+02, 2.8971310e+00, 1.5891479e-01, 2.1438475e+00],\n",
              "       dtype=float32),\n",
              " array([6.7162170e+00, 7.9678809e+03, 5.1753679e-03, 5.1481013e+00],\n",
              "       dtype=float32),\n",
              " array([  4.6423497, 493.56506  ,   3.6793091,   2.0064642], dtype=float32),\n",
              " array([97.273224 , 16.687393 ,  2.8536568,  2.0283968], dtype=float32),\n",
              " array([  4.6423497, 493.56506  ,   3.6793091,   2.0064642], dtype=float32),\n",
              " array([ 0.5339215 ,  0.04196054, 35.44175   ,  1.913935  ], dtype=float32),\n",
              " array([97.273224 , 16.687393 ,  2.8536568,  2.0283968], dtype=float32),\n",
              " array([ 0.5339215 ,  0.04196054, 35.44175   ,  1.913935  ], dtype=float32),\n",
              " array([7.7998895e+02, 2.8971310e+00, 1.5891479e-01, 2.1438475e+00],\n",
              "       dtype=float32),\n",
              " array([6.7162170e+00, 7.9678809e+03, 5.1753679e-03, 5.1481013e+00],\n",
              "       dtype=float32),\n",
              " array([7.7998895e+02, 2.8971310e+00, 1.5891479e-01, 2.1438475e+00],\n",
              "       dtype=float32),\n",
              " array([97.273224 , 16.687393 ,  2.8536568,  2.0283968], dtype=float32),\n",
              " array([ 0.5339215 ,  0.04196054, 35.44175   ,  1.913935  ], dtype=float32),\n",
              " array([6.7162170e+00, 7.9678809e+03, 5.1753679e-03, 5.1481013e+00],\n",
              "       dtype=float32),\n",
              " array([8.2197510e+01, 2.3910944e+00, 3.2984784e-03, 4.4103861e+00],\n",
              "       dtype=float32),\n",
              " array([7.7998895e+02, 2.8971310e+00, 1.5891479e-01, 2.1438475e+00],\n",
              "       dtype=float32),\n",
              " array([1.2592382e+02, 4.2246704e+03, 2.3029288e-03, 3.6058378e+00],\n",
              "       dtype=float32),\n",
              " array([8.2197510e+01, 2.3910944e+00, 3.2984784e-03, 4.4103861e+00],\n",
              "       dtype=float32),\n",
              " array([8.2197510e+01, 2.3910944e+00, 3.2984784e-03, 4.4103861e+00],\n",
              "       dtype=float32),\n",
              " array([ 0.5339215 ,  0.04196054, 35.44175   ,  1.913935  ], dtype=float32),\n",
              " array([6.7162170e+00, 7.9678809e+03, 5.1753679e-03, 5.1481013e+00],\n",
              "       dtype=float32),\n",
              " array([8.2197510e+01, 2.3910944e+00, 3.2984784e-03, 4.4103861e+00],\n",
              "       dtype=float32),\n",
              " array([1.2592382e+02, 4.2246704e+03, 2.3029288e-03, 3.6058378e+00],\n",
              "       dtype=float32),\n",
              " array([ 0.5339215 ,  0.04196054, 35.44175   ,  1.913935  ], dtype=float32),\n",
              " array([7.7998895e+02, 2.8971310e+00, 1.5891479e-01, 2.1438475e+00],\n",
              "       dtype=float32),\n",
              " array([7.7998895e+02, 2.8971310e+00, 1.5891479e-01, 2.1438475e+00],\n",
              "       dtype=float32),\n",
              " array([1.2592382e+02, 4.2246704e+03, 2.3029288e-03, 3.6058378e+00],\n",
              "       dtype=float32),\n",
              " array([6.7162170e+00, 7.9678809e+03, 5.1753679e-03, 5.1481013e+00],\n",
              "       dtype=float32),\n",
              " array([2.054413 , 7.9728174, 2.4382846, 2.2119284], dtype=float32),\n",
              " array([8.2197510e+01, 2.3910944e+00, 3.2984784e-03, 4.4103861e+00],\n",
              "       dtype=float32),\n",
              " array([7.7998895e+02, 2.8971310e+00, 1.5891479e-01, 2.1438475e+00],\n",
              "       dtype=float32),\n",
              " array([0.04439261, 2.1112773 , 1.1626575 , 2.1511443 ], dtype=float32),\n",
              " array([2.054413 , 7.9728174, 2.4382846, 2.2119284], dtype=float32),\n",
              " array([1.2592382e+02, 4.2246704e+03, 2.3029288e-03, 3.6058378e+00],\n",
              "       dtype=float32),\n",
              " array([2.054413 , 7.9728174, 2.4382846, 2.2119284], dtype=float32),\n",
              " array([0.04439261, 2.1112773 , 1.1626575 , 2.1511443 ], dtype=float32),\n",
              " array([1.8544550e+01, 3.2281445e+03, 2.0137798e-02, 2.1577497e+00],\n",
              "       dtype=float32),\n",
              " array([2.054413 , 7.9728174, 2.4382846, 2.2119284], dtype=float32),\n",
              " array([6.5661144e+00, 4.4181755e+01, 6.6955341e-03, 5.9822330e+00],\n",
              "       dtype=float32),\n",
              " array([0.04439261, 2.1112773 , 1.1626575 , 2.1511443 ], dtype=float32),\n",
              " array([2.8392816e-01, 1.0476541e+02, 5.0328501e-02, 3.9485986e+00],\n",
              "       dtype=float32),\n",
              " array([0.17008224, 0.14053969, 0.03647374, 1.850966  ], dtype=float32),\n",
              " array([1.8544550e+01, 3.2281445e+03, 2.0137798e-02, 2.1577497e+00],\n",
              "       dtype=float32),\n",
              " array([1.8544550e+01, 3.2281445e+03, 2.0137798e-02, 2.1577497e+00],\n",
              "       dtype=float32),\n",
              " array([7.7998895e+02, 2.8971310e+00, 1.5891479e-01, 2.1438475e+00],\n",
              "       dtype=float32),\n",
              " array([7.7222185 , 1.8094009 , 0.11099878, 3.575159  ], dtype=float32),\n",
              " array([6.7162170e+00, 7.9678809e+03, 5.1753679e-03, 5.1481013e+00],\n",
              "       dtype=float32),\n",
              " array([1.2592382e+02, 4.2246704e+03, 2.3029288e-03, 3.6058378e+00],\n",
              "       dtype=float32),\n",
              " array([6.5661144e+00, 4.4181755e+01, 6.6955341e-03, 5.9822330e+00],\n",
              "       dtype=float32),\n",
              " array([6.7162170e+00, 7.9678809e+03, 5.1753679e-03, 5.1481013e+00],\n",
              "       dtype=float32),\n",
              " array([2.8392816e-01, 1.0476541e+02, 5.0328501e-02, 3.9485986e+00],\n",
              "       dtype=float32),\n",
              " array([0.22669259, 6.5158553 , 4.1985865 , 2.0174503 ], dtype=float32),\n",
              " array([2.054413 , 7.9728174, 2.4382846, 2.2119284], dtype=float32),\n",
              " array([6.7162170e+00, 7.9678809e+03, 5.1753679e-03, 5.1481013e+00],\n",
              "       dtype=float32),\n",
              " array([6.5661144e+00, 4.4181755e+01, 6.6955341e-03, 5.9822330e+00],\n",
              "       dtype=float32),\n",
              " array([0.04439261, 2.1112773 , 1.1626575 , 2.1511443 ], dtype=float32),\n",
              " array([0.04439261, 2.1112773 , 1.1626575 , 2.1511443 ], dtype=float32),\n",
              " array([1.8544550e+01, 3.2281445e+03, 2.0137798e-02, 2.1577497e+00],\n",
              "       dtype=float32),\n",
              " array([2.8392816e-01, 1.0476541e+02, 5.0328501e-02, 3.9485986e+00],\n",
              "       dtype=float32),\n",
              " array([7.7222185 , 1.8094009 , 0.11099878, 3.575159  ], dtype=float32),\n",
              " array([8.2197510e+01, 2.3910944e+00, 3.2984784e-03, 4.4103861e+00],\n",
              "       dtype=float32),\n",
              " array([0.22669259, 6.5158553 , 4.1985865 , 2.0174503 ], dtype=float32),\n",
              " array([1.8544550e+01, 3.2281445e+03, 2.0137798e-02, 2.1577497e+00],\n",
              "       dtype=float32),\n",
              " array([6.5661144e+00, 4.4181755e+01, 6.6955341e-03, 5.9822330e+00],\n",
              "       dtype=float32),\n",
              " array([2.8392816e-01, 1.0476541e+02, 5.0328501e-02, 3.9485986e+00],\n",
              "       dtype=float32),\n",
              " array([1.2592382e+02, 4.2246704e+03, 2.3029288e-03, 3.6058378e+00],\n",
              "       dtype=float32),\n",
              " array([0.07298034, 0.11117233, 1.2369647 , 2.018699  ], dtype=float32),\n",
              " array([8.0115219e+01, 3.9228616e+02, 5.2089537e-03, 7.3453941e+00],\n",
              "       dtype=float32),\n",
              " array([6.5661144e+00, 4.4181755e+01, 6.6955341e-03, 5.9822330e+00],\n",
              "       dtype=float32),\n",
              " array([7.7222185 , 1.8094009 , 0.11099878, 3.575159  ], dtype=float32),\n",
              " array([8.2197510e+01, 2.3910944e+00, 3.2984784e-03, 4.4103861e+00],\n",
              "       dtype=float32),\n",
              " array([0.22669259, 6.5158553 , 4.1985865 , 2.0174503 ], dtype=float32),\n",
              " array([ 0.33854  , 34.111015 ,  3.0631   ,  1.7619497], dtype=float32),\n",
              " array([1.2592382e+02, 4.2246704e+03, 2.3029288e-03, 3.6058378e+00],\n",
              "       dtype=float32),\n",
              " array([2.054413 , 7.9728174, 2.4382846, 2.2119284], dtype=float32),\n",
              " array([ 1.3236922,  0.5917713, 12.374146 ,  2.1587186], dtype=float32),\n",
              " array([0.07298034, 0.11117233, 1.2369647 , 2.018699  ], dtype=float32),\n",
              " array([2.8392816e-01, 1.0476541e+02, 5.0328501e-02, 3.9485986e+00],\n",
              "       dtype=float32),\n",
              " array([2.054413 , 7.9728174, 2.4382846, 2.2119284], dtype=float32),\n",
              " array([8.0115219e+01, 3.9228616e+02, 5.2089537e-03, 7.3453941e+00],\n",
              "       dtype=float32),\n",
              " array([8.2197510e+01, 2.3910944e+00, 3.2984784e-03, 4.4103861e+00],\n",
              "       dtype=float32),\n",
              " array([0.04439261, 2.1112773 , 1.1626575 , 2.1511443 ], dtype=float32),\n",
              " array([7.7222185 , 1.8094009 , 0.11099878, 3.575159  ], dtype=float32),\n",
              " array([1.2592382e+02, 4.2246704e+03, 2.3029288e-03, 3.6058378e+00],\n",
              "       dtype=float32),\n",
              " array([1.8544550e+01, 3.2281445e+03, 2.0137798e-02, 2.1577497e+00],\n",
              "       dtype=float32),\n",
              " array([6.5661144e+00, 4.4181755e+01, 6.6955341e-03, 5.9822330e+00],\n",
              "       dtype=float32),\n",
              " array([0.22669259, 6.5158553 , 4.1985865 , 2.0174503 ], dtype=float32),\n",
              " array([ 0.33854  , 34.111015 ,  3.0631   ,  1.7619497], dtype=float32),\n",
              " array([2.054413 , 7.9728174, 2.4382846, 2.2119284], dtype=float32),\n",
              " array([0.07298034, 0.11117233, 1.2369647 , 2.018699  ], dtype=float32),\n",
              " array([0.04439261, 2.1112773 , 1.1626575 , 2.1511443 ], dtype=float32),\n",
              " array([1.8544550e+01, 3.2281445e+03, 2.0137798e-02, 2.1577497e+00],\n",
              "       dtype=float32),\n",
              " array([2.8392816e-01, 1.0476541e+02, 5.0328501e-02, 3.9485986e+00],\n",
              "       dtype=float32),\n",
              " array([3.0671682 , 0.7951983 , 0.30905676, 2.6946876 ], dtype=float32),\n",
              " array([ 1.3236922,  0.5917713, 12.374146 ,  2.1587186], dtype=float32),\n",
              " array([7.7222185 , 1.8094009 , 0.11099878, 3.575159  ], dtype=float32),\n",
              " array([  4.6423497, 493.56506  ,   3.6793091,   2.0064642], dtype=float32),\n",
              " array([3.0671682 , 0.7951983 , 0.30905676, 2.6946876 ], dtype=float32),\n",
              " array([0.04439261, 2.1112773 , 1.1626575 , 2.1511443 ], dtype=float32),\n",
              " array([0.07298034, 0.11117233, 1.2369647 , 2.018699  ], dtype=float32),\n",
              " array([0.22669259, 6.5158553 , 4.1985865 , 2.0174503 ], dtype=float32),\n",
              " array([8.0115219e+01, 3.9228616e+02, 5.2089537e-03, 7.3453941e+00],\n",
              "       dtype=float32),\n",
              " array([0.07298034, 0.11117233, 1.2369647 , 2.018699  ], dtype=float32),\n",
              " array([1.8617076e+02, 4.5125898e+03, 4.2045047e-03, 1.8110096e+00],\n",
              "       dtype=float32),\n",
              " array([8.0115219e+01, 3.9228616e+02, 5.2089537e-03, 7.3453941e+00],\n",
              "       dtype=float32),\n",
              " array([8.0115219e+01, 3.9228616e+02, 5.2089537e-03, 7.3453941e+00],\n",
              "       dtype=float32),\n",
              " array([2.8272517, 1.3674275, 3.117313 , 2.6188557], dtype=float32),\n",
              " array([97.273224 , 16.687393 ,  2.8536568,  2.0283968], dtype=float32),\n",
              " array([1.8617076e+02, 4.5125898e+03, 4.2045047e-03, 1.8110096e+00],\n",
              "       dtype=float32),\n",
              " array([6.5661144e+00, 4.4181755e+01, 6.6955341e-03, 5.9822330e+00],\n",
              "       dtype=float32),\n",
              " array([ 0.33854  , 34.111015 ,  3.0631   ,  1.7619497], dtype=float32),\n",
              " array([3.4535027e+01, 5.0189201e+01, 2.2833837e-02, 5.5071039e+00],\n",
              "       dtype=float32),\n",
              " array([ 0.33854  , 34.111015 ,  3.0631   ,  1.7619497], dtype=float32),\n",
              " array([ 1.3236922,  0.5917713, 12.374146 ,  2.1587186], dtype=float32),\n",
              " array([ 0.33854  , 34.111015 ,  3.0631   ,  1.7619497], dtype=float32),\n",
              " array([1.8544550e+01, 3.2281445e+03, 2.0137798e-02, 2.1577497e+00],\n",
              "       dtype=float32),\n",
              " array([ 0.5339215 ,  0.04196054, 35.44175   ,  1.913935  ], dtype=float32),\n",
              " array([ 1.3236922,  0.5917713, 12.374146 ,  2.1587186], dtype=float32),\n",
              " array([7.7998895e+02, 2.8971310e+00, 1.5891479e-01, 2.1438475e+00],\n",
              "       dtype=float32),\n",
              " array([2.8272517, 1.3674275, 3.117313 , 2.6188557], dtype=float32),\n",
              " array([3.0671682 , 0.7951983 , 0.30905676, 2.6946876 ], dtype=float32),\n",
              " array([3.4535027e+01, 5.0189201e+01, 2.2833837e-02, 5.5071039e+00],\n",
              "       dtype=float32),\n",
              " array([4.5587265e+02, 2.3663201e+03, 1.4259267e-01, 2.5936124e+00],\n",
              "       dtype=float32),\n",
              " array([5.8732247, 0.7202936, 7.6088147, 1.7746537], dtype=float32),\n",
              " array([ 1.3236922,  0.5917713, 12.374146 ,  2.1587186], dtype=float32),\n",
              " array([4.5587265e+02, 2.3663201e+03, 1.4259267e-01, 2.5936124e+00],\n",
              "       dtype=float32),\n",
              " array([3.0671682 , 0.7951983 , 0.30905676, 2.6946876 ], dtype=float32),\n",
              " array([3.0671682 , 0.7951983 , 0.30905676, 2.6946876 ], dtype=float32),\n",
              " array([6.5661144e+00, 4.4181755e+01, 6.6955341e-03, 5.9822330e+00],\n",
              "       dtype=float32),\n",
              " array([2.8392816e-01, 1.0476541e+02, 5.0328501e-02, 3.9485986e+00],\n",
              "       dtype=float32),\n",
              " array([1.8617076e+02, 4.5125898e+03, 4.2045047e-03, 1.8110096e+00],\n",
              "       dtype=float32),\n",
              " array([5.8732247, 0.7202936, 7.6088147, 1.7746537], dtype=float32),\n",
              " array([2.8392816e-01, 1.0476541e+02, 5.0328501e-02, 3.9485986e+00],\n",
              "       dtype=float32),\n",
              " array([7.7222185 , 1.8094009 , 0.11099878, 3.575159  ], dtype=float32),\n",
              " array([0.22669259, 6.5158553 , 4.1985865 , 2.0174503 ], dtype=float32),\n",
              " array([1.8617076e+02, 4.5125898e+03, 4.2045047e-03, 1.8110096e+00],\n",
              "       dtype=float32),\n",
              " array([7.7222185 , 1.8094009 , 0.11099878, 3.575159  ], dtype=float32),\n",
              " array([281.32892  , 628.199    ,   4.1137547,   2.2207775], dtype=float32),\n",
              " array([1.8617076e+02, 4.5125898e+03, 4.2045047e-03, 1.8110096e+00],\n",
              "       dtype=float32),\n",
              " array([2.8272517, 1.3674275, 3.117313 , 2.6188557], dtype=float32),\n",
              " array([7.7222185 , 1.8094009 , 0.11099878, 3.575159  ], dtype=float32),\n",
              " array([2.9058490e+02, 1.1317437e+02, 1.0788399e-02, 2.0805790e+00],\n",
              "       dtype=float32),\n",
              " array([281.32892  , 628.199    ,   4.1137547,   2.2207775], dtype=float32),\n",
              " array([0.22669259, 6.5158553 , 4.1985865 , 2.0174503 ], dtype=float32),\n",
              " array([2.8272517, 1.3674275, 3.117313 , 2.6188557], dtype=float32),\n",
              " array([0.07298034, 0.11117233, 1.2369647 , 2.018699  ], dtype=float32),\n",
              " array([2.8272517, 1.3674275, 3.117313 , 2.6188557], dtype=float32),\n",
              " array([8.0115219e+01, 3.9228616e+02, 5.2089537e-03, 7.3453941e+00],\n",
              "       dtype=float32),\n",
              " array([3.4535027e+01, 5.0189201e+01, 2.2833837e-02, 5.5071039e+00],\n",
              "       dtype=float32),\n",
              " array([3.4535027e+01, 5.0189201e+01, 2.2833837e-02, 5.5071039e+00],\n",
              "       dtype=float32),\n",
              " array([ 0.4307869, 13.960347 ,  4.340362 ,  1.8351487], dtype=float32),\n",
              " array([0.07298034, 0.11117233, 1.2369647 , 2.018699  ], dtype=float32),\n",
              " array([6.7162170e+00, 7.9678809e+03, 5.1753679e-03, 5.1481013e+00],\n",
              "       dtype=float32),\n",
              " array([3.4535027e+01, 5.0189201e+01, 2.2833837e-02, 5.5071039e+00],\n",
              "       dtype=float32),\n",
              " array([4.5587265e+02, 2.3663201e+03, 1.4259267e-01, 2.5936124e+00],\n",
              "       dtype=float32),\n",
              " array([4.5587265e+02, 2.3663201e+03, 1.4259267e-01, 2.5936124e+00],\n",
              "       dtype=float32),\n",
              " array([8.2197510e+01, 2.3910944e+00, 3.2984784e-03, 4.4103861e+00],\n",
              "       dtype=float32),\n",
              " array([4.5587265e+02, 2.3663201e+03, 1.4259267e-01, 2.5936124e+00],\n",
              "       dtype=float32),\n",
              " array([8.0115219e+01, 3.9228616e+02, 5.2089537e-03, 7.3453941e+00],\n",
              "       dtype=float32),\n",
              " array([5.8732247, 0.7202936, 7.6088147, 1.7746537], dtype=float32),\n",
              " array([0.22669259, 6.5158553 , 4.1985865 , 2.0174503 ], dtype=float32),\n",
              " array([ 0.33854  , 34.111015 ,  3.0631   ,  1.7619497], dtype=float32),\n",
              " array([281.32892  , 628.199    ,   4.1137547,   2.2207775], dtype=float32),\n",
              " array([5.8732247, 0.7202936, 7.6088147, 1.7746537], dtype=float32),\n",
              " array([2.9058490e+02, 1.1317437e+02, 1.0788399e-02, 2.0805790e+00],\n",
              "       dtype=float32),\n",
              " array([5.8732247, 0.7202936, 7.6088147, 1.7746537], dtype=float32),\n",
              " array([281.32892  , 628.199    ,   4.1137547,   2.2207775], dtype=float32),\n",
              " array([1.8647935 , 0.2071908 , 0.01776456, 3.368156  ], dtype=float32),\n",
              " array([0.07298034, 0.11117233, 1.2369647 , 2.018699  ], dtype=float32),\n",
              " array([281.32892  , 628.199    ,   4.1137547,   2.2207775], dtype=float32),\n",
              " array([3.3190015e+02, 2.2979655e+00, 4.1402292e-02, 3.9083982e+00],\n",
              "       dtype=float32),\n",
              " array([ 1.3236922,  0.5917713, 12.374146 ,  2.1587186], dtype=float32),\n",
              " array([3.0671682 , 0.7951983 , 0.30905676, 2.6946876 ], dtype=float32),\n",
              " array([1.2592382e+02, 4.2246704e+03, 2.3029288e-03, 3.6058378e+00],\n",
              "       dtype=float32),\n",
              " array([2.054413 , 7.9728174, 2.4382846, 2.2119284], dtype=float32),\n",
              " array([2.9058490e+02, 1.1317437e+02, 1.0788399e-02, 2.0805790e+00],\n",
              "       dtype=float32),\n",
              " array([2.9058490e+02, 1.1317437e+02, 1.0788399e-02, 2.0805790e+00],\n",
              "       dtype=float32),\n",
              " array([8.0115219e+01, 3.9228616e+02, 5.2089537e-03, 7.3453941e+00],\n",
              "       dtype=float32),\n",
              " array([ 0.33854  , 34.111015 ,  3.0631   ,  1.7619497], dtype=float32),\n",
              " array([ 0.4307869, 13.960347 ,  4.340362 ,  1.8351487], dtype=float32),\n",
              " array([ 0.33854  , 34.111015 ,  3.0631   ,  1.7619497], dtype=float32),\n",
              " array([1.8617076e+02, 4.5125898e+03, 4.2045047e-03, 1.8110096e+00],\n",
              "       dtype=float32),\n",
              " array([ 1.3236922,  0.5917713, 12.374146 ,  2.1587186], dtype=float32),\n",
              " array([2.9058490e+02, 1.1317437e+02, 1.0788399e-02, 2.0805790e+00],\n",
              "       dtype=float32),\n",
              " array([2.8272517, 1.3674275, 3.117313 , 2.6188557], dtype=float32),\n",
              " array([ 0.4307869, 13.960347 ,  4.340362 ,  1.8351487], dtype=float32),\n",
              " array([3.4535027e+01, 5.0189201e+01, 2.2833837e-02, 5.5071039e+00],\n",
              "       dtype=float32),\n",
              " array([ 0.4307869, 13.960347 ,  4.340362 ,  1.8351487], dtype=float32),\n",
              " array([1.8647935 , 0.2071908 , 0.01776456, 3.368156  ], dtype=float32),\n",
              " array([1.8647935 , 0.2071908 , 0.01776456, 3.368156  ], dtype=float32),\n",
              " array([3.3190015e+02, 2.2979655e+00, 4.1402292e-02, 3.9083982e+00],\n",
              "       dtype=float32),\n",
              " array([ 0.4936606 , 45.908493  ,  0.05819815,  3.1950758 ], dtype=float32),\n",
              " array([4.5587265e+02, 2.3663201e+03, 1.4259267e-01, 2.5936124e+00],\n",
              "       dtype=float32),\n",
              " array([38.693417  ,  4.419867  ,  0.14419746,  2.0051358 ], dtype=float32),\n",
              " array([1.8647935 , 0.2071908 , 0.01776456, 3.368156  ], dtype=float32),\n",
              " array([ 0.4307869, 13.960347 ,  4.340362 ,  1.8351487], dtype=float32),\n",
              " array([ 1.3236922,  0.5917713, 12.374146 ,  2.1587186], dtype=float32),\n",
              " array([5.8732247, 0.7202936, 7.6088147, 1.7746537], dtype=float32),\n",
              " array([3.3190015e+02, 2.2979655e+00, 4.1402292e-02, 3.9083982e+00],\n",
              "       dtype=float32),\n",
              " array([1.2024245e+00, 1.4030877e-01, 2.0163577e+03, 1.6437588e+00],\n",
              "       dtype=float32),\n",
              " array([281.32892  , 628.199    ,   4.1137547,   2.2207775], dtype=float32),\n",
              " array([1.8923412e+01, 9.9787338e+01, 9.7639915e-03, 1.7065636e+00],\n",
              "       dtype=float32),\n",
              " array([3.0671682 , 0.7951983 , 0.30905676, 2.6946876 ], dtype=float32),\n",
              " array([ 0.4936606 , 45.908493  ,  0.05819815,  3.1950758 ], dtype=float32),\n",
              " array([1.8617076e+02, 4.5125898e+03, 4.2045047e-03, 1.8110096e+00],\n",
              "       dtype=float32),\n",
              " array([3.0671682 , 0.7951983 , 0.30905676, 2.6946876 ], dtype=float32),\n",
              " array([2.9058490e+02, 1.1317437e+02, 1.0788399e-02, 2.0805790e+00],\n",
              "       dtype=float32),\n",
              " array([ 0.4307869, 13.960347 ,  4.340362 ,  1.8351487], dtype=float32),\n",
              " array([0.04439261, 2.1112773 , 1.1626575 , 2.1511443 ], dtype=float32),\n",
              " array([3.3190015e+02, 2.2979655e+00, 4.1402292e-02, 3.9083982e+00],\n",
              "       dtype=float32),\n",
              " array([2.8272517, 1.3674275, 3.117313 , 2.6188557], dtype=float32),\n",
              " array([3.4535027e+01, 5.0189201e+01, 2.2833837e-02, 5.5071039e+00],\n",
              "       dtype=float32),\n",
              " array([1.8647935 , 0.2071908 , 0.01776456, 3.368156  ], dtype=float32),\n",
              " array([4.5587265e+02, 2.3663201e+03, 1.4259267e-01, 2.5936124e+00],\n",
              "       dtype=float32),\n",
              " array([ 0.05757852,  0.23168078, 39.930195  ,  1.7599051 ], dtype=float32),\n",
              " array([38.693417  ,  4.419867  ,  0.14419746,  2.0051358 ], dtype=float32),\n",
              " array([ 0.4936606 , 45.908493  ,  0.05819815,  3.1950758 ], dtype=float32),\n",
              " array([1.8617076e+02, 4.5125898e+03, 4.2045047e-03, 1.8110096e+00],\n",
              "       dtype=float32),\n",
              " array([2.8272517, 1.3674275, 3.117313 , 2.6188557], dtype=float32),\n",
              " array([ 0.4936606 , 45.908493  ,  0.05819815,  3.1950758 ], dtype=float32),\n",
              " array([38.693417  ,  4.419867  ,  0.14419746,  2.0051358 ], dtype=float32),\n",
              " array([1.8647935 , 0.2071908 , 0.01776456, 3.368156  ], dtype=float32),\n",
              " array([38.693417  ,  4.419867  ,  0.14419746,  2.0051358 ], dtype=float32),\n",
              " array([1.2024245e+00, 1.4030877e-01, 2.0163577e+03, 1.6437588e+00],\n",
              "       dtype=float32),\n",
              " array([1.8923412e+01, 9.9787338e+01, 9.7639915e-03, 1.7065636e+00],\n",
              "       dtype=float32),\n",
              " array([3.4535027e+01, 5.0189201e+01, 2.2833837e-02, 5.5071039e+00],\n",
              "       dtype=float32),\n",
              " array([5.8732247, 0.7202936, 7.6088147, 1.7746537], dtype=float32),\n",
              " array([3.3190015e+02, 2.2979655e+00, 4.1402292e-02, 3.9083982e+00],\n",
              "       dtype=float32),\n",
              " array([0.14848651, 6.7705054 , 3.527805  , 2.6079862 ], dtype=float32),\n",
              " array([3.3190015e+02, 2.2979655e+00, 4.1402292e-02, 3.9083982e+00],\n",
              "       dtype=float32),\n",
              " array([ 6.7797046, 13.821156 ,  2.7764661,  2.7065616], dtype=float32),\n",
              " array([281.32892  , 628.199    ,   4.1137547,   2.2207775], dtype=float32),\n",
              " array([1.2024245e+00, 1.4030877e-01, 2.0163577e+03, 1.6437588e+00],\n",
              "       dtype=float32),\n",
              " array([1.2024245e+00, 1.4030877e-01, 2.0163577e+03, 1.6437588e+00],\n",
              "       dtype=float32),\n",
              " array([ 0.87979007, 13.783407  ,  0.0891756 ,  2.0605795 ], dtype=float32),\n",
              " array([1.5204311e+02, 6.5054302e+03, 1.1459478e-01, 2.4758191e+00],\n",
              "       dtype=float32),\n",
              " array([1.8923412e+01, 9.9787338e+01, 9.7639915e-03, 1.7065636e+00],\n",
              "       dtype=float32),\n",
              " array([ 0.05757852,  0.23168078, 39.930195  ,  1.7599051 ], dtype=float32),\n",
              " array([ 0.4936606 , 45.908493  ,  0.05819815,  3.1950758 ], dtype=float32),\n",
              " array([1.3003742e+01, 6.7740863e+02, 4.1326475e-03, 7.7956080e+00],\n",
              "       dtype=float32),\n",
              " array([2.9058490e+02, 1.1317437e+02, 1.0788399e-02, 2.0805790e+00],\n",
              "       dtype=float32),\n",
              " array([1.8923412e+01, 9.9787338e+01, 9.7639915e-03, 1.7065636e+00],\n",
              "       dtype=float32),\n",
              " array([0.14848651, 6.7705054 , 3.527805  , 2.6079862 ], dtype=float32),\n",
              " array([ 0.05757852,  0.23168078, 39.930195  ,  1.7599051 ], dtype=float32),\n",
              " array([ 0.4936606 , 45.908493  ,  0.05819815,  3.1950758 ], dtype=float32),\n",
              " array([4.5587265e+02, 2.3663201e+03, 1.4259267e-01, 2.5936124e+00],\n",
              "       dtype=float32),\n",
              " array([38.693417  ,  4.419867  ,  0.14419746,  2.0051358 ], dtype=float32),\n",
              " array([ 0.05757852,  0.23168078, 39.930195  ,  1.7599051 ], dtype=float32),\n",
              " array([ 0.4307869, 13.960347 ,  4.340362 ,  1.8351487], dtype=float32),\n",
              " array([0.14848651, 6.7705054 , 3.527805  , 2.6079862 ], dtype=float32),\n",
              " array([ 6.7797046, 13.821156 ,  2.7764661,  2.7065616], dtype=float32),\n",
              " array([0.14848651, 6.7705054 , 3.527805  , 2.6079862 ], dtype=float32),\n",
              " array([ 6.7797046, 13.821156 ,  2.7764661,  2.7065616], dtype=float32),\n",
              " array([ 0.87979007, 13.783407  ,  0.0891756 ,  2.0605795 ], dtype=float32),\n",
              " array([ 6.7797046, 13.821156 ,  2.7764661,  2.7065616], dtype=float32),\n",
              " array([38.693417  ,  4.419867  ,  0.14419746,  2.0051358 ], dtype=float32),\n",
              " array([1.8647935 , 0.2071908 , 0.01776456, 3.368156  ], dtype=float32),\n",
              " array([1.5204311e+02, 6.5054302e+03, 1.1459478e-01, 2.4758191e+00],\n",
              "       dtype=float32),\n",
              " array([1.8544550e+01, 3.2281445e+03, 2.0137798e-02, 2.1577497e+00],\n",
              "       dtype=float32),\n",
              " array([25.551346  ,  3.1710618 ,  0.45811537,  1.6906359 ], dtype=float32),\n",
              " array([39.427948  ,  0.45232257,  0.6963266 ,  2.0576487 ], dtype=float32),\n",
              " array([1.3003742e+01, 6.7740863e+02, 4.1326475e-03, 7.7956080e+00],\n",
              "       dtype=float32),\n",
              " array([1.2024245e+00, 1.4030877e-01, 2.0163577e+03, 1.6437588e+00],\n",
              "       dtype=float32),\n",
              " array([5.8732247, 0.7202936, 7.6088147, 1.7746537], dtype=float32),\n",
              " array([1.8923412e+01, 9.9787338e+01, 9.7639915e-03, 1.7065636e+00],\n",
              "       dtype=float32),\n",
              " array([ 0.87979007, 13.783407  ,  0.0891756 ,  2.0605795 ], dtype=float32),\n",
              " array([1.5204311e+02, 6.5054302e+03, 1.1459478e-01, 2.4758191e+00],\n",
              "       dtype=float32),\n",
              " array([ 0.05757852,  0.23168078, 39.930195  ,  1.7599051 ], dtype=float32),\n",
              " array([0.14848651, 6.7705054 , 3.527805  , 2.6079862 ], dtype=float32),\n",
              " array([1.2024245e+00, 1.4030877e-01, 2.0163577e+03, 1.6437588e+00],\n",
              "       dtype=float32),\n",
              " array([1.8923412e+01, 9.9787338e+01, 9.7639915e-03, 1.7065636e+00],\n",
              "       dtype=float32),\n",
              " array([ 0.87979007, 13.783407  ,  0.0891756 ,  2.0605795 ], dtype=float32),\n",
              " array([1.5204311e+02, 6.5054302e+03, 1.1459478e-01, 2.4758191e+00],\n",
              "       dtype=float32),\n",
              " array([25.551346  ,  3.1710618 ,  0.45811537,  1.6906359 ], dtype=float32),\n",
              " array([ 6.7797046, 13.821156 ,  2.7764661,  2.7065616], dtype=float32),\n",
              " array([ 0.05757852,  0.23168078, 39.930195  ,  1.7599051 ], dtype=float32),\n",
              " array([0.14848651, 6.7705054 , 3.527805  , 2.6079862 ], dtype=float32),\n",
              " array([3.3190015e+02, 2.2979655e+00, 4.1402292e-02, 3.9083982e+00],\n",
              "       dtype=float32),\n",
              " array([1.3003742e+01, 6.7740863e+02, 4.1326475e-03, 7.7956080e+00],\n",
              "       dtype=float32),\n",
              " array([25.551346  ,  3.1710618 ,  0.45811537,  1.6906359 ], dtype=float32),\n",
              " array([1.3350458 , 0.24718639, 8.005008  , 2.1854258 ], dtype=float32),\n",
              " array([ 0.4936606 , 45.908493  ,  0.05819815,  3.1950758 ], dtype=float32),\n",
              " array([ 0.87979007, 13.783407  ,  0.0891756 ,  2.0605795 ], dtype=float32),\n",
              " array([ 6.7797046, 13.821156 ,  2.7764661,  2.7065616], dtype=float32),\n",
              " array([38.693417  ,  4.419867  ,  0.14419746,  2.0051358 ], dtype=float32),\n",
              " array([281.32892  , 628.199    ,   4.1137547,   2.2207775], dtype=float32),\n",
              " array([1.5204311e+02, 6.5054302e+03, 1.1459478e-01, 2.4758191e+00],\n",
              "       dtype=float32),\n",
              " array([6.5661144e+00, 4.4181755e+01, 6.6955341e-03, 5.9822330e+00],\n",
              "       dtype=float32),\n",
              " array([39.427948  ,  0.45232257,  0.6963266 ,  2.0576487 ], dtype=float32),\n",
              " array([1.3350458 , 0.24718639, 8.005008  , 2.1854258 ], dtype=float32),\n",
              " array([ 0.87979007, 13.783407  ,  0.0891756 ,  2.0605795 ], dtype=float32),\n",
              " array([1.5204311e+02, 6.5054302e+03, 1.1459478e-01, 2.4758191e+00],\n",
              "       dtype=float32),\n",
              " array([1.3003742e+01, 6.7740863e+02, 4.1326475e-03, 7.7956080e+00],\n",
              "       dtype=float32),\n",
              " array([0.4753216, 9.869809 , 3.615027 , 1.8822865], dtype=float32),\n",
              " array([2.9058490e+02, 1.1317437e+02, 1.0788399e-02, 2.0805790e+00],\n",
              "       dtype=float32),\n",
              " array([ 0.4307869, 13.960347 ,  4.340362 ,  1.8351487], dtype=float32),\n",
              " array([25.551346  ,  3.1710618 ,  0.45811537,  1.6906359 ], dtype=float32),\n",
              " array([1.8647935 , 0.2071908 , 0.01776456, 3.368156  ], dtype=float32),\n",
              " array([3.3190015e+02, 2.2979655e+00, 4.1402292e-02, 3.9083982e+00],\n",
              "       dtype=float32),\n",
              " array([ 0.4936606 , 45.908493  ,  0.05819815,  3.1950758 ], dtype=float32),\n",
              " array([1.3003742e+01, 6.7740863e+02, 4.1326475e-03, 7.7956080e+00],\n",
              "       dtype=float32),\n",
              " array([1.2024245e+00, 1.4030877e-01, 2.0163577e+03, 1.6437588e+00],\n",
              "       dtype=float32),\n",
              " array([38.693417  ,  4.419867  ,  0.14419746,  2.0051358 ], dtype=float32),\n",
              " array([25.551346  ,  3.1710618 ,  0.45811537,  1.6906359 ], dtype=float32),\n",
              " array([1.3003742e+01, 6.7740863e+02, 4.1326475e-03, 7.7956080e+00],\n",
              "       dtype=float32),\n",
              " array([0.4753216, 9.869809 , 3.615027 , 1.8822865], dtype=float32),\n",
              " array([1.2024245e+00, 1.4030877e-01, 2.0163577e+03, 1.6437588e+00],\n",
              "       dtype=float32),\n",
              " array([39.427948  ,  0.45232257,  0.6963266 ,  2.0576487 ], dtype=float32),\n",
              " array([1.8923412e+01, 9.9787338e+01, 9.7639915e-03, 1.7065636e+00],\n",
              "       dtype=float32),\n",
              " array([39.427948  ,  0.45232257,  0.6963266 ,  2.0576487 ], dtype=float32),\n",
              " array([39.427948  ,  0.45232257,  0.6963266 ,  2.0576487 ], dtype=float32),\n",
              " array([1.3350458 , 0.24718639, 8.005008  , 2.1854258 ], dtype=float32),\n",
              " array([1.3350458 , 0.24718639, 8.005008  , 2.1854258 ], dtype=float32),\n",
              " array([1.8923412e+01, 9.9787338e+01, 9.7639915e-03, 1.7065636e+00],\n",
              "       dtype=float32),\n",
              " array([0.4753216, 9.869809 , 3.615027 , 1.8822865], dtype=float32),\n",
              " array([0.4753216, 9.869809 , 3.615027 , 1.8822865], dtype=float32),\n",
              " array([25.551346  ,  3.1710618 ,  0.45811537,  1.6906359 ], dtype=float32),\n",
              " array([2.8392816e-01, 1.0476541e+02, 5.0328501e-02, 3.9485986e+00],\n",
              "       dtype=float32),\n",
              " array([2.5054041e+02, 1.7951195e+03, 2.9604044e-03, 1.7481656e+00],\n",
              "       dtype=float32),\n",
              " array([2.5054041e+02, 1.7951195e+03, 2.9604044e-03, 1.7481656e+00],\n",
              "       dtype=float32),\n",
              " array([ 0.05757852,  0.23168078, 39.930195  ,  1.7599051 ], dtype=float32),\n",
              " array([4.6960257e-02, 1.0152038e+00, 3.7420696e+03, 1.8287565e+00],\n",
              "       dtype=float32),\n",
              " array([39.427948  ,  0.45232257,  0.6963266 ,  2.0576487 ], dtype=float32),\n",
              " array([0.0923639, 4.328324 , 1.0428827, 2.7546973], dtype=float32),\n",
              " array([2.5054041e+02, 1.7951195e+03, 2.9604044e-03, 1.7481656e+00],\n",
              "       dtype=float32),\n",
              " array([1.3350458 , 0.24718639, 8.005008  , 2.1854258 ], dtype=float32),\n",
              " array([7.7222185 , 1.8094009 , 0.11099878, 3.575159  ], dtype=float32),\n",
              " array([2.5054041e+02, 1.7951195e+03, 2.9604044e-03, 1.7481656e+00],\n",
              "       dtype=float32),\n",
              " array([2.9480407 , 5.4805627 , 0.01593215, 2.0967264 ], dtype=float32),\n",
              " array([4.6960257e-02, 1.0152038e+00, 3.7420696e+03, 1.8287565e+00],\n",
              "       dtype=float32),\n",
              " array([1.3350458 , 0.24718639, 8.005008  , 2.1854258 ], dtype=float32),\n",
              " array([ 0.05757852,  0.23168078, 39.930195  ,  1.7599051 ], dtype=float32),\n",
              " array([4.6960257e-02, 1.0152038e+00, 3.7420696e+03, 1.8287565e+00],\n",
              "       dtype=float32),\n",
              " array([0.14848651, 6.7705054 , 3.527805  , 2.6079862 ], dtype=float32),\n",
              " array([0.4753216, 9.869809 , 3.615027 , 1.8822865], dtype=float32),\n",
              " array([4.6960257e-02, 1.0152038e+00, 3.7420696e+03, 1.8287565e+00],\n",
              "       dtype=float32),\n",
              " array([ 6.7797046, 13.821156 ,  2.7764661,  2.7065616], dtype=float32),\n",
              " array([0.0923639, 4.328324 , 1.0428827, 2.7546973], dtype=float32),\n",
              " array([0.22669259, 6.5158553 , 4.1985865 , 2.0174503 ], dtype=float32),\n",
              " array([0.0923639, 4.328324 , 1.0428827, 2.7546973], dtype=float32),\n",
              " array([0.07298034, 0.11117233, 1.2369647 , 2.018699  ], dtype=float32),\n",
              " array([0.4753216, 9.869809 , 3.615027 , 1.8822865], dtype=float32),\n",
              " array([2.9480407 , 5.4805627 , 0.01593215, 2.0967264 ], dtype=float32),\n",
              " array([0.0923639, 4.328324 , 1.0428827, 2.7546973], dtype=float32),\n",
              " array([8.0115219e+01, 3.9228616e+02, 5.2089537e-03, 7.3453941e+00],\n",
              "       dtype=float32),\n",
              " array([2.9480407 , 5.4805627 , 0.01593215, 2.0967264 ], dtype=float32),\n",
              " array([1.0188605e+01, 6.5942950e+02, 2.5931664e-03, 4.2264576e+00],\n",
              "       dtype=float32),\n",
              " array([0.14848651, 6.7705054 , 3.527805  , 2.6079862 ], dtype=float32),\n",
              " array([ 0.33854  , 34.111015 ,  3.0631   ,  1.7619497], dtype=float32),\n",
              " array([1.0188605e+01, 6.5942950e+02, 2.5931664e-03, 4.2264576e+00],\n",
              "       dtype=float32),\n",
              " array([ 6.7797046, 13.821156 ,  2.7764661,  2.7065616], dtype=float32),\n",
              " array([2.5054041e+02, 1.7951195e+03, 2.9604044e-03, 1.7481656e+00],\n",
              "       dtype=float32),\n",
              " array([ 0.87979007, 13.783407  ,  0.0891756 ,  2.0605795 ], dtype=float32),\n",
              " array([1.5204311e+02, 6.5054302e+03, 1.1459478e-01, 2.4758191e+00],\n",
              "       dtype=float32),\n",
              " array([ 2.6867316,  0.3380686, 30.80888  ,  1.9784006], dtype=float32),\n",
              " array([1.0188605e+01, 6.5942950e+02, 2.5931664e-03, 4.2264576e+00],\n",
              "       dtype=float32),\n",
              " array([2.5037395e+01, 2.1396619e+03, 3.8068447e-02, 5.6548619e+00],\n",
              "       dtype=float32),\n",
              " array([ 2.6867316,  0.3380686, 30.80888  ,  1.9784006], dtype=float32),\n",
              " array([2.5037395e+01, 2.1396619e+03, 3.8068447e-02, 5.6548619e+00],\n",
              "       dtype=float32),\n",
              " array([2.5054041e+02, 1.7951195e+03, 2.9604044e-03, 1.7481656e+00],\n",
              "       dtype=float32),\n",
              " array([4.6960257e-02, 1.0152038e+00, 3.7420696e+03, 1.8287565e+00],\n",
              "       dtype=float32),\n",
              " array([ 2.6867316,  0.3380686, 30.80888  ,  1.9784006], dtype=float32),\n",
              " array([0.0923639, 4.328324 , 1.0428827, 2.7546973], dtype=float32),\n",
              " array([2.5037395e+01, 2.1396619e+03, 3.8068447e-02, 5.6548619e+00],\n",
              "       dtype=float32),\n",
              " array([ 0.50160474,  4.4695206 , 19.282354  ,  1.7776588 ], dtype=float32),\n",
              " array([ 0.50160474,  4.4695206 , 19.282354  ,  1.7776588 ], dtype=float32),\n",
              " array([4.6960257e-02, 1.0152038e+00, 3.7420696e+03, 1.8287565e+00],\n",
              "       dtype=float32),\n",
              " array([ 0.87979007, 13.783407  ,  0.0891756 ,  2.0605795 ], dtype=float32),\n",
              " array([1.3003742e+01, 6.7740863e+02, 4.1326475e-03, 7.7956080e+00],\n",
              "       dtype=float32),\n",
              " array([1.5204311e+02, 6.5054302e+03, 1.1459478e-01, 2.4758191e+00],\n",
              "       dtype=float32),\n",
              " array([25.551346  ,  3.1710618 ,  0.45811537,  1.6906359 ], dtype=float32),\n",
              " array([2.9480407 , 5.4805627 , 0.01593215, 2.0967264 ], dtype=float32),\n",
              " array([1.0188605e+01, 6.5942950e+02, 2.5931664e-03, 4.2264576e+00],\n",
              "       dtype=float32),\n",
              " array([ 4.4426126, 33.987404 ,  2.2626004,  2.600682 ], dtype=float32),\n",
              " array([39.427948  ,  0.45232257,  0.6963266 ,  2.0576487 ], dtype=float32),\n",
              " array([ 0.50160474,  4.4695206 , 19.282354  ,  1.7776588 ], dtype=float32),\n",
              " array([0.0923639, 4.328324 , 1.0428827, 2.7546973], dtype=float32),\n",
              " array([ 2.6867316,  0.3380686, 30.80888  ,  1.9784006], dtype=float32),\n",
              " array([2.9480407 , 5.4805627 , 0.01593215, 2.0967264 ], dtype=float32),\n",
              " array([2.5037395e+01, 2.1396619e+03, 3.8068447e-02, 5.6548619e+00],\n",
              "       dtype=float32),\n",
              " array([1.0188605e+01, 6.5942950e+02, 2.5931664e-03, 4.2264576e+00],\n",
              "       dtype=float32),\n",
              " array([ 2.6867316,  0.3380686, 30.80888  ,  1.9784006], dtype=float32),\n",
              " array([ 4.4426126, 33.987404 ,  2.2626004,  2.600682 ], dtype=float32),\n",
              " array([ 0.50160474,  4.4695206 , 19.282354  ,  1.7776588 ], dtype=float32),\n",
              " array([ 4.4426126, 33.987404 ,  2.2626004,  2.600682 ], dtype=float32),\n",
              " array([ 1.3843684, 99.64045  ,  1.2468836,  2.2280898], dtype=float32),\n",
              " array([1.3003742e+01, 6.7740863e+02, 4.1326475e-03, 7.7956080e+00],\n",
              "       dtype=float32),\n",
              " array([ 1.3843684, 99.64045  ,  1.2468836,  2.2280898], dtype=float32),\n",
              " array([1.3350458 , 0.24718639, 8.005008  , 2.1854258 ], dtype=float32),\n",
              " array([ 10.432341, 682.6624  ,   4.075561,   1.732811], dtype=float32),\n",
              " array([ 1.3843684, 99.64045  ,  1.2468836,  2.2280898], dtype=float32),\n",
              " array([2.9480407 , 5.4805627 , 0.01593215, 2.0967264 ], dtype=float32),\n",
              " array([1.0188605e+01, 6.5942950e+02, 2.5931664e-03, 4.2264576e+00],\n",
              "       dtype=float32),\n",
              " array([0.17479046, 0.26681218, 0.03224497, 2.1833763 ], dtype=float32),\n",
              " array([7.8236771e+00, 3.0895957e-01, 4.8535831e+02, 1.6199427e+00],\n",
              "       dtype=float32),\n",
              " array([25.551346  ,  3.1710618 ,  0.45811537,  1.6906359 ], dtype=float32),\n",
              " array([ 4.4426126, 33.987404 ,  2.2626004,  2.600682 ], dtype=float32),\n",
              " array([ 10.432341, 682.6624  ,   4.075561,   1.732811], dtype=float32),\n",
              " array([0.17479046, 0.26681218, 0.03224497, 2.1833763 ], dtype=float32),\n",
              " array([ 10.432341, 682.6624  ,   4.075561,   1.732811], dtype=float32),\n",
              " array([ 2.6867316,  0.3380686, 30.80888  ,  1.9784006], dtype=float32),\n",
              " array([0.4753216, 9.869809 , 3.615027 , 1.8822865], dtype=float32),\n",
              " array([1.5784801e+02, 2.0403213e+03, 4.8360932e-03, 1.7617115e+00],\n",
              "       dtype=float32),\n",
              " array([39.427948  ,  0.45232257,  0.6963266 ,  2.0576487 ], dtype=float32),\n",
              " array([7.8236771e+00, 3.0895957e-01, 4.8535831e+02, 1.6199427e+00],\n",
              "       dtype=float32),\n",
              " array([1.5784801e+02, 2.0403213e+03, 4.8360932e-03, 1.7617115e+00],\n",
              "       dtype=float32),\n",
              " array([2.5037395e+01, 2.1396619e+03, 3.8068447e-02, 5.6548619e+00],\n",
              "       dtype=float32),\n",
              " array([ 0.50160474,  4.4695206 , 19.282354  ,  1.7776588 ], dtype=float32),\n",
              " array([1.2451731, 3.505279 , 2.2415674, 2.9463935], dtype=float32),\n",
              " array([1.2451731, 3.505279 , 2.2415674, 2.9463935], dtype=float32),\n",
              " array([2.5037395e+01, 2.1396619e+03, 3.8068447e-02, 5.6548619e+00],\n",
              "       dtype=float32),\n",
              " array([0.17479046, 0.26681218, 0.03224497, 2.1833763 ], dtype=float32),\n",
              " array([ 0.50160474,  4.4695206 , 19.282354  ,  1.7776588 ], dtype=float32),\n",
              " array([ 1.3236922,  0.5917713, 12.374146 ,  2.1587186], dtype=float32),\n",
              " array([1.3350458 , 0.24718639, 8.005008  , 2.1854258 ], dtype=float32),\n",
              " array([ 4.4426126, 33.987404 ,  2.2626004,  2.600682 ], dtype=float32),\n",
              " array([0.4753216, 9.869809 , 3.615027 , 1.8822865], dtype=float32),\n",
              " array([ 1.3843684, 99.64045  ,  1.2468836,  2.2280898], dtype=float32),\n",
              " array([ 10.432341, 682.6624  ,   4.075561,   1.732811], dtype=float32),\n",
              " array([2.5054041e+02, 1.7951195e+03, 2.9604044e-03, 1.7481656e+00],\n",
              "       dtype=float32),\n",
              " array([7.8236771e+00, 3.0895957e-01, 4.8535831e+02, 1.6199427e+00],\n",
              "       dtype=float32),\n",
              " array([4.6960257e-02, 1.0152038e+00, 3.7420696e+03, 1.8287565e+00],\n",
              "       dtype=float32),\n",
              " array([0.21274321, 0.6409964 , 1.3984127 , 2.3506613 ], dtype=float32),\n",
              " array([2.5054041e+02, 1.7951195e+03, 2.9604044e-03, 1.7481656e+00],\n",
              "       dtype=float32),\n",
              " array([40.76478  , 37.00668  ,  0.596259 ,  2.1953382], dtype=float32),\n",
              " array([0.17479046, 0.26681218, 0.03224497, 2.1833763 ], dtype=float32),\n",
              " array([ 1.3843684, 99.64045  ,  1.2468836,  2.2280898], dtype=float32),\n",
              " array([ 2.0122857, 95.428535 ,  3.7073572,  2.0404665], dtype=float32),\n",
              " array([0.0923639, 4.328324 , 1.0428827, 2.7546973], dtype=float32),\n",
              " array([0.21274321, 0.6409964 , 1.3984127 , 2.3506613 ], dtype=float32),\n",
              " array([40.76478  , 37.00668  ,  0.596259 ,  2.1953382], dtype=float32),\n",
              " array([ 0.86177707, 49.071648  ,  1.2126627 ,  1.6895633 ], dtype=float32),\n",
              " array([7.8236771e+00, 3.0895957e-01, 4.8535831e+02, 1.6199427e+00],\n",
              "       dtype=float32),\n",
              " array([4.6960257e-02, 1.0152038e+00, 3.7420696e+03, 1.8287565e+00],\n",
              "       dtype=float32),\n",
              " array([1.5784801e+02, 2.0403213e+03, 4.8360932e-03, 1.7617115e+00],\n",
              "       dtype=float32),\n",
              " array([1.2451731, 3.505279 , 2.2415674, 2.9463935], dtype=float32),\n",
              " array([ 10.432341, 682.6624  ,   4.075561,   1.732811], dtype=float32),\n",
              " array([ 4.4426126, 33.987404 ,  2.2626004,  2.600682 ], dtype=float32),\n",
              " array([0.21274321, 0.6409964 , 1.3984127 , 2.3506613 ], dtype=float32),\n",
              " array([ 1.3843684, 99.64045  ,  1.2468836,  2.2280898], dtype=float32),\n",
              " array([2.9480407 , 5.4805627 , 0.01593215, 2.0967264 ], dtype=float32),\n",
              " array([40.76478  , 37.00668  ,  0.596259 ,  2.1953382], dtype=float32),\n",
              " array([1.5784801e+02, 2.0403213e+03, 4.8360932e-03, 1.7617115e+00],\n",
              "       dtype=float32),\n",
              " array([1.0188605e+01, 6.5942950e+02, 2.5931664e-03, 4.2264576e+00],\n",
              "       dtype=float32),\n",
              " array([0.0923639, 4.328324 , 1.0428827, 2.7546973], dtype=float32),\n",
              " array([2.9480407 , 5.4805627 , 0.01593215, 2.0967264 ], dtype=float32),\n",
              " array([ 2.0122857, 95.428535 ,  3.7073572,  2.0404665], dtype=float32),\n",
              " array([  1.3578441 , 724.23584   ,   0.88342386,   2.4655862 ],\n",
              "       dtype=float32),\n",
              " array([ 2.6867316,  0.3380686, 30.80888  ,  1.9784006], dtype=float32),\n",
              " array([ 2.0122857, 95.428535 ,  3.7073572,  2.0404665], dtype=float32),\n",
              " array([ 0.86177707, 49.071648  ,  1.2126627 ,  1.6895633 ], dtype=float32),\n",
              " array([ 0.86177707, 49.071648  ,  1.2126627 ,  1.6895633 ], dtype=float32),\n",
              " array([  1.3578441 , 724.23584   ,   0.88342386,   2.4655862 ],\n",
              "       dtype=float32),\n",
              " array([  1.3578441 , 724.23584   ,   0.88342386,   2.4655862 ],\n",
              "       dtype=float32),\n",
              " array([ 10.432341, 682.6624  ,   4.075561,   1.732811], dtype=float32),\n",
              " array([0.17479046, 0.26681218, 0.03224497, 2.1833763 ], dtype=float32),\n",
              " array([1.2451731, 3.505279 , 2.2415674, 2.9463935], dtype=float32),\n",
              " array([1.0188605e+01, 6.5942950e+02, 2.5931664e-03, 4.2264576e+00],\n",
              "       dtype=float32),\n",
              " array([0.06800993, 0.38472268, 0.34927496, 2.4710946 ], dtype=float32),\n",
              " array([0.06800993, 0.38472268, 0.34927496, 2.4710946 ], dtype=float32),\n",
              " 491,\n",
              " array([0.17479046, 0.26681218, 0.03224497, 2.1833763 ], dtype=float32),\n",
              " array([7.8236771e+00, 3.0895957e-01, 4.8535831e+02, 1.6199427e+00],\n",
              "       dtype=float32),\n",
              " array([2.5037395e+01, 2.1396619e+03, 3.8068447e-02, 5.6548619e+00],\n",
              "       dtype=float32),\n",
              " array([ 0.50160474,  4.4695206 , 19.282354  ,  1.7776588 ], dtype=float32),\n",
              " array([1.5784801e+02, 2.0403213e+03, 4.8360932e-03, 1.7617115e+00],\n",
              "       dtype=float32),\n",
              " array([ 2.6867316,  0.3380686, 30.80888  ,  1.9784006], dtype=float32),\n",
              " array([0.21274321, 0.6409964 , 1.3984127 , 2.3506613 ], dtype=float32),\n",
              " array([0.06800993, 0.38472268, 0.34927496, 2.4710946 ], dtype=float32),\n",
              " 500,\n",
              " array([2.5037395e+01, 2.1396619e+03, 3.8068447e-02, 5.6548619e+00],\n",
              "       dtype=float32),\n",
              " array([7.8236771e+00, 3.0895957e-01, 4.8535831e+02, 1.6199427e+00],\n",
              "       dtype=float32),\n",
              " 503,\n",
              " 504,\n",
              " array([1.5784801e+02, 2.0403213e+03, 4.8360932e-03, 1.7617115e+00],\n",
              "       dtype=float32),\n",
              " 506,\n",
              " array([1.2451731, 3.505279 , 2.2415674, 2.9463935], dtype=float32),\n",
              " 508,\n",
              " 509,\n",
              " array([ 0.50160474,  4.4695206 , 19.282354  ,  1.7776588 ], dtype=float32),\n",
              " array([40.76478  , 37.00668  ,  0.596259 ,  2.1953382], dtype=float32),\n",
              " array([ 4.4426126, 33.987404 ,  2.2626004,  2.600682 ], dtype=float32),\n",
              " array([1.2451731, 3.505279 , 2.2415674, 2.9463935], dtype=float32),\n",
              " array([ 4.4426126, 33.987404 ,  2.2626004,  2.600682 ], dtype=float32),\n",
              " array([ 1.3843684, 99.64045  ,  1.2468836,  2.2280898], dtype=float32),\n",
              " 516,\n",
              " array([0.21274321, 0.6409964 , 1.3984127 , 2.3506613 ], dtype=float32),\n",
              " array([ 1.3843684, 99.64045  ,  1.2468836,  2.2280898], dtype=float32),\n",
              " array([0.21274321, 0.6409964 , 1.3984127 , 2.3506613 ], dtype=float32),\n",
              " 520,\n",
              " 521,\n",
              " 522,\n",
              " array([ 2.0122857, 95.428535 ,  3.7073572,  2.0404665], dtype=float32),\n",
              " 524,\n",
              " array([ 0.86177707, 49.071648  ,  1.2126627 ,  1.6895633 ], dtype=float32),\n",
              " array([ 10.432341, 682.6624  ,   4.075561,   1.732811], dtype=float32),\n",
              " array([0.17479046, 0.26681218, 0.03224497, 2.1833763 ], dtype=float32),\n",
              " array([40.76478  , 37.00668  ,  0.596259 ,  2.1953382], dtype=float32),\n",
              " array([ 10.432341, 682.6624  ,   4.075561,   1.732811], dtype=float32),\n",
              " array([7.8236771e+00, 3.0895957e-01, 4.8535831e+02, 1.6199427e+00],\n",
              "       dtype=float32),\n",
              " array([40.76478  , 37.00668  ,  0.596259 ,  2.1953382], dtype=float32),\n",
              " 532,\n",
              " 533,\n",
              " 534,\n",
              " array([  1.3578441 , 724.23584   ,   0.88342386,   2.4655862 ],\n",
              "       dtype=float32),\n",
              " 536,\n",
              " array([ 2.0122857, 95.428535 ,  3.7073572,  2.0404665], dtype=float32),\n",
              " 538,\n",
              " array([0.06800993, 0.38472268, 0.34927496, 2.4710946 ], dtype=float32),\n",
              " 540,\n",
              " 541,\n",
              " array([3.0671682 , 0.7951983 , 0.30905676, 2.6946876 ], dtype=float32),\n",
              " array([ 0.86177707, 49.071648  ,  1.2126627 ,  1.6895633 ], dtype=float32),\n",
              " array([1.5784801e+02, 2.0403213e+03, 4.8360932e-03, 1.7617115e+00],\n",
              "       dtype=float32),\n",
              " array([0.17479046, 0.26681218, 0.03224497, 2.1833763 ], dtype=float32),\n",
              " 546,\n",
              " array([1.2451731, 3.505279 , 2.2415674, 2.9463935], dtype=float32),\n",
              " 548,\n",
              " 549,\n",
              " array([ 2.0122857, 95.428535 ,  3.7073572,  2.0404665], dtype=float32),\n",
              " 551,\n",
              " array([7.8236771e+00, 3.0895957e-01, 4.8535831e+02, 1.6199427e+00],\n",
              "       dtype=float32),\n",
              " 553,\n",
              " 554,\n",
              " array([ 0.86177707, 49.071648  ,  1.2126627 ,  1.6895633 ], dtype=float32),\n",
              " array([1.5784801e+02, 2.0403213e+03, 4.8360932e-03, 1.7617115e+00],\n",
              "       dtype=float32),\n",
              " 557,\n",
              " array([  1.3578441 , 724.23584   ,   0.88342386,   2.4655862 ],\n",
              "       dtype=float32),\n",
              " 559,\n",
              " 560,\n",
              " 561,\n",
              " 562,\n",
              " array([0.21274321, 0.6409964 , 1.3984127 , 2.3506613 ], dtype=float32),\n",
              " array([0.06800993, 0.38472268, 0.34927496, 2.4710946 ], dtype=float32),\n",
              " 565,\n",
              " 566,\n",
              " 567,\n",
              " array([  1.3578441 , 724.23584   ,   0.88342386,   2.4655862 ],\n",
              "       dtype=float32),\n",
              " array([1.2451731, 3.505279 , 2.2415674, 2.9463935], dtype=float32),\n",
              " 570,\n",
              " array([0.21274321, 0.6409964 , 1.3984127 , 2.3506613 ], dtype=float32),\n",
              " 572,\n",
              " array([0.06800993, 0.38472268, 0.34927496, 2.4710946 ], dtype=float32),\n",
              " array([40.76478  , 37.00668  ,  0.596259 ,  2.1953382], dtype=float32),\n",
              " 575,\n",
              " 576,\n",
              " 577,\n",
              " array([40.76478  , 37.00668  ,  0.596259 ,  2.1953382], dtype=float32),\n",
              " 579,\n",
              " 580,\n",
              " 581,\n",
              " 582,\n",
              " 583,\n",
              " 584,\n",
              " 585,\n",
              " array([ 2.0122857, 95.428535 ,  3.7073572,  2.0404665], dtype=float32),\n",
              " 587,\n",
              " 588,\n",
              " 589,\n",
              " 590,\n",
              " 591,\n",
              " 592,\n",
              " 593,\n",
              " 594,\n",
              " array([ 2.0122857, 95.428535 ,  3.7073572,  2.0404665], dtype=float32),\n",
              " 596,\n",
              " 597,\n",
              " 598,\n",
              " array([ 0.86177707, 49.071648  ,  1.2126627 ,  1.6895633 ], dtype=float32),\n",
              " array([  1.3578441 , 724.23584   ,   0.88342386,   2.4655862 ],\n",
              "       dtype=float32),\n",
              " 601,\n",
              " array([ 0.86177707, 49.071648  ,  1.2126627 ,  1.6895633 ], dtype=float32),\n",
              " 603,\n",
              " 604,\n",
              " array([  1.3578441 , 724.23584   ,   0.88342386,   2.4655862 ],\n",
              "       dtype=float32),\n",
              " 606,\n",
              " 607,\n",
              " 608,\n",
              " array([0.06800993, 0.38472268, 0.34927496, 2.4710946 ], dtype=float32),\n",
              " 610,\n",
              " 611,\n",
              " 612,\n",
              " array([0.06800993, 0.38472268, 0.34927496, 2.4710946 ], dtype=float32),\n",
              " 614,\n",
              " 615,\n",
              " 616,\n",
              " 617,\n",
              " 618,\n",
              " 619,\n",
              " 620,\n",
              " 621,\n",
              " 622,\n",
              " 623,\n",
              " 624,\n",
              " array([1.8617076e+02, 4.5125898e+03, 4.2045047e-03, 1.8110096e+00],\n",
              "       dtype=float32),\n",
              " 626,\n",
              " 627,\n",
              " 628,\n",
              " 629,\n",
              " 630,\n",
              " 631,\n",
              " 632,\n",
              " array([2.8272517, 1.3674275, 3.117313 , 2.6188557], dtype=float32),\n",
              " 634,\n",
              " 635,\n",
              " 636,\n",
              " 637,\n",
              " 638,\n",
              " array([3.4535027e+01, 5.0189201e+01, 2.2833837e-02, 5.5071039e+00],\n",
              "       dtype=float32),\n",
              " 640,\n",
              " 641,\n",
              " 642,\n",
              " 643,\n",
              " array([4.5587265e+02, 2.3663201e+03, 1.4259267e-01, 2.5936124e+00],\n",
              "       dtype=float32),\n",
              " 645,\n",
              " 646,\n",
              " 647,\n",
              " 648,\n",
              " 649,\n",
              " 650,\n",
              " 651,\n",
              " 652,\n",
              " 653,\n",
              " array([5.8732247, 0.7202936, 7.6088147, 1.7746537], dtype=float32),\n",
              " 655,\n",
              " 656,\n",
              " 657,\n",
              " 658,\n",
              " 659,\n",
              " 660,\n",
              " 661,\n",
              " 662,\n",
              " 663,\n",
              " 664,\n",
              " 665,\n",
              " 666,\n",
              " 667,\n",
              " 668,\n",
              " 669,\n",
              " 670,\n",
              " 671,\n",
              " 672,\n",
              " 673,\n",
              " 674,\n",
              " 675,\n",
              " 676,\n",
              " 677,\n",
              " 678,\n",
              " 679,\n",
              " 680,\n",
              " 681,\n",
              " 682,\n",
              " 683,\n",
              " 684,\n",
              " 685,\n",
              " 686,\n",
              " 687,\n",
              " 688,\n",
              " 689,\n",
              " 690,\n",
              " 691,\n",
              " 692,\n",
              " 693,\n",
              " 694,\n",
              " 695,\n",
              " 696,\n",
              " array([281.32892  , 628.199    ,   4.1137547,   2.2207775], dtype=float32),\n",
              " 698,\n",
              " 699,\n",
              " 700,\n",
              " 701,\n",
              " 702,\n",
              " 703,\n",
              " 704,\n",
              " 705,\n",
              " 706,\n",
              " 707,\n",
              " 708,\n",
              " 709,\n",
              " array([2.9058490e+02, 1.1317437e+02, 1.0788399e-02, 2.0805790e+00],\n",
              "       dtype=float32),\n",
              " 711,\n",
              " 712,\n",
              " 713,\n",
              " 714,\n",
              " 715,\n",
              " 716,\n",
              " 717,\n",
              " 718,\n",
              " 719,\n",
              " 720,\n",
              " 721,\n",
              " 722,\n",
              " 723,\n",
              " 724,\n",
              " 725,\n",
              " 726,\n",
              " 727,\n",
              " 728,\n",
              " 729,\n",
              " 730,\n",
              " 731,\n",
              " 732,\n",
              " 733,\n",
              " 734,\n",
              " 735,\n",
              " 736,\n",
              " 737,\n",
              " 738,\n",
              " 739,\n",
              " 740,\n",
              " 741,\n",
              " 742,\n",
              " 743,\n",
              " 744,\n",
              " 745,\n",
              " 746,\n",
              " 747,\n",
              " array([ 0.4307869, 13.960347 ,  4.340362 ,  1.8351487], dtype=float32),\n",
              " 749,\n",
              " 750,\n",
              " 751,\n",
              " 752,\n",
              " 753,\n",
              " 754,\n",
              " 755,\n",
              " 756,\n",
              " 757,\n",
              " 758,\n",
              " 759,\n",
              " 760,\n",
              " 761,\n",
              " array([1.8647935 , 0.2071908 , 0.01776456, 3.368156  ], dtype=float32),\n",
              " 763,\n",
              " 764,\n",
              " 765,\n",
              " 766,\n",
              " 767,\n",
              " 768,\n",
              " 769,\n",
              " 770,\n",
              " 771,\n",
              " 772,\n",
              " 773,\n",
              " 774,\n",
              " 775,\n",
              " 776,\n",
              " 777,\n",
              " 778,\n",
              " 779,\n",
              " 780,\n",
              " 781,\n",
              " 782,\n",
              " 783,\n",
              " 784,\n",
              " 785,\n",
              " 786,\n",
              " 787,\n",
              " 788,\n",
              " 789,\n",
              " 790,\n",
              " 791,\n",
              " 792,\n",
              " 793,\n",
              " 794,\n",
              " 795,\n",
              " 796,\n",
              " array([3.3190015e+02, 2.2979655e+00, 4.1402292e-02, 3.9083982e+00],\n",
              "       dtype=float32),\n",
              " 798,\n",
              " 799,\n",
              " 800,\n",
              " 801,\n",
              " 802,\n",
              " 803,\n",
              " 804,\n",
              " 805,\n",
              " 806,\n",
              " 807,\n",
              " 808,\n",
              " 809,\n",
              " 810,\n",
              " 811,\n",
              " 812,\n",
              " 813,\n",
              " 814,\n",
              " 815,\n",
              " 816,\n",
              " 817,\n",
              " 818,\n",
              " 819,\n",
              " array([ 0.4936606 , 45.908493  ,  0.05819815,  3.1950758 ], dtype=float32),\n",
              " 821,\n",
              " 822,\n",
              " 823,\n",
              " 824,\n",
              " 825,\n",
              " 826,\n",
              " 827,\n",
              " 828,\n",
              " 829,\n",
              " 830,\n",
              " 831,\n",
              " 832,\n",
              " 833,\n",
              " 834,\n",
              " 835,\n",
              " 836,\n",
              " array([38.693417  ,  4.419867  ,  0.14419746,  2.0051358 ], dtype=float32),\n",
              " 838,\n",
              " 839,\n",
              " 840,\n",
              " 841,\n",
              " array([1.2024245e+00, 1.4030877e-01, 2.0163577e+03, 1.6437588e+00],\n",
              "       dtype=float32),\n",
              " 843,\n",
              " 844,\n",
              " 845,\n",
              " 846,\n",
              " 847,\n",
              " 848,\n",
              " 849,\n",
              " 850,\n",
              " 851,\n",
              " 852,\n",
              " 853,\n",
              " 854,\n",
              " 855,\n",
              " 856,\n",
              " 857,\n",
              " 858,\n",
              " array([1.8923412e+01, 9.9787338e+01, 9.7639915e-03, 1.7065636e+00],\n",
              "       dtype=float32),\n",
              " 860,\n",
              " 861,\n",
              " 862,\n",
              " 863,\n",
              " 864,\n",
              " 865,\n",
              " 866,\n",
              " 867,\n",
              " 868,\n",
              " 869,\n",
              " 870,\n",
              " 871,\n",
              " 872,\n",
              " 873,\n",
              " 874,\n",
              " 875,\n",
              " 876,\n",
              " 877,\n",
              " 878,\n",
              " array([ 0.05757852,  0.23168078, 39.930195  ,  1.7599051 ], dtype=float32),\n",
              " 880,\n",
              " 881,\n",
              " 882,\n",
              " 883,\n",
              " 884,\n",
              " 885,\n",
              " 886,\n",
              " 887,\n",
              " 888,\n",
              " 889,\n",
              " 890,\n",
              " 891,\n",
              " 892,\n",
              " 893,\n",
              " 894,\n",
              " 895,\n",
              " 896,\n",
              " 897,\n",
              " 898,\n",
              " 899,\n",
              " 900,\n",
              " 901,\n",
              " 902,\n",
              " 903,\n",
              " 904,\n",
              " 905,\n",
              " 906,\n",
              " 907,\n",
              " 908,\n",
              " 909,\n",
              " 910,\n",
              " 911,\n",
              " 912,\n",
              " 913,\n",
              " 914,\n",
              " 915,\n",
              " 916,\n",
              " 917,\n",
              " 918,\n",
              " 919,\n",
              " 920,\n",
              " 921,\n",
              " 922,\n",
              " 923,\n",
              " 924,\n",
              " 925,\n",
              " 926,\n",
              " 927,\n",
              " 928,\n",
              " array([0.14848651, 6.7705054 , 3.527805  , 2.6079862 ], dtype=float32),\n",
              " 930,\n",
              " 931,\n",
              " 932,\n",
              " array([ 6.7797046, 13.821156 ,  2.7764661,  2.7065616], dtype=float32),\n",
              " 934,\n",
              " 935,\n",
              " 936,\n",
              " 937,\n",
              " 938,\n",
              " 939,\n",
              " 940,\n",
              " 941,\n",
              " 942,\n",
              " 943,\n",
              " array([ 0.87979007, 13.783407  ,  0.0891756 ,  2.0605795 ], dtype=float32),\n",
              " 945,\n",
              " 946,\n",
              " 947,\n",
              " array([1.5204311e+02, 6.5054302e+03, 1.1459478e-01, 2.4758191e+00],\n",
              "       dtype=float32),\n",
              " 949,\n",
              " 950,\n",
              " 951,\n",
              " 952,\n",
              " 953,\n",
              " 954,\n",
              " 955,\n",
              " 956,\n",
              " 957,\n",
              " 958,\n",
              " 959,\n",
              " 960,\n",
              " 961,\n",
              " 962,\n",
              " 963,\n",
              " 964,\n",
              " 965,\n",
              " 966,\n",
              " 967,\n",
              " 968,\n",
              " 969,\n",
              " 970,\n",
              " 971,\n",
              " 972,\n",
              " 973,\n",
              " 974,\n",
              " 975,\n",
              " 976,\n",
              " 977,\n",
              " 978,\n",
              " 979,\n",
              " 980,\n",
              " 981,\n",
              " 982,\n",
              " 983,\n",
              " 984,\n",
              " 985,\n",
              " 986,\n",
              " 987,\n",
              " 988,\n",
              " 989,\n",
              " 990,\n",
              " 991,\n",
              " 992,\n",
              " 993,\n",
              " 994,\n",
              " 995,\n",
              " 996,\n",
              " 997,\n",
              " 998,\n",
              " 999,\n",
              " ...]"
            ]
          },
          "execution_count": 189,
          "metadata": {},
          "output_type": "execute_result"
        }
      ],
      "source": [
        "param_values_pred"
      ]
    },
    {
      "cell_type": "code",
      "execution_count": null,
      "metadata": {
        "id": "IHe4HKH0d7oV"
      },
      "outputs": [],
      "source": [
        "def write_param_str(param_values, param_strs):\n",
        "    pstr = \"\"\n",
        "    for i in np.arange(len(param_values)):\n",
        "      if i == 0:\n",
        "        pstr += param_strs[i] + \": %0.2g\" % (param_values[i])\n",
        "      else:\n",
        "        pstr += \", \" + param_strs[i] + \": %0.2g\" % (param_values[i])\n",
        "    return pstr"
      ]
    },
    {
      "cell_type": "code",
      "execution_count": null,
      "metadata": {
        "colab": {
          "base_uri": "https://localhost:8080/",
          "height": 401
        },
        "id": "A_RJg3zVPSyy",
        "outputId": "7ecd6e65-f086-4e1a-dec2-b29733af7744"
      },
      "outputs": [
        {
          "ename": "TypeError",
          "evalue": "ignored",
          "output_type": "error",
          "traceback": [
            "\u001b[0;31m---------------------------------------------------------------------------\u001b[0m",
            "\u001b[0;31mTypeError\u001b[0m                                 Traceback (most recent call last)",
            "\u001b[0;32m<ipython-input-188-ad61be0a18dd>\u001b[0m in \u001b[0;36m<module>\u001b[0;34m()\u001b[0m\n\u001b[1;32m      1\u001b[0m \u001b[0mdf\u001b[0m\u001b[0;34m[\u001b[0m\u001b[0;34m\"param_values_pred\"\u001b[0m\u001b[0;34m]\u001b[0m \u001b[0;34m=\u001b[0m \u001b[0mparam_values_pred\u001b[0m\u001b[0;34m\u001b[0m\u001b[0;34m\u001b[0m\u001b[0m\n\u001b[1;32m      2\u001b[0m \u001b[0mdf_\u001b[0m \u001b[0;34m=\u001b[0m \u001b[0mpd\u001b[0m\u001b[0;34m.\u001b[0m\u001b[0mDataFrame\u001b[0m\u001b[0;34m(\u001b[0m\u001b[0mdata\u001b[0m\u001b[0;34m=\u001b[0m\u001b[0mdf\u001b[0m\u001b[0;34m[\u001b[0m\u001b[0;34m\"Circuit\"\u001b[0m\u001b[0;34m]\u001b[0m\u001b[0;34m)\u001b[0m\u001b[0;34m\u001b[0m\u001b[0;34m\u001b[0m\u001b[0m\n\u001b[0;32m----> 3\u001b[0;31m \u001b[0mdf_\u001b[0m\u001b[0;34m[\u001b[0m\u001b[0;34m\"Parameters\"\u001b[0m\u001b[0;34m]\u001b[0m \u001b[0;34m=\u001b[0m \u001b[0mdf\u001b[0m\u001b[0;34m.\u001b[0m\u001b[0mapply\u001b[0m\u001b[0;34m(\u001b[0m\u001b[0;32mlambda\u001b[0m \u001b[0mx\u001b[0m\u001b[0;34m:\u001b[0m \u001b[0mwrite_param_str\u001b[0m\u001b[0;34m(\u001b[0m\u001b[0mx\u001b[0m\u001b[0;34m.\u001b[0m\u001b[0mparam_values_pred\u001b[0m\u001b[0;34m,\u001b[0m \u001b[0mx\u001b[0m\u001b[0;34m.\u001b[0m\u001b[0mparam_strs\u001b[0m\u001b[0;34m)\u001b[0m\u001b[0;34m,\u001b[0m \u001b[0maxis\u001b[0m\u001b[0;34m=\u001b[0m\u001b[0;36m1\u001b[0m\u001b[0;34m)\u001b[0m\u001b[0;34m\u001b[0m\u001b[0;34m\u001b[0m\u001b[0m\n\u001b[0m\u001b[1;32m      4\u001b[0m \u001b[0;34m\u001b[0m\u001b[0m\n\u001b[1;32m      5\u001b[0m \u001b[0mdf_\u001b[0m\u001b[0;34m\u001b[0m\u001b[0;34m\u001b[0m\u001b[0m\n",
            "\u001b[0;32m/usr/local/lib/python3.7/dist-packages/pandas/core/frame.py\u001b[0m in \u001b[0;36mapply\u001b[0;34m(self, func, axis, raw, result_type, args, **kwargs)\u001b[0m\n\u001b[1;32m   8738\u001b[0m             \u001b[0mkwargs\u001b[0m\u001b[0;34m=\u001b[0m\u001b[0mkwargs\u001b[0m\u001b[0;34m,\u001b[0m\u001b[0;34m\u001b[0m\u001b[0;34m\u001b[0m\u001b[0m\n\u001b[1;32m   8739\u001b[0m         )\n\u001b[0;32m-> 8740\u001b[0;31m         \u001b[0;32mreturn\u001b[0m \u001b[0mop\u001b[0m\u001b[0;34m.\u001b[0m\u001b[0mapply\u001b[0m\u001b[0;34m(\u001b[0m\u001b[0;34m)\u001b[0m\u001b[0;34m\u001b[0m\u001b[0;34m\u001b[0m\u001b[0m\n\u001b[0m\u001b[1;32m   8741\u001b[0m \u001b[0;34m\u001b[0m\u001b[0m\n\u001b[1;32m   8742\u001b[0m     def applymap(\n",
            "\u001b[0;32m/usr/local/lib/python3.7/dist-packages/pandas/core/apply.py\u001b[0m in \u001b[0;36mapply\u001b[0;34m(self)\u001b[0m\n\u001b[1;32m    686\u001b[0m             \u001b[0;32mreturn\u001b[0m \u001b[0mself\u001b[0m\u001b[0;34m.\u001b[0m\u001b[0mapply_raw\u001b[0m\u001b[0;34m(\u001b[0m\u001b[0;34m)\u001b[0m\u001b[0;34m\u001b[0m\u001b[0;34m\u001b[0m\u001b[0m\n\u001b[1;32m    687\u001b[0m \u001b[0;34m\u001b[0m\u001b[0m\n\u001b[0;32m--> 688\u001b[0;31m         \u001b[0;32mreturn\u001b[0m \u001b[0mself\u001b[0m\u001b[0;34m.\u001b[0m\u001b[0mapply_standard\u001b[0m\u001b[0;34m(\u001b[0m\u001b[0;34m)\u001b[0m\u001b[0;34m\u001b[0m\u001b[0;34m\u001b[0m\u001b[0m\n\u001b[0m\u001b[1;32m    689\u001b[0m \u001b[0;34m\u001b[0m\u001b[0m\n\u001b[1;32m    690\u001b[0m     \u001b[0;32mdef\u001b[0m \u001b[0magg\u001b[0m\u001b[0;34m(\u001b[0m\u001b[0mself\u001b[0m\u001b[0;34m)\u001b[0m\u001b[0;34m:\u001b[0m\u001b[0;34m\u001b[0m\u001b[0;34m\u001b[0m\u001b[0m\n",
            "\u001b[0;32m/usr/local/lib/python3.7/dist-packages/pandas/core/apply.py\u001b[0m in \u001b[0;36mapply_standard\u001b[0;34m(self)\u001b[0m\n\u001b[1;32m    810\u001b[0m \u001b[0;34m\u001b[0m\u001b[0m\n\u001b[1;32m    811\u001b[0m     \u001b[0;32mdef\u001b[0m \u001b[0mapply_standard\u001b[0m\u001b[0;34m(\u001b[0m\u001b[0mself\u001b[0m\u001b[0;34m)\u001b[0m\u001b[0;34m:\u001b[0m\u001b[0;34m\u001b[0m\u001b[0;34m\u001b[0m\u001b[0m\n\u001b[0;32m--> 812\u001b[0;31m         \u001b[0mresults\u001b[0m\u001b[0;34m,\u001b[0m \u001b[0mres_index\u001b[0m \u001b[0;34m=\u001b[0m \u001b[0mself\u001b[0m\u001b[0;34m.\u001b[0m\u001b[0mapply_series_generator\u001b[0m\u001b[0;34m(\u001b[0m\u001b[0;34m)\u001b[0m\u001b[0;34m\u001b[0m\u001b[0;34m\u001b[0m\u001b[0m\n\u001b[0m\u001b[1;32m    813\u001b[0m \u001b[0;34m\u001b[0m\u001b[0m\n\u001b[1;32m    814\u001b[0m         \u001b[0;31m# wrap results\u001b[0m\u001b[0;34m\u001b[0m\u001b[0;34m\u001b[0m\u001b[0;34m\u001b[0m\u001b[0m\n",
            "\u001b[0;32m/usr/local/lib/python3.7/dist-packages/pandas/core/apply.py\u001b[0m in \u001b[0;36mapply_series_generator\u001b[0;34m(self)\u001b[0m\n\u001b[1;32m    826\u001b[0m             \u001b[0;32mfor\u001b[0m \u001b[0mi\u001b[0m\u001b[0;34m,\u001b[0m \u001b[0mv\u001b[0m \u001b[0;32min\u001b[0m \u001b[0menumerate\u001b[0m\u001b[0;34m(\u001b[0m\u001b[0mseries_gen\u001b[0m\u001b[0;34m)\u001b[0m\u001b[0;34m:\u001b[0m\u001b[0;34m\u001b[0m\u001b[0;34m\u001b[0m\u001b[0m\n\u001b[1;32m    827\u001b[0m                 \u001b[0;31m# ignore SettingWithCopy here in case the user mutates\u001b[0m\u001b[0;34m\u001b[0m\u001b[0;34m\u001b[0m\u001b[0;34m\u001b[0m\u001b[0m\n\u001b[0;32m--> 828\u001b[0;31m                 \u001b[0mresults\u001b[0m\u001b[0;34m[\u001b[0m\u001b[0mi\u001b[0m\u001b[0;34m]\u001b[0m \u001b[0;34m=\u001b[0m \u001b[0mself\u001b[0m\u001b[0;34m.\u001b[0m\u001b[0mf\u001b[0m\u001b[0;34m(\u001b[0m\u001b[0mv\u001b[0m\u001b[0;34m)\u001b[0m\u001b[0;34m\u001b[0m\u001b[0;34m\u001b[0m\u001b[0m\n\u001b[0m\u001b[1;32m    829\u001b[0m                 \u001b[0;32mif\u001b[0m \u001b[0misinstance\u001b[0m\u001b[0;34m(\u001b[0m\u001b[0mresults\u001b[0m\u001b[0;34m[\u001b[0m\u001b[0mi\u001b[0m\u001b[0;34m]\u001b[0m\u001b[0;34m,\u001b[0m \u001b[0mABCSeries\u001b[0m\u001b[0;34m)\u001b[0m\u001b[0;34m:\u001b[0m\u001b[0;34m\u001b[0m\u001b[0;34m\u001b[0m\u001b[0m\n\u001b[1;32m    830\u001b[0m                     \u001b[0;31m# If we have a view on v, we need to make a copy because\u001b[0m\u001b[0;34m\u001b[0m\u001b[0;34m\u001b[0m\u001b[0;34m\u001b[0m\u001b[0m\n",
            "\u001b[0;32m<ipython-input-188-ad61be0a18dd>\u001b[0m in \u001b[0;36m<lambda>\u001b[0;34m(x)\u001b[0m\n\u001b[1;32m      1\u001b[0m \u001b[0mdf\u001b[0m\u001b[0;34m[\u001b[0m\u001b[0;34m\"param_values_pred\"\u001b[0m\u001b[0;34m]\u001b[0m \u001b[0;34m=\u001b[0m \u001b[0mparam_values_pred\u001b[0m\u001b[0;34m\u001b[0m\u001b[0;34m\u001b[0m\u001b[0m\n\u001b[1;32m      2\u001b[0m \u001b[0mdf_\u001b[0m \u001b[0;34m=\u001b[0m \u001b[0mpd\u001b[0m\u001b[0;34m.\u001b[0m\u001b[0mDataFrame\u001b[0m\u001b[0;34m(\u001b[0m\u001b[0mdata\u001b[0m\u001b[0;34m=\u001b[0m\u001b[0mdf\u001b[0m\u001b[0;34m[\u001b[0m\u001b[0;34m\"Circuit\"\u001b[0m\u001b[0;34m]\u001b[0m\u001b[0;34m)\u001b[0m\u001b[0;34m\u001b[0m\u001b[0;34m\u001b[0m\u001b[0m\n\u001b[0;32m----> 3\u001b[0;31m \u001b[0mdf_\u001b[0m\u001b[0;34m[\u001b[0m\u001b[0;34m\"Parameters\"\u001b[0m\u001b[0;34m]\u001b[0m \u001b[0;34m=\u001b[0m \u001b[0mdf\u001b[0m\u001b[0;34m.\u001b[0m\u001b[0mapply\u001b[0m\u001b[0;34m(\u001b[0m\u001b[0;32mlambda\u001b[0m \u001b[0mx\u001b[0m\u001b[0;34m:\u001b[0m \u001b[0mwrite_param_str\u001b[0m\u001b[0;34m(\u001b[0m\u001b[0mx\u001b[0m\u001b[0;34m.\u001b[0m\u001b[0mparam_values_pred\u001b[0m\u001b[0;34m,\u001b[0m \u001b[0mx\u001b[0m\u001b[0;34m.\u001b[0m\u001b[0mparam_strs\u001b[0m\u001b[0;34m)\u001b[0m\u001b[0;34m,\u001b[0m \u001b[0maxis\u001b[0m\u001b[0;34m=\u001b[0m\u001b[0;36m1\u001b[0m\u001b[0;34m)\u001b[0m\u001b[0;34m\u001b[0m\u001b[0;34m\u001b[0m\u001b[0m\n\u001b[0m\u001b[1;32m      4\u001b[0m \u001b[0;34m\u001b[0m\u001b[0m\n\u001b[1;32m      5\u001b[0m \u001b[0mdf_\u001b[0m\u001b[0;34m\u001b[0m\u001b[0;34m\u001b[0m\u001b[0m\n",
            "\u001b[0;32m<ipython-input-187-d608bdf54761>\u001b[0m in \u001b[0;36mwrite_param_str\u001b[0;34m(param_values, param_strs)\u001b[0m\n\u001b[1;32m      1\u001b[0m \u001b[0;32mdef\u001b[0m \u001b[0mwrite_param_str\u001b[0m\u001b[0;34m(\u001b[0m\u001b[0mparam_values\u001b[0m\u001b[0;34m,\u001b[0m \u001b[0mparam_strs\u001b[0m\u001b[0;34m)\u001b[0m\u001b[0;34m:\u001b[0m\u001b[0;34m\u001b[0m\u001b[0;34m\u001b[0m\u001b[0m\n\u001b[1;32m      2\u001b[0m     \u001b[0mpstr\u001b[0m \u001b[0;34m=\u001b[0m \u001b[0;34m\"\"\u001b[0m\u001b[0;34m\u001b[0m\u001b[0;34m\u001b[0m\u001b[0m\n\u001b[0;32m----> 3\u001b[0;31m     \u001b[0;32mfor\u001b[0m \u001b[0mi\u001b[0m \u001b[0;32min\u001b[0m \u001b[0mnp\u001b[0m\u001b[0;34m.\u001b[0m\u001b[0marange\u001b[0m\u001b[0;34m(\u001b[0m\u001b[0mlen\u001b[0m\u001b[0;34m(\u001b[0m\u001b[0mparam_values\u001b[0m\u001b[0;34m)\u001b[0m\u001b[0;34m)\u001b[0m\u001b[0;34m:\u001b[0m\u001b[0;34m\u001b[0m\u001b[0;34m\u001b[0m\u001b[0m\n\u001b[0m\u001b[1;32m      4\u001b[0m       \u001b[0;32mif\u001b[0m \u001b[0mi\u001b[0m \u001b[0;34m==\u001b[0m \u001b[0;36m0\u001b[0m\u001b[0;34m:\u001b[0m\u001b[0;34m\u001b[0m\u001b[0;34m\u001b[0m\u001b[0m\n\u001b[1;32m      5\u001b[0m         \u001b[0mpstr\u001b[0m \u001b[0;34m+=\u001b[0m \u001b[0mparam_strs\u001b[0m\u001b[0;34m[\u001b[0m\u001b[0mi\u001b[0m\u001b[0;34m]\u001b[0m \u001b[0;34m+\u001b[0m \u001b[0;34m\": %0.2g\"\u001b[0m \u001b[0;34m%\u001b[0m \u001b[0;34m(\u001b[0m\u001b[0mparam_values\u001b[0m\u001b[0;34m[\u001b[0m\u001b[0mi\u001b[0m\u001b[0;34m]\u001b[0m\u001b[0;34m)\u001b[0m\u001b[0;34m\u001b[0m\u001b[0;34m\u001b[0m\u001b[0m\n",
            "\u001b[0;31mTypeError\u001b[0m: object of type 'int' has no len()"
          ]
        }
      ],
      "source": [
        "df[\"param_values_pred\"] = param_values_pred\n",
        "df_ = pd.DataFrame(data=df[\"Circuit\"])\n",
        "df_[\"Parameters\"] = df.apply(lambda x: write_param_str(x.param_values_pred, x.param_strs), axis=1)\n",
        "\n",
        "df_"
      ]
    },
    {
      "cell_type": "code",
      "execution_count": null,
      "metadata": {
        "id": "h_QY_9MQYsXr"
      },
      "outputs": [],
      "source": [
        "df_.to_csv('submission.csv')"
      ]
    },
    {
      "cell_type": "markdown",
      "metadata": {
        "id": "zw-PKwAzHkK9"
      },
      "source": [
        "Other attempts that don't work.\n",
        "Custom log transform:"
      ]
    },
    {
      "cell_type": "code",
      "execution_count": null,
      "metadata": {
        "colab": {
          "base_uri": "https://localhost:8080/",
          "height": 1000
        },
        "id": "34zByLl1c-we",
        "outputId": "45bf873f-c676-4130-fda6-91b0078dd4ca"
      },
      "outputs": [
        {
          "name": "stdout",
          "output_type": "stream",
          "text": [
            " \n",
            "Fitting regression for L-R-RCPE\n"
          ]
        },
        {
          "name": "stderr",
          "output_type": "stream",
          "text": [
            "Feature Extraction: 100%|██████████| 1384/1384 [01:56<00:00, 11.86it/s]\n",
            "/usr/local/lib/python3.7/dist-packages/ipykernel_launcher.py:7: RuntimeWarning: overflow encountered in exp\n",
            "  import sys\n"
          ]
        },
        {
          "name": "stdout",
          "output_type": "stream",
          "text": [
            "[01:43:29] WARNING: /workspace/src/objective/regression_obj.cu:152: reg:linear is now deprecated in favor of reg:squarederror.\n",
            "[01:43:33] WARNING: /workspace/src/objective/regression_obj.cu:152: reg:linear is now deprecated in favor of reg:squarederror.\n",
            "[01:43:38] WARNING: /workspace/src/objective/regression_obj.cu:152: reg:linear is now deprecated in favor of reg:squarederror.\n",
            "[01:43:42] WARNING: /workspace/src/objective/regression_obj.cu:152: reg:linear is now deprecated in favor of reg:squarederror.\n",
            "[01:43:46] WARNING: /workspace/src/objective/regression_obj.cu:152: reg:linear is now deprecated in favor of reg:squarederror.\n"
          ]
        },
        {
          "name": "stderr",
          "output_type": "stream",
          "text": [
            "Feature Extraction: 100%|██████████| 346/346 [00:27<00:00, 12.43it/s]\n"
          ]
        },
        {
          "name": "stdout",
          "output_type": "stream",
          "text": [
            "MAPE:634548.4890\n",
            "L1 MAPE:3168187.4009\n",
            "R1 MAPE:18.5833\n",
            "R2 MAPE:0.8513\n",
            "CPE1_t MAPE:0.0857\n",
            "CPE1_C MAPE:4535.5240\n",
            " \n",
            "Fitting regression for L-R-RCPE-RCPE\n"
          ]
        },
        {
          "name": "stderr",
          "output_type": "stream",
          "text": [
            "Feature Extraction: 100%|██████████| 1440/1440 [02:18<00:00, 10.36it/s]\n",
            "/usr/local/lib/python3.7/dist-packages/ipykernel_launcher.py:7: RuntimeWarning: overflow encountered in exp\n",
            "  import sys\n",
            "/usr/local/lib/python3.7/dist-packages/ipykernel_launcher.py:7: RuntimeWarning: overflow encountered in exp\n",
            "  import sys\n"
          ]
        },
        {
          "name": "stdout",
          "output_type": "stream",
          "text": [
            "[01:46:39] WARNING: /workspace/src/objective/regression_obj.cu:152: reg:linear is now deprecated in favor of reg:squarederror.\n",
            "[01:46:44] WARNING: /workspace/src/objective/regression_obj.cu:152: reg:linear is now deprecated in favor of reg:squarederror.\n",
            "[01:46:49] WARNING: /workspace/src/objective/regression_obj.cu:152: reg:linear is now deprecated in favor of reg:squarederror.\n",
            "[01:46:56] WARNING: /workspace/src/objective/regression_obj.cu:152: reg:linear is now deprecated in favor of reg:squarederror.\n",
            "[01:47:01] WARNING: /workspace/src/objective/regression_obj.cu:152: reg:linear is now deprecated in favor of reg:squarederror.\n",
            "[01:47:09] WARNING: /workspace/src/objective/regression_obj.cu:152: reg:linear is now deprecated in favor of reg:squarederror.\n",
            "[01:47:14] WARNING: /workspace/src/objective/regression_obj.cu:152: reg:linear is now deprecated in favor of reg:squarederror.\n",
            "[01:47:18] WARNING: /workspace/src/objective/regression_obj.cu:152: reg:linear is now deprecated in favor of reg:squarederror.\n"
          ]
        },
        {
          "name": "stderr",
          "output_type": "stream",
          "text": [
            "Feature Extraction: 100%|██████████| 360/360 [00:39<00:00,  9.21it/s]\n",
            "/usr/local/lib/python3.7/dist-packages/ipykernel_launcher.py:7: RuntimeWarning: overflow encountered in exp\n",
            "  import sys\n"
          ]
        },
        {
          "ename": "ValueError",
          "evalue": "ignored",
          "output_type": "error",
          "traceback": [
            "\u001b[0;31m---------------------------------------------------------------------------\u001b[0m",
            "\u001b[0;31mValueError\u001b[0m                                Traceback (most recent call last)",
            "\u001b[0;32m<ipython-input-133-491bfcbfdfbb>\u001b[0m in \u001b[0;36m<module>\u001b[0;34m()\u001b[0m\n\u001b[1;32m     20\u001b[0m   \u001b[0mppl\u001b[0m\u001b[0;34m.\u001b[0m\u001b[0mfit\u001b[0m\u001b[0;34m(\u001b[0m\u001b[0mX_train\u001b[0m\u001b[0;34m,\u001b[0m \u001b[0my_train\u001b[0m\u001b[0;34m)\u001b[0m\u001b[0;34m\u001b[0m\u001b[0;34m\u001b[0m\u001b[0m\n\u001b[1;32m     21\u001b[0m   \u001b[0my_pred\u001b[0m \u001b[0;34m=\u001b[0m \u001b[0mppl\u001b[0m\u001b[0;34m.\u001b[0m\u001b[0mpredict\u001b[0m\u001b[0;34m(\u001b[0m\u001b[0mX_test\u001b[0m\u001b[0;34m)\u001b[0m\u001b[0;34m\u001b[0m\u001b[0;34m\u001b[0m\u001b[0m\n\u001b[0;32m---> 22\u001b[0;31m   \u001b[0mprint\u001b[0m\u001b[0;34m(\u001b[0m\u001b[0;34m\"MAPE:%.4f\"\u001b[0m \u001b[0;34m%\u001b[0m \u001b[0mmean_absolute_percentage_error\u001b[0m\u001b[0;34m(\u001b[0m\u001b[0my_test\u001b[0m\u001b[0;34m,\u001b[0m \u001b[0my_pred\u001b[0m\u001b[0;34m)\u001b[0m\u001b[0;34m)\u001b[0m\u001b[0;34m\u001b[0m\u001b[0;34m\u001b[0m\u001b[0m\n\u001b[0m\u001b[1;32m     23\u001b[0m   \u001b[0mp_strs\u001b[0m \u001b[0;34m=\u001b[0m \u001b[0mdf_\u001b[0m\u001b[0;34m[\u001b[0m\u001b[0;34m\"param_strs\"\u001b[0m\u001b[0;34m]\u001b[0m\u001b[0;34m.\u001b[0m\u001b[0mloc\u001b[0m\u001b[0;34m[\u001b[0m\u001b[0mdf_\u001b[0m\u001b[0;34m.\u001b[0m\u001b[0mindex\u001b[0m\u001b[0;34m[\u001b[0m\u001b[0;36m0\u001b[0m\u001b[0;34m]\u001b[0m\u001b[0;34m]\u001b[0m\u001b[0;34m\u001b[0m\u001b[0;34m\u001b[0m\u001b[0m\n\u001b[1;32m     24\u001b[0m   \u001b[0;32mfor\u001b[0m \u001b[0mi\u001b[0m \u001b[0;32min\u001b[0m \u001b[0mnp\u001b[0m\u001b[0;34m.\u001b[0m\u001b[0marange\u001b[0m\u001b[0;34m(\u001b[0m\u001b[0mlen\u001b[0m\u001b[0;34m(\u001b[0m\u001b[0mp_strs\u001b[0m\u001b[0;34m)\u001b[0m\u001b[0;34m)\u001b[0m\u001b[0;34m:\u001b[0m\u001b[0;34m\u001b[0m\u001b[0;34m\u001b[0m\u001b[0m\n",
            "\u001b[0;32m/usr/local/lib/python3.7/dist-packages/sklearn/utils/validation.py\u001b[0m in \u001b[0;36minner_f\u001b[0;34m(*args, **kwargs)\u001b[0m\n\u001b[1;32m     63\u001b[0m             \u001b[0mextra_args\u001b[0m \u001b[0;34m=\u001b[0m \u001b[0mlen\u001b[0m\u001b[0;34m(\u001b[0m\u001b[0margs\u001b[0m\u001b[0;34m)\u001b[0m \u001b[0;34m-\u001b[0m \u001b[0mlen\u001b[0m\u001b[0;34m(\u001b[0m\u001b[0mall_args\u001b[0m\u001b[0;34m)\u001b[0m\u001b[0;34m\u001b[0m\u001b[0;34m\u001b[0m\u001b[0m\n\u001b[1;32m     64\u001b[0m             \u001b[0;32mif\u001b[0m \u001b[0mextra_args\u001b[0m \u001b[0;34m<=\u001b[0m \u001b[0;36m0\u001b[0m\u001b[0;34m:\u001b[0m\u001b[0;34m\u001b[0m\u001b[0;34m\u001b[0m\u001b[0m\n\u001b[0;32m---> 65\u001b[0;31m                 \u001b[0;32mreturn\u001b[0m \u001b[0mf\u001b[0m\u001b[0;34m(\u001b[0m\u001b[0;34m*\u001b[0m\u001b[0margs\u001b[0m\u001b[0;34m,\u001b[0m \u001b[0;34m**\u001b[0m\u001b[0mkwargs\u001b[0m\u001b[0;34m)\u001b[0m\u001b[0;34m\u001b[0m\u001b[0;34m\u001b[0m\u001b[0m\n\u001b[0m\u001b[1;32m     66\u001b[0m \u001b[0;34m\u001b[0m\u001b[0m\n\u001b[1;32m     67\u001b[0m             \u001b[0;31m# extra_args > 0\u001b[0m\u001b[0;34m\u001b[0m\u001b[0;34m\u001b[0m\u001b[0;34m\u001b[0m\u001b[0m\n",
            "\u001b[0;32m/usr/local/lib/python3.7/dist-packages/sklearn/metrics/_regression.py\u001b[0m in \u001b[0;36mmean_absolute_percentage_error\u001b[0;34m(y_true, y_pred, sample_weight, multioutput)\u001b[0m\n\u001b[1;32m    360\u001b[0m     \"\"\"\n\u001b[1;32m    361\u001b[0m     y_type, y_true, y_pred, multioutput = _check_reg_targets(\n\u001b[0;32m--> 362\u001b[0;31m         \u001b[0my_true\u001b[0m\u001b[0;34m,\u001b[0m \u001b[0my_pred\u001b[0m\u001b[0;34m,\u001b[0m \u001b[0mmultioutput\u001b[0m\u001b[0;34m\u001b[0m\u001b[0;34m\u001b[0m\u001b[0m\n\u001b[0m\u001b[1;32m    363\u001b[0m     )\n\u001b[1;32m    364\u001b[0m     \u001b[0mcheck_consistent_length\u001b[0m\u001b[0;34m(\u001b[0m\u001b[0my_true\u001b[0m\u001b[0;34m,\u001b[0m \u001b[0my_pred\u001b[0m\u001b[0;34m,\u001b[0m \u001b[0msample_weight\u001b[0m\u001b[0;34m)\u001b[0m\u001b[0;34m\u001b[0m\u001b[0;34m\u001b[0m\u001b[0m\n",
            "\u001b[0;32m/usr/local/lib/python3.7/dist-packages/sklearn/metrics/_regression.py\u001b[0m in \u001b[0;36m_check_reg_targets\u001b[0;34m(y_true, y_pred, multioutput, dtype)\u001b[0m\n\u001b[1;32m     94\u001b[0m     \u001b[0mcheck_consistent_length\u001b[0m\u001b[0;34m(\u001b[0m\u001b[0my_true\u001b[0m\u001b[0;34m,\u001b[0m \u001b[0my_pred\u001b[0m\u001b[0;34m)\u001b[0m\u001b[0;34m\u001b[0m\u001b[0;34m\u001b[0m\u001b[0m\n\u001b[1;32m     95\u001b[0m     \u001b[0my_true\u001b[0m \u001b[0;34m=\u001b[0m \u001b[0mcheck_array\u001b[0m\u001b[0;34m(\u001b[0m\u001b[0my_true\u001b[0m\u001b[0;34m,\u001b[0m \u001b[0mensure_2d\u001b[0m\u001b[0;34m=\u001b[0m\u001b[0;32mFalse\u001b[0m\u001b[0;34m,\u001b[0m \u001b[0mdtype\u001b[0m\u001b[0;34m=\u001b[0m\u001b[0mdtype\u001b[0m\u001b[0;34m)\u001b[0m\u001b[0;34m\u001b[0m\u001b[0;34m\u001b[0m\u001b[0m\n\u001b[0;32m---> 96\u001b[0;31m     \u001b[0my_pred\u001b[0m \u001b[0;34m=\u001b[0m \u001b[0mcheck_array\u001b[0m\u001b[0;34m(\u001b[0m\u001b[0my_pred\u001b[0m\u001b[0;34m,\u001b[0m \u001b[0mensure_2d\u001b[0m\u001b[0;34m=\u001b[0m\u001b[0;32mFalse\u001b[0m\u001b[0;34m,\u001b[0m \u001b[0mdtype\u001b[0m\u001b[0;34m=\u001b[0m\u001b[0mdtype\u001b[0m\u001b[0;34m)\u001b[0m\u001b[0;34m\u001b[0m\u001b[0;34m\u001b[0m\u001b[0m\n\u001b[0m\u001b[1;32m     97\u001b[0m \u001b[0;34m\u001b[0m\u001b[0m\n\u001b[1;32m     98\u001b[0m     \u001b[0;32mif\u001b[0m \u001b[0my_true\u001b[0m\u001b[0;34m.\u001b[0m\u001b[0mndim\u001b[0m \u001b[0;34m==\u001b[0m \u001b[0;36m1\u001b[0m\u001b[0;34m:\u001b[0m\u001b[0;34m\u001b[0m\u001b[0;34m\u001b[0m\u001b[0m\n",
            "\u001b[0;32m/usr/local/lib/python3.7/dist-packages/sklearn/utils/validation.py\u001b[0m in \u001b[0;36mcheck_array\u001b[0;34m(array, accept_sparse, accept_large_sparse, dtype, order, copy, force_all_finite, ensure_2d, allow_nd, ensure_min_samples, ensure_min_features, estimator)\u001b[0m\n\u001b[1;32m    798\u001b[0m \u001b[0;34m\u001b[0m\u001b[0m\n\u001b[1;32m    799\u001b[0m         \u001b[0;32mif\u001b[0m \u001b[0mforce_all_finite\u001b[0m\u001b[0;34m:\u001b[0m\u001b[0;34m\u001b[0m\u001b[0;34m\u001b[0m\u001b[0m\n\u001b[0;32m--> 800\u001b[0;31m             \u001b[0m_assert_all_finite\u001b[0m\u001b[0;34m(\u001b[0m\u001b[0marray\u001b[0m\u001b[0;34m,\u001b[0m \u001b[0mallow_nan\u001b[0m\u001b[0;34m=\u001b[0m\u001b[0mforce_all_finite\u001b[0m \u001b[0;34m==\u001b[0m \u001b[0;34m\"allow-nan\"\u001b[0m\u001b[0;34m)\u001b[0m\u001b[0;34m\u001b[0m\u001b[0;34m\u001b[0m\u001b[0m\n\u001b[0m\u001b[1;32m    801\u001b[0m \u001b[0;34m\u001b[0m\u001b[0m\n\u001b[1;32m    802\u001b[0m     \u001b[0;32mif\u001b[0m \u001b[0mensure_min_samples\u001b[0m \u001b[0;34m>\u001b[0m \u001b[0;36m0\u001b[0m\u001b[0;34m:\u001b[0m\u001b[0;34m\u001b[0m\u001b[0;34m\u001b[0m\u001b[0m\n",
            "\u001b[0;32m/usr/local/lib/python3.7/dist-packages/sklearn/utils/validation.py\u001b[0m in \u001b[0;36m_assert_all_finite\u001b[0;34m(X, allow_nan, msg_dtype)\u001b[0m\n\u001b[1;32m    114\u001b[0m             raise ValueError(\n\u001b[1;32m    115\u001b[0m                 msg_err.format(\n\u001b[0;32m--> 116\u001b[0;31m                     \u001b[0mtype_err\u001b[0m\u001b[0;34m,\u001b[0m \u001b[0mmsg_dtype\u001b[0m \u001b[0;32mif\u001b[0m \u001b[0mmsg_dtype\u001b[0m \u001b[0;32mis\u001b[0m \u001b[0;32mnot\u001b[0m \u001b[0;32mNone\u001b[0m \u001b[0;32melse\u001b[0m \u001b[0mX\u001b[0m\u001b[0;34m.\u001b[0m\u001b[0mdtype\u001b[0m\u001b[0;34m\u001b[0m\u001b[0;34m\u001b[0m\u001b[0m\n\u001b[0m\u001b[1;32m    117\u001b[0m                 )\n\u001b[1;32m    118\u001b[0m             )\n",
            "\u001b[0;31mValueError\u001b[0m: Input contains NaN, infinity or a value too large for dtype('float32')."
          ]
        }
      ],
      "source": [
        "ppls = list()\n",
        "for df_ in dfs:\n",
        "  print(\" \")\n",
        "  print(\"Fitting regression for %s\" % df_[\"Circuit\"].loc[df_.index[0]])\n",
        "  df_ts_ = df_ts[df_ts[\"id\"].isin(df_.index)]\n",
        "  df_x = pd.DataFrame(index=np.unique(df_ts_[\"id\"]))\n",
        "  df_y = pd.DataFrame(df_['param_values'].to_list(), columns=df_[\"param_strs\"].loc[df_.index[0]])\n",
        "  X_train, X_test, y_train, y_test = train_test_split(df_x, df_y, test_size=0.2, random_state=42)\n",
        "  # transformer mask, tell the transformer which parameters to skip over\n",
        "  mask = [n for n, x in enumerate(df_[\"param_strs\"].loc[df_.index[0]]) if '_t' in x]\n",
        "  mdl = MultiOutputRegressor(estimator=xgb.XGBRegressor())\n",
        "  regr = TransformedTargetRegressor(regressor=mdl, \n",
        "                                    func=partial(transform_params, mask_skip=mask),\n",
        "                                    inverse_func=partial(invert_params, mask_skip=mask))\n",
        "  ppl = Pipeline([\n",
        "        ('augmenter', FeatureAugmenter(column_id='id', column_sort='freq', default_fc_parameters=ComprehensiveFCParameters())),\n",
        "        ('regressor', regr)\n",
        "      ])\n",
        "  ppl.set_params(augmenter__timeseries_container=df_ts_);\n",
        "  ppl.fit(X_train, y_train)\n",
        "  y_pred = ppl.predict(X_test)\n",
        "  print(\"MAE:%.4f\" % mean_absolute_error(y_test, y_pred))\n",
        "  p_strs = df_[\"param_strs\"].loc[df_.index[0]]\n",
        "  for i in np.arange(len(p_strs)):\n",
        "    print(\"%s MAE:%.4f\" % (p_strs[i], mean_absolute_error(y_test[p_strs[i]], y_pred[:,i])))\n",
        "  ppls.append(ppl)\n"
      ]
    },
    {
      "cell_type": "markdown",
      "metadata": {
        "id": "7EMrcrZr5tUu"
      },
      "source": [
        "dummy regressor"
      ]
    },
    {
      "cell_type": "code",
      "execution_count": null,
      "metadata": {
        "colab": {
          "base_uri": "https://localhost:8080/"
        },
        "id": "e6WWa6R_5spd",
        "outputId": "51d5cc87-7b2f-44c6-8606-2686fa09fad2"
      },
      "outputs": [
        {
          "name": "stdout",
          "output_type": "stream",
          "text": [
            " \n",
            "Fitting regression for L-R-RCPE\n",
            "MAE:7342.5811\n",
            "L1 MAE:0.0869\n",
            "R1 MAE:41.8808\n",
            "R2 MAE:36670.7032\n",
            "CPE1_t MAE:0.1384\n",
            "CPE1_C MAE:0.0962\n",
            " \n",
            "Fitting regression for L-R-RCPE-RCPE\n",
            "MAE:6860.2577\n",
            "L1 MAE:0.1662\n",
            "R1 MAE:65.7694\n",
            "R2 MAE:291.0060\n",
            "CPE1_t MAE:0.1368\n",
            "CPE1_C MAE:0.2130\n",
            "R3 MAE:54524.5107\n",
            "CPE2_t MAE:0.1459\n",
            "CPE2_C MAE:0.1139\n",
            " \n",
            "Fitting regression for L-R-RCPE-RCPE-RCPE\n",
            "MAE:6932.6560\n",
            "L1 MAE:0.2596\n",
            "R1 MAE:52.6981\n",
            "R2 MAE:336.4982\n",
            "CPE1_t MAE:0.1423\n",
            "CPE1_C MAE:0.3262\n",
            "R3 MAE:2181.0637\n",
            "CPE2_t MAE:0.1379\n",
            "CPE2_C MAE:0.1955\n",
            "R4 MAE:73687.6291\n",
            "CPE3_t MAE:0.1368\n",
            "CPE3_C MAE:0.1281\n",
            " \n",
            "Fitting regression for RC-G-G\n",
            "MAE:22.4008\n",
            "R1 MAE:74.0982\n",
            "C1 MAE:0.0000\n",
            "R_g1 MAE:1.2834\n",
            "t_g1 MAE:0.7691\n",
            "R_g2 MAE:45.0847\n",
            "t_g2 MAE:13.1691\n",
            " \n",
            "Fitting regression for RC-RC-RCPE-RCPE\n",
            "MAE:5966.9245\n",
            "R1 MAE:33.1936\n",
            "R2 MAE:6.4065\n",
            "R3 MAE:40.6432\n",
            "R4 MAE:59587.7611\n",
            "C2 MAE:0.1398\n",
            "CPE3_C MAE:0.1100\n",
            "CPE4_t MAE:0.1712\n",
            "CPE4_C MAE:0.5881\n",
            "C1 MAE:0.2201\n",
            "CPE3_t MAE:0.0110\n",
            " \n",
            "Fitting regression for RCPE-RCPE\n",
            "MAE:4631.5568\n",
            "R1 MAE:50.8647\n",
            "R2 MAE:27737.8865\n",
            "CPE1_t MAE:0.1297\n",
            "CPE1_C MAE:0.2068\n",
            "CPE2_t MAE:0.1292\n",
            "CPE2_C MAE:0.1237\n",
            " \n",
            "Fitting regression for RCPE-RCPE-RCPE\n"
          ]
        },
        {
          "name": "stderr",
          "output_type": "stream",
          "text": [
            "/usr/local/lib/python3.7/dist-packages/ipykernel_launcher.py:7: RuntimeWarning: overflow encountered in exp\n",
            "  import sys\n",
            "/usr/local/lib/python3.7/dist-packages/ipykernel_launcher.py:7: RuntimeWarning: overflow encountered in exp\n",
            "  import sys\n",
            "/usr/local/lib/python3.7/dist-packages/ipykernel_launcher.py:7: RuntimeWarning: overflow encountered in exp\n",
            "  import sys\n",
            "/usr/local/lib/python3.7/dist-packages/ipykernel_launcher.py:7: RuntimeWarning: overflow encountered in exp\n",
            "  import sys\n",
            "/usr/local/lib/python3.7/dist-packages/ipykernel_launcher.py:7: RuntimeWarning: overflow encountered in exp\n",
            "  import sys\n",
            "/usr/local/lib/python3.7/dist-packages/ipykernel_launcher.py:7: RuntimeWarning: overflow encountered in exp\n",
            "  import sys\n",
            "/usr/local/lib/python3.7/dist-packages/ipykernel_launcher.py:7: RuntimeWarning: overflow encountered in exp\n",
            "  import sys\n",
            "/usr/local/lib/python3.7/dist-packages/ipykernel_launcher.py:7: RuntimeWarning: overflow encountered in exp\n",
            "  import sys\n",
            "/usr/local/lib/python3.7/dist-packages/ipykernel_launcher.py:7: RuntimeWarning: overflow encountered in exp\n",
            "  import sys\n",
            "/usr/local/lib/python3.7/dist-packages/ipykernel_launcher.py:7: RuntimeWarning: overflow encountered in exp\n",
            "  import sys\n",
            "/usr/local/lib/python3.7/dist-packages/ipykernel_launcher.py:7: RuntimeWarning: overflow encountered in exp\n",
            "  import sys\n"
          ]
        },
        {
          "name": "stdout",
          "output_type": "stream",
          "text": [
            "MAE:6428.8155\n",
            "R1 MAE:12.9561\n",
            "R2 MAE:381.7258\n",
            "R3 MAE:57463.5617\n",
            "CPE1_t MAE:0.1396\n",
            "CPE1_C MAE:0.3217\n",
            "CPE2_t MAE:0.1399\n",
            "CPE2_C MAE:0.2023\n",
            "CPE3_t MAE:0.1428\n",
            "CPE3_C MAE:0.1491\n",
            " \n",
            "Fitting regression for RCPE-RCPE-RCPE-RCPE\n",
            "MAE:8519.5391\n",
            "R1 MAE:31.9382\n",
            "R2 MAE:168.4325\n",
            "R3 MAE:2515.8436\n",
            "R4 MAE:99516.5397\n",
            "CPE1_t MAE:0.1628\n",
            "CPE1_C MAE:0.4466\n",
            "CPE2_t MAE:0.1436\n",
            "CPE2_C MAE:0.2983\n",
            "CPE3_t MAE:0.1432\n",
            "CPE3_C MAE:0.2106\n",
            "CPE4_t MAE:0.1466\n",
            "CPE4_C MAE:0.1634\n",
            " \n",
            "Fitting regression for Rs_Ws\n",
            "MAE:206.5543\n",
            "R1 MAE:56.6867\n",
            "W1_R MAE:674.5952\n",
            "W1_T MAE:94.0620\n",
            "W1_p MAE:0.8733\n"
          ]
        },
        {
          "name": "stderr",
          "output_type": "stream",
          "text": [
            "/usr/local/lib/python3.7/dist-packages/ipykernel_launcher.py:7: RuntimeWarning: overflow encountered in exp\n",
            "  import sys\n",
            "/usr/local/lib/python3.7/dist-packages/ipykernel_launcher.py:7: RuntimeWarning: overflow encountered in exp\n",
            "  import sys\n"
          ]
        }
      ],
      "source": [
        "ppls_0 = list()\n",
        "for df_ in dfs:\n",
        "  print(\" \")\n",
        "  print(\"Fitting regression for %s\" % df_[\"Circuit\"].loc[df_.index[0]])\n",
        "  df_ts_ = df_ts[df_ts[\"id\"].isin(df_.index)]\n",
        "  df_x = pd.DataFrame(index=np.unique(df_ts_[\"id\"]))\n",
        "  df_y = pd.DataFrame(df_['param_values'].to_list(), columns=df_[\"param_strs\"].loc[df_.index[0]])\n",
        "  X_train, X_test, y_train, y_test = train_test_split(df_x, df_y, test_size=0.2, random_state=42)\n",
        "  # transformer mask, tell the transformer which parameters to skip over\n",
        "  mask = [n for n, x in enumerate(df_[\"param_strs\"].loc[df_.index[0]]) if '_t' in x]\n",
        "  mdl = DummyRegressor(strategy='median')\n",
        "  regr = TransformedTargetRegressor(regressor=mdl, \n",
        "                                    func=partial(transform_params, mask_skip=mask),\n",
        "                                    inverse_func=partial(invert_params, mask_skip=mask))\n",
        "  ppl = Pipeline([\n",
        "        ('regressor', regr)\n",
        "      ])\n",
        "  ppl.fit(X_train, y_train)\n",
        "  y_pred = ppl.predict(X_test)\n",
        "  print(\"MAE:%.4f\" % mean_absolute_error(y_test, y_pred))\n",
        "  p_strs = df_[\"param_strs\"].loc[df_.index[0]]\n",
        "  for i in np.arange(len(p_strs)):\n",
        "    print(\"%s MAE:%.4f\" % (p_strs[i], mean_absolute_error(y_test[p_strs[i]], y_pred[:,i])))\n",
        "  ppls_0.append(ppl)\n"
      ]
    },
    {
      "cell_type": "markdown",
      "metadata": {
        "id": "EQvpOYqh3jQa"
      },
      "source": [
        "wihtout log transform"
      ]
    },
    {
      "cell_type": "code",
      "execution_count": null,
      "metadata": {
        "colab": {
          "base_uri": "https://localhost:8080/"
        },
        "id": "RUf-XyZR3i5n",
        "outputId": "bdaa3859-7ad6-447c-8c5f-51d298e0eeef"
      },
      "outputs": [
        {
          "name": "stdout",
          "output_type": "stream",
          "text": [
            " \n",
            "Fitting regression for L-R-RCPE\n"
          ]
        },
        {
          "name": "stderr",
          "output_type": "stream",
          "text": [
            "Feature Extraction: 100%|██████████| 1384/1384 [01:54<00:00, 12.11it/s]\n"
          ]
        },
        {
          "name": "stdout",
          "output_type": "stream",
          "text": [
            "[01:57:04] WARNING: /workspace/src/objective/regression_obj.cu:152: reg:linear is now deprecated in favor of reg:squarederror.\n",
            "[01:57:05] WARNING: /workspace/src/objective/regression_obj.cu:152: reg:linear is now deprecated in favor of reg:squarederror.\n",
            "[01:57:10] WARNING: /workspace/src/objective/regression_obj.cu:152: reg:linear is now deprecated in favor of reg:squarederror.\n",
            "[01:57:14] WARNING: /workspace/src/objective/regression_obj.cu:152: reg:linear is now deprecated in favor of reg:squarederror.\n",
            "[01:57:18] WARNING: /workspace/src/objective/regression_obj.cu:152: reg:linear is now deprecated in favor of reg:squarederror.\n"
          ]
        },
        {
          "name": "stderr",
          "output_type": "stream",
          "text": [
            "Feature Extraction: 100%|██████████| 346/346 [00:28<00:00, 12.29it/s]\n"
          ]
        },
        {
          "name": "stdout",
          "output_type": "stream",
          "text": [
            "MAE:3835.6250\n",
            "L1 MAE:0.0000\n",
            "R1 MAE:40.0877\n",
            "R2 MAE:19137.9736\n",
            "CPE1_t MAE:0.0490\n",
            "CPE1_C MAE:0.0148\n",
            " \n",
            "Fitting regression for L-R-RCPE-RCPE\n"
          ]
        },
        {
          "name": "stderr",
          "output_type": "stream",
          "text": [
            "Feature Extraction: 100%|██████████| 1440/1440 [01:58<00:00, 12.18it/s]\n"
          ]
        },
        {
          "name": "stdout",
          "output_type": "stream",
          "text": [
            "[01:59:51] WARNING: /workspace/src/objective/regression_obj.cu:152: reg:linear is now deprecated in favor of reg:squarederror.\n",
            "[01:59:52] WARNING: /workspace/src/objective/regression_obj.cu:152: reg:linear is now deprecated in favor of reg:squarederror.\n",
            "[01:59:57] WARNING: /workspace/src/objective/regression_obj.cu:152: reg:linear is now deprecated in favor of reg:squarederror.\n",
            "[02:00:01] WARNING: /workspace/src/objective/regression_obj.cu:152: reg:linear is now deprecated in favor of reg:squarederror.\n",
            "[02:00:05] WARNING: /workspace/src/objective/regression_obj.cu:152: reg:linear is now deprecated in favor of reg:squarederror.\n",
            "[02:00:07] WARNING: /workspace/src/objective/regression_obj.cu:152: reg:linear is now deprecated in favor of reg:squarederror.\n",
            "[02:00:11] WARNING: /workspace/src/objective/regression_obj.cu:152: reg:linear is now deprecated in favor of reg:squarederror.\n",
            "[02:00:16] WARNING: /workspace/src/objective/regression_obj.cu:152: reg:linear is now deprecated in favor of reg:squarederror.\n"
          ]
        },
        {
          "name": "stderr",
          "output_type": "stream",
          "text": [
            "Feature Extraction: 100%|██████████| 360/360 [00:30<00:00, 11.96it/s]\n"
          ]
        },
        {
          "name": "stdout",
          "output_type": "stream",
          "text": [
            "MAE:6398.9935\n",
            "L1 MAE:0.0000\n",
            "R1 MAE:67.6518\n",
            "R2 MAE:296.9033\n",
            "CPE1_t MAE:0.1220\n",
            "CPE1_C MAE:0.0000\n",
            "R3 MAE:50827.2076\n",
            "CPE2_t MAE:0.0515\n",
            "CPE2_C MAE:0.0118\n",
            " \n",
            "Fitting regression for L-R-RCPE-RCPE-RCPE\n"
          ]
        },
        {
          "name": "stderr",
          "output_type": "stream",
          "text": [
            "Feature Extraction: 100%|██████████| 1400/1400 [01:56<00:00, 11.99it/s]\n"
          ]
        },
        {
          "name": "stdout",
          "output_type": "stream",
          "text": [
            "[02:02:49] WARNING: /workspace/src/objective/regression_obj.cu:152: reg:linear is now deprecated in favor of reg:squarederror.\n",
            "[02:02:51] WARNING: /workspace/src/objective/regression_obj.cu:152: reg:linear is now deprecated in favor of reg:squarederror.\n",
            "[02:02:55] WARNING: /workspace/src/objective/regression_obj.cu:152: reg:linear is now deprecated in favor of reg:squarederror.\n",
            "[02:02:59] WARNING: /workspace/src/objective/regression_obj.cu:152: reg:linear is now deprecated in favor of reg:squarederror.\n",
            "[02:03:04] WARNING: /workspace/src/objective/regression_obj.cu:152: reg:linear is now deprecated in favor of reg:squarederror.\n",
            "[02:03:05] WARNING: /workspace/src/objective/regression_obj.cu:152: reg:linear is now deprecated in favor of reg:squarederror.\n",
            "[02:03:09] WARNING: /workspace/src/objective/regression_obj.cu:152: reg:linear is now deprecated in favor of reg:squarederror.\n",
            "[02:03:14] WARNING: /workspace/src/objective/regression_obj.cu:152: reg:linear is now deprecated in favor of reg:squarederror.\n",
            "[02:03:17] WARNING: /workspace/src/objective/regression_obj.cu:152: reg:linear is now deprecated in favor of reg:squarederror.\n",
            "[02:03:21] WARNING: /workspace/src/objective/regression_obj.cu:152: reg:linear is now deprecated in favor of reg:squarederror.\n",
            "[02:03:26] WARNING: /workspace/src/objective/regression_obj.cu:152: reg:linear is now deprecated in favor of reg:squarederror.\n"
          ]
        },
        {
          "name": "stderr",
          "output_type": "stream",
          "text": [
            "Feature Extraction: 100%|██████████| 352/352 [00:28<00:00, 12.21it/s]\n"
          ]
        },
        {
          "name": "stdout",
          "output_type": "stream",
          "text": [
            "MAE:9245.7841\n",
            "L1 MAE:0.0000\n",
            "R1 MAE:64.8399\n",
            "R2 MAE:168.0301\n",
            "CPE1_t MAE:0.1315\n",
            "CPE1_C MAE:0.0000\n",
            "R3 MAE:2777.7050\n",
            "CPE2_t MAE:0.1041\n",
            "CPE2_C MAE:0.0005\n",
            "R4 MAE:98692.7075\n",
            "CPE3_t MAE:0.0798\n",
            "CPE3_C MAE:0.0270\n",
            " \n",
            "Fitting regression for RC-G-G\n"
          ]
        },
        {
          "name": "stderr",
          "output_type": "stream",
          "text": [
            "Feature Extraction: 100%|██████████| 1424/1424 [01:58<00:00, 12.01it/s]\n"
          ]
        },
        {
          "name": "stdout",
          "output_type": "stream",
          "text": [
            "[02:05:59] WARNING: /workspace/src/objective/regression_obj.cu:152: reg:linear is now deprecated in favor of reg:squarederror.\n",
            "[02:06:04] WARNING: /workspace/src/objective/regression_obj.cu:152: reg:linear is now deprecated in favor of reg:squarederror.\n",
            "[02:06:05] WARNING: /workspace/src/objective/regression_obj.cu:152: reg:linear is now deprecated in favor of reg:squarederror.\n",
            "[02:06:09] WARNING: /workspace/src/objective/regression_obj.cu:152: reg:linear is now deprecated in favor of reg:squarederror.\n",
            "[02:06:14] WARNING: /workspace/src/objective/regression_obj.cu:152: reg:linear is now deprecated in favor of reg:squarederror.\n",
            "[02:06:18] WARNING: /workspace/src/objective/regression_obj.cu:152: reg:linear is now deprecated in favor of reg:squarederror.\n"
          ]
        },
        {
          "name": "stderr",
          "output_type": "stream",
          "text": [
            "Feature Extraction: 100%|██████████| 356/356 [00:29<00:00, 12.05it/s]\n"
          ]
        },
        {
          "name": "stdout",
          "output_type": "stream",
          "text": [
            "MAE:6.0217\n",
            "R1 MAE:5.9802\n",
            "C1 MAE:0.0000\n",
            "R_g1 MAE:2.1870\n",
            "t_g1 MAE:1.1488\n",
            "R_g2 MAE:15.3042\n",
            "t_g2 MAE:11.5097\n",
            " \n",
            "Fitting regression for RC-RC-RCPE-RCPE\n"
          ]
        },
        {
          "name": "stderr",
          "output_type": "stream",
          "text": [
            "Feature Extraction: 100%|██████████| 1450/1450 [02:00<00:00, 12.01it/s]\n"
          ]
        },
        {
          "name": "stdout",
          "output_type": "stream",
          "text": [
            "[02:08:55] WARNING: /workspace/src/objective/regression_obj.cu:152: reg:linear is now deprecated in favor of reg:squarederror.\n",
            "[02:08:59] WARNING: /workspace/src/objective/regression_obj.cu:152: reg:linear is now deprecated in favor of reg:squarederror.\n",
            "[02:09:04] WARNING: /workspace/src/objective/regression_obj.cu:152: reg:linear is now deprecated in favor of reg:squarederror.\n",
            "[02:09:08] WARNING: /workspace/src/objective/regression_obj.cu:152: reg:linear is now deprecated in favor of reg:squarederror.\n",
            "[02:09:12] WARNING: /workspace/src/objective/regression_obj.cu:152: reg:linear is now deprecated in favor of reg:squarederror.\n",
            "[02:09:14] WARNING: /workspace/src/objective/regression_obj.cu:152: reg:linear is now deprecated in favor of reg:squarederror.\n",
            "[02:09:16] WARNING: /workspace/src/objective/regression_obj.cu:152: reg:linear is now deprecated in favor of reg:squarederror.\n",
            "[02:09:20] WARNING: /workspace/src/objective/regression_obj.cu:152: reg:linear is now deprecated in favor of reg:squarederror.\n",
            "[02:09:25] WARNING: /workspace/src/objective/regression_obj.cu:152: reg:linear is now deprecated in favor of reg:squarederror.\n",
            "[02:09:26] WARNING: /workspace/src/objective/regression_obj.cu:152: reg:linear is now deprecated in favor of reg:squarederror.\n"
          ]
        },
        {
          "name": "stderr",
          "output_type": "stream",
          "text": [
            "Feature Extraction: 100%|██████████| 364/364 [00:29<00:00, 12.19it/s]\n"
          ]
        },
        {
          "name": "stdout",
          "output_type": "stream",
          "text": [
            "MAE:9806.8950\n",
            "R1 MAE:4.0285\n",
            "R2 MAE:7.5253\n",
            "R3 MAE:10.7159\n",
            "R4 MAE:98046.0900\n",
            "C2 MAE:0.0000\n",
            "CPE3_C MAE:0.0001\n",
            "CPE4_t MAE:0.0910\n",
            "CPE4_C MAE:0.4991\n",
            "C1 MAE:0.0000\n",
            "CPE3_t MAE:0.0000\n",
            " \n",
            "Fitting regression for RCPE-RCPE\n"
          ]
        },
        {
          "name": "stderr",
          "output_type": "stream",
          "text": [
            "Feature Extraction: 100%|██████████| 1368/1368 [02:08<00:00, 10.63it/s]\n"
          ]
        },
        {
          "name": "stdout",
          "output_type": "stream",
          "text": [
            "[02:12:09] WARNING: /workspace/src/objective/regression_obj.cu:152: reg:linear is now deprecated in favor of reg:squarederror.\n",
            "[02:12:13] WARNING: /workspace/src/objective/regression_obj.cu:152: reg:linear is now deprecated in favor of reg:squarederror.\n",
            "[02:12:17] WARNING: /workspace/src/objective/regression_obj.cu:152: reg:linear is now deprecated in favor of reg:squarederror.\n",
            "[02:12:22] WARNING: /workspace/src/objective/regression_obj.cu:152: reg:linear is now deprecated in favor of reg:squarederror.\n",
            "[02:12:25] WARNING: /workspace/src/objective/regression_obj.cu:152: reg:linear is now deprecated in favor of reg:squarederror.\n",
            "[02:12:30] WARNING: /workspace/src/objective/regression_obj.cu:152: reg:linear is now deprecated in favor of reg:squarederror.\n"
          ]
        },
        {
          "name": "stderr",
          "output_type": "stream",
          "text": [
            "Feature Extraction: 100%|██████████| 342/342 [00:32<00:00, 10.41it/s]\n"
          ]
        },
        {
          "name": "stdout",
          "output_type": "stream",
          "text": [
            "MAE:3768.2587\n",
            "R1 MAE:38.5366\n",
            "R2 MAE:22570.8357\n",
            "CPE1_t MAE:0.1140\n",
            "CPE1_C MAE:0.0012\n",
            "CPE2_t MAE:0.0514\n",
            "CPE2_C MAE:0.0133\n",
            " \n",
            "Fitting regression for RCPE-RCPE-RCPE\n"
          ]
        },
        {
          "name": "stderr",
          "output_type": "stream",
          "text": [
            "Feature Extraction: 100%|██████████| 1470/1470 [01:58<00:00, 12.36it/s]\n"
          ]
        },
        {
          "name": "stdout",
          "output_type": "stream",
          "text": [
            "[02:15:08] WARNING: /workspace/src/objective/regression_obj.cu:152: reg:linear is now deprecated in favor of reg:squarederror.\n",
            "[02:15:12] WARNING: /workspace/src/objective/regression_obj.cu:152: reg:linear is now deprecated in favor of reg:squarederror.\n",
            "[02:15:17] WARNING: /workspace/src/objective/regression_obj.cu:152: reg:linear is now deprecated in favor of reg:squarederror.\n",
            "[02:15:21] WARNING: /workspace/src/objective/regression_obj.cu:152: reg:linear is now deprecated in favor of reg:squarederror.\n",
            "[02:15:25] WARNING: /workspace/src/objective/regression_obj.cu:152: reg:linear is now deprecated in favor of reg:squarederror.\n",
            "[02:15:27] WARNING: /workspace/src/objective/regression_obj.cu:152: reg:linear is now deprecated in favor of reg:squarederror.\n",
            "[02:15:31] WARNING: /workspace/src/objective/regression_obj.cu:152: reg:linear is now deprecated in favor of reg:squarederror.\n",
            "[02:15:33] WARNING: /workspace/src/objective/regression_obj.cu:152: reg:linear is now deprecated in favor of reg:squarederror.\n",
            "[02:15:38] WARNING: /workspace/src/objective/regression_obj.cu:152: reg:linear is now deprecated in favor of reg:squarederror.\n"
          ]
        },
        {
          "name": "stderr",
          "output_type": "stream",
          "text": [
            "Feature Extraction: 100%|██████████| 368/368 [00:29<00:00, 12.33it/s]\n"
          ]
        },
        {
          "name": "stdout",
          "output_type": "stream",
          "text": [
            "MAE:5425.6460\n",
            "R1 MAE:12.5045\n",
            "R2 MAE:247.1067\n",
            "R3 MAE:48570.8574\n",
            "CPE1_t MAE:0.1310\n",
            "CPE1_C MAE:0.0000\n",
            "CPE2_t MAE:0.1149\n",
            "CPE2_C MAE:0.0001\n",
            "CPE3_t MAE:0.0688\n",
            "CPE3_C MAE:0.0310\n",
            " \n",
            "Fitting regression for RCPE-RCPE-RCPE-RCPE\n"
          ]
        },
        {
          "name": "stderr",
          "output_type": "stream",
          "text": [
            "Feature Extraction: 100%|██████████| 1478/1478 [02:00<00:00, 12.26it/s]\n"
          ]
        },
        {
          "name": "stdout",
          "output_type": "stream",
          "text": [
            "[02:18:14] WARNING: /workspace/src/objective/regression_obj.cu:152: reg:linear is now deprecated in favor of reg:squarederror.\n",
            "[02:18:19] WARNING: /workspace/src/objective/regression_obj.cu:152: reg:linear is now deprecated in favor of reg:squarederror.\n",
            "[02:18:23] WARNING: /workspace/src/objective/regression_obj.cu:152: reg:linear is now deprecated in favor of reg:squarederror.\n",
            "[02:18:28] WARNING: /workspace/src/objective/regression_obj.cu:152: reg:linear is now deprecated in favor of reg:squarederror.\n",
            "[02:18:32] WARNING: /workspace/src/objective/regression_obj.cu:152: reg:linear is now deprecated in favor of reg:squarederror.\n",
            "[02:18:37] WARNING: /workspace/src/objective/regression_obj.cu:152: reg:linear is now deprecated in favor of reg:squarederror.\n",
            "[02:18:39] WARNING: /workspace/src/objective/regression_obj.cu:152: reg:linear is now deprecated in favor of reg:squarederror.\n",
            "[02:18:43] WARNING: /workspace/src/objective/regression_obj.cu:152: reg:linear is now deprecated in favor of reg:squarederror.\n",
            "[02:18:47] WARNING: /workspace/src/objective/regression_obj.cu:152: reg:linear is now deprecated in favor of reg:squarederror.\n",
            "[02:18:52] WARNING: /workspace/src/objective/regression_obj.cu:152: reg:linear is now deprecated in favor of reg:squarederror.\n",
            "[02:18:56] WARNING: /workspace/src/objective/regression_obj.cu:152: reg:linear is now deprecated in favor of reg:squarederror.\n",
            "[02:19:00] WARNING: /workspace/src/objective/regression_obj.cu:152: reg:linear is now deprecated in favor of reg:squarederror.\n"
          ]
        },
        {
          "name": "stderr",
          "output_type": "stream",
          "text": [
            "Feature Extraction: 100%|██████████| 370/370 [00:30<00:00, 12.14it/s]\n"
          ]
        },
        {
          "name": "stdout",
          "output_type": "stream",
          "text": [
            "MAE:11440.2930\n",
            "R1 MAE:33.5742\n",
            "R2 MAE:227.6342\n",
            "R3 MAE:2660.1847\n",
            "R4 MAE:134361.5944\n",
            "CPE1_t MAE:0.1517\n",
            "CPE1_C MAE:0.0000\n",
            "CPE2_t MAE:0.1330\n",
            "CPE2_C MAE:0.0027\n",
            "CPE3_t MAE:0.1115\n",
            "CPE3_C MAE:0.0064\n",
            "CPE4_t MAE:0.0926\n",
            "CPE4_C MAE:0.0299\n",
            " \n",
            "Fitting regression for Rs_Ws\n"
          ]
        },
        {
          "name": "stderr",
          "output_type": "stream",
          "text": [
            "Feature Extraction: 100%|██████████| 520/520 [00:47<00:00, 11.00it/s]\n"
          ]
        },
        {
          "name": "stdout",
          "output_type": "stream",
          "text": [
            "[02:20:23] WARNING: /workspace/src/objective/regression_obj.cu:152: reg:linear is now deprecated in favor of reg:squarederror.\n",
            "[02:20:25] WARNING: /workspace/src/objective/regression_obj.cu:152: reg:linear is now deprecated in favor of reg:squarederror.\n",
            "[02:20:27] WARNING: /workspace/src/objective/regression_obj.cu:152: reg:linear is now deprecated in favor of reg:squarederror.\n",
            "[02:20:29] WARNING: /workspace/src/objective/regression_obj.cu:152: reg:linear is now deprecated in favor of reg:squarederror.\n"
          ]
        },
        {
          "name": "stderr",
          "output_type": "stream",
          "text": [
            "Feature Extraction: 100%|██████████| 132/132 [00:10<00:00, 12.01it/s]\n"
          ]
        },
        {
          "name": "stdout",
          "output_type": "stream",
          "text": [
            "MAE:150.4973\n",
            "R1 MAE:40.9954\n",
            "W1_R MAE:223.3179\n",
            "W1_T MAE:337.4870\n",
            "W1_p MAE:0.1890\n"
          ]
        }
      ],
      "source": [
        "ppls_2 = list()\n",
        "for df_ in dfs:\n",
        "  print(\" \")\n",
        "  print(\"Fitting regression for %s\" % df_[\"Circuit\"].loc[df_.index[0]])\n",
        "  df_ts_ = df_ts[df_ts[\"id\"].isin(df_.index)]\n",
        "  df_x = pd.DataFrame(index=np.unique(df_ts_[\"id\"]))\n",
        "  df_y = pd.DataFrame(df_['param_values'].to_list(), columns=df_[\"param_strs\"].loc[df_.index[0]])\n",
        "  X_train, X_test, y_train, y_test = train_test_split(df_x, df_y, test_size=0.2, random_state=42)\n",
        "  mdl = MultiOutputRegressor(estimator=xgb.XGBRegressor())\n",
        "  ppl = Pipeline([\n",
        "        ('augmenter', FeatureAugmenter(column_id='id', column_sort='freq', default_fc_parameters=ComprehensiveFCParameters())),\n",
        "        ('regressor', mdl)\n",
        "      ])\n",
        "  ppl.set_params(augmenter__timeseries_container=df_ts_);\n",
        "  ppl.fit(X_train, y_train)\n",
        "  y_pred = ppl.predict(X_test)\n",
        "  print(\"MAE:%.4f\" % mean_absolute_error(y_test, y_pred))\n",
        "  p_strs = df_[\"param_strs\"].loc[df_.index[0]]\n",
        "  for i in np.arange(len(p_strs)):\n",
        "    print(\"%s MAE:%.4f\" % (p_strs[i], mean_absolute_error(y_test[p_strs[i]], y_pred[:,i])))\n",
        "  ppls_2.append(ppl)"
      ]
    },
    {
      "cell_type": "markdown",
      "metadata": {
        "id": "4ZgodUuk_Vgt"
      },
      "source": [
        "quantile transform on target"
      ]
    },
    {
      "cell_type": "code",
      "execution_count": null,
      "metadata": {
        "colab": {
          "base_uri": "https://localhost:8080/"
        },
        "id": "k1VQQomh_WDY",
        "outputId": "b3e68b52-2088-454b-a4ee-4201037102d4"
      },
      "outputs": [
        {
          "name": "stdout",
          "output_type": "stream",
          "text": [
            " \n",
            "Fitting regression for L-R-RCPE\n"
          ]
        },
        {
          "name": "stderr",
          "output_type": "stream",
          "text": [
            "Feature Extraction: 100%|██████████| 1384/1384 [01:54<00:00, 12.13it/s]\n"
          ]
        },
        {
          "name": "stdout",
          "output_type": "stream",
          "text": [
            "[02:27:17] WARNING: /workspace/src/objective/regression_obj.cu:152: reg:linear is now deprecated in favor of reg:squarederror.\n",
            "[02:27:21] WARNING: /workspace/src/objective/regression_obj.cu:152: reg:linear is now deprecated in favor of reg:squarederror.\n",
            "[02:27:26] WARNING: /workspace/src/objective/regression_obj.cu:152: reg:linear is now deprecated in favor of reg:squarederror.\n",
            "[02:27:30] WARNING: /workspace/src/objective/regression_obj.cu:152: reg:linear is now deprecated in favor of reg:squarederror.\n",
            "[02:27:35] WARNING: /workspace/src/objective/regression_obj.cu:152: reg:linear is now deprecated in favor of reg:squarederror.\n"
          ]
        },
        {
          "name": "stderr",
          "output_type": "stream",
          "text": [
            "Feature Extraction: 100%|██████████| 346/346 [00:28<00:00, 12.27it/s]\n"
          ]
        },
        {
          "name": "stdout",
          "output_type": "stream",
          "text": [
            "MAE:4745.8882\n",
            "L1 MAE:0.0000\n",
            "R1 MAE:34.5926\n",
            "R2 MAE:23694.7899\n",
            "CPE1_t MAE:0.0489\n",
            "CPE1_C MAE:0.0096\n",
            " \n",
            "Fitting regression for L-R-RCPE-RCPE\n"
          ]
        },
        {
          "name": "stderr",
          "output_type": "stream",
          "text": [
            "Feature Extraction: 100%|██████████| 1440/1440 [01:58<00:00, 12.10it/s]\n"
          ]
        },
        {
          "name": "stdout",
          "output_type": "stream",
          "text": [
            "[02:30:08] WARNING: /workspace/src/objective/regression_obj.cu:152: reg:linear is now deprecated in favor of reg:squarederror.\n",
            "[02:30:13] WARNING: /workspace/src/objective/regression_obj.cu:152: reg:linear is now deprecated in favor of reg:squarederror.\n",
            "[02:30:18] WARNING: /workspace/src/objective/regression_obj.cu:152: reg:linear is now deprecated in favor of reg:squarederror.\n",
            "[02:30:22] WARNING: /workspace/src/objective/regression_obj.cu:152: reg:linear is now deprecated in favor of reg:squarederror.\n",
            "[02:30:27] WARNING: /workspace/src/objective/regression_obj.cu:152: reg:linear is now deprecated in favor of reg:squarederror.\n",
            "[02:30:32] WARNING: /workspace/src/objective/regression_obj.cu:152: reg:linear is now deprecated in favor of reg:squarederror.\n",
            "[02:30:36] WARNING: /workspace/src/objective/regression_obj.cu:152: reg:linear is now deprecated in favor of reg:squarederror.\n",
            "[02:30:41] WARNING: /workspace/src/objective/regression_obj.cu:152: reg:linear is now deprecated in favor of reg:squarederror.\n"
          ]
        },
        {
          "name": "stderr",
          "output_type": "stream",
          "text": [
            "Feature Extraction: 100%|██████████| 360/360 [00:31<00:00, 11.60it/s]\n"
          ]
        },
        {
          "name": "stdout",
          "output_type": "stream",
          "text": [
            "MAE:5538.6045\n",
            "L1 MAE:0.0000\n",
            "R1 MAE:61.5315\n",
            "R2 MAE:272.1309\n",
            "CPE1_t MAE:0.1241\n",
            "CPE1_C MAE:0.0000\n",
            "R3 MAE:43974.9894\n",
            "CPE2_t MAE:0.0502\n",
            "CPE2_C MAE:0.0096\n",
            " \n",
            "Fitting regression for L-R-RCPE-RCPE-RCPE\n"
          ]
        },
        {
          "name": "stderr",
          "output_type": "stream",
          "text": [
            "Feature Extraction: 100%|██████████| 1400/1400 [01:54<00:00, 12.18it/s]\n"
          ]
        },
        {
          "name": "stdout",
          "output_type": "stream",
          "text": [
            "[02:33:14] WARNING: /workspace/src/objective/regression_obj.cu:152: reg:linear is now deprecated in favor of reg:squarederror.\n",
            "[02:33:18] WARNING: /workspace/src/objective/regression_obj.cu:152: reg:linear is now deprecated in favor of reg:squarederror.\n",
            "[02:33:23] WARNING: /workspace/src/objective/regression_obj.cu:152: reg:linear is now deprecated in favor of reg:squarederror.\n",
            "[02:33:27] WARNING: /workspace/src/objective/regression_obj.cu:152: reg:linear is now deprecated in favor of reg:squarederror.\n",
            "[02:33:32] WARNING: /workspace/src/objective/regression_obj.cu:152: reg:linear is now deprecated in favor of reg:squarederror.\n",
            "[02:33:36] WARNING: /workspace/src/objective/regression_obj.cu:152: reg:linear is now deprecated in favor of reg:squarederror.\n",
            "[02:33:41] WARNING: /workspace/src/objective/regression_obj.cu:152: reg:linear is now deprecated in favor of reg:squarederror.\n",
            "[02:33:45] WARNING: /workspace/src/objective/regression_obj.cu:152: reg:linear is now deprecated in favor of reg:squarederror.\n",
            "[02:33:50] WARNING: /workspace/src/objective/regression_obj.cu:152: reg:linear is now deprecated in favor of reg:squarederror.\n",
            "[02:33:54] WARNING: /workspace/src/objective/regression_obj.cu:152: reg:linear is now deprecated in favor of reg:squarederror.\n",
            "[02:33:59] WARNING: /workspace/src/objective/regression_obj.cu:152: reg:linear is now deprecated in favor of reg:squarederror.\n"
          ]
        },
        {
          "name": "stderr",
          "output_type": "stream",
          "text": [
            "Feature Extraction: 100%|██████████| 352/352 [00:28<00:00, 12.45it/s]\n"
          ]
        },
        {
          "name": "stdout",
          "output_type": "stream",
          "text": [
            "MAE:5479.9450\n",
            "L1 MAE:0.0000\n",
            "R1 MAE:47.8261\n",
            "R2 MAE:307.5457\n",
            "CPE1_t MAE:0.1343\n",
            "CPE1_C MAE:0.0000\n",
            "R3 MAE:1996.7176\n",
            "CPE2_t MAE:0.1054\n",
            "CPE2_C MAE:0.0003\n",
            "R4 MAE:57926.9687\n",
            "CPE3_t MAE:0.0810\n",
            "CPE3_C MAE:0.0163\n",
            " \n",
            "Fitting regression for RC-G-G\n"
          ]
        },
        {
          "name": "stderr",
          "output_type": "stream",
          "text": [
            "Feature Extraction: 100%|██████████| 1424/1424 [01:55<00:00, 12.29it/s]\n"
          ]
        },
        {
          "name": "stdout",
          "output_type": "stream",
          "text": [
            "[02:36:30] WARNING: /workspace/src/objective/regression_obj.cu:152: reg:linear is now deprecated in favor of reg:squarederror.\n",
            "[02:36:34] WARNING: /workspace/src/objective/regression_obj.cu:152: reg:linear is now deprecated in favor of reg:squarederror.\n",
            "[02:36:39] WARNING: /workspace/src/objective/regression_obj.cu:152: reg:linear is now deprecated in favor of reg:squarederror.\n",
            "[02:36:43] WARNING: /workspace/src/objective/regression_obj.cu:152: reg:linear is now deprecated in favor of reg:squarederror.\n",
            "[02:36:48] WARNING: /workspace/src/objective/regression_obj.cu:152: reg:linear is now deprecated in favor of reg:squarederror.\n",
            "[02:36:52] WARNING: /workspace/src/objective/regression_obj.cu:152: reg:linear is now deprecated in favor of reg:squarederror.\n"
          ]
        },
        {
          "name": "stderr",
          "output_type": "stream",
          "text": [
            "Feature Extraction: 100%|██████████| 356/356 [00:29<00:00, 12.12it/s]\n"
          ]
        },
        {
          "name": "stdout",
          "output_type": "stream",
          "text": [
            "MAE:7.4466\n",
            "R1 MAE:17.3174\n",
            "C1 MAE:0.0000\n",
            "R_g1 MAE:1.2713\n",
            "t_g1 MAE:0.7613\n",
            "R_g2 MAE:14.8128\n",
            "t_g2 MAE:10.5165\n",
            " \n",
            "Fitting regression for RC-RC-RCPE-RCPE\n"
          ]
        },
        {
          "name": "stderr",
          "output_type": "stream",
          "text": [
            "Feature Extraction: 100%|██████████| 1450/1450 [01:57<00:00, 12.33it/s]\n"
          ]
        },
        {
          "name": "stdout",
          "output_type": "stream",
          "text": [
            "[02:39:26] WARNING: /workspace/src/objective/regression_obj.cu:152: reg:linear is now deprecated in favor of reg:squarederror.\n",
            "[02:39:31] WARNING: /workspace/src/objective/regression_obj.cu:152: reg:linear is now deprecated in favor of reg:squarederror.\n",
            "[02:39:36] WARNING: /workspace/src/objective/regression_obj.cu:152: reg:linear is now deprecated in favor of reg:squarederror.\n",
            "[02:39:40] WARNING: /workspace/src/objective/regression_obj.cu:152: reg:linear is now deprecated in favor of reg:squarederror.\n",
            "[02:39:45] WARNING: /workspace/src/objective/regression_obj.cu:152: reg:linear is now deprecated in favor of reg:squarederror.\n",
            "[02:39:49] WARNING: /workspace/src/objective/regression_obj.cu:152: reg:linear is now deprecated in favor of reg:squarederror.\n",
            "[02:39:54] WARNING: /workspace/src/objective/regression_obj.cu:152: reg:linear is now deprecated in favor of reg:squarederror.\n",
            "[02:39:58] WARNING: /workspace/src/objective/regression_obj.cu:152: reg:linear is now deprecated in favor of reg:squarederror.\n",
            "[02:40:03] WARNING: /workspace/src/objective/regression_obj.cu:152: reg:linear is now deprecated in favor of reg:squarederror.\n",
            "[02:40:05] WARNING: /workspace/src/objective/regression_obj.cu:152: reg:linear is now deprecated in favor of reg:squarederror.\n"
          ]
        },
        {
          "name": "stderr",
          "output_type": "stream",
          "text": [
            "Feature Extraction: 100%|██████████| 364/364 [00:29<00:00, 12.49it/s]\n"
          ]
        },
        {
          "name": "stdout",
          "output_type": "stream",
          "text": [
            "MAE:6091.4197\n",
            "R1 MAE:4.5597\n",
            "R2 MAE:4.2307\n",
            "R3 MAE:13.4391\n",
            "R4 MAE:60891.4634\n",
            "C2 MAE:0.0000\n",
            "CPE3_C MAE:0.0001\n",
            "CPE4_t MAE:0.0895\n",
            "CPE4_C MAE:0.4147\n",
            "C1 MAE:0.0000\n",
            "CPE3_t MAE:0.0000\n",
            " \n",
            "Fitting regression for RCPE-RCPE\n"
          ]
        },
        {
          "name": "stderr",
          "output_type": "stream",
          "text": [
            "Feature Extraction: 100%|██████████| 1368/1368 [01:53<00:00, 12.05it/s]\n"
          ]
        },
        {
          "name": "stdout",
          "output_type": "stream",
          "text": [
            "[02:42:31] WARNING: /workspace/src/objective/regression_obj.cu:152: reg:linear is now deprecated in favor of reg:squarederror.\n",
            "[02:42:35] WARNING: /workspace/src/objective/regression_obj.cu:152: reg:linear is now deprecated in favor of reg:squarederror.\n",
            "[02:42:40] WARNING: /workspace/src/objective/regression_obj.cu:152: reg:linear is now deprecated in favor of reg:squarederror.\n",
            "[02:42:44] WARNING: /workspace/src/objective/regression_obj.cu:152: reg:linear is now deprecated in favor of reg:squarederror.\n",
            "[02:42:49] WARNING: /workspace/src/objective/regression_obj.cu:152: reg:linear is now deprecated in favor of reg:squarederror.\n",
            "[02:42:53] WARNING: /workspace/src/objective/regression_obj.cu:152: reg:linear is now deprecated in favor of reg:squarederror.\n"
          ]
        },
        {
          "name": "stderr",
          "output_type": "stream",
          "text": [
            "Feature Extraction: 100%|██████████| 342/342 [00:27<00:00, 12.37it/s]\n"
          ]
        },
        {
          "name": "stdout",
          "output_type": "stream",
          "text": [
            "MAE:3680.9706\n",
            "R1 MAE:45.4900\n",
            "R2 MAE:22040.1586\n",
            "CPE1_t MAE:0.1125\n",
            "CPE1_C MAE:0.0013\n",
            "CPE2_t MAE:0.0502\n",
            "CPE2_C MAE:0.0111\n",
            " \n",
            "Fitting regression for RCPE-RCPE-RCPE\n"
          ]
        },
        {
          "name": "stderr",
          "output_type": "stream",
          "text": [
            "Feature Extraction: 100%|██████████| 1470/1470 [01:57<00:00, 12.51it/s]\n"
          ]
        },
        {
          "name": "stdout",
          "output_type": "stream",
          "text": [
            "[02:45:25] WARNING: /workspace/src/objective/regression_obj.cu:152: reg:linear is now deprecated in favor of reg:squarederror.\n",
            "[02:45:29] WARNING: /workspace/src/objective/regression_obj.cu:152: reg:linear is now deprecated in favor of reg:squarederror.\n",
            "[02:45:34] WARNING: /workspace/src/objective/regression_obj.cu:152: reg:linear is now deprecated in favor of reg:squarederror.\n",
            "[02:45:38] WARNING: /workspace/src/objective/regression_obj.cu:152: reg:linear is now deprecated in favor of reg:squarederror.\n",
            "[02:45:43] WARNING: /workspace/src/objective/regression_obj.cu:152: reg:linear is now deprecated in favor of reg:squarederror.\n",
            "[02:45:47] WARNING: /workspace/src/objective/regression_obj.cu:152: reg:linear is now deprecated in favor of reg:squarederror.\n",
            "[02:45:52] WARNING: /workspace/src/objective/regression_obj.cu:152: reg:linear is now deprecated in favor of reg:squarederror.\n",
            "[02:45:56] WARNING: /workspace/src/objective/regression_obj.cu:152: reg:linear is now deprecated in favor of reg:squarederror.\n",
            "[02:46:01] WARNING: /workspace/src/objective/regression_obj.cu:152: reg:linear is now deprecated in favor of reg:squarederror.\n"
          ]
        },
        {
          "name": "stderr",
          "output_type": "stream",
          "text": [
            "Feature Extraction: 100%|██████████| 368/368 [00:32<00:00, 11.36it/s]\n"
          ]
        },
        {
          "name": "stdout",
          "output_type": "stream",
          "text": [
            "MAE:3267.4488\n",
            "R1 MAE:10.8496\n",
            "R2 MAE:336.6328\n",
            "R3 MAE:29059.2144\n",
            "CPE1_t MAE:0.1303\n",
            "CPE1_C MAE:0.0000\n",
            "CPE2_t MAE:0.1149\n",
            "CPE2_C MAE:0.0000\n",
            "CPE3_t MAE:0.0701\n",
            "CPE3_C MAE:0.0266\n",
            " \n",
            "Fitting regression for RCPE-RCPE-RCPE-RCPE\n"
          ]
        },
        {
          "name": "stderr",
          "output_type": "stream",
          "text": [
            "Feature Extraction: 100%|██████████| 1478/1478 [02:22<00:00, 10.35it/s]\n"
          ]
        },
        {
          "name": "stdout",
          "output_type": "stream",
          "text": [
            "[02:49:03] WARNING: /workspace/src/objective/regression_obj.cu:152: reg:linear is now deprecated in favor of reg:squarederror.\n",
            "[02:49:08] WARNING: /workspace/src/objective/regression_obj.cu:152: reg:linear is now deprecated in favor of reg:squarederror.\n",
            "[02:49:12] WARNING: /workspace/src/objective/regression_obj.cu:152: reg:linear is now deprecated in favor of reg:squarederror.\n",
            "[02:49:17] WARNING: /workspace/src/objective/regression_obj.cu:152: reg:linear is now deprecated in favor of reg:squarederror.\n",
            "[02:49:22] WARNING: /workspace/src/objective/regression_obj.cu:152: reg:linear is now deprecated in favor of reg:squarederror.\n",
            "[02:49:26] WARNING: /workspace/src/objective/regression_obj.cu:152: reg:linear is now deprecated in favor of reg:squarederror.\n",
            "[02:49:31] WARNING: /workspace/src/objective/regression_obj.cu:152: reg:linear is now deprecated in favor of reg:squarederror.\n",
            "[02:49:35] WARNING: /workspace/src/objective/regression_obj.cu:152: reg:linear is now deprecated in favor of reg:squarederror.\n",
            "[02:49:40] WARNING: /workspace/src/objective/regression_obj.cu:152: reg:linear is now deprecated in favor of reg:squarederror.\n",
            "[02:49:45] WARNING: /workspace/src/objective/regression_obj.cu:152: reg:linear is now deprecated in favor of reg:squarederror.\n",
            "[02:49:50] WARNING: /workspace/src/objective/regression_obj.cu:152: reg:linear is now deprecated in favor of reg:squarederror.\n",
            "[02:49:54] WARNING: /workspace/src/objective/regression_obj.cu:152: reg:linear is now deprecated in favor of reg:squarederror.\n"
          ]
        },
        {
          "name": "stderr",
          "output_type": "stream",
          "text": [
            "Feature Extraction: 100%|██████████| 370/370 [00:29<00:00, 12.34it/s]\n"
          ]
        },
        {
          "name": "stdout",
          "output_type": "stream",
          "text": [
            "MAE:8039.6460\n",
            "R1 MAE:30.8346\n",
            "R2 MAE:161.8707\n",
            "R3 MAE:2368.0198\n",
            "R4 MAE:93914.5137\n",
            "CPE1_t MAE:0.1505\n",
            "CPE1_C MAE:0.0000\n",
            "CPE2_t MAE:0.1298\n",
            "CPE2_C MAE:0.0012\n",
            "CPE3_t MAE:0.1138\n",
            "CPE3_C MAE:0.0051\n",
            "CPE4_t MAE:0.0915\n",
            "CPE4_C MAE:0.0216\n",
            " \n",
            "Fitting regression for Rs_Ws\n"
          ]
        },
        {
          "name": "stderr",
          "output_type": "stream",
          "text": [
            "Feature Extraction: 100%|██████████| 520/520 [00:42<00:00, 12.29it/s]\n"
          ]
        },
        {
          "name": "stdout",
          "output_type": "stream",
          "text": [
            "[02:51:13] WARNING: /workspace/src/objective/regression_obj.cu:152: reg:linear is now deprecated in favor of reg:squarederror.\n",
            "[02:51:15] WARNING: /workspace/src/objective/regression_obj.cu:152: reg:linear is now deprecated in favor of reg:squarederror.\n",
            "[02:51:16] WARNING: /workspace/src/objective/regression_obj.cu:152: reg:linear is now deprecated in favor of reg:squarederror.\n",
            "[02:51:18] WARNING: /workspace/src/objective/regression_obj.cu:152: reg:linear is now deprecated in favor of reg:squarederror.\n"
          ]
        },
        {
          "name": "stderr",
          "output_type": "stream",
          "text": [
            "Feature Extraction: 100%|██████████| 132/132 [00:11<00:00, 11.55it/s]\n"
          ]
        },
        {
          "name": "stdout",
          "output_type": "stream",
          "text": [
            "MAE:105.7937\n",
            "R1 MAE:21.2443\n",
            "W1_R MAE:236.3289\n",
            "W1_T MAE:165.3921\n",
            "W1_p MAE:0.2096\n"
          ]
        }
      ],
      "source": [
        "ppls = list()\n",
        "for df_ in dfs:\n",
        "  print(\" \")\n",
        "  print(\"Fitting regression for %s\" % df_[\"Circuit\"].loc[df_.index[0]])\n",
        "  df_ts_ = df_ts[df_ts[\"id\"].isin(df_.index)]\n",
        "  df_x = pd.DataFrame(index=np.unique(df_ts_[\"id\"]))\n",
        "  df_y = pd.DataFrame(df_['param_values'].to_list(), columns=df_[\"param_strs\"].loc[df_.index[0]])\n",
        "  X_train, X_test, y_train, y_test = train_test_split(df_x, df_y, test_size=0.2, random_state=42)\n",
        "  # transformer mask, tell the transformer which parameters to skip over\n",
        "  mask = [n for n, x in enumerate(df_[\"param_strs\"].loc[df_.index[0]]) if '_t' in x]\n",
        "  mdl = MultiOutputRegressor(estimator=xgb.XGBRegressor())\n",
        "  regr = TransformedTargetRegressor(regressor=mdl,\n",
        "                                    transformer=QuantileTransformer(n_quantiles=10, random_state=0))\n",
        "                                    #transformer=PowerTransformer())\n",
        "  ppl = Pipeline([\n",
        "        ('augmenter', FeatureAugmenter(column_id='id', column_sort='freq', default_fc_parameters=ComprehensiveFCParameters())),\n",
        "        ('regressor', regr)\n",
        "      ])\n",
        "  ppl.set_params(augmenter__timeseries_container=df_ts_);\n",
        "  ppl.fit(X_train, y_train)\n",
        "  y_pred = ppl.predict(X_test)\n",
        "  print(\"MAE:%.4f\" % mean_absolute_error(y_test, y_pred))\n",
        "  p_strs = df_[\"param_strs\"].loc[df_.index[0]]\n",
        "  for i in np.arange(len(p_strs)):\n",
        "    print(\"%s MAE:%.4f\" % (p_strs[i], mean_absolute_error(y_test[p_strs[i]], y_pred[:,i])))\n",
        "  ppls.append(ppl)\n"
      ]
    },
    {
      "cell_type": "markdown",
      "metadata": {
        "id": "AIzfSQTI6zeq"
      },
      "source": [
        "dummy regressor no transform"
      ]
    },
    {
      "cell_type": "code",
      "execution_count": null,
      "metadata": {
        "colab": {
          "base_uri": "https://localhost:8080/"
        },
        "id": "6CvelDmO61kY",
        "outputId": "ceaf29dc-fecc-4231-e6c1-e4ae88c91d74"
      },
      "outputs": [
        {
          "name": "stdout",
          "output_type": "stream",
          "text": [
            " \n",
            "Fitting regression for L-R-RCPE\n",
            "MAE:7342.4158\n",
            "L1 MAE:0.0000\n",
            "R1 MAE:41.8812\n",
            "R2 MAE:36670.0515\n",
            "CPE1_t MAE:0.1324\n",
            "CPE1_C MAE:0.0140\n",
            " \n",
            "Fitting regression for L-R-RCPE-RCPE\n",
            "MAE:6860.0513\n",
            "L1 MAE:0.0000\n",
            "R1 MAE:65.7694\n",
            "R2 MAE:290.9311\n",
            "CPE1_t MAE:0.1266\n",
            "CPE1_C MAE:0.0000\n",
            "R3 MAE:54523.4364\n",
            "CPE2_t MAE:0.1360\n",
            "CPE2_C MAE:0.0112\n",
            " \n",
            "Fitting regression for L-R-RCPE-RCPE-RCPE\n",
            "MAE:6933.0433\n",
            "L1 MAE:0.0000\n",
            "R1 MAE:52.7099\n",
            "R2 MAE:336.4940\n",
            "CPE1_t MAE:0.1257\n",
            "CPE1_C MAE:0.0000\n",
            "R3 MAE:2180.7010\n",
            "CPE2_t MAE:0.1226\n",
            "CPE2_C MAE:0.0003\n",
            "R4 MAE:73693.1854\n",
            "CPE3_t MAE:0.1193\n",
            "CPE3_C MAE:0.0183\n",
            " \n",
            "Fitting regression for RC-G-G\n",
            "MAE:22.4008\n",
            "R1 MAE:74.0982\n",
            "C1 MAE:0.0000\n",
            "R_g1 MAE:1.2834\n",
            "t_g1 MAE:0.7691\n",
            "R_g2 MAE:45.0847\n",
            "t_g2 MAE:13.1691\n",
            " \n",
            "Fitting regression for RC-RC-RCPE-RCPE\n",
            "MAE:5966.7458\n",
            "R1 MAE:33.1870\n",
            "R2 MAE:6.3942\n",
            "R3 MAE:40.6226\n",
            "R4 MAE:59586.5399\n",
            "C2 MAE:0.0000\n",
            "CPE3_C MAE:0.0002\n",
            "CPE4_t MAE:0.1629\n",
            "CPE4_C MAE:0.5516\n",
            "C1 MAE:0.0000\n",
            "CPE3_t MAE:0.0000\n",
            " \n",
            "Fitting regression for RCPE-RCPE\n",
            "MAE:4632.0036\n",
            "R1 MAE:50.8451\n",
            "R2 MAE:27740.9233\n",
            "CPE1_t MAE:0.1176\n",
            "CPE1_C MAE:0.0009\n",
            "CPE2_t MAE:0.1202\n",
            "CPE2_C MAE:0.0144\n",
            " \n",
            "Fitting regression for RCPE-RCPE-RCPE\n",
            "MAE:6428.9652\n",
            "R1 MAE:12.9513\n",
            "R2 MAE:381.7641\n",
            "R3 MAE:57465.5632\n",
            "CPE1_t MAE:0.1247\n",
            "CPE1_C MAE:0.0000\n",
            "CPE2_t MAE:0.1252\n",
            "CPE2_C MAE:0.0000\n",
            "CPE3_t MAE:0.1286\n",
            "CPE3_C MAE:0.0299\n",
            " \n",
            "Fitting regression for RCPE-RCPE-RCPE-RCPE\n",
            "MAE:8517.7718\n",
            "R1 MAE:31.9269\n",
            "R2 MAE:168.4313\n",
            "R3 MAE:2514.9773\n",
            "R4 MAE:99497.3782\n",
            "CPE1_t MAE:0.1431\n",
            "CPE1_C MAE:0.0000\n",
            "CPE2_t MAE:0.1235\n",
            "CPE2_C MAE:0.0012\n",
            "CPE3_t MAE:0.1218\n",
            "CPE3_C MAE:0.0051\n",
            "CPE4_t MAE:0.1284\n",
            "CPE4_C MAE:0.0250\n",
            " \n",
            "Fitting regression for Rs_Ws\n",
            "MAE:206.5543\n",
            "R1 MAE:56.6868\n",
            "W1_R MAE:674.5952\n",
            "W1_T MAE:94.0620\n",
            "W1_p MAE:0.8733\n"
          ]
        }
      ],
      "source": [
        "ppls_0 = list()\n",
        "for df_ in dfs:\n",
        "  print(\" \")\n",
        "  print(\"Fitting regression for %s\" % df_[\"Circuit\"].loc[df_.index[0]])\n",
        "  df_ts_ = df_ts[df_ts[\"id\"].isin(df_.index)]\n",
        "  df_x = pd.DataFrame(index=np.unique(df_ts_[\"id\"]))\n",
        "  df_y = pd.DataFrame(df_['param_values'].to_list(), columns=df_[\"param_strs\"].loc[df_.index[0]])\n",
        "  X_train, X_test, y_train, y_test = train_test_split(df_x, df_y, test_size=0.2, random_state=42)\n",
        "  mdl = DummyRegressor(strategy='median')\n",
        "  ppl = Pipeline([\n",
        "        ('regressor', mdl)\n",
        "      ])\n",
        "  ppl.fit(X_train, y_train)\n",
        "  y_pred = ppl.predict(X_test)\n",
        "  print(\"MAE:%.4f\" % mean_absolute_error(y_test, y_pred))\n",
        "  p_strs = df_[\"param_strs\"].loc[df_.index[0]]\n",
        "  for i in np.arange(len(p_strs)):\n",
        "    print(\"%s MAE:%.4f\" % (p_strs[i], mean_absolute_error(y_test[p_strs[i]], y_pred[:,i])))\n",
        "  ppls_0.append(ppl)\n"
      ]
    },
    {
      "cell_type": "markdown",
      "metadata": {
        "id": "Udvbq3_4X9CQ"
      },
      "source": [
        "exploration"
      ]
    }
  ],
  "metadata": {
    "colab": {
      "collapsed_sections": [],
      "provenance": []
    },
    "kernelspec": {
      "display_name": "Python 3.7.13",
      "language": "python",
      "name": "python3"
    },
    "language_info": {
      "codemirror_mode": {
        "name": "ipython",
        "version": 3
      },
      "file_extension": ".py",
      "mimetype": "text/x-python",
      "name": "python",
      "nbconvert_exporter": "python",
      "pygments_lexer": "ipython3",
      "version": "3.7.13"
    },
    "vscode": {
      "interpreter": {
        "hash": "db3441f3efc18b286252faba8848b9af7d49db2dc5505bf705b457c48ff7d418"
      }
    }
  },
  "nbformat": 4,
  "nbformat_minor": 0
}
