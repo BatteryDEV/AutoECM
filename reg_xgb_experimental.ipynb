{
 "cells": [
  {
   "cell_type": "code",
   "execution_count": 1,
   "metadata": {},
   "outputs": [],
   "source": [
    "# Notebook to showcase the use of XGBoost for paramterization of ECMS as mentioned in the supplementary information of the paper. "
   ]
  },
  {
   "cell_type": "code",
   "execution_count": null,
   "metadata": {},
   "outputs": [],
   "source": [
    "df = preprocess_data(d_path + \"train_data.csv\")\n",
    "df_test= preprocess_data(pred_dfile)"
   ]
  },
  {
   "cell_type": "code",
   "execution_count": null,
   "metadata": {},
   "outputs": [],
   "source": [
    "df[\"param_strs\"] = df.apply(\n",
    "    lambda x: process_batch_element_params_str(x.Parameters), axis=1\n",
    ")\n",
    "df[\"param_values\"] = df.apply(\n",
    "    lambda x: process_batch_element_params(x.Parameters), axis=1\n",
    ")\n",
    "\n",
    "## Unwrap data frame for tsfresh\n",
    "df_ts = unwrap_df(df)\n",
    "\n",
    "for ecm in df[\"Circuit\"].unique():\n",
    "    print(f\"Fitting regression for {ecm}\")\n",
    "\n",
    "    ## Subselect circuits of given ECM\n",
    "    df_ecm = df[df[\"Circuit\"] == ecm]\n",
    "    df_ts_ = df_ts[df_ts[\"id\"].isin(df_ecm.index)]\n",
    "\n",
    "    df_x = pd.DataFrame(index=np.unique(df_ts_[\"id\"]))\n",
    "    df_y = pd.DataFrame(\n",
    "        df_ecm[\"param_values\"].to_list(),\n",
    "        columns=df_ecm[\"param_strs\"].loc[df_ecm.index[0]]\n",
    "    )\n",
    "\n",
    "    print(\"Starting regr. feature extraction and training pipeline\")\n",
    "    pipe = create_pipeline_reg(df_ts)\n",
    "    ## Evaluate features and fit XGBoost Model\n",
    "    pipe.fit(df_x, df_y)\n",
    "\n",
    "    print(\"trainign completed, writing model and predictions to disc\")\n",
    "    dump(pipe, f\"{m_path}reg/xgb-ts-feat-reg-{ecm}-data-pipeline.joblib\")\n",
    "\n",
    "    with open(f\"{m_path}{ecm}_param-names.txt\", \"w\") as f:\n",
    "        json.dump(df_ecm[\"param_strs\"].loc[df_ecm.index[0]].tolist(), f)"
   ]
  }
 ],
 "metadata": {
  "kernelspec": {
   "display_name": "Python 3.7.13",
   "language": "python",
   "name": "python3"
  },
  "language_info": {
   "codemirror_mode": {
    "name": "ipython",
    "version": 3
   },
   "file_extension": ".py",
   "mimetype": "text/x-python",
   "name": "python",
   "nbconvert_exporter": "python",
   "pygments_lexer": "ipython3",
   "version": "3.7.13"
  },
  "orig_nbformat": 4,
  "vscode": {
   "interpreter": {
    "hash": "db3441f3efc18b286252faba8848b9af7d49db2dc5505bf705b457c48ff7d418"
   }
  }
 },
 "nbformat": 4,
 "nbformat_minor": 2
}
