{
 "cells": [
  {
   "cell_type": "code",
   "execution_count": 9,
   "metadata": {},
   "outputs": [],
   "source": [
    "import pandas as pd\n",
    "import numpy as np\n",
    "from scipy.interpolate import interp1d\n",
    "import matplotlib.pyplot as plt\n",
    "import matplotlib.cm as cm\n",
    "import os\n",
    "import glob\n",
    "import cv2\n",
    "from sklearn.preprocessing import LabelEncoder\n",
    "import json"
   ]
  },
  {
   "cell_type": "code",
   "execution_count": 2,
   "metadata": {},
   "outputs": [],
   "source": [
    "def eis_dataframe_from_csv(csv_path) -> pd.DataFrame:\n",
    "    \"\"\" Reads a CSV file of EIS data into a pandas dataframe\n",
    "    Each row is an impedance meausurement\n",
    "\n",
    "    Args:\n",
    "        csv_df_path (File-Like-Object): path to file of, or buffer of, EIS data in CSV format\n",
    "\n",
    "    Return\n",
    "    ------\n",
    "    df : pandas.DataFrame\n",
    "        A dataframe with two to four columns - each row represents an EIS spectrum\n",
    "            - id: unique identifier for each measurement\n",
    "            - freq: frequency of measurement\n",
    "            - Z: short for impedance, column of imaginary-number numpy arrays\n",
    "            - zimag: imaginary part of impedance\n",
    "            - Circuit: Equivalent Circuit Model labels assigned to the spectra (Optional)\n",
    "            - Parameters: Parameters of the Equivalent Circuit Models (Optional) \n",
    "    \"\"\"\n",
    "    df = pd.read_csv(csv_path, index_col=0)\n",
    "\n",
    "    def real2array(arraystr: str):\n",
    "        return np.array([float(c.strip(\"[]\")) for c in arraystr.split(\", \")])\n",
    "\n",
    "    def comp2array(arraystr: str):\n",
    "        return np.array(\n",
    "            [complex(c.strip(\"[]\").replace(\" \", \"\")) for c in arraystr.split(\", \")]\n",
    "        )\n",
    "\n",
    "    if \"freq\" in df.columns:\n",
    "        df[\"freq\"] = df[\"freq\"].apply(real2array)\n",
    "    if \"Z\" in df.columns:\n",
    "        df[\"Z\"] = df[\"Z\"].apply(comp2array)\n",
    "\n",
    "    return df\n",
    "\n",
    "def process_batch_element_f(interpolated_basis):\n",
    "    return interpolated_basis\n",
    "\n",
    "def process_batch_element_zreal(freq, Z, interpolated_basis):\n",
    "    \"\"\"Interpolates the real part of the impedance onto a common frequency basis\"\"\"\n",
    "    x = np.real(Z)\n",
    "    f = interp1d(freq, x, fill_value=\"extrapolate\")  # extrapolate to prevent errors\n",
    "    return f(interpolated_basis)\n",
    "\n",
    "def process_batch_element_zimag(freq, Z, interpolated_basis):\n",
    "    \"\"\"Interpolates the imaginary part of the impedance onto a common frequency basis\"\"\"\n",
    "    x = np.imag(Z)\n",
    "    f = interp1d(freq, x, fill_value=\"extrapolate\")  # extrapolate to prevent errors\n",
    "    return f(interpolated_basis)\n",
    "\n",
    "def preprocess_data(file_name):\n",
    "    \"\"\"Preprocesses the data from the CSV filename into a dataframe\"\"\"\n",
    "    ## Load Training Data\n",
    "    df = eis_dataframe_from_csv(file_name)\n",
    "\n",
    "    interpolated_basis = np.geomspace(10, 1e5, num=70)\n",
    "\n",
    "    df[\"f\"] = df.apply(lambda x: process_batch_element_f(interpolated_basis), axis=1)\n",
    "    df[\"zreal\"] = df.apply(\n",
    "        lambda x: process_batch_element_zreal(x.freq, x.Z, interpolated_basis), axis=1\n",
    "    )\n",
    "    df[\"zimag\"] = df.apply(\n",
    "        lambda x: process_batch_element_zimag(x.freq, x.Z, interpolated_basis), axis=1\n",
    "    )\n",
    "    return df"
   ]
  },
  {
   "cell_type": "code",
   "execution_count": 3,
   "metadata": {},
   "outputs": [],
   "source": [
    "d_path = './data/'\n",
    "df = preprocess_data(d_path + \"train_data_newspl.csv\")\n",
    "df_test = preprocess_data(d_path + \"test_data_newspl.csv\")"
   ]
  },
  {
   "cell_type": "code",
   "execution_count": 4,
   "metadata": {},
   "outputs": [],
   "source": [
    "real = df.at[0, 'zreal']\n",
    "imag = df.at[0, 'zimag']\n",
    "frequence = df.at[0, 'f']\n",
    "real_minmaxed = (real-np.min(real))/(np.max(real)-np.min(real))\n",
    "imag_minmaxed = (imag-np.min(imag))/(np.max(imag)-np.min(imag))"
   ]
  },
  {
   "cell_type": "code",
   "execution_count": 5,
   "metadata": {},
   "outputs": [],
   "source": [
    "def plot_colourline(x,y,c):\n",
    "    \n",
    "    c = cm.jet((c-np.min(c))/(np.max(c)-np.min(c)))\n",
    "    ax = plt.gca()\n",
    "    for i in np.arange(len(x)-1):\n",
    "        ax.plot([x[i],x[i+1]], [y[i],y[i+1]], c=c[i])\n",
    "        plt.axis(\"off\")\n",
    "    return"
   ]
  },
  {
   "cell_type": "code",
   "execution_count": 6,
   "metadata": {},
   "outputs": [
    {
     "data": {
      "image/png": "[encoded data removed]",
      "text/plain": [
       "<Figure size 128x128 with 1 Axes>"
      ]
     },
     "metadata": {},
     "output_type": "display_data"
    }
   ],
   "source": [
    "fig = plt.figure(figsize = (2, 2), dpi=64, frameon=False)\n",
    "plot_colourline(real_minmaxed, -imag_minmaxed, frequence)"
   ]
  },
  {
   "cell_type": "code",
   "execution_count": 7,
   "metadata": {},
   "outputs": [],
   "source": [
    "def plot_eis_nyquist_individual(df: pd.DataFrame, name='train'):\n",
    "    \"\"\"Plot the nyquist diagram for all eis data in the dataframe\"\"\"\n",
    "    \n",
    "    def plot_colourline(x,y,c):\n",
    "        fig = plt.figure(figsize = (4, 4), dpi=64, frameon=False)\n",
    "        c = cm.jet((c-np.min(c))/(np.max(c)-np.min(c)))\n",
    "        ax = plt.gca()\n",
    "        for i in np.arange(len(x)-1):\n",
    "            ax.plot([x[i],x[i+1]], [y[i],y[i+1]], c=c[i])\n",
    "            plt.axis(\"off\")\n",
    "        return\n",
    "\n",
    "    nb_spectra = len(df)\n",
    "    # nb_spectra = 1 \n",
    "    for i in range(nb_spectra):\n",
    "        real = df.at[i, 'zreal']\n",
    "        imag = df.at[i, 'zimag']\n",
    "        frequence = df.at[i, 'f']\n",
    "        real_minmaxed = (real-np.min(real))/(np.max(real)-np.min(real))\n",
    "        imag_minmaxed = (imag-np.min(imag))/(np.max(imag)-np.min(imag))\n",
    "        plot_colourline(real_minmaxed, -imag_minmaxed, frequence)\n",
    "        try:\n",
    "            plt.savefig(f'./images2/{name}/{df[\"Circuit\"][i]}/{i}.png', dpi=64, bbox_inches='tight', pad_inches=0)\n",
    "        except:\n",
    "            os.makedirs(f'./images2/{name}/{df[\"Circuit\"][i]}')\n",
    "            plt.savefig(f'./images2/{name}/{df[\"Circuit\"][i]}/{i}.png', dpi=64, bbox_inches='tight', pad_inches=0)\n",
    "        plt.close()\n",
    "        if np.mod(i, 100) == 0:\n",
    "            print(f'Processed {i} spectra out of {nb_spectra}')\n",
    "        "
   ]
  },
  {
   "cell_type": "code",
   "execution_count": 8,
   "metadata": {},
   "outputs": [
    {
     "name": "stdout",
     "output_type": "stream",
     "text": [
      "Processed 0 spectra out of 7462\n",
      "Processed 100 spectra out of 7462\n",
      "Processed 200 spectra out of 7462\n",
      "Processed 300 spectra out of 7462\n",
      "Processed 400 spectra out of 7462\n",
      "Processed 500 spectra out of 7462\n"
     ]
    },
    {
     "name": "stderr",
     "output_type": "stream",
     "text": [
      "c:\\Users\\EQ01\\Documents\\Programas\\CONDA\\Installation\\envs\\gpu\\lib\\site-packages\\ipykernel_launcher.py:19: RuntimeWarning: invalid value encountered in true_divide\n"
     ]
    },
    {
     "name": "stdout",
     "output_type": "stream",
     "text": [
      "Processed 600 spectra out of 7462\n",
      "Processed 700 spectra out of 7462\n",
      "Processed 800 spectra out of 7462\n",
      "Processed 900 spectra out of 7462\n",
      "Processed 1000 spectra out of 7462\n",
      "Processed 1100 spectra out of 7462\n",
      "Processed 1200 spectra out of 7462\n",
      "Processed 1300 spectra out of 7462\n",
      "Processed 1400 spectra out of 7462\n",
      "Processed 1500 spectra out of 7462\n",
      "Processed 1600 spectra out of 7462\n",
      "Processed 1700 spectra out of 7462\n",
      "Processed 1800 spectra out of 7462\n",
      "Processed 1900 spectra out of 7462\n",
      "Processed 2000 spectra out of 7462\n",
      "Processed 2100 spectra out of 7462\n",
      "Processed 2200 spectra out of 7462\n",
      "Processed 2300 spectra out of 7462\n",
      "Processed 2400 spectra out of 7462\n",
      "Processed 2500 spectra out of 7462\n",
      "Processed 2600 spectra out of 7462\n",
      "Processed 2700 spectra out of 7462\n",
      "Processed 2800 spectra out of 7462\n",
      "Processed 2900 spectra out of 7462\n",
      "Processed 3000 spectra out of 7462\n",
      "Processed 3100 spectra out of 7462\n",
      "Processed 3200 spectra out of 7462\n",
      "Processed 3300 spectra out of 7462\n",
      "Processed 3400 spectra out of 7462\n",
      "Processed 3500 spectra out of 7462\n",
      "Processed 3600 spectra out of 7462\n",
      "Processed 3700 spectra out of 7462\n",
      "Processed 3800 spectra out of 7462\n",
      "Processed 3900 spectra out of 7462\n",
      "Processed 4000 spectra out of 7462\n",
      "Processed 4100 spectra out of 7462\n",
      "Processed 4200 spectra out of 7462\n",
      "Processed 4300 spectra out of 7462\n",
      "Processed 4400 spectra out of 7462\n",
      "Processed 4500 spectra out of 7462\n",
      "Processed 4600 spectra out of 7462\n",
      "Processed 4700 spectra out of 7462\n",
      "Processed 4800 spectra out of 7462\n",
      "Processed 4900 spectra out of 7462\n",
      "Processed 5000 spectra out of 7462\n",
      "Processed 5100 spectra out of 7462\n",
      "Processed 5200 spectra out of 7462\n",
      "Processed 5300 spectra out of 7462\n",
      "Processed 5400 spectra out of 7462\n",
      "Processed 5500 spectra out of 7462\n",
      "Processed 5600 spectra out of 7462\n",
      "Processed 5700 spectra out of 7462\n",
      "Processed 5800 spectra out of 7462\n",
      "Processed 5900 spectra out of 7462\n",
      "Processed 6000 spectra out of 7462\n",
      "Processed 6100 spectra out of 7462\n",
      "Processed 6200 spectra out of 7462\n",
      "Processed 6300 spectra out of 7462\n",
      "Processed 6400 spectra out of 7462\n",
      "Processed 6500 spectra out of 7462\n",
      "Processed 6600 spectra out of 7462\n",
      "Processed 6700 spectra out of 7462\n",
      "Processed 6800 spectra out of 7462\n",
      "Processed 6900 spectra out of 7462\n",
      "Processed 7000 spectra out of 7462\n",
      "Processed 7100 spectra out of 7462\n",
      "Processed 7200 spectra out of 7462\n",
      "Processed 7300 spectra out of 7462\n",
      "Processed 7400 spectra out of 7462\n",
      "Processed 0 spectra out of 1865\n",
      "Processed 100 spectra out of 1865\n",
      "Processed 200 spectra out of 1865\n",
      "Processed 300 spectra out of 1865\n",
      "Processed 400 spectra out of 1865\n",
      "Processed 500 spectra out of 1865\n",
      "Processed 600 spectra out of 1865\n",
      "Processed 700 spectra out of 1865\n",
      "Processed 800 spectra out of 1865\n",
      "Processed 900 spectra out of 1865\n",
      "Processed 1000 spectra out of 1865\n",
      "Processed 1100 spectra out of 1865\n",
      "Processed 1200 spectra out of 1865\n",
      "Processed 1300 spectra out of 1865\n",
      "Processed 1400 spectra out of 1865\n",
      "Processed 1500 spectra out of 1865\n",
      "Processed 1600 spectra out of 1865\n",
      "Processed 1700 spectra out of 1865\n",
      "Processed 1800 spectra out of 1865\n"
     ]
    }
   ],
   "source": [
    "plot_eis_nyquist_individual(df, name='train')\n",
    "plot_eis_nyquist_individual(df_test, name='test')"
   ]
  },
  {
   "cell_type": "code",
   "execution_count": null,
   "metadata": {},
   "outputs": [],
   "source": []
  }
 ],
 "metadata": {
  "kernelspec": {
   "display_name": "Python 3.7.12 ('gpu')",
   "language": "python",
   "name": "python3"
  },
  "language_info": {
   "codemirror_mode": {
    "name": "ipython",
    "version": 3
   },
   "file_extension": ".py",
   "mimetype": "text/x-python",
   "name": "python",
   "nbconvert_exporter": "python",
   "pygments_lexer": "ipython3",
   "version": "3.7.12"
  },
  "orig_nbformat": 4,
  "vscode": {
   "interpreter": {
    "hash": "41488a37f8213cfbb3489973e8d48aa68aa79efafa99dbf1388cf786852db3bd"
   }
  }
 },
 "nbformat": 4,
 "nbformat_minor": 2
}
