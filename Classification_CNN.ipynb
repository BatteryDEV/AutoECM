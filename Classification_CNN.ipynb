{
 "cells": [
  {
   "cell_type": "markdown",
   "metadata": {},
   "source": [
    "# CNN Baseline model \n",
    "\n",
    "Largely inspired by Kaggle MNIST approach:\n",
    "\n",
    "https://www.kaggle.com/code/elcaiseri/mnist-simple-cnn-keras-accuracy-0-99-top-1/notebook\n",
    "\n",
    "The architecture is only slightly adapted to account for bigger images.\n",
    "Many lines of code are directly copeid form the above mentioned example."
   ]
  },
  {
   "cell_type": "code",
   "execution_count": 1,
   "metadata": {},
   "outputs": [],
   "source": [
    "import pandas as pd\n",
    "import numpy as np\n",
    "\n",
    "import matplotlib.pyplot as plt\n",
    "import seaborn as sns\n",
    "\n",
    "from sklearn.model_selection import train_test_split\n",
    "from sklearn.metrics import confusion_matrix\n",
    "\n",
    "import keras\n",
    "from keras.models import Sequential\n",
    "from keras.layers import Conv2D, Lambda, MaxPooling2D, Rescaling # convolution layers\n",
    "from keras.layers import Dense, Dropout, Flatten # core layers\n",
    "from keras.utils.np_utils import to_categorical\n",
    "from keras.preprocessing.image import ImageDataGenerator\n",
    "\n",
    "import tensorflow as tf\n",
    "from tensorflow.keras.layers import BatchNormalization\n",
    "\n",
    "from sklearn.metrics import f1_score\n",
    "from sklearn.preprocessing import LabelEncoder\n",
    "\n",
    "import json \n",
    "\n",
    "from utils import plot_cm\n"
   ]
  },
  {
   "cell_type": "code",
   "execution_count": 2,
   "metadata": {},
   "outputs": [],
   "source": [
    "input_shape = (58, 58)\n",
    "\n",
    "adaptive_based_on_val = True  # if False, then uses ada_delta with decay, else uses stopping and decay based on val_acc"
   ]
  },
  {
   "cell_type": "code",
   "execution_count": 3,
   "metadata": {},
   "outputs": [
    {
     "name": "stdout",
     "output_type": "stream",
     "text": [
      "Found 7462 files belonging to 9 classes.\n",
      "Using 6716 files for training.\n",
      "Metal device set to: Apple M1 Pro\n",
      "\n",
      "systemMemory: 32.00 GB\n",
      "maxCacheSize: 10.67 GB\n",
      "\n"
     ]
    },
    {
     "name": "stderr",
     "output_type": "stream",
     "text": [
      "2022-09-15 20:49:10.784906: I tensorflow/core/common_runtime/pluggable_device/pluggable_device_factory.cc:305] Could not identify NUMA node of platform GPU ID 0, defaulting to 0. Your kernel may not have been built with NUMA support.\n",
      "2022-09-15 20:49:10.785085: I tensorflow/core/common_runtime/pluggable_device/pluggable_device_factory.cc:271] Created TensorFlow device (/job:localhost/replica:0/task:0/device:GPU:0 with 0 MB memory) -> physical PluggableDevice (device: 0, name: METAL, pci bus id: <undefined>)\n"
     ]
    },
    {
     "name": "stdout",
     "output_type": "stream",
     "text": [
      "Found 7462 files belonging to 9 classes.\n",
      "Using 746 files for validation.\n"
     ]
    }
   ],
   "source": [
    "if adaptive_based_on_val:\n",
    "    train_ds = tf.keras.utils.image_dataset_from_directory(\n",
    "        \"images/train\",\n",
    "        validation_split=0.1,\n",
    "        subset=\"training\",\n",
    "        seed=20,\n",
    "        image_size=input_shape,\n",
    "        label_mode=\"categorical\",\n",
    "        shuffle=True,\n",
    "        color_mode=\"grayscale\",\n",
    "    )\n",
    "\n",
    "    val_ds = tf.keras.utils.image_dataset_from_directory(\n",
    "        \"images/train\",\n",
    "        validation_split=0.1,\n",
    "        subset=\"validation\",\n",
    "        seed=20,\n",
    "        image_size=input_shape,\n",
    "        batch_size=64,\n",
    "        label_mode=\"categorical\",\n",
    "        shuffle=False,\n",
    "        color_mode=\"grayscale\",\n",
    "    )\n",
    "else:\n",
    "    train_ds = tf.keras.utils.image_dataset_from_directory(\n",
    "        \"images/train\",\n",
    "        seed=42,\n",
    "        image_size=input_shape,\n",
    "        label_mode=\"categorical\",\n",
    "        shuffle=True,\n",
    "        batch_size=1000,\n",
    "        color_mode=\"grayscale\",\n",
    "    )\n"
   ]
  },
  {
   "cell_type": "code",
   "execution_count": 4,
   "metadata": {},
   "outputs": [],
   "source": [
    "model=Sequential()\n",
    "\n",
    "model.add(Rescaling(1./127.5, offset=-1, input_shape=(input_shape[0], input_shape[1], 1)))\n",
    "model.add(Conv2D(filters=64, kernel_size = (6,6), activation=\"relu\", strides=(2, 2)))\n",
    "model.add(Conv2D(filters=64, kernel_size = (3,3), activation=\"relu\"))\n",
    "model.add(MaxPooling2D(pool_size=(2,2)))\n",
    "model.add(BatchNormalization())\n",
    "\n",
    "model.add(Conv2D(filters=128, kernel_size = (3,3), activation=\"relu\"))\n",
    "model.add(Conv2D(filters=128, kernel_size = (3,3), activation=\"relu\"))\n",
    "model.add(MaxPooling2D(pool_size=(2,2)))\n",
    "model.add(BatchNormalization())    \n",
    "\n",
    "model.add(Conv2D(filters=256, kernel_size = (3,3), activation=\"relu\"))\n",
    "model.add(MaxPooling2D(pool_size=(2,2)))\n",
    "model.add(BatchNormalization())\n",
    "    \n",
    "model.add(Flatten())\n",
    "model.add(Dense(512,activation=\"relu\"))\n",
    "    \n",
    "model.add(Dense(9,activation=\"softmax\"))\n",
    "if adaptive_based_on_val:\n",
    "    model.compile(loss=\"categorical_crossentropy\", optimizer='adam', metrics=[\"accuracy\"])\n",
    "else:\n",
    "    ada_delta_ = keras.optimizers.Adadelta(lr=1, rho=0.95, epsilon=1e-08, decay=0.03)\n",
    "    model.compile(loss=\"categorical_crossentropy\", optimizer=ada_delta_, metrics=[\"accuracy\"])"
   ]
  },
  {
   "cell_type": "code",
   "execution_count": 5,
   "metadata": {},
   "outputs": [
    {
     "name": "stdout",
     "output_type": "stream",
     "text": [
      "Model: \"sequential\"\n",
      "_________________________________________________________________\n",
      " Layer (type)                Output Shape              Param #   \n",
      "=================================================================\n",
      " rescaling (Rescaling)       (None, 58, 58, 1)         0         \n",
      "                                                                 \n",
      " conv2d (Conv2D)             (None, 27, 27, 64)        2368      \n",
      "                                                                 \n",
      " conv2d_1 (Conv2D)           (None, 25, 25, 64)        36928     \n",
      "                                                                 \n",
      " max_pooling2d (MaxPooling2D  (None, 12, 12, 64)       0         \n",
      " )                                                               \n",
      "                                                                 \n",
      " batch_normalization (BatchN  (None, 12, 12, 64)       256       \n",
      " ormalization)                                                   \n",
      "                                                                 \n",
      " conv2d_2 (Conv2D)           (None, 10, 10, 128)       73856     \n",
      "                                                                 \n",
      " conv2d_3 (Conv2D)           (None, 8, 8, 128)         147584    \n",
      "                                                                 \n",
      " max_pooling2d_1 (MaxPooling  (None, 4, 4, 128)        0         \n",
      " 2D)                                                             \n",
      "                                                                 \n",
      " batch_normalization_1 (Batc  (None, 4, 4, 128)        512       \n",
      " hNormalization)                                                 \n",
      "                                                                 \n",
      " conv2d_4 (Conv2D)           (None, 2, 2, 256)         295168    \n",
      "                                                                 \n",
      " max_pooling2d_2 (MaxPooling  (None, 1, 1, 256)        0         \n",
      " 2D)                                                             \n",
      "                                                                 \n",
      " batch_normalization_2 (Batc  (None, 1, 1, 256)        1024      \n",
      " hNormalization)                                                 \n",
      "                                                                 \n",
      " flatten (Flatten)           (None, 256)               0         \n",
      "                                                                 \n",
      " dense (Dense)               (None, 512)               131584    \n",
      "                                                                 \n",
      " dense_1 (Dense)             (None, 9)                 4617      \n",
      "                                                                 \n",
      "=================================================================\n",
      "Total params: 693,897\n",
      "Trainable params: 693,001\n",
      "Non-trainable params: 896\n",
      "_________________________________________________________________\n"
     ]
    }
   ],
   "source": [
    "model.summary()"
   ]
  },
  {
   "cell_type": "code",
   "execution_count": 6,
   "metadata": {},
   "outputs": [
    {
     "name": "stdout",
     "output_type": "stream",
     "text": [
      "Epoch 1/200\n"
     ]
    },
    {
     "name": "stderr",
     "output_type": "stream",
     "text": [
      "2022-09-15 20:49:11.710358: W tensorflow/core/platform/profile_utils/cpu_utils.cc:128] Failed to get CPU frequency: 0 Hz\n",
      "2022-09-15 20:49:11.710524: I tensorflow/core/grappler/optimizers/custom_graph_optimizer_registry.cc:113] Plugin optimizer for device_type GPU is enabled.\n"
     ]
    },
    {
     "name": "stdout",
     "output_type": "stream",
     "text": [
      "210/210 [==============================] - ETA: 0s - loss: 2.1857 - accuracy: 0.1939"
     ]
    },
    {
     "name": "stderr",
     "output_type": "stream",
     "text": [
      "2022-09-15 20:49:15.470084: I tensorflow/core/grappler/optimizers/custom_graph_optimizer_registry.cc:113] Plugin optimizer for device_type GPU is enabled.\n"
     ]
    },
    {
     "name": "stdout",
     "output_type": "stream",
     "text": [
      "210/210 [==============================] - 4s 18ms/step - loss: 2.1857 - accuracy: 0.1939 - val_loss: 2.7413 - val_accuracy: 0.3499 - lr: 0.0010\n",
      "Epoch 2/200\n",
      "210/210 [==============================] - 4s 17ms/step - loss: 2.0171 - accuracy: 0.2297 - val_loss: 2.7206 - val_accuracy: 0.0080 - lr: 0.0010\n",
      "Epoch 3/200\n",
      "210/210 [==============================] - 3s 16ms/step - loss: 1.9147 - accuracy: 0.2644 - val_loss: 1.9547 - val_accuracy: 0.2466 - lr: 0.0010\n",
      "Epoch 4/200\n",
      "210/210 [==============================] - 3s 16ms/step - loss: 1.8018 - accuracy: 0.2936 - val_loss: 1.5812 - val_accuracy: 0.5174 - lr: 0.0010\n",
      "Epoch 5/200\n",
      "210/210 [==============================] - 3s 16ms/step - loss: 1.7392 - accuracy: 0.3149 - val_loss: 1.8010 - val_accuracy: 0.3753 - lr: 0.0010\n",
      "Epoch 6/200\n",
      "210/210 [==============================] - 3s 16ms/step - loss: 1.6714 - accuracy: 0.3374 - val_loss: 1.5746 - val_accuracy: 0.5094 - lr: 0.0010\n",
      "Epoch 7/200\n",
      "207/210 [============================>.] - ETA: 0s - loss: 1.6354 - accuracy: 0.3558\n",
      "Epoch 7: ReduceLROnPlateau reducing learning rate to 0.00020000000949949026.\n",
      "210/210 [==============================] - 3s 16ms/step - loss: 1.6359 - accuracy: 0.3553 - val_loss: 1.4921 - val_accuracy: 0.4853 - lr: 0.0010\n",
      "Epoch 8/200\n",
      "210/210 [==============================] - 3s 16ms/step - loss: 1.4800 - accuracy: 0.4212 - val_loss: 1.1096 - val_accuracy: 0.6381 - lr: 2.0000e-04\n",
      "Epoch 9/200\n",
      "210/210 [==============================] - 4s 17ms/step - loss: 1.4092 - accuracy: 0.4534 - val_loss: 1.0730 - val_accuracy: 0.6327 - lr: 2.0000e-04\n",
      "Epoch 10/200\n",
      "210/210 [==============================] - 3s 16ms/step - loss: 1.3665 - accuracy: 0.4678 - val_loss: 1.0918 - val_accuracy: 0.6139 - lr: 2.0000e-04\n",
      "Epoch 11/200\n",
      "209/210 [============================>.] - ETA: 0s - loss: 1.3250 - accuracy: 0.4882\n",
      "Epoch 11: ReduceLROnPlateau reducing learning rate to 4.0000001899898055e-05.\n",
      "210/210 [==============================] - 3s 16ms/step - loss: 1.3249 - accuracy: 0.4887 - val_loss: 1.0594 - val_accuracy: 0.6247 - lr: 2.0000e-04\n",
      "Epoch 12/200\n",
      "210/210 [==============================] - 3s 16ms/step - loss: 1.2552 - accuracy: 0.5258 - val_loss: 0.9875 - val_accuracy: 0.6957 - lr: 4.0000e-05\n",
      "Epoch 13/200\n",
      "210/210 [==============================] - 3s 16ms/step - loss: 1.2283 - accuracy: 0.5405 - val_loss: 0.9513 - val_accuracy: 0.7038 - lr: 4.0000e-05\n",
      "Epoch 14/200\n",
      "210/210 [==============================] - 3s 16ms/step - loss: 1.2034 - accuracy: 0.5447 - val_loss: 0.9453 - val_accuracy: 0.7131 - lr: 4.0000e-05\n",
      "Epoch 15/200\n",
      "210/210 [==============================] - 3s 16ms/step - loss: 1.1894 - accuracy: 0.5561 - val_loss: 0.9328 - val_accuracy: 0.7145 - lr: 4.0000e-05\n",
      "Epoch 16/200\n",
      "210/210 [==============================] - 3s 16ms/step - loss: 1.1721 - accuracy: 0.5643 - val_loss: 0.9077 - val_accuracy: 0.7212 - lr: 4.0000e-05\n",
      "Epoch 17/200\n",
      "210/210 [==============================] - 3s 16ms/step - loss: 1.1575 - accuracy: 0.5692 - val_loss: 0.9041 - val_accuracy: 0.7225 - lr: 4.0000e-05\n",
      "Epoch 18/200\n",
      "210/210 [==============================] - 3s 16ms/step - loss: 1.1337 - accuracy: 0.5813 - val_loss: 0.8985 - val_accuracy: 0.7306 - lr: 4.0000e-05\n",
      "Epoch 19/200\n",
      "210/210 [==============================] - 3s 16ms/step - loss: 1.1199 - accuracy: 0.5870 - val_loss: 0.8787 - val_accuracy: 0.7279 - lr: 4.0000e-05\n",
      "Epoch 20/200\n",
      "210/210 [==============================] - 3s 16ms/step - loss: 1.1042 - accuracy: 0.5948 - val_loss: 0.8619 - val_accuracy: 0.7279 - lr: 4.0000e-05\n",
      "Epoch 21/200\n",
      "209/210 [============================>.] - ETA: 0s - loss: 1.0840 - accuracy: 0.5984\n",
      "Epoch 21: ReduceLROnPlateau reducing learning rate to 1e-05.\n",
      "210/210 [==============================] - 3s 16ms/step - loss: 1.0850 - accuracy: 0.5978 - val_loss: 0.8629 - val_accuracy: 0.7252 - lr: 4.0000e-05\n",
      "Epoch 22/200\n",
      "210/210 [==============================] - 3s 16ms/step - loss: 1.0674 - accuracy: 0.6106 - val_loss: 0.8834 - val_accuracy: 0.7346 - lr: 1.0000e-05\n",
      "Epoch 23/200\n",
      "210/210 [==============================] - 3s 16ms/step - loss: 1.0556 - accuracy: 0.6167 - val_loss: 0.8859 - val_accuracy: 0.7306 - lr: 1.0000e-05\n",
      "Epoch 24/200\n",
      "210/210 [==============================] - 4s 17ms/step - loss: 1.0493 - accuracy: 0.6135 - val_loss: 0.8833 - val_accuracy: 0.7373 - lr: 1.0000e-05\n",
      "Epoch 25/200\n",
      "210/210 [==============================] - 3s 16ms/step - loss: 1.0411 - accuracy: 0.6224 - val_loss: 0.8801 - val_accuracy: 0.7346 - lr: 1.0000e-05\n",
      "Epoch 26/200\n",
      "210/210 [==============================] - 4s 17ms/step - loss: 1.0391 - accuracy: 0.6227 - val_loss: 0.8708 - val_accuracy: 0.7399 - lr: 1.0000e-05\n",
      "Epoch 27/200\n",
      "210/210 [==============================] - 4s 17ms/step - loss: 1.0324 - accuracy: 0.6231 - val_loss: 0.8786 - val_accuracy: 0.7346 - lr: 1.0000e-05\n",
      "Epoch 28/200\n",
      "210/210 [==============================] - 3s 16ms/step - loss: 1.0248 - accuracy: 0.6239 - val_loss: 0.8645 - val_accuracy: 0.7426 - lr: 1.0000e-05\n",
      "Epoch 29/200\n",
      "210/210 [==============================] - 4s 17ms/step - loss: 1.0230 - accuracy: 0.6243 - val_loss: 0.8660 - val_accuracy: 0.7359 - lr: 1.0000e-05\n",
      "Epoch 30/200\n",
      "210/210 [==============================] - 3s 16ms/step - loss: 1.0178 - accuracy: 0.6295 - val_loss: 0.8547 - val_accuracy: 0.7480 - lr: 1.0000e-05\n",
      "Epoch 31/200\n",
      "210/210 [==============================] - 4s 17ms/step - loss: 1.0101 - accuracy: 0.6321 - val_loss: 0.8534 - val_accuracy: 0.7399 - lr: 1.0000e-05\n",
      "Epoch 32/200\n",
      "210/210 [==============================] - 3s 16ms/step - loss: 1.0090 - accuracy: 0.6410 - val_loss: 0.8473 - val_accuracy: 0.7534 - lr: 1.0000e-05\n",
      "Epoch 33/200\n",
      "210/210 [==============================] - 3s 16ms/step - loss: 1.0037 - accuracy: 0.6340 - val_loss: 0.8501 - val_accuracy: 0.7426 - lr: 1.0000e-05\n",
      "Epoch 34/200\n",
      "210/210 [==============================] - 4s 17ms/step - loss: 1.0007 - accuracy: 0.6359 - val_loss: 0.8387 - val_accuracy: 0.7534 - lr: 1.0000e-05\n",
      "Epoch 35/200\n",
      "210/210 [==============================] - 3s 16ms/step - loss: 0.9899 - accuracy: 0.6441 - val_loss: 0.8306 - val_accuracy: 0.7547 - lr: 1.0000e-05\n",
      "Epoch 36/200\n",
      "210/210 [==============================] - 4s 17ms/step - loss: 0.9856 - accuracy: 0.6458 - val_loss: 0.8366 - val_accuracy: 0.7547 - lr: 1.0000e-05\n",
      "Epoch 37/200\n",
      "210/210 [==============================] - 3s 16ms/step - loss: 0.9818 - accuracy: 0.6459 - val_loss: 0.8247 - val_accuracy: 0.7560 - lr: 1.0000e-05\n",
      "Epoch 38/200\n",
      "210/210 [==============================] - 4s 17ms/step - loss: 0.9808 - accuracy: 0.6483 - val_loss: 0.8276 - val_accuracy: 0.7507 - lr: 1.0000e-05\n",
      "Epoch 39/200\n",
      "210/210 [==============================] - 3s 16ms/step - loss: 0.9711 - accuracy: 0.6489 - val_loss: 0.8301 - val_accuracy: 0.7547 - lr: 1.0000e-05\n",
      "Epoch 40/200\n",
      "210/210 [==============================] - 4s 17ms/step - loss: 0.9672 - accuracy: 0.6556 - val_loss: 0.8097 - val_accuracy: 0.7601 - lr: 1.0000e-05\n",
      "Epoch 41/200\n",
      "210/210 [==============================] - 3s 16ms/step - loss: 0.9629 - accuracy: 0.6520 - val_loss: 0.8105 - val_accuracy: 0.7601 - lr: 1.0000e-05\n",
      "Epoch 42/200\n",
      "210/210 [==============================] - 3s 16ms/step - loss: 0.9563 - accuracy: 0.6540 - val_loss: 0.8132 - val_accuracy: 0.7614 - lr: 1.0000e-05\n",
      "Epoch 43/200\n",
      "210/210 [==============================] - 3s 16ms/step - loss: 0.9522 - accuracy: 0.6624 - val_loss: 0.8097 - val_accuracy: 0.7574 - lr: 1.0000e-05\n",
      "Epoch 44/200\n",
      "210/210 [==============================] - 3s 16ms/step - loss: 0.9455 - accuracy: 0.6650 - val_loss: 0.8099 - val_accuracy: 0.7560 - lr: 1.0000e-05\n",
      "Epoch 45/200\n",
      "210/210 [==============================] - 3s 16ms/step - loss: 0.9417 - accuracy: 0.6619 - val_loss: 0.8080 - val_accuracy: 0.7560 - lr: 1.0000e-05\n",
      "Epoch 46/200\n",
      "210/210 [==============================] - 3s 16ms/step - loss: 0.9351 - accuracy: 0.6596 - val_loss: 0.8052 - val_accuracy: 0.7587 - lr: 1.0000e-05\n",
      "Epoch 47/200\n",
      "210/210 [==============================] - 3s 16ms/step - loss: 0.9346 - accuracy: 0.6677 - val_loss: 0.7978 - val_accuracy: 0.7681 - lr: 1.0000e-05\n",
      "Epoch 48/200\n",
      "210/210 [==============================] - 3s 16ms/step - loss: 0.9269 - accuracy: 0.6720 - val_loss: 0.7894 - val_accuracy: 0.7654 - lr: 1.0000e-05\n",
      "Epoch 49/200\n",
      "210/210 [==============================] - 3s 16ms/step - loss: 0.9249 - accuracy: 0.6724 - val_loss: 0.7853 - val_accuracy: 0.7641 - lr: 1.0000e-05\n",
      "Epoch 50/200\n",
      "210/210 [==============================] - 3s 16ms/step - loss: 0.9187 - accuracy: 0.6745 - val_loss: 0.7858 - val_accuracy: 0.7735 - lr: 1.0000e-05\n",
      "Epoch 51/200\n",
      "210/210 [==============================] - 3s 16ms/step - loss: 0.9086 - accuracy: 0.6803 - val_loss: 0.7813 - val_accuracy: 0.7708 - lr: 1.0000e-05\n",
      "Epoch 52/200\n",
      "210/210 [==============================] - 3s 16ms/step - loss: 0.9030 - accuracy: 0.6802 - val_loss: 0.7790 - val_accuracy: 0.7721 - lr: 1.0000e-05\n",
      "Epoch 53/200\n",
      "210/210 [==============================] - 3s 16ms/step - loss: 0.8997 - accuracy: 0.6836 - val_loss: 0.7805 - val_accuracy: 0.7668 - lr: 1.0000e-05\n",
      "Epoch 54/200\n",
      "210/210 [==============================] - 3s 16ms/step - loss: 0.9000 - accuracy: 0.6773 - val_loss: 0.7746 - val_accuracy: 0.7735 - lr: 1.0000e-05\n",
      "Epoch 55/200\n",
      "210/210 [==============================] - 3s 16ms/step - loss: 0.8926 - accuracy: 0.6820 - val_loss: 0.7643 - val_accuracy: 0.7788 - lr: 1.0000e-05\n",
      "Epoch 56/200\n",
      "210/210 [==============================] - 3s 16ms/step - loss: 0.8904 - accuracy: 0.6879 - val_loss: 0.7768 - val_accuracy: 0.7735 - lr: 1.0000e-05\n",
      "Epoch 57/200\n",
      "210/210 [==============================] - 3s 16ms/step - loss: 0.8784 - accuracy: 0.6884 - val_loss: 0.7616 - val_accuracy: 0.7775 - lr: 1.0000e-05\n",
      "Epoch 58/200\n",
      "210/210 [==============================] - 3s 16ms/step - loss: 0.8826 - accuracy: 0.6878 - val_loss: 0.7553 - val_accuracy: 0.7775 - lr: 1.0000e-05\n",
      "Epoch 59/200\n",
      "210/210 [==============================] - 3s 16ms/step - loss: 0.8704 - accuracy: 0.6928 - val_loss: 0.7615 - val_accuracy: 0.7748 - lr: 1.0000e-05\n",
      "Epoch 60/200\n",
      "210/210 [==============================] - 3s 16ms/step - loss: 0.8684 - accuracy: 0.6921 - val_loss: 0.7502 - val_accuracy: 0.7775 - lr: 1.0000e-05\n",
      "Epoch 61/200\n",
      "210/210 [==============================] - 3s 16ms/step - loss: 0.8595 - accuracy: 0.6952 - val_loss: 0.7547 - val_accuracy: 0.7761 - lr: 1.0000e-05\n",
      "Epoch 62/200\n",
      "210/210 [==============================] - 3s 16ms/step - loss: 0.8573 - accuracy: 0.7019 - val_loss: 0.7426 - val_accuracy: 0.7855 - lr: 1.0000e-05\n",
      "Epoch 63/200\n",
      "210/210 [==============================] - 4s 17ms/step - loss: 0.8519 - accuracy: 0.7013 - val_loss: 0.7391 - val_accuracy: 0.7802 - lr: 1.0000e-05\n",
      "Epoch 64/200\n",
      "210/210 [==============================] - 4s 17ms/step - loss: 0.8447 - accuracy: 0.7028 - val_loss: 0.7491 - val_accuracy: 0.7775 - lr: 1.0000e-05\n",
      "Epoch 65/200\n",
      "210/210 [==============================] - 3s 16ms/step - loss: 0.8438 - accuracy: 0.7067 - val_loss: 0.7334 - val_accuracy: 0.7882 - lr: 1.0000e-05\n",
      "Epoch 66/200\n",
      "210/210 [==============================] - 3s 16ms/step - loss: 0.8404 - accuracy: 0.7046 - val_loss: 0.7451 - val_accuracy: 0.7828 - lr: 1.0000e-05\n",
      "Epoch 67/200\n",
      "210/210 [==============================] - 3s 17ms/step - loss: 0.8331 - accuracy: 0.7101 - val_loss: 0.7258 - val_accuracy: 0.7936 - lr: 1.0000e-05\n",
      "Epoch 68/200\n",
      "210/210 [==============================] - 3s 16ms/step - loss: 0.8264 - accuracy: 0.7125 - val_loss: 0.7342 - val_accuracy: 0.7869 - lr: 1.0000e-05\n",
      "Epoch 69/200\n",
      "210/210 [==============================] - 3s 16ms/step - loss: 0.8215 - accuracy: 0.7172 - val_loss: 0.7392 - val_accuracy: 0.7842 - lr: 1.0000e-05\n",
      "Epoch 70/200\n",
      "210/210 [==============================] - 3s 16ms/step - loss: 0.8124 - accuracy: 0.7150 - val_loss: 0.7124 - val_accuracy: 0.7989 - lr: 1.0000e-05\n",
      "Epoch 71/200\n",
      "210/210 [==============================] - 3s 16ms/step - loss: 0.8079 - accuracy: 0.7192 - val_loss: 0.7115 - val_accuracy: 0.8016 - lr: 1.0000e-05\n",
      "Epoch 72/200\n",
      "210/210 [==============================] - 4s 17ms/step - loss: 0.8050 - accuracy: 0.7193 - val_loss: 0.6965 - val_accuracy: 0.8056 - lr: 1.0000e-05\n",
      "Epoch 73/200\n",
      "210/210 [==============================] - 4s 17ms/step - loss: 0.8021 - accuracy: 0.7219 - val_loss: 0.7149 - val_accuracy: 0.7989 - lr: 1.0000e-05\n",
      "Epoch 74/200\n",
      "210/210 [==============================] - 3s 16ms/step - loss: 0.7969 - accuracy: 0.7235 - val_loss: 0.7017 - val_accuracy: 0.8070 - lr: 1.0000e-05\n",
      "Epoch 75/200\n",
      "210/210 [==============================] - 4s 17ms/step - loss: 0.7873 - accuracy: 0.7333 - val_loss: 0.6909 - val_accuracy: 0.8150 - lr: 1.0000e-05\n",
      "Epoch 76/200\n",
      "210/210 [==============================] - 4s 17ms/step - loss: 0.7911 - accuracy: 0.7213 - val_loss: 0.6998 - val_accuracy: 0.8056 - lr: 1.0000e-05\n",
      "Epoch 77/200\n",
      "210/210 [==============================] - 4s 17ms/step - loss: 0.7775 - accuracy: 0.7309 - val_loss: 0.6800 - val_accuracy: 0.8177 - lr: 1.0000e-05\n",
      "Epoch 78/200\n",
      "210/210 [==============================] - 3s 16ms/step - loss: 0.7758 - accuracy: 0.7344 - val_loss: 0.6939 - val_accuracy: 0.8083 - lr: 1.0000e-05\n",
      "Epoch 79/200\n",
      "210/210 [==============================] - 3s 16ms/step - loss: 0.7765 - accuracy: 0.7327 - val_loss: 0.6982 - val_accuracy: 0.8150 - lr: 1.0000e-05\n",
      "Epoch 80/200\n",
      "210/210 [==============================] - 3s 16ms/step - loss: 0.7700 - accuracy: 0.7363 - val_loss: 0.6823 - val_accuracy: 0.8123 - lr: 1.0000e-05\n",
      "Epoch 81/200\n",
      "210/210 [==============================] - 4s 17ms/step - loss: 0.7645 - accuracy: 0.7356 - val_loss: 0.6748 - val_accuracy: 0.8217 - lr: 1.0000e-05\n",
      "Epoch 82/200\n",
      "210/210 [==============================] - 3s 16ms/step - loss: 0.7555 - accuracy: 0.7373 - val_loss: 0.6834 - val_accuracy: 0.8164 - lr: 1.0000e-05\n",
      "Epoch 83/200\n",
      "210/210 [==============================] - 4s 17ms/step - loss: 0.7521 - accuracy: 0.7414 - val_loss: 0.6652 - val_accuracy: 0.8217 - lr: 1.0000e-05\n",
      "Epoch 84/200\n",
      "210/210 [==============================] - 3s 17ms/step - loss: 0.7475 - accuracy: 0.7443 - val_loss: 0.6669 - val_accuracy: 0.8231 - lr: 1.0000e-05\n",
      "Epoch 85/200\n",
      "210/210 [==============================] - 3s 16ms/step - loss: 0.7414 - accuracy: 0.7473 - val_loss: 0.6687 - val_accuracy: 0.8164 - lr: 1.0000e-05\n",
      "Epoch 86/200\n",
      "210/210 [==============================] - 3s 16ms/step - loss: 0.7387 - accuracy: 0.7497 - val_loss: 0.6611 - val_accuracy: 0.8204 - lr: 1.0000e-05\n",
      "Epoch 87/200\n",
      "210/210 [==============================] - 4s 17ms/step - loss: 0.7316 - accuracy: 0.7506 - val_loss: 0.6642 - val_accuracy: 0.8244 - lr: 1.0000e-05\n",
      "Epoch 88/200\n",
      "210/210 [==============================] - 3s 17ms/step - loss: 0.7302 - accuracy: 0.7516 - val_loss: 0.6579 - val_accuracy: 0.8217 - lr: 1.0000e-05\n",
      "Epoch 89/200\n",
      "210/210 [==============================] - 3s 16ms/step - loss: 0.7217 - accuracy: 0.7549 - val_loss: 0.6557 - val_accuracy: 0.8271 - lr: 1.0000e-05\n",
      "Epoch 90/200\n",
      "210/210 [==============================] - 4s 17ms/step - loss: 0.7228 - accuracy: 0.7516 - val_loss: 0.6519 - val_accuracy: 0.8271 - lr: 1.0000e-05\n",
      "Epoch 91/200\n",
      "210/210 [==============================] - 4s 17ms/step - loss: 0.7107 - accuracy: 0.7577 - val_loss: 0.6352 - val_accuracy: 0.8365 - lr: 1.0000e-05\n",
      "Epoch 92/200\n",
      "210/210 [==============================] - 4s 17ms/step - loss: 0.7094 - accuracy: 0.7616 - val_loss: 0.6375 - val_accuracy: 0.8338 - lr: 1.0000e-05\n",
      "Epoch 93/200\n",
      "210/210 [==============================] - 4s 17ms/step - loss: 0.7051 - accuracy: 0.7621 - val_loss: 0.6368 - val_accuracy: 0.8338 - lr: 1.0000e-05\n",
      "Epoch 94/200\n",
      "210/210 [==============================] - 4s 17ms/step - loss: 0.6952 - accuracy: 0.7682 - val_loss: 0.6322 - val_accuracy: 0.8391 - lr: 1.0000e-05\n",
      "Epoch 95/200\n",
      "210/210 [==============================] - 3s 17ms/step - loss: 0.6926 - accuracy: 0.7661 - val_loss: 0.6394 - val_accuracy: 0.8311 - lr: 1.0000e-05\n",
      "Epoch 96/200\n",
      "210/210 [==============================] - 3s 17ms/step - loss: 0.6881 - accuracy: 0.7700 - val_loss: 0.6247 - val_accuracy: 0.8405 - lr: 1.0000e-05\n",
      "Epoch 97/200\n",
      "210/210 [==============================] - 3s 17ms/step - loss: 0.6794 - accuracy: 0.7711 - val_loss: 0.6167 - val_accuracy: 0.8458 - lr: 1.0000e-05\n",
      "Epoch 98/200\n",
      "210/210 [==============================] - 3s 16ms/step - loss: 0.6791 - accuracy: 0.7752 - val_loss: 0.6249 - val_accuracy: 0.8391 - lr: 1.0000e-05\n",
      "Epoch 99/200\n",
      "210/210 [==============================] - 3s 16ms/step - loss: 0.6710 - accuracy: 0.7753 - val_loss: 0.6208 - val_accuracy: 0.8432 - lr: 1.0000e-05\n",
      "Epoch 100/200\n",
      "210/210 [==============================] - 3s 16ms/step - loss: 0.6611 - accuracy: 0.7802 - val_loss: 0.6124 - val_accuracy: 0.8472 - lr: 1.0000e-05\n",
      "Epoch 101/200\n",
      "210/210 [==============================] - 4s 17ms/step - loss: 0.6638 - accuracy: 0.7808 - val_loss: 0.5904 - val_accuracy: 0.8552 - lr: 1.0000e-05\n",
      "Epoch 102/200\n",
      "210/210 [==============================] - 4s 17ms/step - loss: 0.6624 - accuracy: 0.7774 - val_loss: 0.6106 - val_accuracy: 0.8445 - lr: 1.0000e-05\n",
      "Epoch 103/200\n",
      "210/210 [==============================] - 3s 16ms/step - loss: 0.6568 - accuracy: 0.7765 - val_loss: 0.6187 - val_accuracy: 0.8432 - lr: 1.0000e-05\n",
      "Epoch 104/200\n",
      "210/210 [==============================] - 4s 17ms/step - loss: 0.6527 - accuracy: 0.7804 - val_loss: 0.6052 - val_accuracy: 0.8499 - lr: 1.0000e-05\n",
      "Epoch 105/200\n",
      "210/210 [==============================] - 3s 16ms/step - loss: 0.6488 - accuracy: 0.7802 - val_loss: 0.6107 - val_accuracy: 0.8458 - lr: 1.0000e-05\n",
      "Epoch 106/200\n",
      "210/210 [==============================] - 4s 17ms/step - loss: 0.6416 - accuracy: 0.7848 - val_loss: 0.5958 - val_accuracy: 0.8539 - lr: 1.0000e-05\n",
      "Epoch 107/200\n",
      "210/210 [==============================] - 4s 17ms/step - loss: 0.6370 - accuracy: 0.7863 - val_loss: 0.5927 - val_accuracy: 0.8579 - lr: 1.0000e-05\n",
      "Epoch 108/200\n",
      "210/210 [==============================] - 4s 17ms/step - loss: 0.6366 - accuracy: 0.7887 - val_loss: 0.5810 - val_accuracy: 0.8606 - lr: 1.0000e-05\n",
      "Epoch 109/200\n",
      "210/210 [==============================] - 3s 16ms/step - loss: 0.6263 - accuracy: 0.7938 - val_loss: 0.5891 - val_accuracy: 0.8539 - lr: 1.0000e-05\n",
      "Epoch 110/200\n",
      "210/210 [==============================] - 3s 16ms/step - loss: 0.6211 - accuracy: 0.7951 - val_loss: 0.5835 - val_accuracy: 0.8592 - lr: 1.0000e-05\n",
      "Epoch 111/200\n",
      "210/210 [==============================] - 3s 16ms/step - loss: 0.6147 - accuracy: 0.7994 - val_loss: 0.5891 - val_accuracy: 0.8552 - lr: 1.0000e-05\n",
      "Epoch 112/200\n",
      "210/210 [==============================] - 4s 17ms/step - loss: 0.6079 - accuracy: 0.8046 - val_loss: 0.5828 - val_accuracy: 0.8606 - lr: 1.0000e-05\n",
      "Epoch 113/200\n",
      "210/210 [==============================] - 3s 16ms/step - loss: 0.6067 - accuracy: 0.7996 - val_loss: 0.5773 - val_accuracy: 0.8660 - lr: 1.0000e-05\n",
      "Epoch 114/200\n",
      "210/210 [==============================] - 3s 16ms/step - loss: 0.6036 - accuracy: 0.8011 - val_loss: 0.5722 - val_accuracy: 0.8713 - lr: 1.0000e-05\n",
      "Epoch 115/200\n",
      "210/210 [==============================] - 4s 17ms/step - loss: 0.5974 - accuracy: 0.8072 - val_loss: 0.5660 - val_accuracy: 0.8727 - lr: 1.0000e-05\n",
      "Epoch 116/200\n",
      "210/210 [==============================] - 3s 16ms/step - loss: 0.5883 - accuracy: 0.8106 - val_loss: 0.5636 - val_accuracy: 0.8767 - lr: 1.0000e-05\n",
      "Epoch 117/200\n",
      "210/210 [==============================] - 3s 16ms/step - loss: 0.5886 - accuracy: 0.8079 - val_loss: 0.5709 - val_accuracy: 0.8686 - lr: 1.0000e-05\n",
      "Epoch 118/200\n",
      "210/210 [==============================] - 4s 17ms/step - loss: 0.5822 - accuracy: 0.8130 - val_loss: 0.5672 - val_accuracy: 0.8713 - lr: 1.0000e-05\n",
      "Epoch 119/200\n",
      "210/210 [==============================] - 3s 16ms/step - loss: 0.5779 - accuracy: 0.8097 - val_loss: 0.5643 - val_accuracy: 0.8727 - lr: 1.0000e-05\n",
      "Epoch 120/200\n",
      "210/210 [==============================] - 3s 16ms/step - loss: 0.5714 - accuracy: 0.8167 - val_loss: 0.5578 - val_accuracy: 0.8753 - lr: 1.0000e-05\n",
      "Epoch 121/200\n",
      "210/210 [==============================] - 3s 16ms/step - loss: 0.5668 - accuracy: 0.8188 - val_loss: 0.5571 - val_accuracy: 0.8780 - lr: 1.0000e-05\n",
      "Epoch 122/200\n",
      "210/210 [==============================] - 3s 16ms/step - loss: 0.5611 - accuracy: 0.8206 - val_loss: 0.5630 - val_accuracy: 0.8727 - lr: 1.0000e-05\n",
      "Epoch 123/200\n",
      "210/210 [==============================] - 3s 16ms/step - loss: 0.5587 - accuracy: 0.8172 - val_loss: 0.5469 - val_accuracy: 0.8820 - lr: 1.0000e-05\n",
      "Epoch 124/200\n",
      "210/210 [==============================] - 4s 17ms/step - loss: 0.5540 - accuracy: 0.8201 - val_loss: 0.5501 - val_accuracy: 0.8861 - lr: 1.0000e-05\n",
      "Epoch 125/200\n",
      "210/210 [==============================] - 4s 17ms/step - loss: 0.5537 - accuracy: 0.8204 - val_loss: 0.5509 - val_accuracy: 0.8794 - lr: 1.0000e-05\n",
      "Epoch 126/200\n",
      "210/210 [==============================] - 4s 17ms/step - loss: 0.5437 - accuracy: 0.8283 - val_loss: 0.5385 - val_accuracy: 0.8874 - lr: 1.0000e-05\n",
      "Epoch 127/200\n",
      "210/210 [==============================] - 3s 16ms/step - loss: 0.5426 - accuracy: 0.8234 - val_loss: 0.5298 - val_accuracy: 0.8954 - lr: 1.0000e-05\n",
      "Epoch 128/200\n",
      "210/210 [==============================] - 4s 17ms/step - loss: 0.5354 - accuracy: 0.8288 - val_loss: 0.5398 - val_accuracy: 0.8914 - lr: 1.0000e-05\n",
      "Epoch 129/200\n",
      "210/210 [==============================] - 4s 17ms/step - loss: 0.5378 - accuracy: 0.8304 - val_loss: 0.5372 - val_accuracy: 0.8914 - lr: 1.0000e-05\n",
      "Epoch 130/200\n",
      "210/210 [==============================] - 3s 16ms/step - loss: 0.5291 - accuracy: 0.8289 - val_loss: 0.5305 - val_accuracy: 0.8914 - lr: 1.0000e-05\n",
      "Epoch 131/200\n",
      "210/210 [==============================] - 4s 17ms/step - loss: 0.5218 - accuracy: 0.8362 - val_loss: 0.5284 - val_accuracy: 0.8941 - lr: 1.0000e-05\n",
      "Epoch 132/200\n",
      "210/210 [==============================] - 3s 16ms/step - loss: 0.5177 - accuracy: 0.8381 - val_loss: 0.5298 - val_accuracy: 0.8941 - lr: 1.0000e-05\n",
      "Epoch 133/200\n",
      "210/210 [==============================] - 4s 17ms/step - loss: 0.5133 - accuracy: 0.8381 - val_loss: 0.5225 - val_accuracy: 0.8941 - lr: 1.0000e-05\n",
      "Epoch 134/200\n",
      "210/210 [==============================] - 4s 17ms/step - loss: 0.5090 - accuracy: 0.8432 - val_loss: 0.5318 - val_accuracy: 0.8914 - lr: 1.0000e-05\n",
      "Epoch 135/200\n",
      "210/210 [==============================] - 3s 16ms/step - loss: 0.5079 - accuracy: 0.8428 - val_loss: 0.5284 - val_accuracy: 0.8928 - lr: 1.0000e-05\n",
      "Epoch 136/200\n",
      "210/210 [==============================] - 4s 17ms/step - loss: 0.5031 - accuracy: 0.8408 - val_loss: 0.5177 - val_accuracy: 0.8995 - lr: 1.0000e-05\n",
      "Epoch 137/200\n",
      "210/210 [==============================] - 4s 17ms/step - loss: 0.5073 - accuracy: 0.8381 - val_loss: 0.5248 - val_accuracy: 0.8941 - lr: 1.0000e-05\n",
      "Epoch 138/200\n",
      "210/210 [==============================] - 4s 17ms/step - loss: 0.4955 - accuracy: 0.8416 - val_loss: 0.5185 - val_accuracy: 0.8941 - lr: 1.0000e-05\n",
      "Epoch 139/200\n",
      "210/210 [==============================] - 4s 17ms/step - loss: 0.4955 - accuracy: 0.8435 - val_loss: 0.5190 - val_accuracy: 0.8954 - lr: 1.0000e-05\n",
      "Epoch 140/200\n",
      "210/210 [==============================] - 4s 17ms/step - loss: 0.4902 - accuracy: 0.8438 - val_loss: 0.5196 - val_accuracy: 0.8995 - lr: 1.0000e-05\n",
      "Epoch 141/200\n",
      "210/210 [==============================] - 3s 17ms/step - loss: 0.4901 - accuracy: 0.8457 - val_loss: 0.5142 - val_accuracy: 0.8995 - lr: 1.0000e-05\n",
      "Epoch 142/200\n",
      "210/210 [==============================] - 4s 17ms/step - loss: 0.4801 - accuracy: 0.8514 - val_loss: 0.5120 - val_accuracy: 0.9035 - lr: 1.0000e-05\n",
      "Epoch 143/200\n",
      "210/210 [==============================] - 4s 17ms/step - loss: 0.4817 - accuracy: 0.8477 - val_loss: 0.5149 - val_accuracy: 0.9048 - lr: 1.0000e-05\n",
      "Epoch 144/200\n",
      "210/210 [==============================] - 4s 17ms/step - loss: 0.4728 - accuracy: 0.8536 - val_loss: 0.5101 - val_accuracy: 0.9062 - lr: 1.0000e-05\n",
      "Epoch 145/200\n",
      "210/210 [==============================] - 4s 17ms/step - loss: 0.4686 - accuracy: 0.8551 - val_loss: 0.5077 - val_accuracy: 0.9129 - lr: 1.0000e-05\n",
      "Epoch 146/200\n",
      "210/210 [==============================] - 3s 16ms/step - loss: 0.4619 - accuracy: 0.8588 - val_loss: 0.5132 - val_accuracy: 0.9088 - lr: 1.0000e-05\n",
      "Epoch 147/200\n",
      "210/210 [==============================] - 4s 17ms/step - loss: 0.4580 - accuracy: 0.8565 - val_loss: 0.5045 - val_accuracy: 0.9102 - lr: 1.0000e-05\n",
      "Epoch 148/200\n",
      "210/210 [==============================] - 3s 16ms/step - loss: 0.4554 - accuracy: 0.8565 - val_loss: 0.5073 - val_accuracy: 0.9088 - lr: 1.0000e-05\n",
      "Epoch 149/200\n",
      "210/210 [==============================] - 3s 16ms/step - loss: 0.4513 - accuracy: 0.8617 - val_loss: 0.4966 - val_accuracy: 0.9129 - lr: 1.0000e-05\n",
      "Epoch 150/200\n",
      "210/210 [==============================] - 4s 17ms/step - loss: 0.4466 - accuracy: 0.8621 - val_loss: 0.5061 - val_accuracy: 0.9075 - lr: 1.0000e-05\n",
      "Epoch 151/200\n",
      "210/210 [==============================] - 4s 17ms/step - loss: 0.4423 - accuracy: 0.8658 - val_loss: 0.5058 - val_accuracy: 0.9115 - lr: 1.0000e-05\n",
      "Epoch 152/200\n",
      "210/210 [==============================] - 4s 17ms/step - loss: 0.4358 - accuracy: 0.8657 - val_loss: 0.5039 - val_accuracy: 0.9102 - lr: 1.0000e-05\n",
      "Epoch 153/200\n",
      "210/210 [==============================] - 4s 17ms/step - loss: 0.4310 - accuracy: 0.8647 - val_loss: 0.5098 - val_accuracy: 0.9102 - lr: 1.0000e-05\n",
      "Epoch 154/200\n",
      "210/210 [==============================] - 3s 17ms/step - loss: 0.4346 - accuracy: 0.8636 - val_loss: 0.5034 - val_accuracy: 0.9088 - lr: 1.0000e-05\n",
      "Epoch 155/200\n",
      "208/210 [============================>.] - ETA: 0s - loss: 0.4311 - accuracy: 0.8685Restoring model weights from the end of the best epoch: 145.\n",
      "210/210 [==============================] - 4s 17ms/step - loss: 0.4310 - accuracy: 0.8682 - val_loss: 0.5099 - val_accuracy: 0.9115 - lr: 1.0000e-05\n",
      "Epoch 155: early stopping\n",
      "Epoch 1/5\n",
      " 1/12 [=>............................] - ETA: 5s - loss: 2.5844 - accuracy: 0.2500"
     ]
    },
    {
     "name": "stderr",
     "output_type": "stream",
     "text": [
      "2022-09-15 20:58:11.274769: I tensorflow/core/grappler/optimizers/custom_graph_optimizer_registry.cc:113] Plugin optimizer for device_type GPU is enabled.\n"
     ]
    },
    {
     "name": "stdout",
     "output_type": "stream",
     "text": [
      "12/12 [==============================] - 1s 27ms/step - loss: 4.4321 - accuracy: 0.2131\n",
      "Epoch 2/5\n",
      "12/12 [==============================] - 0s 18ms/step - loss: 4.1286 - accuracy: 0.2292\n",
      "Epoch 3/5\n",
      "12/12 [==============================] - 0s 18ms/step - loss: 3.8862 - accuracy: 0.2373\n",
      "Epoch 4/5\n",
      "12/12 [==============================] - 0s 18ms/step - loss: 3.6739 - accuracy: 0.2601\n",
      "Epoch 5/5\n",
      "12/12 [==============================] - 0s 18ms/step - loss: 3.4834 - accuracy: 0.2842\n"
     ]
    }
   ],
   "source": [
    "if adaptive_based_on_val:\n",
    "    es = keras.callbacks.EarlyStopping(\n",
    "            monitor=\"val_accuracy\", # metrics to monitor\n",
    "            patience=10, # how many epochs before stop\n",
    "            verbose=1,\n",
    "            mode=\"max\", # we need the maximum accuracy.\n",
    "            restore_best_weights=True, # \n",
    "            )\n",
    "\n",
    "    rp = keras.callbacks.ReduceLROnPlateau(\n",
    "            monitor=\"val_accuracy\",\n",
    "            factor=0.2,\n",
    "            patience=3,\n",
    "            verbose=1,\n",
    "            mode=\"max\",\n",
    "            min_lr=0.00001,\n",
    "            )\n",
    "    h = model.fit(train_ds, validation_data=val_ds, epochs=200, callbacks=[rp, es])\n",
    "    # Do 5 epochs with a lower learning rate\n",
    "    model.compile(loss=\"categorical_crossentropy\", optimizer=keras.optimizers.Adam(learning_rate=1e-5), metrics=[\"accuracy\"])\n",
    "    h = model.fit(val_ds, epochs=5)\n",
    "else:\n",
    "    h = model.fit(train_ds, epochs=140)"
   ]
  },
  {
   "cell_type": "code",
   "execution_count": 42,
   "metadata": {},
   "outputs": [
    {
     "name": "stdout",
     "output_type": "stream",
     "text": [
      "Found 1865 files belonging to 9 classes.\n"
     ]
    }
   ],
   "source": [
    "test_ds = tf.keras.utils.image_dataset_from_directory(\n",
    "    \"images/test\",\n",
    "    validation_split=None,\n",
    "    seed=42,\n",
    "    image_size=input_shape,\n",
    "    batch_size=2000,\n",
    "    label_mode=\"categorical\",\n",
    "    shuffle=False,\n",
    "    color_mode=\"grayscale\",\n",
    ")\n",
    "for image_batch, labels_batch in test_ds:\n",
    "  y_test_true = np.array(labels_batch)"
   ]
  },
  {
   "cell_type": "code",
   "execution_count": 43,
   "metadata": {},
   "outputs": [
    {
     "name": "stdout",
     "output_type": "stream",
     "text": [
      "1/1 [==============================] - 0s 81ms/step\n"
     ]
    }
   ],
   "source": [
    "y_pred = model.predict(test_ds) # Predict class probabilities as 2 => [0.1, 0, 0.9, 0, 0, 0, 0, 0, 0, 0]\n",
    "Y_pred = np.argmax(y_pred, 1) # Decode Predicted labels\n",
    "Y_test_true = np.argmax(y_test_true, 1) # Decode Predicted labels"
   ]
  },
  {
   "cell_type": "code",
   "execution_count": 50,
   "metadata": {},
   "outputs": [
    {
     "data": {
      "image/png": "[encoded data removed]",
      "text/plain": [
       "<Figure size 720x720 with 1 Axes>"
      ]
     },
     "metadata": {
      "needs_background": "light"
     },
     "output_type": "display_data"
    }
   ],
   "source": [
    "fig = plt.figure(figsize=(10, 10)) # Set Figure\n",
    "\n",
    "mat = confusion_matrix(Y_test_true, Y_pred) # Confusion matrix\n",
    "\n",
    "# Plot Confusion matrix\n",
    "sns.heatmap(mat, square=True, annot=True, cbar=False, cmap=plt.cm.Blues, fmt='.0f')\n",
    "plt.xlabel('Predicted Values')\n",
    "plt.ylabel('True Values');\n",
    "plt.show();"
   ]
  },
  {
   "cell_type": "code",
   "execution_count": 10,
   "metadata": {},
   "outputs": [
    {
     "data": {
      "text/plain": [
       "0.36742662050402825"
      ]
     },
     "execution_count": 10,
     "metadata": {},
     "output_type": "execute_result"
    }
   ],
   "source": [
    "f1_score(Y_test_true, Y_pred, average='macro')"
   ]
  },
  {
   "cell_type": "code",
   "execution_count": 11,
   "metadata": {},
   "outputs": [],
   "source": [
    "with open('data/le_name_mapping.json', 'r') as f:\n",
    "    mapping = json.load(f)\n",
    "    le = LabelEncoder()\n",
    "mapping['classes'] = [mapping[str(int(i))] for i in range(9)]\n",
    "le.classes_ = np.array(mapping['classes'])"
   ]
  },
  {
   "cell_type": "code",
   "execution_count": 38,
   "metadata": {},
   "outputs": [
    {
     "data": {
      "image/png": "[encoded data removed]",
      "text/plain": [
       "<Figure size 720x576 with 2 Axes>"
      ]
     },
     "metadata": {
      "needs_background": "light"
     },
     "output_type": "display_data"
    },
    {
     "name": "stdout",
     "output_type": "stream",
     "text": [
      "Test Accuracy: 0.36742662050402825\n"
     ]
    }
   ],
   "source": [
    "plot_cm(Y_test_true, Y_pred, le, save=0, title='Confusion Matrix: CNN Model', figname='cnn_cm', save_path='figures/CNN/')\n",
    "\n",
    "proportion_correct = f1_score(Y_test_true, Y_pred, average='macro')\n",
    "print('Test Accuracy: {}'.format(proportion_correct))"
   ]
  },
  {
   "cell_type": "code",
   "execution_count": 46,
   "metadata": {},
   "outputs": [
    {
     "data": {
      "text/plain": [
       "array([0, 0, 0, 0, 0, 0, 0, 0, 0, 0, 0, 0, 0, 0, 0, 0, 0, 0, 0, 0])"
      ]
     },
     "execution_count": 46,
     "metadata": {},
     "output_type": "execute_result"
    }
   ],
   "source": [
    "Y_test_true[:20]"
   ]
  },
  {
   "cell_type": "code",
   "execution_count": 47,
   "metadata": {},
   "outputs": [
    {
     "data": {
      "text/plain": [
       "array([1, 2, 0, 0, 3, 0, 7, 0, 0, 0, 0, 0, 7, 0, 0, 2, 0, 0, 0, 1])"
      ]
     },
     "execution_count": 47,
     "metadata": {},
     "output_type": "execute_result"
    }
   ],
   "source": [
    "Y_pred[:20]"
   ]
  }
 ],
 "metadata": {
  "kernelspec": {
   "display_name": "Python 3.10.5 ('mlp')",
   "language": "python",
   "name": "python3"
  },
  "language_info": {
   "codemirror_mode": {
    "name": "ipython",
    "version": 3
   },
   "file_extension": ".py",
   "mimetype": "text/x-python",
   "name": "python",
   "nbconvert_exporter": "python",
   "pygments_lexer": "ipython3",
   "version": "3.10.5"
  },
  "orig_nbformat": 4,
  "vscode": {
   "interpreter": {
    "hash": "b7811909caa1b858656aa1c79d4cc048eefc2ddb67a5bef9af79dcb9375a73ef"
   }
  }
 },
 "nbformat": 4,
 "nbformat_minor": 2
}
